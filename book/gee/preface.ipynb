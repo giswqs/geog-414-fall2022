{
 "cells": [
  {
   "cell_type": "markdown",
   "id": "5a0d2557",
   "metadata": {},
   "source": [
    "# Preface\n",
    "\n",
    "[Google Earth Engine](https://earthengine.google.com) (GEE) is a cloud computing platform with a [multi-petabyte catalog](https://developers.google.com/earth-engine/datasets) of satellite imagery and geospatial datasets. During the past few years, GEE has become very popular in the geospatial community and it has empowered numerous environmental applications at local, regional, and global scales. GEE provides both JavaScript and Python APIs for making computational requests to the Earth Engine servers. Compared with the comprehensive [documentation](https://developers.google.com/earth-engine) and interactive IDE (i.e., [GEE JavaScript Code Editor](https://code.earthengine.google.com)) of the GEE JavaScript API, the GEE Python API has relatively little documentation and limited functionality for visualizing results interactively. The **geemap** Python package was created to fill this gap. It is built upon a number of open-source Python libraries, such as the [earthengine-api](https://pypi.org/project/earthengine-api/), [folium](https://python-visualization.github.io/folium/), [ipyleaflet](https://github.com/jupyter-widgets/ipyleaflet), and [ipywidgets](https://github.com/jupyter-widgets/ipywidgets). Geemap enables users to analyze and visualize Earth Engine datasets interactively within a Jupyter-based environment with minimal coding.\n",
    "\n",
    "This book takes a hands-on approach to help you get started with the GEE Python API and geemap. You'll start with the fundamentals of geemap by creating and customizing interactive maps. You'll then learn how to load cloud-based Earth Engine datasets and local geospatial datasets onto the interactive maps. As you advance through the chapters, you'll walk through practical examples of using geemap to visualize and analyze Earth Engine datasets, and will learn about exporting data from Earth Engine. You will also learn about more advanced topics such as building and deploying interactive web apps with Earth Engine and geemap."
   ]
  },
  {
   "cell_type": "markdown",
   "id": "d7103022",
   "metadata": {},
   "source": [
    "## Who this book is for\n",
    "\n",
    "This book is for students, researchers, and data scientists who want to utilize the Python ecosystem of diverse libraries and tools to explore Google Earth Engine. Whether you are a new user looking to harness the power of Earth Engine or an experienced user already familiar with the Earth Engine JavaScript API, this book is for you!"
   ]
  },
  {
   "cell_type": "markdown",
   "id": "bbe27681",
   "metadata": {},
   "source": [
    "## What this book covers\n",
    "\n",
    "_Chapter 1, Introducing GEE and geemap_, covers the basics of using the GEE Python API and setting up the Python environment for using geemap.\n",
    "\n",
    "_Chapter 2, Creating Interactive Maps_, teaches how to create and customize interactive maps with various plotting backends.\n",
    "\n",
    "_Chapter 3, Using Earth Engine Data_, covers the fundamental data types of Earth Engine. We will learn how to search and load Earth Engine datasets onto an interactive map here!\n",
    "\n",
    "_Chapter 4, Using Local Geospatial Data_, teaches how to load local vector and raster datasets onto an interactive map. We will also learn how to download data from OpenStreetMap.\n",
    "\n",
    "_Chapter 5, Visualizing Geospatial Data_, looks at the various tools and techniques for visualizing geospatial data, such as split-panel maps, linked maps, timeseries inspector. We will also learn how to create map elements such as color bars, legends, and labels here.\n",
    "\n",
    "_Chapter 6, Analyzing Geospatial Data_, covers statistical methods and machine learning techniques for analyzing geospatial data, such as zonal statistics, unsupervised classification, supervised classification, and accuracy assessment.\n",
    "\n",
    "_Chapter 7, Exporting Earth Engine Data_, teaches how to export vector and raster data from Earth Engine. We will also learn how to download thousands of image chips from Earth Engine within a few minutes.\n",
    "\n",
    "_Chapter 8, Making Maps with Cartoee_, teaches how to create publication-quality maps with the cartoee module. We'll learn how to plot Earth Engine data on the map and how to customize map projections.\n",
    "\n",
    "_Chapter 9, Creating Satellite Timelapses_, provides practical examples of using geemap to create timelapses from satellite and aerial imagery, such as Landsat, GOES, MODIS, and NAIP.\n",
    "\n",
    "_Chapter 10, Building Web Apps_, teaches how to build interactive web apps with Earth Engine and geemap from scratch. We will also learn how to deploy web apps to the cloud for public access.\n",
    "\n",
    "_Chapter 11, Earth Engine Applications_, covers various Earth Engine applications, such as surface water mapping, land use and land cover change, vegetation dynamics, and wetland mapping."
   ]
  },
  {
   "cell_type": "markdown",
   "id": "c689d8fb",
   "metadata": {},
   "source": [
    "## To get the most out of this book\n",
    "\n",
    "This book assumes that you are at least a Python novice, which means that you are comfortable with the basic Python syntax, such as variables, lists, dictionaries, loops, and functions. If you know how to make lists and define variables and have written a `for` loop before, you have enough Python knowledge to get started! To get the most out of this book, we highly encourage you to type the code yourself in a Jupyter environment (e.g., Jupyter notebook, JupyterLab, Google Colab). This will help you understand the code and help you understand the book. You can also download the code examples from the book's [GitHub repository](https://github.com/giswqs/geebook). Doing so will help you avoid any potential errors related to the copying and pasting of code."
   ]
  },
  {
   "cell_type": "markdown",
   "id": "cbbc6bb0",
   "metadata": {},
   "source": [
    "## Download Jupyter notebook examples\n",
    "\n",
    "You can download the Jupyter notebook examples for this book from the book's GitHub repository at <https://github.com/giswqs/geebook>. If there's an update to the code, it will be updated in this GitHub repository."
   ]
  },
  {
   "cell_type": "markdown",
   "id": "6a13fc6b",
   "metadata": {},
   "source": [
    "## Conventions Used\n",
    "\n",
    "There are a number of text conventions used throughout this book.\n",
    "\n",
    "`Code in text`: Indicates code words in text, folder names, filenames, file extensions, pathnames, URLs, etc. Here is an example: Set `EARTHENGINE_TOKEN` as a system environment variable to your Earth Engine API key.\n",
    "\n",
    "A block of Python code is set as follows:"
   ]
  },
  {
   "cell_type": "code",
   "execution_count": null,
   "id": "ddfc6b1b",
   "metadata": {},
   "outputs": [],
   "source": [
    "import geemap\n",
    "\n",
    "m = geemap.Map(center=[40, -100], zoom=4)\n",
    "m"
   ]
  },
  {
   "cell_type": "markdown",
   "id": "7dadb957",
   "metadata": {},
   "source": [
    "**Bold**: Indicates a new term, an important word, or words that you see onscreen. For\n",
    "instance, words in menus or dialog boxes appear in bold. Here is an example: Click **Advanced settings** to set `EARTHENGINE_TOKEN` as an environment variable."
   ]
  },
  {
   "cell_type": "markdown",
   "id": "bd6965db",
   "metadata": {},
   "source": [
    "## Get in touch\n",
    "\n",
    "Feedback from our readers is always welcome.\n",
    "\n",
    "**Questions:** If you have any questions about the materials covered in the book, please visit https://github.com/giswqs/geebook/discussions to ask questions and share ideas.\n",
    "\n",
    "**Errata:** Although we have tried our best to ensure the accuracy of the book content, mistakes do happen. If you find any mistake in the book, we would be grateful if you report it to us. Please visit https://github.com/giswqs/geebook/issues and submit an issue."
   ]
  }
 ],
 "metadata": {
  "kernelspec": {
   "display_name": "Python 3",
   "language": "python",
   "name": "python3"
  }
 },
 "nbformat": 4,
 "nbformat_minor": 5
}
