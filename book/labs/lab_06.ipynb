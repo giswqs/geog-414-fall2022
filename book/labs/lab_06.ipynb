{
 "cells": [
  {
   "cell_type": "markdown",
   "id": "b44efc6e-12b1-4f8d-9664-4e50ba5c8b1e",
   "metadata": {},
   "source": [
    "# Lab 5\n",
    "\n",
    "**Firstname Lastname**"
   ]
  },
  {
   "cell_type": "code",
   "execution_count": null,
   "id": "89887428-b764-4b5b-bd63-777a467456ed",
   "metadata": {},
   "outputs": [],
   "source": [
    "from datetime import datetime\n",
    "\n",
    "now = datetime.now()\n",
    "print(f\"Submitted time: {now}\")"
   ]
  },
  {
   "cell_type": "code",
   "execution_count": null,
   "id": "225ff74c-c4ac-46c9-bd91-a426ec8d84f1",
   "metadata": {},
   "outputs": [],
   "source": [
    "# !pip install geemap"
   ]
  },
  {
   "cell_type": "code",
   "execution_count": 1,
   "id": "0119fe35-48d7-4d4c-a606-941ddcd25508",
   "metadata": {},
   "outputs": [],
   "source": [
    "import ee\n",
    "import geemap"
   ]
  },
  {
   "cell_type": "code",
   "execution_count": 2,
   "id": "8431e174-2e25-4e51-b7dd-732c6627cebe",
   "metadata": {},
   "outputs": [],
   "source": [
    "geemap.ee_initialize()"
   ]
  },
  {
   "cell_type": "markdown",
   "id": "24326505-68b0-494e-9635-3c57f88a7344",
   "metadata": {
    "tags": []
   },
   "source": [
    "## Datasets\n",
    "\n",
    "The datasets being used in the lab are listed below:\n",
    "\n",
    "- [TIGER: US Census Counties](https://developers.google.com/earth-engine/datasets/catalog/TIGER_2018_Counties)\n",
    "- [Landsat-9](https://developers.google.com/earth-engine/datasets/catalog/LANDSAT_LC09_C02_T1_L2)\n",
    "- [Sentinel-2](https://developers.google.com/earth-engine/datasets/catalog/COPERNICUS_S2_SR)\n",
    "- [NAIP](https://developers.google.com/earth-engine/datasets/catalog/USDA_NAIP_DOQQ)"
   ]
  },
  {
   "cell_type": "markdown",
   "id": "7793ff5c-2ac4-4fea-84e7-cbbff4c70038",
   "metadata": {
    "tags": []
   },
   "source": [
    "## Question 1\n",
    "\n",
    "Write a program to find out how many counties are named `Knox` in the US."
   ]
  },
  {
   "cell_type": "code",
   "execution_count": null,
   "id": "091eead7-58bd-4046-857e-c819c643d188",
   "metadata": {},
   "outputs": [],
   "source": []
  },
  {
   "cell_type": "code",
   "execution_count": null,
   "id": "8eb3139c-6882-4b1f-a71d-a957dc3a1da3",
   "metadata": {},
   "outputs": [],
   "source": []
  },
  {
   "cell_type": "code",
   "execution_count": 3,
   "id": "5feb4737-cdfd-4736-af00-85d12d051372",
   "metadata": {},
   "outputs": [
    {
     "name": "stdout",
     "output_type": "stream",
     "text": [
      "The number of counties named \"Knox\": 9\n"
     ]
    }
   ],
   "source": []
  },
  {
   "cell_type": "code",
   "execution_count": 4,
   "id": "5182aef0-1679-4eed-b110-12e6ac4e16ef",
   "metadata": {},
   "outputs": [
    {
     "data": {
      "text/html": [
       "<div>\n",
       "<style scoped>\n",
       "    .dataframe tbody tr th:only-of-type {\n",
       "        vertical-align: middle;\n",
       "    }\n",
       "\n",
       "    .dataframe tbody tr th {\n",
       "        vertical-align: top;\n",
       "    }\n",
       "\n",
       "    .dataframe thead th {\n",
       "        text-align: right;\n",
       "    }\n",
       "</style>\n",
       "<table border=\"1\" class=\"dataframe\">\n",
       "  <thead>\n",
       "    <tr style=\"text-align: right;\">\n",
       "      <th></th>\n",
       "      <th>GEOID</th>\n",
       "      <th>AWATER</th>\n",
       "      <th>LSAD</th>\n",
       "      <th>CBSAFP</th>\n",
       "      <th>STATEFP</th>\n",
       "      <th>COUNTYFP</th>\n",
       "      <th>CSAFP</th>\n",
       "      <th>FUNCSTAT</th>\n",
       "      <th>INTPTLAT</th>\n",
       "      <th>CLASSFP</th>\n",
       "      <th>NAME</th>\n",
       "      <th>NAMELSAD</th>\n",
       "      <th>COUNTYNS</th>\n",
       "      <th>INTPTLON</th>\n",
       "      <th>MTFCC</th>\n",
       "      <th>ALAND</th>\n",
       "      <th>METDIVFP</th>\n",
       "    </tr>\n",
       "  </thead>\n",
       "  <tbody>\n",
       "    <tr>\n",
       "      <th>0</th>\n",
       "      <td>17095</td>\n",
       "      <td>8834348</td>\n",
       "      <td>06</td>\n",
       "      <td>23660</td>\n",
       "      <td>17</td>\n",
       "      <td>095</td>\n",
       "      <td></td>\n",
       "      <td>A</td>\n",
       "      <td>+40.9309412</td>\n",
       "      <td>H1</td>\n",
       "      <td>Knox</td>\n",
       "      <td>Knox County</td>\n",
       "      <td>00424249</td>\n",
       "      <td>-090.2137611</td>\n",
       "      <td>G4020</td>\n",
       "      <td>1855506548</td>\n",
       "      <td></td>\n",
       "    </tr>\n",
       "    <tr>\n",
       "      <th>1</th>\n",
       "      <td>18083</td>\n",
       "      <td>20760770</td>\n",
       "      <td>06</td>\n",
       "      <td>47180</td>\n",
       "      <td>18</td>\n",
       "      <td>083</td>\n",
       "      <td></td>\n",
       "      <td>A</td>\n",
       "      <td>+38.6883910</td>\n",
       "      <td>H1</td>\n",
       "      <td>Knox</td>\n",
       "      <td>Knox County</td>\n",
       "      <td>00450366</td>\n",
       "      <td>-087.4203544</td>\n",
       "      <td>G4020</td>\n",
       "      <td>1336508529</td>\n",
       "      <td></td>\n",
       "    </tr>\n",
       "    <tr>\n",
       "      <th>2</th>\n",
       "      <td>21121</td>\n",
       "      <td>3753811</td>\n",
       "      <td>06</td>\n",
       "      <td>30940</td>\n",
       "      <td>21</td>\n",
       "      <td>121</td>\n",
       "      <td></td>\n",
       "      <td>A</td>\n",
       "      <td>+36.8874755</td>\n",
       "      <td>H1</td>\n",
       "      <td>Knox</td>\n",
       "      <td>Knox County</td>\n",
       "      <td>00516907</td>\n",
       "      <td>-083.8556297</td>\n",
       "      <td>G4020</td>\n",
       "      <td>1000508839</td>\n",
       "      <td></td>\n",
       "    </tr>\n",
       "    <tr>\n",
       "      <th>3</th>\n",
       "      <td>39083</td>\n",
       "      <td>10718576</td>\n",
       "      <td>06</td>\n",
       "      <td>34540</td>\n",
       "      <td>39</td>\n",
       "      <td>083</td>\n",
       "      <td>198</td>\n",
       "      <td>A</td>\n",
       "      <td>+40.4036198</td>\n",
       "      <td>H1</td>\n",
       "      <td>Knox</td>\n",
       "      <td>Knox County</td>\n",
       "      <td>01074054</td>\n",
       "      <td>-082.4223929</td>\n",
       "      <td>G4020</td>\n",
       "      <td>1361054324</td>\n",
       "      <td></td>\n",
       "    </tr>\n",
       "    <tr>\n",
       "      <th>4</th>\n",
       "      <td>47093</td>\n",
       "      <td>45712672</td>\n",
       "      <td>06</td>\n",
       "      <td>28940</td>\n",
       "      <td>47</td>\n",
       "      <td>093</td>\n",
       "      <td>314</td>\n",
       "      <td>A</td>\n",
       "      <td>+35.9927265</td>\n",
       "      <td>H1</td>\n",
       "      <td>Knox</td>\n",
       "      <td>Knox County</td>\n",
       "      <td>01639761</td>\n",
       "      <td>-083.9377209</td>\n",
       "      <td>G4020</td>\n",
       "      <td>1316269093</td>\n",
       "      <td></td>\n",
       "    </tr>\n",
       "    <tr>\n",
       "      <th>5</th>\n",
       "      <td>23013</td>\n",
       "      <td>2017106979</td>\n",
       "      <td>06</td>\n",
       "      <td></td>\n",
       "      <td>23</td>\n",
       "      <td>013</td>\n",
       "      <td></td>\n",
       "      <td>A</td>\n",
       "      <td>+44.0420446</td>\n",
       "      <td>H1</td>\n",
       "      <td>Knox</td>\n",
       "      <td>Knox County</td>\n",
       "      <td>00581292</td>\n",
       "      <td>-069.0385145</td>\n",
       "      <td>G4020</td>\n",
       "      <td>945693972</td>\n",
       "      <td></td>\n",
       "    </tr>\n",
       "    <tr>\n",
       "      <th>6</th>\n",
       "      <td>29103</td>\n",
       "      <td>7307012</td>\n",
       "      <td>06</td>\n",
       "      <td></td>\n",
       "      <td>29</td>\n",
       "      <td>103</td>\n",
       "      <td></td>\n",
       "      <td>A</td>\n",
       "      <td>+40.1367764</td>\n",
       "      <td>H1</td>\n",
       "      <td>Knox</td>\n",
       "      <td>Knox County</td>\n",
       "      <td>00758506</td>\n",
       "      <td>-092.1468094</td>\n",
       "      <td>G4020</td>\n",
       "      <td>1305376709</td>\n",
       "      <td></td>\n",
       "    </tr>\n",
       "    <tr>\n",
       "      <th>7</th>\n",
       "      <td>31107</td>\n",
       "      <td>81251136</td>\n",
       "      <td>06</td>\n",
       "      <td></td>\n",
       "      <td>31</td>\n",
       "      <td>107</td>\n",
       "      <td></td>\n",
       "      <td>A</td>\n",
       "      <td>+42.6344045</td>\n",
       "      <td>H1</td>\n",
       "      <td>Knox</td>\n",
       "      <td>Knox County</td>\n",
       "      <td>00835875</td>\n",
       "      <td>-097.8913492</td>\n",
       "      <td>G4020</td>\n",
       "      <td>2870614960</td>\n",
       "      <td></td>\n",
       "    </tr>\n",
       "    <tr>\n",
       "      <th>8</th>\n",
       "      <td>48275</td>\n",
       "      <td>12577261</td>\n",
       "      <td>06</td>\n",
       "      <td></td>\n",
       "      <td>48</td>\n",
       "      <td>275</td>\n",
       "      <td></td>\n",
       "      <td>A</td>\n",
       "      <td>+33.6166569</td>\n",
       "      <td>H1</td>\n",
       "      <td>Knox</td>\n",
       "      <td>Knox County</td>\n",
       "      <td>01383923</td>\n",
       "      <td>-099.7471116</td>\n",
       "      <td>G4020</td>\n",
       "      <td>2203109043</td>\n",
       "      <td></td>\n",
       "    </tr>\n",
       "  </tbody>\n",
       "</table>\n",
       "</div>"
      ],
      "text/plain": [
       "   GEOID      AWATER LSAD CBSAFP STATEFP COUNTYFP CSAFP FUNCSTAT     INTPTLAT  \\\n",
       "0  17095     8834348   06  23660      17      095              A  +40.9309412   \n",
       "1  18083    20760770   06  47180      18      083              A  +38.6883910   \n",
       "2  21121     3753811   06  30940      21      121              A  +36.8874755   \n",
       "3  39083    10718576   06  34540      39      083   198        A  +40.4036198   \n",
       "4  47093    45712672   06  28940      47      093   314        A  +35.9927265   \n",
       "5  23013  2017106979   06             23      013              A  +44.0420446   \n",
       "6  29103     7307012   06             29      103              A  +40.1367764   \n",
       "7  31107    81251136   06             31      107              A  +42.6344045   \n",
       "8  48275    12577261   06             48      275              A  +33.6166569   \n",
       "\n",
       "  CLASSFP  NAME     NAMELSAD  COUNTYNS      INTPTLON  MTFCC       ALAND  \\\n",
       "0      H1  Knox  Knox County  00424249  -090.2137611  G4020  1855506548   \n",
       "1      H1  Knox  Knox County  00450366  -087.4203544  G4020  1336508529   \n",
       "2      H1  Knox  Knox County  00516907  -083.8556297  G4020  1000508839   \n",
       "3      H1  Knox  Knox County  01074054  -082.4223929  G4020  1361054324   \n",
       "4      H1  Knox  Knox County  01639761  -083.9377209  G4020  1316269093   \n",
       "5      H1  Knox  Knox County  00581292  -069.0385145  G4020   945693972   \n",
       "6      H1  Knox  Knox County  00758506  -092.1468094  G4020  1305376709   \n",
       "7      H1  Knox  Knox County  00835875  -097.8913492  G4020  2870614960   \n",
       "8      H1  Knox  Knox County  01383923  -099.7471116  G4020  2203109043   \n",
       "\n",
       "  METDIVFP  \n",
       "0           \n",
       "1           \n",
       "2           \n",
       "3           \n",
       "4           \n",
       "5           \n",
       "6           \n",
       "7           \n",
       "8           "
      ]
     },
     "execution_count": 4,
     "metadata": {},
     "output_type": "execute_result"
    }
   ],
   "source": []
  },
  {
   "cell_type": "markdown",
   "id": "7e99a49e-79f0-4e01-a075-9cb09d02fe2c",
   "metadata": {},
   "source": [
    "## Question 2\n",
    "\n",
    "Display Knox county of Tennesse with outline only (no fill color) on the map. (Hint: The `STATEFP` of Tennessee is `47`)"
   ]
  },
  {
   "cell_type": "code",
   "execution_count": null,
   "id": "83f665ea-73a8-498b-a24b-e6ae175be0da",
   "metadata": {},
   "outputs": [],
   "source": []
  },
  {
   "cell_type": "code",
   "execution_count": null,
   "id": "01bb7e3b-be38-46bb-b66c-70af78fbb75d",
   "metadata": {},
   "outputs": [],
   "source": []
  },
  {
   "cell_type": "code",
   "execution_count": null,
   "id": "a5ddc5f1-c6fb-464f-878a-ccdb23aefe2a",
   "metadata": {},
   "outputs": [],
   "source": []
  },
  {
   "cell_type": "markdown",
   "id": "f0cc6264-0564-4841-bc81-97d1f92533f5",
   "metadata": {},
   "source": [
    "![](https://i.imgur.com/F8hJB13.png)"
   ]
  },
  {
   "cell_type": "markdown",
   "id": "aad51c2b-d317-493c-81a3-7d287f162537",
   "metadata": {},
   "source": [
    "## Question 3\n",
    "\n",
    "Use [Landsat-9](https://developers.google.com/earth-engine/datasets/catalog/LANDSAT_LC09_C02_T1_L2) data to create a cloud-free imagery for Knox County, TN. Display the imagery on the map with a proper band combination."
   ]
  },
  {
   "cell_type": "code",
   "execution_count": null,
   "id": "ee87881a-15bb-43e4-b40b-ee4c27a1254a",
   "metadata": {},
   "outputs": [],
   "source": []
  },
  {
   "cell_type": "code",
   "execution_count": null,
   "id": "8329bd84-a940-4430-90cf-63146e377e61",
   "metadata": {},
   "outputs": [],
   "source": []
  },
  {
   "cell_type": "code",
   "execution_count": null,
   "id": "9e0a7c68-4fda-4e7f-a507-97205480b302",
   "metadata": {},
   "outputs": [],
   "source": []
  },
  {
   "cell_type": "markdown",
   "id": "84148ef4-6925-4a59-bef7-2ce7e3282e25",
   "metadata": {},
   "source": [
    "![](https://i.imgur.com/jgYaOa4.png)"
   ]
  },
  {
   "cell_type": "markdown",
   "id": "8cec3ac7-5c0c-49e4-acc1-de92de856725",
   "metadata": {},
   "source": [
    "## Question 4\n",
    "\n",
    "Use [Sentinel-2](https://developers.google.com/earth-engine/datasets/catalog/COPERNICUS_S2_SR) data to create a cloud-free imagery for Knox County, TN. Display the imagery on the map with a proper band combination."
   ]
  },
  {
   "cell_type": "code",
   "execution_count": null,
   "id": "253a958b-9d2a-4b67-8548-2ae0a1495eca",
   "metadata": {},
   "outputs": [],
   "source": []
  },
  {
   "cell_type": "code",
   "execution_count": null,
   "id": "2c88eb36-dbd3-4357-8445-65d908a18857",
   "metadata": {},
   "outputs": [],
   "source": []
  },
  {
   "cell_type": "code",
   "execution_count": null,
   "id": "ec852cd0-adc3-48f1-89d9-6cdc33ffbccd",
   "metadata": {},
   "outputs": [],
   "source": []
  },
  {
   "cell_type": "markdown",
   "id": "d02c6321-dd9d-4600-a874-0fe1b3b29bb7",
   "metadata": {},
   "source": [
    "![](https://i.imgur.com/r0BpIxW.png)"
   ]
  },
  {
   "cell_type": "markdown",
   "id": "df1e2a7e-8877-4882-b28f-3bbbd0e30b33",
   "metadata": {},
   "source": [
    "## Question 5\n",
    "\n",
    "Use [NAIP](https://developers.google.com/earth-engine/datasets/catalog/USDA_NAIP_DOQQ) imagery to create a cloud-free imagery for Knox County, TN. Display the imagery on the map with a proper band combination."
   ]
  },
  {
   "cell_type": "code",
   "execution_count": null,
   "id": "b21028ae-6b95-4714-883e-ba7b9875114f",
   "metadata": {},
   "outputs": [],
   "source": []
  },
  {
   "cell_type": "code",
   "execution_count": null,
   "id": "47ea4ce3-ed49-4389-9e00-c2c2c9e69fb4",
   "metadata": {},
   "outputs": [],
   "source": []
  },
  {
   "cell_type": "code",
   "execution_count": null,
   "id": "56ad459f-be5b-4e0a-a435-8bd8927d29ab",
   "metadata": {},
   "outputs": [],
   "source": []
  },
  {
   "cell_type": "markdown",
   "id": "ac5a7567-6ced-4cbe-b756-99486e61f414",
   "metadata": {},
   "source": [
    "![](https://i.imgur.com/0YfuDE8.png)"
   ]
  }
 ],
 "metadata": {
  "kernelspec": {
   "display_name": "Python 3",
   "language": "python",
   "name": "python3"
  },
  "language_info": {
   "codemirror_mode": {
    "name": "ipython",
    "version": 3
   },
   "file_extension": ".py",
   "mimetype": "text/x-python",
   "name": "python",
   "nbconvert_exporter": "python",
   "pygments_lexer": "ipython3",
   "version": "3.9.12"
  }
 },
 "nbformat": 4,
 "nbformat_minor": 5
}
