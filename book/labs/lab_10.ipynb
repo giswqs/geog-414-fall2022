{
 "cells": [
  {
   "cell_type": "markdown",
   "id": "b44efc6e-12b1-4f8d-9664-4e50ba5c8b1e",
   "metadata": {},
   "source": [
    "# Lab 10\n",
    "\n",
    "**Firstname Lastname**"
   ]
  },
  {
   "cell_type": "code",
   "execution_count": null,
   "id": "89887428-b764-4b5b-bd63-777a467456ed",
   "metadata": {},
   "outputs": [],
   "source": [
    "from datetime import datetime\n",
    "\n",
    "now = datetime.now()\n",
    "print(f\"Submitted time: {now}\")"
   ]
  },
  {
   "cell_type": "code",
   "execution_count": null,
   "id": "225ff74c-c4ac-46c9-bd91-a426ec8d84f1",
   "metadata": {},
   "outputs": [],
   "source": [
    "# !pip install geemap"
   ]
  },
  {
   "cell_type": "code",
   "execution_count": null,
   "id": "0119fe35-48d7-4d4c-a606-941ddcd25508",
   "metadata": {},
   "outputs": [],
   "source": [
    "import ee\n",
    "import geemap"
   ]
  },
  {
   "cell_type": "code",
   "execution_count": null,
   "id": "8431e174-2e25-4e51-b7dd-732c6627cebe",
   "metadata": {},
   "outputs": [],
   "source": [
    "geemap.ee_initialize()"
   ]
  },
  {
   "cell_type": "markdown",
   "id": "7793ff5c-2ac4-4fea-84e7-cbbff4c70038",
   "metadata": {
    "tags": []
   },
   "source": [
    "## Question 1\n",
    "\n",
    "Use the following datasets to create a cloud-free imagery for Knox County, TN for the year of 2021.\n",
    "\n",
    "- [Sentinel-2 MSI](https://developers.google.com/earth-engine/datasets/catalog/COPERNICUS_S2_SR_HARMONIZED): `ee.ImageCollection(\"COPERNICUS/S2_SR_HARMONIZED\")`\n",
    "- [US Census Counties](https://developers.google.com/earth-engine/datasets/catalog/TIGER_2018_Counties): `ee.FeatureCollection('TIGER/2018/Counties')`"
   ]
  },
  {
   "cell_type": "code",
   "execution_count": null,
   "id": "1f9fa5d3-6db3-4e05-888a-345bb0a48461",
   "metadata": {},
   "outputs": [],
   "source": []
  },
  {
   "cell_type": "code",
   "execution_count": null,
   "id": "e749f1db-0355-49f3-b92d-18ff090a4250",
   "metadata": {},
   "outputs": [],
   "source": []
  },
  {
   "cell_type": "markdown",
   "id": "c65e0c52-aab9-46bc-b9f9-35d052cc4f1b",
   "metadata": {},
   "source": [
    "![](https://i.imgur.com/82PY5uM.png)"
   ]
  },
  {
   "cell_type": "markdown",
   "id": "d1317274-e8e2-4080-9d72-b88bbcaec108",
   "metadata": {},
   "source": [
    "## Question 2\n",
    "\n",
    "Download the cloud-free imagery created in Question 1 to your computer. You might need to specify `region`, `scale`, and `crs` when downloading the imagery. If you are not sure about the `crs`, check the first image in the resulting collection like this:\n",
    "\n",
    "`collection.first().select(0).projection().getInfo()`"
   ]
  },
  {
   "cell_type": "code",
   "execution_count": null,
   "id": "4064e1e0-f970-445a-85c9-45587a640c5b",
   "metadata": {},
   "outputs": [],
   "source": []
  },
  {
   "cell_type": "code",
   "execution_count": null,
   "id": "5108cc4b-7019-4420-8daf-a3cfaa16d036",
   "metadata": {},
   "outputs": [],
   "source": []
  },
  {
   "cell_type": "markdown",
   "id": "d1cf8b32-d4ec-496d-a6b0-d0e3a5566dba",
   "metadata": {},
   "source": [
    "## Question 3\n",
    "\n",
    "Create a fishnet of 5 rows * 5 cols covering Knox County and download the cloud-free imagery created in Question 1 by fishnet."
   ]
  },
  {
   "cell_type": "code",
   "execution_count": null,
   "id": "54df4c2b-2707-414f-bce9-53ef1a8e743f",
   "metadata": {},
   "outputs": [],
   "source": []
  },
  {
   "cell_type": "code",
   "execution_count": null,
   "id": "994e1f99-1c0d-4f3c-a43a-4c8a85353414",
   "metadata": {},
   "outputs": [],
   "source": []
  },
  {
   "cell_type": "markdown",
   "id": "7e1d0a17-8dbb-492a-b363-fd2378bfadbe",
   "metadata": {},
   "source": [
    "![](https://i.imgur.com/hqJeJoA.png)"
   ]
  },
  {
   "cell_type": "markdown",
   "id": "a51c63df-f1a4-4e07-9e10-cc6dfead5ddb",
   "metadata": {},
   "source": [
    "## Question 4\n",
    "\n",
    "Create a Landsat timelapse (1984-2022) for Knox County, TN. "
   ]
  },
  {
   "cell_type": "code",
   "execution_count": null,
   "id": "5e030626-049b-436f-a5f3-f83f300a31fe",
   "metadata": {},
   "outputs": [],
   "source": []
  },
  {
   "cell_type": "code",
   "execution_count": null,
   "id": "41c4a04e-082c-4e81-a100-a41eb4e4c942",
   "metadata": {},
   "outputs": [],
   "source": []
  },
  {
   "cell_type": "markdown",
   "id": "72dbdf6e-e175-4b51-b357-de4520445c3a",
   "metadata": {},
   "source": [
    "![](https://i.imgur.com/ggw5d31.gif)"
   ]
  },
  {
   "cell_type": "markdown",
   "id": "0a47f0f2-f979-4cc0-b804-f5f6bc6e1f93",
   "metadata": {},
   "source": [
    "## Question 5\n",
    "\n",
    "Create a NAIP imagery timelapse for Knox County, TN. "
   ]
  },
  {
   "cell_type": "code",
   "execution_count": null,
   "id": "8306265f-e51d-4dd2-9e72-4ba89bb39c01",
   "metadata": {},
   "outputs": [],
   "source": []
  },
  {
   "cell_type": "code",
   "execution_count": null,
   "id": "4ef790b4-cc3b-49ef-86f9-cc69dd91a812",
   "metadata": {},
   "outputs": [],
   "source": []
  },
  {
   "cell_type": "markdown",
   "id": "c1172239-f04d-4740-bf74-38162a002c3b",
   "metadata": {
    "tags": []
   },
   "source": [
    "![](https://i.imgur.com/Aat7dIB.gif)"
   ]
  }
 ],
 "metadata": {
  "kernelspec": {
   "display_name": "Python 3 (ipykernel)",
   "language": "python",
   "name": "python3"
  },
  "language_info": {
   "codemirror_mode": {
    "name": "ipython",
    "version": 3
   },
   "file_extension": ".py",
   "mimetype": "text/x-python",
   "name": "python",
   "nbconvert_exporter": "python",
   "pygments_lexer": "ipython3",
   "version": "3.9.13"
  }
 },
 "nbformat": 4,
 "nbformat_minor": 5
}
