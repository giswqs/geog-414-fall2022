{
 "cells": [
  {
   "cell_type": "markdown",
   "id": "b44efc6e-12b1-4f8d-9664-4e50ba5c8b1e",
   "metadata": {},
   "source": [
    "# Lab 9\n",
    "\n",
    "**Firstname Lastname**"
   ]
  },
  {
   "cell_type": "code",
   "execution_count": null,
   "id": "89887428-b764-4b5b-bd63-777a467456ed",
   "metadata": {},
   "outputs": [],
   "source": [
    "from datetime import datetime\n",
    "\n",
    "now = datetime.now()\n",
    "print(f\"Submitted time: {now}\")"
   ]
  },
  {
   "cell_type": "code",
   "execution_count": null,
   "id": "225ff74c-c4ac-46c9-bd91-a426ec8d84f1",
   "metadata": {},
   "outputs": [],
   "source": [
    "# !pip install geemap"
   ]
  },
  {
   "cell_type": "code",
   "execution_count": null,
   "id": "0119fe35-48d7-4d4c-a606-941ddcd25508",
   "metadata": {},
   "outputs": [],
   "source": [
    "import ee\n",
    "import geemap"
   ]
  },
  {
   "cell_type": "code",
   "execution_count": null,
   "id": "8431e174-2e25-4e51-b7dd-732c6627cebe",
   "metadata": {},
   "outputs": [],
   "source": [
    "geemap.ee_initialize()"
   ]
  },
  {
   "cell_type": "markdown",
   "id": "7793ff5c-2ac4-4fea-84e7-cbbff4c70038",
   "metadata": {
    "tags": []
   },
   "source": [
    "## Question 1\n",
    "\n",
    "Use the following datasets to create an interactive map with two layers: the elevation layer for Tennessee and county boundary layer for Tennessee. Add a color bar for the elevation layer.\n",
    "\n",
    "\n",
    "- [US Census Counties](https://developers.google.com/earth-engine/datasets/catalog/TIGER_2018_Counties): `ee.FeatureCollection('TIGER/2018/Counties')`\n",
    "- [NASA SRTM Digital Elevation 30m](https://developers.google.com/earth-engine/datasets/catalog/USGS_SRTMGL1_003): `ee.Image(\"USGS/SRTMGL1_003\")`\n"
   ]
  },
  {
   "cell_type": "code",
   "execution_count": null,
   "id": "392c48d2-e302-4288-baff-4156b6b8482d",
   "metadata": {},
   "outputs": [],
   "source": []
  },
  {
   "cell_type": "code",
   "execution_count": null,
   "id": "bb281272-fc60-49f8-8e15-b5cd239c26fa",
   "metadata": {},
   "outputs": [],
   "source": []
  },
  {
   "cell_type": "markdown",
   "id": "c00b0a53-b091-41c9-bb0b-4167a044df4c",
   "metadata": {},
   "source": [
    "![](https://i.imgur.com/wzUOUXj.png)"
   ]
  },
  {
   "cell_type": "markdown",
   "id": "87c9b49b-24b1-4235-bdb1-3d23d95942d6",
   "metadata": {},
   "source": [
    "## Question 2\n",
    "\n",
    "Use zonal statistics to find out the mean elevation of each county in Tennessee. Create a bar chart to show the mean elevation of counties in Tennessee."
   ]
  },
  {
   "cell_type": "code",
   "execution_count": null,
   "id": "ddfea7d3-ba82-4170-a610-bdb635607130",
   "metadata": {},
   "outputs": [],
   "source": []
  },
  {
   "cell_type": "code",
   "execution_count": null,
   "id": "60301a7a-4d35-4617-940d-63c74738a783",
   "metadata": {},
   "outputs": [],
   "source": []
  },
  {
   "cell_type": "markdown",
   "id": "d067b3c5-c52b-417c-8544-385ada385870",
   "metadata": {},
   "source": [
    "![](https://i.imgur.com/RNFs8g9.png)"
   ]
  },
  {
   "cell_type": "markdown",
   "id": "fdd96680-d4d5-41e4-9438-1cef27a021d8",
   "metadata": {},
   "source": [
    "## Question 3\n",
    "\n",
    "Select the top 3 counties with the highest mean elevation and highlight them on the map (e.g., adding as a new layer)."
   ]
  },
  {
   "cell_type": "code",
   "execution_count": null,
   "id": "0f093fe9-850d-4b66-a66c-5658aa04dc2f",
   "metadata": {},
   "outputs": [],
   "source": []
  },
  {
   "cell_type": "code",
   "execution_count": null,
   "id": "03be9069-ba88-4ede-ad54-952c23103e53",
   "metadata": {},
   "outputs": [],
   "source": []
  },
  {
   "cell_type": "markdown",
   "id": "0a5ade47-a801-4b6a-9296-04d65e365322",
   "metadata": {},
   "source": [
    "![](https://i.imgur.com/aANMfGi.png)"
   ]
  },
  {
   "cell_type": "markdown",
   "id": "bd784f0d-821f-4cfb-a970-d0b9d9c56aef",
   "metadata": {},
   "source": [
    "## Question 4\n",
    "\n",
    "Use the following datasets to create an interactive map with two layers: the landcover layer for Tennessee and the county boundary layer for tennessee. Add the corresponding legend for the land cover layer. \n",
    "\n",
    " - [ESA WorldCover 10m](https://developers.google.com/earth-engine/datasets/catalog/ESA_WorldCover_v100): `ee.ImageCollection(\"ESA/WorldCover/v100\")`\n",
    " - [US Census Counties](https://developers.google.com/earth-engine/datasets/catalog/TIGER_2018_Counties): `ee.FeatureCollection('TIGER/2018/Counties')`"
   ]
  },
  {
   "cell_type": "code",
   "execution_count": null,
   "id": "183a1d08-0a96-4fce-905e-94277ac7059a",
   "metadata": {},
   "outputs": [],
   "source": []
  },
  {
   "cell_type": "code",
   "execution_count": null,
   "id": "3a94cd34-d724-4793-bbbb-10817e370c68",
   "metadata": {},
   "outputs": [],
   "source": []
  },
  {
   "cell_type": "markdown",
   "id": "babb2267-da2f-48bd-8d28-f8349613b76b",
   "metadata": {},
   "source": [
    "![](https://i.imgur.com/UTdjvX8.png)"
   ]
  },
  {
   "cell_type": "markdown",
   "id": "5dee0bbf-69df-40f4-9669-575ea41eee86",
   "metadata": {},
   "source": [
    "## Question 5\n",
    "\n",
    "Use zonal statistics by group to find out the cropland area by county. Create a bar chart and pie chart to show the cropland area by county."
   ]
  },
  {
   "cell_type": "code",
   "execution_count": null,
   "id": "d44a1fb5-4741-498d-9b42-621a97d75d0d",
   "metadata": {},
   "outputs": [],
   "source": []
  },
  {
   "cell_type": "code",
   "execution_count": null,
   "id": "ed7a526d-2463-442d-bfce-4fa6e273bdb5",
   "metadata": {},
   "outputs": [],
   "source": []
  },
  {
   "cell_type": "markdown",
   "id": "2fbeeb18-c50f-4eec-9f44-499efbaad481",
   "metadata": {},
   "source": [
    "![](https://i.imgur.com/5JZEBGM.png)"
   ]
  },
  {
   "cell_type": "code",
   "execution_count": null,
   "id": "830842ab-8c5c-4248-b2e8-d439bc8317da",
   "metadata": {},
   "outputs": [],
   "source": []
  },
  {
   "cell_type": "markdown",
   "id": "cd4ab2bf-08ed-40db-9519-295fb7dd2d12",
   "metadata": {},
   "source": [
    "![](https://i.imgur.com/5UFWnfF.png)"
   ]
  }
 ],
 "metadata": {
  "kernelspec": {
   "display_name": "Python 3",
   "language": "python",
   "name": "python3"
  },
  "language_info": {
   "codemirror_mode": {
    "name": "ipython",
    "version": 3
   },
   "file_extension": ".py",
   "mimetype": "text/x-python",
   "name": "python",
   "nbconvert_exporter": "python",
   "pygments_lexer": "ipython3",
   "version": "3.9.12"
  }
 },
 "nbformat": 4,
 "nbformat_minor": 5
}
