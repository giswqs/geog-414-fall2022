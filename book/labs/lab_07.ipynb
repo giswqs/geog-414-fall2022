{
 "cells": [
  {
   "cell_type": "markdown",
   "id": "b44efc6e-12b1-4f8d-9664-4e50ba5c8b1e",
   "metadata": {},
   "source": [
    "# Lab 7\n",
    "\n",
    "**Firstname Lastname**"
   ]
  },
  {
   "cell_type": "code",
   "execution_count": null,
   "id": "89887428-b764-4b5b-bd63-777a467456ed",
   "metadata": {},
   "outputs": [],
   "source": [
    "from datetime import datetime\n",
    "\n",
    "now = datetime.now()\n",
    "print(f\"Submitted time: {now}\")"
   ]
  },
  {
   "cell_type": "code",
   "execution_count": null,
   "id": "225ff74c-c4ac-46c9-bd91-a426ec8d84f1",
   "metadata": {},
   "outputs": [],
   "source": [
    "# !pip install geemap"
   ]
  },
  {
   "cell_type": "code",
   "execution_count": null,
   "id": "0119fe35-48d7-4d4c-a606-941ddcd25508",
   "metadata": {},
   "outputs": [],
   "source": [
    "import ee\n",
    "import geemap"
   ]
  },
  {
   "cell_type": "code",
   "execution_count": null,
   "id": "8431e174-2e25-4e51-b7dd-732c6627cebe",
   "metadata": {},
   "outputs": [],
   "source": [
    "geemap.ee_initialize()"
   ]
  },
  {
   "cell_type": "markdown",
   "id": "7793ff5c-2ac4-4fea-84e7-cbbff4c70038",
   "metadata": {
    "tags": []
   },
   "source": [
    "## Question 1\n",
    "\n",
    "Visualize the [USGS Watershed Boundary Dataset](https://developers.google.com/earth-engine/datasets/catalog/USGS_WBD_2017_HUC04) with outline color only, no fill color. "
   ]
  },
  {
   "cell_type": "code",
   "execution_count": null,
   "id": "89b65c99-a620-4045-9812-3b1ea8c8a8e2",
   "metadata": {},
   "outputs": [],
   "source": []
  },
  {
   "cell_type": "code",
   "execution_count": null,
   "id": "bac061c7-2a58-4ecc-b05f-ac9ca270c3d5",
   "metadata": {},
   "outputs": [],
   "source": []
  },
  {
   "cell_type": "code",
   "execution_count": null,
   "id": "091eead7-58bd-4046-857e-c819c643d188",
   "metadata": {},
   "outputs": [],
   "source": []
  },
  {
   "cell_type": "markdown",
   "id": "27266ede-fb33-4258-a1d3-79335523043a",
   "metadata": {},
   "source": [
    "![](https://i.imgur.com/oFyEZpD.png)"
   ]
  },
  {
   "cell_type": "markdown",
   "id": "3793ccdf-92f3-49a4-b06c-f644079ff07a",
   "metadata": {},
   "source": [
    "## Question 2 \n",
    "\n",
    "Filter the USGS Watershed Boundary dataset and select the watershed that intersects Knox Country, TN"
   ]
  },
  {
   "cell_type": "code",
   "execution_count": null,
   "id": "8994035e-1da8-4be9-9c72-a18c7efbbeb5",
   "metadata": {},
   "outputs": [],
   "source": []
  },
  {
   "cell_type": "code",
   "execution_count": null,
   "id": "343a3e32-2b64-40ff-bbe8-325e8ca3a81d",
   "metadata": {},
   "outputs": [],
   "source": []
  },
  {
   "cell_type": "code",
   "execution_count": null,
   "id": "38ab233d-e339-451b-a660-adc2d831252c",
   "metadata": {},
   "outputs": [],
   "source": []
  },
  {
   "cell_type": "markdown",
   "id": "a8be5619-fa66-4fc9-851b-8508f682259c",
   "metadata": {},
   "source": [
    "![](https://i.imgur.com/dEXq0Ci.png)"
   ]
  },
  {
   "cell_type": "markdown",
   "id": "c6538927-7a47-4799-bca6-f1745500d632",
   "metadata": {},
   "source": [
    "## Question 3\n",
    "\n",
    "Clip the [USGS 3DEP 10m DEM](https://developers.google.com/earth-engine/datasets/catalog/USGS_3DEP_10m) the watershed that intersects Knox County, TN. Display the DEM with a proper color palette and color bar."
   ]
  },
  {
   "cell_type": "code",
   "execution_count": null,
   "id": "5ded1668-16f0-4e56-baa4-5053727ad5d6",
   "metadata": {},
   "outputs": [],
   "source": []
  },
  {
   "cell_type": "code",
   "execution_count": null,
   "id": "62c74f4f-6219-4cd6-9fda-32293f9981ba",
   "metadata": {},
   "outputs": [],
   "source": []
  },
  {
   "cell_type": "code",
   "execution_count": null,
   "id": "74e2ebb8-2eaf-495c-8277-5ea072819920",
   "metadata": {},
   "outputs": [],
   "source": []
  },
  {
   "cell_type": "markdown",
   "id": "2676e203-8d97-4f64-b3d7-9a196a22e738",
   "metadata": {},
   "source": [
    "![](https://i.imgur.com/pXSDGrH.png)"
   ]
  },
  {
   "cell_type": "markdown",
   "id": "9b75ef85-d58d-4c16-a778-99f827d00d71",
   "metadata": {},
   "source": [
    "## Question 4\n",
    "\n",
    "Use the [USGS National Land Cover Database](https://developers.google.com/earth-engine/datasets/catalog/USGS_NLCD_RELEASES_2019_REL_NLCD) and [US Census States](https://developers.google.com/earth-engine/datasets/catalog/TIGER_2018_States) to create a split-panel map for visualizing land cover change (2001-2019) for a selected state. Make sure you add the NLCD legend to the map."
   ]
  },
  {
   "cell_type": "code",
   "execution_count": null,
   "id": "ffa31307-f423-4587-90ab-737a45d20e15",
   "metadata": {},
   "outputs": [],
   "source": []
  },
  {
   "cell_type": "code",
   "execution_count": null,
   "id": "c6c29637-c745-4f41-a013-8e68989fcb18",
   "metadata": {},
   "outputs": [],
   "source": []
  },
  {
   "cell_type": "code",
   "execution_count": null,
   "id": "0443aa01-752d-492d-8680-eab34e7e1cb5",
   "metadata": {},
   "outputs": [],
   "source": []
  },
  {
   "cell_type": "markdown",
   "id": "fb67d0c8-346c-4176-b8e3-a1428d3684b1",
   "metadata": {},
   "source": [
    "![](https://i.imgur.com/0GNX5x3.png)"
   ]
  }
 ],
 "metadata": {
  "kernelspec": {
   "display_name": "Python 3",
   "language": "python",
   "name": "python3"
  },
  "language_info": {
   "codemirror_mode": {
    "name": "ipython",
    "version": 3
   },
   "file_extension": ".py",
   "mimetype": "text/x-python",
   "name": "python",
   "nbconvert_exporter": "python",
   "pygments_lexer": "ipython3",
   "version": "3.9.10"
  }
 },
 "nbformat": 4,
 "nbformat_minor": 5
}
