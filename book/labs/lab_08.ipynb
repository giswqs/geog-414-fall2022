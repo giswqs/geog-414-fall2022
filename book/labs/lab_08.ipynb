{
 "cells": [
  {
   "cell_type": "markdown",
   "id": "b44efc6e-12b1-4f8d-9664-4e50ba5c8b1e",
   "metadata": {},
   "source": [
    "# Lab 8\n",
    "\n",
    "**Firstname Lastname**"
   ]
  },
  {
   "cell_type": "code",
   "execution_count": null,
   "id": "89887428-b764-4b5b-bd63-777a467456ed",
   "metadata": {},
   "outputs": [],
   "source": [
    "from datetime import datetime\n",
    "\n",
    "now = datetime.now()\n",
    "print(f\"Submitted time: {now}\")"
   ]
  },
  {
   "cell_type": "code",
   "execution_count": null,
   "id": "225ff74c-c4ac-46c9-bd91-a426ec8d84f1",
   "metadata": {},
   "outputs": [],
   "source": [
    "# !pip install geemap"
   ]
  },
  {
   "cell_type": "code",
   "execution_count": null,
   "id": "0119fe35-48d7-4d4c-a606-941ddcd25508",
   "metadata": {},
   "outputs": [],
   "source": [
    "import ee\n",
    "import geemap"
   ]
  },
  {
   "cell_type": "code",
   "execution_count": null,
   "id": "8431e174-2e25-4e51-b7dd-732c6627cebe",
   "metadata": {},
   "outputs": [],
   "source": [
    "geemap.ee_initialize()"
   ]
  },
  {
   "cell_type": "markdown",
   "id": "7793ff5c-2ac4-4fea-84e7-cbbff4c70038",
   "metadata": {
    "tags": []
   },
   "source": [
    "## Question 1\n",
    "\n",
    "**Image Overlay:**  Create a map to visualize [NOAA GFS Temperature Data](https://developers.google.com/earth-engine/datasets/catalog/NOAA_GFS0P25) and add a color bar and [NOAA logo](https://www.noaa.gov/sites/default/files/2022-03/noaa_emblem_logo-2022.png) to the map. "
   ]
  },
  {
   "cell_type": "code",
   "execution_count": null,
   "id": "bb281272-fc60-49f8-8e15-b5cd239c26fa",
   "metadata": {},
   "outputs": [],
   "source": []
  },
  {
   "cell_type": "code",
   "execution_count": null,
   "id": "484bc13d-243b-4290-8810-0c6da18e8b63",
   "metadata": {},
   "outputs": [],
   "source": []
  },
  {
   "cell_type": "markdown",
   "id": "cdec556f-ee5e-4264-8b1f-1b04942ba01c",
   "metadata": {},
   "source": [
    "![](https://i.imgur.com/G3z6JBA.png)"
   ]
  },
  {
   "cell_type": "markdown",
   "id": "5e1d6939-8637-4798-b142-91d6530fb7c5",
   "metadata": {},
   "source": [
    "## Question 2\n",
    "\n",
    "**Linked Maps:** Create a 2*2 linked map to visualize the Landsat imagery (`ee.Image('LANDSAT/LE7_TOA_5YEAR/1999_2003')`) with different band combinations."
   ]
  },
  {
   "cell_type": "code",
   "execution_count": null,
   "id": "3d6a12ab-ce6d-4073-b2b6-dd3ec987ad2b",
   "metadata": {},
   "outputs": [],
   "source": []
  },
  {
   "cell_type": "code",
   "execution_count": null,
   "id": "a6f42c6e-5ec8-45df-9bea-e6ff7bff9a26",
   "metadata": {},
   "outputs": [],
   "source": []
  },
  {
   "cell_type": "markdown",
   "id": "24f2d06f-ec88-45c0-82da-da081668f9d2",
   "metadata": {},
   "source": [
    "![](https://i.imgur.com/QDNuFaS.gif)"
   ]
  },
  {
   "cell_type": "markdown",
   "id": "9c66a202-2a62-4b98-89dd-6184874ba2f8",
   "metadata": {},
   "source": [
    "## Question 3\n",
    "\n",
    "**Timeseries Inspector:** Create a map with timeseries inspector to visualize [USDA NASS Cropland Data Layers](https://developers.google.com/earth-engine/datasets/catalog/USDA_NASS_CDL) from 2010 to 2021."
   ]
  },
  {
   "cell_type": "code",
   "execution_count": null,
   "id": "a7605ac8-49a2-407f-a4dc-5d9c15eb748c",
   "metadata": {},
   "outputs": [],
   "source": []
  },
  {
   "cell_type": "code",
   "execution_count": null,
   "id": "54ebb291-634b-47be-91c7-13ff660b25b4",
   "metadata": {},
   "outputs": [],
   "source": []
  },
  {
   "cell_type": "markdown",
   "id": "50647a89-d0f0-431e-b42a-adaf6ba5aeaf",
   "metadata": {},
   "source": [
    "![](https://i.imgur.com/ZzkXB5g.gif)"
   ]
  },
  {
   "cell_type": "markdown",
   "id": "af8964fd-d68e-4121-8b12-cdb3539a2850",
   "metadata": {},
   "source": [
    "## Question 4\n",
    "\n",
    "**Time slider:** Create a map with the time slider to visualize [Sentinel-2](https://developers.google.com/earth-engine/datasets/catalog/COPERNICUS_S2_SR) for Knoxville, TN."
   ]
  },
  {
   "cell_type": "code",
   "execution_count": null,
   "id": "7ad76fa0-03e5-419a-a35f-6efa16b7def1",
   "metadata": {},
   "outputs": [],
   "source": []
  },
  {
   "cell_type": "code",
   "execution_count": null,
   "id": "dcf214d9-e6ce-41f2-a7e0-9313cc208408",
   "metadata": {},
   "outputs": [],
   "source": []
  },
  {
   "cell_type": "markdown",
   "id": "31802553-20a9-4a28-a152-90d33776be56",
   "metadata": {},
   "source": [
    "![](https://i.imgur.com/SCWDCQO.gif)"
   ]
  },
  {
   "cell_type": "markdown",
   "id": "9a7b96a5-2598-4a0f-847c-96f020a402d1",
   "metadata": {},
   "source": [
    "## Question 5\n",
    "\n",
    "**Split-panel Map:** Use the following datasets to create a split-panel map for visualizing the ESA land cover data in the US. Add the ESA land cover legend to the map (Hint: the built-in legend for ESA land cover is `ESA_WorldCover`).\n",
    "\n",
    "- [US Census States](https://developers.google.com/earth-engine/datasets/catalog/TIGER_2018_States): `ee.FeatureCollection(\"TIGER/2018/States\")`\n",
    "- [ESA WorldCover 10m](https://developers.google.com/earth-engine/datasets/catalog/ESA_WorldCover_v100): `ee.ImageCollection(\"ESA/WorldCover/v100\")`\n",
    "- Landsat: `LANDSAT/LE7_TOA_5YEAR/1999_2003`\n"
   ]
  },
  {
   "cell_type": "markdown",
   "id": "eec39741-8b68-4357-ae26-6ce9f5f50a19",
   "metadata": {},
   "source": [
    "Currently, the split-map control of ipyleaflet plotting backend has a bug ([source](https://github.com/jupyter-widgets/ipyleaflet/issues/1066)). Use the folium plotting backend instead."
   ]
  },
  {
   "cell_type": "code",
   "execution_count": null,
   "id": "65a067af-6410-4f95-887e-2b67cbd1494c",
   "metadata": {},
   "outputs": [],
   "source": [
    "import geemap.foliumap as geemap  "
   ]
  },
  {
   "cell_type": "code",
   "execution_count": null,
   "id": "5c32ef67-b179-41a5-b266-abad27799d5a",
   "metadata": {},
   "outputs": [],
   "source": []
  },
  {
   "cell_type": "code",
   "execution_count": null,
   "id": "8deb505b-4dbe-4d77-8d0d-da2d51806a07",
   "metadata": {},
   "outputs": [],
   "source": []
  },
  {
   "cell_type": "markdown",
   "id": "8ffb7d80-2baf-4dc4-bd80-ba21e50b5b2a",
   "metadata": {},
   "source": [
    "![](https://i.imgur.com/VUAT8tZ.gif)"
   ]
  }
 ],
 "metadata": {
  "kernelspec": {
   "display_name": "Python 3",
   "language": "python",
   "name": "python3"
  },
  "language_info": {
   "codemirror_mode": {
    "name": "ipython",
    "version": 3
   },
   "file_extension": ".py",
   "mimetype": "text/x-python",
   "name": "python",
   "nbconvert_exporter": "python",
   "pygments_lexer": "ipython3",
   "version": "3.9.12"
  }
 },
 "nbformat": 4,
 "nbformat_minor": 5
}
