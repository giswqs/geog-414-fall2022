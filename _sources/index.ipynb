{
 "cells": [
  {
   "cell_type": "markdown",
   "id": "24214c37",
   "metadata": {},
   "source": [
    "# Spatial Data Management with Earth Engine\n",
    "\n",
    "This book is for the _Spatial Data Management_ course (GEOG-414) that I teach in Fall 2022 at the University of Tennessee, Knoxville.\n",
    "\n",
    "```{figure} book/gee/images/ch01_geemap_gui.jpg\n",
    "---\n",
    "name: ch00_geemap_gui\n",
    "width: 825px\n",
    "---\n",
    "Visualizing global elevation data with Earth Engine and geemap.\n",
    "```"
   ]
  }
 ],
 "metadata": {
  "jupytext": {
   "text_representation": {
    "extension": ".md",
    "format_name": "myst",
    "format_version": 0.13,
    "jupytext_version": "1.11.5"
   }
  },
  "kernelspec": {
   "display_name": "Python 3",
   "language": "python",
   "name": "python3"
  },
  "source_map": [
   12
  ]
 },
 "nbformat": 4,
 "nbformat_minor": 5
}