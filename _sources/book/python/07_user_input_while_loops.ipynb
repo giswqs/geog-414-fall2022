{
 "cells": [
  {
   "cell_type": "markdown",
   "id": "b732c66d",
   "metadata": {},
   "source": [
    "# Looping\n",
    "\n",
    "```{contents}\n",
    ":local:\n",
    ":depth: 2\n",
    "```\n",
    "\n",
    "Most programs are written to solve an end user’s problem. To do so, you usually need to get some information from the user. For a simple example, let’s say someone wants to find out whether they’re old enough to vote. If you write a program to answer this question, you need to know the user’s age before you can provide an answer. The program will need to ask the user to enter, or input, their age; once the program has this input, it can compare it to the voting age to determine if the user is old enough and then report the result.\n",
    "\n",
    "In this chapter you’ll learn how to accept user input so your program can then work with it. When your program needs a name, you’ll be able to prompt the user for a name. When your program needs a list of names, you’ll be able to prompt the user for a series of names. To do this, you’ll use the input() function.\n",
    "\n",
    "You’ll also learn how to keep programs running as long as users want them to, so they can enter as much information as they need to; then, your program can work with that information. You’ll use Python’s while loop to keep programs running as long as certain conditions remain true.\n",
    "\n",
    "With the ability to work with user input and the ability to control how long your programs run, you’ll be able to write fully interactive programs.\n",
    "\n",
    "- [HOW THE INPUT() FUNCTION WORKS](#how-the-input-function-works)\n",
    "- [INTRODUCING WHILE LOOPS](#introducing-while-loops)\n",
    "- [USING A WHILE LOOP WITH LISTS AND DICTIONARIES](#using-while-loops)\n",
    "- [SUMMARY](#summary)\n",
    "\n",
    "## HOW THE INPUT() FUNCTION WORKS\n",
    "\n",
    "The input() function pauses your program and waits for the user to enter some text. Once Python receives the user’s input, it assigns that input to a variable to make it convenient for you to work with.\n",
    "\n",
    "For example, the following program asks the user to enter some text, then displays that message back to the user:\n",
    "\n",
    "<!-- #endregion -->"
   ]
  },
  {
   "cell_type": "code",
   "execution_count": null,
   "id": "34a0f8bb",
   "metadata": {},
   "outputs": [],
   "source": [
    "# message = input(\"Tell me something, and I will repeat it back to you: \")\n",
    "# print(message)"
   ]
  },
  {
   "cell_type": "markdown",
   "id": "57ce0767",
   "metadata": {},
   "source": [
    "The input() function takes one argument: the prompt, or instructions, that we want to display to the user so they know what to do. In this example, when Python runs the first line, the user sees the prompt Tell me something, and I will repeat it back to you: . The program waits while the user enters their response and continues after the user presses ENTER. The response is assigned to the variable message, then print(message) displays the input back to the user:\n",
    "\n",
    "## Writing Clear Prompts\n",
    "\n",
    "Each time you use the input() function, you should include a clear, easy-to-follow prompt that tells the user exactly what kind of information you’re looking for. Any statement that tells the user what to enter should work. For example:"
   ]
  },
  {
   "cell_type": "code",
   "execution_count": null,
   "id": "6ab677cf",
   "metadata": {},
   "outputs": [],
   "source": [
    "# name = input(\"Please enter your name: \")\n",
    "# print(f\"\\nHello, {name}!\")"
   ]
  },
  {
   "cell_type": "markdown",
   "id": "c7030da6",
   "metadata": {},
   "source": [
    "Sometimes you’ll want to write a prompt that’s longer than one line. For example, you might want to tell the user why you’re asking for certain input. You can assign your prompt to a variable and pass that variable to the input() function. This allows you to build your prompt over several lines, then write a clean input() statement."
   ]
  },
  {
   "cell_type": "code",
   "execution_count": null,
   "id": "27681f0e",
   "metadata": {},
   "outputs": [],
   "source": [
    "prompt = \"If you tell us who you are, we can personalize the messages you see.\"\n",
    "prompt += \"\\nWhat is your first name? \"\n",
    "\n",
    "# name = input(prompt)\n",
    "# print(f\"\\nHello, {name}!\")"
   ]
  },
  {
   "cell_type": "markdown",
   "id": "095ddc27",
   "metadata": {},
   "source": [
    "This example shows one way to build a multi-line string. The first line assigns the first part of the message to the variable prompt. In the second line, the operator += takes the string that was assigned to prompt and adds the new string onto the end.\n",
    "\n",
    "The prompt now spans two lines, again with space after the question mark for clarity:\n",
    "\n",
    "## Using int() to Accept Numerical Input\n",
    "\n",
    "When you use the input() function, Python interprets everything the user enters as a string. Consider the following interpreter session, which asks for the user’s age:"
   ]
  },
  {
   "cell_type": "code",
   "execution_count": null,
   "id": "1933f3fd",
   "metadata": {},
   "outputs": [],
   "source": [
    "# age = input(\"How old are you? \")\n",
    "# age"
   ]
  },
  {
   "cell_type": "markdown",
   "id": "a536160c",
   "metadata": {},
   "source": [
    "The user enters the number 21, but when we ask Python for the value of age, it returns '21', the string representation of the numerical value entered. We know Python interpreted the input as a string because the number is now enclosed in quotes. If all you want to do is print the input, this works well. But if you try to use the input as a number, you’ll get an error. We can resolve this issue by using the int() function, which tells Python to treat the input as a numerical value. The int() function converts a string representation of a number to a numerical representation, as shown here:"
   ]
  },
  {
   "cell_type": "code",
   "execution_count": null,
   "id": "808e2582",
   "metadata": {},
   "outputs": [],
   "source": [
    "# age = input(\"How old are you? \")\n",
    "# age = int(age)\n",
    "# age"
   ]
  },
  {
   "cell_type": "markdown",
   "id": "52711bfa",
   "metadata": {},
   "source": [
    "How do you use the int() function in an actual program? Consider a program that determines whether people are tall enough to ride a roller coaster:"
   ]
  },
  {
   "cell_type": "code",
   "execution_count": null,
   "id": "fcf55982",
   "metadata": {},
   "outputs": [],
   "source": [
    "# height = input(\"How tall are you, in inches? \")\n",
    "# height = int(height)\n",
    "\n",
    "# if height >= 48:\n",
    "#     print(\"\\nYou're tall enough to ride!\")\n",
    "# else:\n",
    "#     print(\"\\nYou'll be able to ride when you're a little older.\")"
   ]
  },
  {
   "cell_type": "markdown",
   "id": "72c254dd",
   "metadata": {},
   "source": [
    "## The Modulo Operator\n",
    "\n",
    "A useful tool for working with numerical information is the modulo operator (%), which divides one number by another number and returns the remainder:"
   ]
  },
  {
   "cell_type": "code",
   "execution_count": null,
   "id": "15f598a8",
   "metadata": {},
   "outputs": [],
   "source": [
    "4 % 3"
   ]
  },
  {
   "cell_type": "code",
   "execution_count": null,
   "id": "ccbe7e58",
   "metadata": {},
   "outputs": [],
   "source": [
    "5 % 3"
   ]
  },
  {
   "cell_type": "code",
   "execution_count": null,
   "id": "b8685d2b",
   "metadata": {},
   "outputs": [],
   "source": [
    "6 % 3"
   ]
  },
  {
   "cell_type": "code",
   "execution_count": null,
   "id": "82ce6278",
   "metadata": {},
   "outputs": [],
   "source": [
    "7 % 3"
   ]
  },
  {
   "cell_type": "markdown",
   "id": "c7cf0bca",
   "metadata": {},
   "source": [
    "The modulo operator doesn’t tell you how many times one number fits into another; it just tells you what the remainder is.\n",
    "\n",
    "When one number is divisible by another number, the remainder is 0, so the modulo operator always returns 0. You can use this fact to determine if a number is even or odd:"
   ]
  },
  {
   "cell_type": "code",
   "execution_count": null,
   "id": "9d4b4f46",
   "metadata": {},
   "outputs": [],
   "source": [
    "# number = input(\"Enter a number, and I'll tell you if it's even or odd: \")\n",
    "# number = int(number)\n",
    "\n",
    "# if number % 2 == 0:\n",
    "#     print(f\"\\nThe number {number} is even.\")\n",
    "# else:\n",
    "#     print(f\"\\nThe number {number} is odd.\")"
   ]
  },
  {
   "cell_type": "markdown",
   "id": "f436ed1f",
   "metadata": {},
   "source": [
    "## INTRODUCING WHILE LOOPS\n",
    "\n",
    "The for loop takes a collection of items and executes a block of code once for each item in the collection. In contrast, the while loop runs as long as, or while, a certain condition is true.\n",
    "\n",
    "## The while Loop in Action\n",
    "\n",
    "You can use a while loop to count up through a series of numbers. For example, the following while loop counts from 1 to 5:"
   ]
  },
  {
   "cell_type": "code",
   "execution_count": null,
   "id": "169ae519",
   "metadata": {},
   "outputs": [],
   "source": [
    "current_number = 1\n",
    "while current_number <= 5:\n",
    "    print(current_number)\n",
    "    current_number += 1"
   ]
  },
  {
   "cell_type": "markdown",
   "id": "6e213f08",
   "metadata": {},
   "source": [
    "In the first line, we start counting from 1 by assigning current_number the value 1. The while loop is then set to keep running as long as the value of current_number is less than or equal to 5. The code inside the loop prints the value of current_number and then adds 1 to that value with current_number += 1. (The += operator is shorthand for current_number = current_number + 1.)\n",
    "\n",
    "Python repeats the loop as long as the condition current_number <= 5 is true. Because 1 is less than 5, Python prints 1 and then adds 1, making the current number 2. Because 2 is less than 5, Python prints 2 and adds 1 again, making the current number 3, and so on. Once the value of current_number is greater than 5, the loop stops running and the program end.\n",
    "\n",
    "The programs you use every day most likely contain while loops. For example, a game needs a while loop to keep running as long as you want to keep playing, and so it can stop running as soon as you ask it to quit. Programs wouldn’t be fun to use if they stopped running before we told them to or kept running even after we wanted to quit, so while loops are quite useful.\n",
    "\n",
    "## Letting the User Choose When to Quit\n",
    "\n",
    "We can make the parrot.py program run as long as the user wants by putting most of the program inside a while loop. We’ll define a quit value and then keep the program running as long as the user has not entered the quit value:"
   ]
  },
  {
   "cell_type": "code",
   "execution_count": null,
   "id": "c7a27060",
   "metadata": {},
   "outputs": [],
   "source": [
    "prompt = \"\\nTell me something, and I will repeat it back to you:\"\n",
    "prompt += \"\\nEnter 'quit' to end the program. \"\n",
    "\n",
    "message = \"\"\n",
    "# while message != 'quit':\n",
    "#     message = input(prompt)\n",
    "\n",
    "#     if message != 'quit':\n",
    "#         print(message)"
   ]
  },
  {
   "cell_type": "markdown",
   "id": "7054b7c6",
   "metadata": {},
   "source": [
    "The first time through the loop, message is just an empty string, so Python enters the loop. At message = input(prompt), Python displays the prompt and waits for the user to enter their input. Whatever they enter is assigned to message and printed; then, Python reevaluates the condition in the while statement. As long as the user has not entered the word 'quit', the prompt is displayed again and Python waits for more input. When the user finally enters 'quit', Python stops executing the while loop and the program end.\n",
    "\n",
    "## Using a Flag\n",
    "\n",
    "In the previous example, we had the program perform certain tasks while a given condition was true. But what about more complicated programs in which many different events could cause the program to stop running?\n",
    "\n",
    "For example, in a game, several different events can end the game. When the player runs out of ships, their time runs out, or the cities they were supposed to protect are all destroyed, the game should end. It needs to end if any one of these events happens. If many possible events might occur to stop the program, trying to test all these conditions in one while statement becomes complicated and difficult.\n",
    "\n",
    "For a program that should run only as long as many conditions are true, you can define one variable that determines whether or not the entire program is active. This variable, called a flag, acts as a signal to the program. We can write our programs so they run while the flag is set to True and stop running when any of several events sets the value of the flag to False. As a result, our overall while statement needs to check only one condition: whether or not the flag is currently True. Then, all our other tests (to see if an event has occurred that should set the flag to False) can be neatly organized in the rest of the program."
   ]
  },
  {
   "cell_type": "code",
   "execution_count": null,
   "id": "a9b957ed",
   "metadata": {},
   "outputs": [],
   "source": [
    "prompt = \"\\nTell me something, and I will repeat it back to you:\"\n",
    "prompt += \"\\nEnter 'quit' to end the program. \"\n",
    "\n",
    "active = True\n",
    "# while active:\n",
    "#     message = input(prompt)\n",
    "\n",
    "#     if message == 'quit':\n",
    "#         active = False\n",
    "#     else:\n",
    "#         print(message)"
   ]
  },
  {
   "cell_type": "markdown",
   "id": "89d507fc",
   "metadata": {},
   "source": [
    "## Using break to Exit a Loop\n",
    "\n",
    "To exit a while loop immediately without running any remaining code in the loop, regardless of the results of any conditional test, use the break statement. The break statement directs the flow of your program; you can use it to control which lines of code are executed and which aren’t, so the program only executes code that you want it to, when you want it to.\n",
    "\n",
    "For example, consider a program that asks the user about places they’ve visited. We can stop the while loop in this program by calling break as soon as the user enters the 'quit' value:"
   ]
  },
  {
   "cell_type": "code",
   "execution_count": null,
   "id": "b520e2b7",
   "metadata": {},
   "outputs": [],
   "source": [
    "prompt = \"\\nPlease enter the name of a city you have visited:\"\n",
    "prompt += \"\\n(Enter 'quit' when you are finished.) \"\n",
    "\n",
    "# while True:\n",
    "#     city = input(prompt)\n",
    "\n",
    "#     if city == 'quit':\n",
    "#         break\n",
    "#     else:\n",
    "#         print(f\"I'd love to go to {city.title()}!\")"
   ]
  },
  {
   "cell_type": "markdown",
   "id": "4ec51a9c",
   "metadata": {},
   "source": [
    "A loop that starts with while True will run forever unless it reaches a break statement. The loop in this program continues asking the user to enter the names of cities they’ve been to until they enter 'quit'. When they enter 'quit', the break statement runs, causing Python to exit the loop.\n",
    "\n",
    "## Using continue in a Loop\n",
    "\n",
    "Rather than breaking out of a loop entirely without executing the rest of its code, you can use the continue statement to return to the beginning of the loop based on the result of a conditional test. For example, consider a loop that counts from 1 to 10 but prints only the odd numbers in that range:"
   ]
  },
  {
   "cell_type": "code",
   "execution_count": null,
   "id": "141fcc26",
   "metadata": {},
   "outputs": [],
   "source": [
    "current_number = 0\n",
    "while current_number < 10:\n",
    "    current_number += 1\n",
    "    if current_number % 2 == 0:\n",
    "        continue\n",
    "\n",
    "    print(current_number)"
   ]
  },
  {
   "cell_type": "markdown",
   "id": "a8e0c490",
   "metadata": {},
   "source": [
    "## Avoiding Infinite Loops\n",
    "\n",
    "Every while loop needs a way to stop running so it won’t continue to run forever. For example, this counting loop should count from 1 to 5:"
   ]
  },
  {
   "cell_type": "code",
   "execution_count": null,
   "id": "62f16673",
   "metadata": {},
   "outputs": [],
   "source": [
    "x = 1\n",
    "while x <= 5:\n",
    "    print(x)\n",
    "    x += 1"
   ]
  },
  {
   "cell_type": "markdown",
   "id": "d33e1087",
   "metadata": {},
   "source": [
    "But if you accidentally omit the line x += 1 (as shown next), the loop will run forever:"
   ]
  },
  {
   "cell_type": "code",
   "execution_count": null,
   "id": "12cb1b23",
   "metadata": {},
   "outputs": [],
   "source": [
    "# # This loop runs forever!\n",
    "# x = 1\n",
    "# while x <= 5:\n",
    "#     print(x)"
   ]
  },
  {
   "cell_type": "markdown",
   "id": "d4d646ed",
   "metadata": {},
   "source": [
    "Every programmer accidentally writes an infinite while loop from time to time, especially when a program’s loops have subtle exit conditions. If your program gets stuck in an infinite loop, press CTRL-C or just close the terminal window displaying your program’s output.\n",
    "\n",
    "To avoid writing infinite loops, test every while loop and make sure the loop stops when you expect it to. If you want your program to end when the user enters a certain input value, run the program and enter that value. If the program doesn’t end, scrutinize the way your program handles the value that should cause the loop to exit. Make sure at least one part of the program can make the loop’s condition False or cause it to reach a break statement.\n",
    "\n",
    "## USING A WHILE LOOP WITH LISTS AND DICTIONARIES <a class='anchor' id='using-while-loops'> </a>\n",
    "\n",
    "So far, we’ve worked with only one piece of user information at a time. We received the user’s input and then printed the input or a response to it. The next time through the while loop, we’d receive another input value and respond to that. But to keep track of many users and pieces of information, we’ll need to use lists and dictionaries with our while loops.\n",
    "\n",
    "A for loop is effective for looping through a list, but you shouldn’t modify a list inside a for loop because Python will have trouble keeping track of the items in the list. To modify a list as you work through it, use a while loop. Using while loops with lists and dictionaries allows you to collect, store, and organize lots of input to examine and report on later.\n",
    "\n",
    "## Moving Items from One List to Another\n",
    "\n",
    "Consider a list of newly registered but unverified users of a website. After we verify these users, how can we move them to a separate list of confirmed users? One way would be to use a while loop to pull users from the list of unconfirmed users as we verify them and then add them to a separate list of confirmed users. Here’s what that code might look like:"
   ]
  },
  {
   "cell_type": "code",
   "execution_count": null,
   "id": "d413e29b",
   "metadata": {},
   "outputs": [],
   "source": [
    "# Start with users that need to be verified,\n",
    "#  and an empty list to hold confirmed users.\n",
    "unconfirmed_users = ['alice', 'brian', 'candace']\n",
    "confirmed_users = []\n",
    "\n",
    "# Verify each user until there are no more unconfirmed users.\n",
    "#  Move each verified user into the list of confirmed users.\n",
    "while unconfirmed_users:\n",
    "    current_user = unconfirmed_users.pop()\n",
    "\n",
    "    print(f\"Verifying user: {current_user.title()}\")\n",
    "    confirmed_users.append(current_user)\n",
    "\n",
    "# Display all confirmed users.\n",
    "print(\"\\nThe following users have been confirmed:\")\n",
    "for confirmed_user in confirmed_users:\n",
    "    print(confirmed_user.title())"
   ]
  },
  {
   "cell_type": "markdown",
   "id": "93130578",
   "metadata": {},
   "source": [
    "## Removing All Instances of Specific Values from a List\n",
    "\n",
    "In Chapter 3 we used remove() to remove a specific value from a list. The remove() function worked because the value we were interested in appeared only once in the list. But what if you want to remove all instances of a value from a list?\n",
    "\n",
    "Say you have a list of pets with the value 'cat' repeated several times. To remove all instances of that value, you can run a while loop until 'cat' is no longer in the list, as shown here:"
   ]
  },
  {
   "cell_type": "code",
   "execution_count": null,
   "id": "b04b75e8",
   "metadata": {},
   "outputs": [],
   "source": [
    "pets = ['dog', 'cat', 'dog', 'goldfish', 'cat', 'rabbit', 'cat']\n",
    "print(pets)\n",
    "\n",
    "while 'cat' in pets:\n",
    "    pets.remove('cat')\n",
    "\n",
    "print(pets)"
   ]
  },
  {
   "cell_type": "markdown",
   "id": "274ac0d4",
   "metadata": {},
   "source": [
    "## Filling a Dictionary with User Input\n",
    "\n",
    "You can prompt for as much input as you need in each pass through a while loop. Let’s make a polling program in which each pass through the loop prompts for the participant’s name and response. We’ll store the data we gather in a dictionary, because we want to connect each response with a particular user:"
   ]
  },
  {
   "cell_type": "code",
   "execution_count": null,
   "id": "cb40126f",
   "metadata": {},
   "outputs": [],
   "source": [
    "responses = {}\n",
    "\n",
    "# Set a flag to indicate that polling is active.\n",
    "polling_active = True\n",
    "\n",
    "# while polling_active:\n",
    "#     # Prompt for the person's name and response.\n",
    "#     name = input(\"\\nWhat is your name? \")\n",
    "#     response = input(\"Which mountain would you like to climb someday? \")\n",
    "\n",
    "#     # Store the response in the dictionary.\n",
    "#     responses[name] = response\n",
    "\n",
    "#     # Find out if anyone else is going to take the poll.\n",
    "#     repeat = input(\"Would you like to let another person respond? (yes/ no) \")\n",
    "#     if repeat == 'no':\n",
    "#         polling_active = False\n",
    "\n",
    "# # Polling is complete. Show the results.\n",
    "# print(\"\\n--- Poll Results ---\")\n",
    "# for name, response in responses.items():\n",
    "#     print(f\"{name} would like to climb {response}.\")"
   ]
  },
  {
   "cell_type": "markdown",
   "id": "9afccafb",
   "metadata": {},
   "source": [
    "## SUMMARY\n",
    "\n",
    "In this chapter you learned how to use input() to allow users to provide their own information in your programs. You learned to work with both text and numerical input and how to use while loops to make your programs run as long as your users want them to. You saw several ways to control the flow of a while loop by setting an active flag, using the break statement, and using the continue statement. You learned how to use a while loop to move items from one list to another and how to remove all instances of a value from a list. You also learned how while loops can be used with dictionaries."
   ]
  }
 ],
 "metadata": {
  "jupytext": {
   "text_representation": {
    "extension": ".md",
    "format_name": "myst",
    "format_version": 0.13,
    "jupytext_version": "1.11.5"
   }
  },
  "kernelspec": {
   "display_name": "Python 3",
   "language": "python",
   "name": "python3"
  },
  "source_map": [
   12,
   42,
   45,
   53,
   56,
   60,
   66,
   76,
   79,
   83,
   87,
   91,
   99,
   105,
   109,
   113,
   117,
   119,
   125,
   133,
   143,
   148,
   160,
   170,
   182,
   194,
   202,
   213,
   221,
   229,
   235,
   240,
   244,
   249,
   265,
   283,
   291,
   299,
   305,
   328
  ]
 },
 "nbformat": 4,
 "nbformat_minor": 5
}