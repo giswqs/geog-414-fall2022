{
 "cells": [
  {
   "cell_type": "markdown",
   "id": "61c6041d",
   "metadata": {},
   "source": [
    "# Getting Started\n",
    "\n",
    "```{contents}\n",
    ":local:\n",
    ":depth: 2\n",
    "```\n",
    "\n",
    "## Jupyter Notebook Keyboard Shortcuts\n",
    "\n",
    "- **Shift-Enter**: run cell, select below\n",
    "- **Ctrl-Enter**: : run selected cells\n",
    "- **Alt-Enter**: run cell and insert below\n",
    "- **Tab**: code completion or indent\n",
    "- **Shift-Tab**: tooltip\n",
    "- **Matplotlib plotting**: %matplotlib inline"
   ]
  }
 ],
 "metadata": {
  "jupytext": {
   "text_representation": {
    "extension": ".md",
    "format_name": "myst",
    "format_version": 0.13,
    "jupytext_version": "1.11.5"
   }
  },
  "kernelspec": {
   "display_name": "Python 3",
   "language": "python",
   "name": "python3"
  },
  "source_map": [
   12
  ]
 },
 "nbformat": 4,
 "nbformat_minor": 5
}