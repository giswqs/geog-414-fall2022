{
 "cells": [
  {
   "cell_type": "markdown",
   "id": "c3b1668e",
   "metadata": {},
   "source": [
    "# Syllabus\n",
    "\n",
    "<iframe src=\"https://docs.google.com/document/d/e/2PACX-1vRVE2ze_l7BUTgLp2vNeYanAnXvECT0h9m3kneExXzQjw5lutg1lQ8tYTAD4LLW2nU_2eg5SzwsBgJw/pub?embedded=true\" width=\"100%\" height=800></iframe>"
   ]
  }
 ],
 "metadata": {
  "jupytext": {
   "text_representation": {
    "extension": ".md",
    "format_name": "myst",
    "format_version": 0.13,
    "jupytext_version": "1.11.5"
   }
  },
  "kernelspec": {
   "display_name": "Python 3",
   "language": "python",
   "name": "python3"
  },
  "source_map": [
   12
  ]
 },
 "nbformat": 4,
 "nbformat_minor": 5
}