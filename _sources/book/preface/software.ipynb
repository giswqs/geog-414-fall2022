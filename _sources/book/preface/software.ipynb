{
 "cells": [
  {
   "cell_type": "markdown",
   "id": "23f79214",
   "metadata": {},
   "source": [
    "# Software\n",
    "\n",
    "## Software Tools\n",
    "\n",
    "- [Miniconda](https://docs.conda.io/en/latest/miniconda.html) or [Anaconda](https://www.anaconda.com/)\n",
    "- [Visual Studio Code](https://code.visualstudio.com/)\n",
    "- [Git](https://git-scm.com/downloads)\n",
    "- [QGIS](https://www.qgis.org/)\n",
    "\n",
    "## Cloud Computing Platforms\n",
    "\n",
    "- [Google Earth Engine](https://earthengine.google.com/)\n",
    "- [Google Colab](https://research.google.com/colaboratory)\n",
    "- [Mybinder](https://mybinder.org/)\n",
    "- [Amazon SageMaker Studio Lab](https://studiolab.sagemaker.aws/)"
   ]
  }
 ],
 "metadata": {
  "jupytext": {
   "text_representation": {
    "extension": ".md",
    "format_name": "myst",
    "format_version": 0.13,
    "jupytext_version": "1.11.5"
   }
  },
  "kernelspec": {
   "display_name": "Python 3",
   "language": "python",
   "name": "python3"
  },
  "source_map": [
   12
  ]
 },
 "nbformat": 4,
 "nbformat_minor": 5
}