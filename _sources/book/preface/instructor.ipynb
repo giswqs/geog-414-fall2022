{
 "cells": [
  {
   "cell_type": "markdown",
   "id": "3d94447a",
   "metadata": {},
   "source": [
    "# Instructor\n",
    "\n",
    "Dr. Qiusheng Wu is an Assistant Professor in the Department of Geography at the University of Tennessee, Knoxville. His research interests include Geographic Information Science (GIS), remote sensing, and environmental modeling. More specifically, he is interested in applying geospatial big data, machine learning, and cloud computing (e.g., Google Earth Engine, Microsoft Planetary Computer) to study environmental change, especially surface water and wetland inundation dynamics. Dr. Wu is an advocate of open science and reproducible research. He has developed several open-source packages for interactive mapping and geospatial analysis, such as [geemap](https://geemap.org), [leafmap](https://leafmap.org), [geospatial](https://geospatial.gishub.org), [pygis](https://pygis.gishub.org), [lidar](https://lidar.gishub.org), and [WhiteboxTools frontends](https://giswqs.github.io/whitebox-frontends/). More information about his open-source projects can be found on GitHub (<https://github.com/giswqs>). Dr. Wu has also published hundreds of GIS and mapping videos on social media. Check out his YouTube channel at <https://www.youtube.com/c/QiushengWu>."
   ]
  }
 ],
 "metadata": {
  "jupytext": {
   "text_representation": {
    "extension": ".md",
    "format_name": "myst",
    "format_version": 0.13,
    "jupytext_version": "1.11.5"
   }
  },
  "kernelspec": {
   "display_name": "Python 3",
   "language": "python",
   "name": "python3"
  },
  "source_map": [
   12
  ]
 },
 "nbformat": 4,
 "nbformat_minor": 5
}