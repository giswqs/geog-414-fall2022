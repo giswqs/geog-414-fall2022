{
 "cells": [
  {
   "cell_type": "markdown",
   "id": "58669321",
   "metadata": {},
   "source": [
    "# Creating Interactive Maps\n",
    "\n",
    "```{contents}\n",
    ":local:\n",
    ":depth: 2\n",
    "```\n",
    "\n",
    "## Introduction\n",
    "\n",
    "## Technical requirements\n",
    "\n",
    "```bash\n",
    "conda create -n gee python\n",
    "conda activate gee\n",
    "conda install -c conda-forge mamba\n",
    "mamba install -c conda-forge geemap pygis\n",
    "```\n",
    "\n",
    "[![Open in Colab](https://colab.research.google.com/assets/colab-badge.svg)](https://colab.research.google.com/github/giswqs/geebook/blob/master/chapters/02_maps.ipynb)"
   ]
  },
  {
   "cell_type": "code",
   "execution_count": null,
   "id": "309d16bc",
   "metadata": {},
   "outputs": [],
   "source": [
    "# pip install pygis"
   ]
  },
  {
   "cell_type": "markdown",
   "id": "cd871cc1",
   "metadata": {},
   "source": [
    "## Plotting backends\n",
    "\n",
    "### Ipyleaflet"
   ]
  },
  {
   "cell_type": "code",
   "execution_count": null,
   "id": "6ee3c90d",
   "metadata": {},
   "outputs": [],
   "source": [
    "import geemap"
   ]
  },
  {
   "cell_type": "code",
   "execution_count": null,
   "id": "fd11f05d",
   "metadata": {},
   "outputs": [],
   "source": [
    "Map = geemap.Map()"
   ]
  },
  {
   "cell_type": "code",
   "execution_count": null,
   "id": "962d3b46",
   "metadata": {},
   "outputs": [],
   "source": [
    "Map"
   ]
  },
  {
   "cell_type": "code",
   "execution_count": null,
   "id": "bc1f149e",
   "metadata": {},
   "outputs": [],
   "source": [
    "Map = geemap.Map(center=[40, -100], zoom=4, height=600)\n",
    "Map"
   ]
  },
  {
   "cell_type": "code",
   "execution_count": null,
   "id": "7ae554d0",
   "metadata": {},
   "outputs": [],
   "source": [
    "Map = geemap.Map(data_ctrl=False, toolbar_ctrl=False, draw_ctrl=False)\n",
    "Map"
   ]
  },
  {
   "cell_type": "code",
   "execution_count": null,
   "id": "50c5a4ca",
   "metadata": {},
   "outputs": [],
   "source": [
    "Map = geemap.Map(lite_mode=True)\n",
    "Map"
   ]
  },
  {
   "cell_type": "code",
   "execution_count": null,
   "id": "a186aa8a",
   "metadata": {},
   "outputs": [],
   "source": [
    "Map.save('ipyleaflet.html')"
   ]
  },
  {
   "cell_type": "markdown",
   "id": "9547956a",
   "metadata": {},
   "source": [
    "### Folium"
   ]
  },
  {
   "cell_type": "code",
   "execution_count": null,
   "id": "3d1d7bb4",
   "metadata": {},
   "outputs": [],
   "source": [
    "import geemap.foliumap as geemap"
   ]
  },
  {
   "cell_type": "code",
   "execution_count": null,
   "id": "f81ccb9e",
   "metadata": {},
   "outputs": [],
   "source": [
    "Map = geemap.Map(center=[40, -100], zoom=4, height=600)\n",
    "Map"
   ]
  },
  {
   "cell_type": "code",
   "execution_count": null,
   "id": "fe14d483",
   "metadata": {},
   "outputs": [],
   "source": [
    "Map.save('folium.html')"
   ]
  },
  {
   "cell_type": "markdown",
   "id": "9ab9eb48",
   "metadata": {},
   "source": [
    "### Plotly"
   ]
  },
  {
   "cell_type": "code",
   "execution_count": null,
   "id": "e22c6392",
   "metadata": {},
   "outputs": [],
   "source": [
    "import geemap.plotlymap as geemap"
   ]
  },
  {
   "cell_type": "code",
   "execution_count": null,
   "id": "1f8498ce",
   "metadata": {},
   "outputs": [],
   "source": [
    "Map = geemap.Map()\n",
    "Map"
   ]
  },
  {
   "cell_type": "markdown",
   "id": "ddacd797",
   "metadata": {},
   "source": [
    "```{warning}\n",
    "\n",
    "If you run into an error saying `FigureWidget - 'mapbox._derived' Value Error` ([source](https://github.com/plotly/plotly.py/issues/2570#issuecomment-738735816)), uncomment the following line and run it.\n",
    "```"
   ]
  },
  {
   "cell_type": "code",
   "execution_count": null,
   "id": "aee2db26",
   "metadata": {},
   "outputs": [],
   "source": [
    "# geemap.fix_widget_error()"
   ]
  },
  {
   "cell_type": "markdown",
   "id": "b866c13c",
   "metadata": {},
   "source": [
    "### Pydeck"
   ]
  },
  {
   "cell_type": "code",
   "execution_count": null,
   "id": "59d9df21",
   "metadata": {},
   "outputs": [],
   "source": [
    "import geemap.deck as geemap"
   ]
  },
  {
   "cell_type": "code",
   "execution_count": null,
   "id": "c9ab1cfd",
   "metadata": {},
   "outputs": [],
   "source": [
    "Map = geemap.Map()\n",
    "Map"
   ]
  },
  {
   "cell_type": "markdown",
   "id": "e5804853",
   "metadata": {},
   "source": [
    "### KeplerGL"
   ]
  },
  {
   "cell_type": "code",
   "execution_count": null,
   "id": "bd17311a",
   "metadata": {},
   "outputs": [],
   "source": [
    "import geemap.kepler as geemap"
   ]
  },
  {
   "cell_type": "code",
   "execution_count": null,
   "id": "481d1a76",
   "metadata": {},
   "outputs": [],
   "source": [
    "Map = geemap.Map()\n",
    "Map"
   ]
  },
  {
   "cell_type": "markdown",
   "id": "75ee142c",
   "metadata": {},
   "source": [
    "### Heremap"
   ]
  },
  {
   "cell_type": "code",
   "execution_count": null,
   "id": "eb9e198d",
   "metadata": {},
   "outputs": [],
   "source": [
    "import os\n",
    "import geemap.heremap as geemap"
   ]
  },
  {
   "cell_type": "code",
   "execution_count": null,
   "id": "353c81b0",
   "metadata": {},
   "outputs": [],
   "source": [
    "api_key = 'YOUR-HEREMAPS_API_KEY'"
   ]
  },
  {
   "cell_type": "code",
   "execution_count": null,
   "id": "8800c643",
   "metadata": {},
   "outputs": [],
   "source": [
    "Map = geemap.Map(api_key)\n",
    "Map"
   ]
  },
  {
   "cell_type": "markdown",
   "id": "9b214584",
   "metadata": {},
   "source": [
    "## Adding basemaps\n",
    "\n",
    "### Built-in basemaps"
   ]
  },
  {
   "cell_type": "code",
   "execution_count": null,
   "id": "6e88fbea",
   "metadata": {},
   "outputs": [],
   "source": [
    "import geemap"
   ]
  },
  {
   "cell_type": "code",
   "execution_count": null,
   "id": "736800a0",
   "metadata": {},
   "outputs": [],
   "source": [
    "Map = geemap.Map(basemap='HYBRID')\n",
    "Map"
   ]
  },
  {
   "cell_type": "code",
   "execution_count": null,
   "id": "e3323aa3",
   "metadata": {},
   "outputs": [],
   "source": [
    "Map.add_basemap('OpenTopoMap')"
   ]
  },
  {
   "cell_type": "code",
   "execution_count": null,
   "id": "551ab52f",
   "metadata": {},
   "outputs": [],
   "source": [
    "for basemap in geemap.basemaps.keys():\n",
    "    print(basemap)"
   ]
  },
  {
   "cell_type": "code",
   "execution_count": null,
   "id": "9203599a",
   "metadata": {},
   "outputs": [],
   "source": [
    "len(geemap.basemaps)"
   ]
  },
  {
   "cell_type": "markdown",
   "id": "189e219f",
   "metadata": {},
   "source": [
    "### XYZ tiles"
   ]
  },
  {
   "cell_type": "code",
   "execution_count": null,
   "id": "c18e534c",
   "metadata": {},
   "outputs": [],
   "source": [
    "Map = geemap.Map()\n",
    "Map.add_tile_layer(\n",
    "    url=\"https://mt1.google.com/vt/lyrs=p&x={x}&y={y}&z={z}\",\n",
    "    name=\"Google Terrain\",\n",
    "    attribution=\"Google\",\n",
    ")\n",
    "Map"
   ]
  },
  {
   "cell_type": "markdown",
   "id": "823119a5",
   "metadata": {},
   "source": [
    "### WMS tiles"
   ]
  },
  {
   "cell_type": "code",
   "execution_count": null,
   "id": "deeb996a",
   "metadata": {},
   "outputs": [],
   "source": [
    "Map = geemap.Map(center=[40, -100], zoom=4)\n",
    "url = 'https://www.mrlc.gov/geoserver/mrlc_display/NLCD_2019_Land_Cover_L48/wms?'\n",
    "Map.add_wms_layer(\n",
    "    url=url,\n",
    "    layers='NLCD_2019_Land_Cover_L48',\n",
    "    name='NLCD 2019',\n",
    "    format='image/png',\n",
    "    attribution='MRLC',\n",
    "    transparent=True,\n",
    ")\n",
    "Map"
   ]
  },
  {
   "cell_type": "markdown",
   "id": "657ab169",
   "metadata": {},
   "source": [
    "### Planet basemaps"
   ]
  },
  {
   "cell_type": "code",
   "execution_count": null,
   "id": "a5627508",
   "metadata": {},
   "outputs": [],
   "source": [
    "import os\n",
    "\n",
    "os.environ[\"PLANET_API_KEY\"] = \"YOUR_API_KEY\""
   ]
  },
  {
   "cell_type": "code",
   "execution_count": null,
   "id": "b2344f89",
   "metadata": {},
   "outputs": [],
   "source": [
    "quarterly_tiles = geemap.planet_quarterly_tiles()\n",
    "for tile in quarterly_tiles:\n",
    "    print(tile)"
   ]
  },
  {
   "cell_type": "code",
   "execution_count": null,
   "id": "7cae38b6",
   "metadata": {},
   "outputs": [],
   "source": [
    "monthly_tiles = geemap.planet_monthly_tiles()\n",
    "for tile in monthly_tiles:\n",
    "    print(tile)"
   ]
  },
  {
   "cell_type": "code",
   "execution_count": null,
   "id": "5903c920",
   "metadata": {},
   "outputs": [],
   "source": [
    "m = geemap.Map()\n",
    "m.add_planet_by_month(year=2020, month=8)\n",
    "m"
   ]
  },
  {
   "cell_type": "code",
   "execution_count": null,
   "id": "3c1cb860",
   "metadata": {},
   "outputs": [],
   "source": [
    "m = geemap.Map()\n",
    "m.add_planet_by_quarter(year=2019, quarter=2)\n",
    "m"
   ]
  },
  {
   "cell_type": "markdown",
   "id": "c71c6a81",
   "metadata": {},
   "source": [
    "### Basemap GUI"
   ]
  },
  {
   "cell_type": "code",
   "execution_count": null,
   "id": "1550e764",
   "metadata": {},
   "outputs": [],
   "source": [
    "import os\n",
    "\n",
    "os.environ[\"PLANET_API_KEY\"] = \"YOUR_API_KEY\""
   ]
  },
  {
   "cell_type": "code",
   "execution_count": null,
   "id": "7e919471",
   "metadata": {},
   "outputs": [],
   "source": [
    "Map = geemap.Map()\n",
    "Map"
   ]
  },
  {
   "cell_type": "markdown",
   "id": "9d16df37",
   "metadata": {},
   "source": [
    "## Summary\n",
    "\n",
    "## References\n",
    "\n",
    "- https://geemap.org/notebooks/01_geemap_intro/\n",
    "- https://geemap.org/notebooks/02_using_basemaps/\n",
    "- https://geemap.org/notebooks/29_pydeck/\n",
    "- https://geemap.org/notebooks/77_planet_imagery/\n",
    "- https://geemap.org/notebooks/92_plotly/\n",
    "- https://geemap.org/notebooks/94_heremap/\n",
    "- https://geemap.org/notebooks/106_kepler_gl/\n",
    "- https://geemap.org/notebooks/107_pydeck/"
   ]
  }
 ],
 "metadata": {
  "jupytext": {
   "text_representation": {
    "extension": ".md",
    "format_name": "myst",
    "format_version": 0.13,
    "jupytext_version": "1.11.5"
   }
  },
  "kernelspec": {
   "display_name": "Python 3",
   "language": "python",
   "name": "python3"
  },
  "source_map": [
   12,
   34,
   36,
   42,
   46,
   50,
   54,
   59,
   64,
   69,
   71,
   75,
   79,
   84,
   86,
   90,
   94,
   97,
   104,
   106,
   110,
   114,
   117,
   121,
   125,
   128,
   132,
   137,
   141,
   146,
   152,
   156,
   161,
   165,
   170,
   172,
   176,
   184,
   188,
   200,
   204,
   210,
   216,
   222,
   228,
   232,
   236,
   242,
   247
  ]
 },
 "nbformat": 4,
 "nbformat_minor": 5
}