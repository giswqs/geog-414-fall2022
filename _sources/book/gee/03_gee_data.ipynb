{
 "cells": [
  {
   "cell_type": "markdown",
   "id": "01a84a08",
   "metadata": {},
   "source": [
    "# Using Earth Engine Data\n",
    "\n",
    "```{contents}\n",
    ":local:\n",
    ":depth: 3\n",
    "```\n",
    "\n",
    "## Introduction"
   ]
  },
  {
   "cell_type": "markdown",
   "id": "537f0600",
   "metadata": {},
   "source": [
    "## Technical requirements\n",
    "\n",
    "```bash\n",
    "conda create -n gee python\n",
    "conda activate gee\n",
    "conda install -c conda-forge mamba\n",
    "mamba install -c conda-forge geemap pygis\n",
    "```\n",
    "\n",
    "```bash\n",
    "jupyter lab\n",
    "```\n",
    "\n",
    "[![Open in Colab](https://colab.research.google.com/assets/colab-badge.svg)](https://colab.research.google.com/github/giswqs/geebook/blob/master/chapters/03_gee_data.ipynb)"
   ]
  },
  {
   "cell_type": "code",
   "execution_count": null,
   "id": "44acf16b",
   "metadata": {},
   "outputs": [],
   "source": [
    "# pip install pygis"
   ]
  },
  {
   "cell_type": "code",
   "execution_count": null,
   "id": "d7cbaa03",
   "metadata": {},
   "outputs": [],
   "source": [
    "import ee\n",
    "import geemap"
   ]
  },
  {
   "cell_type": "code",
   "execution_count": null,
   "id": "9f5c8a90",
   "metadata": {},
   "outputs": [],
   "source": [
    "geemap.ee_initialize()"
   ]
  },
  {
   "cell_type": "markdown",
   "id": "addd3f6e",
   "metadata": {},
   "source": [
    "## Earth Engine data types\n",
    "\n",
    "### Image\n",
    "\n",
    "#### Loading Earth Engine images"
   ]
  },
  {
   "cell_type": "code",
   "execution_count": null,
   "id": "933edc38",
   "metadata": {},
   "outputs": [],
   "source": [
    "image = ee.Image('USGS/SRTMGL1_003')"
   ]
  },
  {
   "cell_type": "markdown",
   "id": "d2c1a9c2",
   "metadata": {},
   "source": [
    "#### Visualizing Earth Engine images"
   ]
  },
  {
   "cell_type": "code",
   "execution_count": null,
   "id": "ac16ae73",
   "metadata": {},
   "outputs": [],
   "source": [
    "Map = geemap.Map(center=[21.79, 70.87], zoom=3)\n",
    "image = ee.Image('USGS/SRTMGL1_003')\n",
    "vis_params = {\n",
    "    'min': 0,\n",
    "    'max': 6000,\n",
    "    'palette': ['006633', 'E5FFCC', '662A00', 'D8D8D8', 'F5F5F5'],\n",
    "}\n",
    "Map.addLayer(image, vis_params, 'SRTM')\n",
    "Map"
   ]
  },
  {
   "cell_type": "markdown",
   "id": "6c53ec25",
   "metadata": {},
   "source": [
    "#### Loading Cloud GeoTIFFs"
   ]
  },
  {
   "cell_type": "code",
   "execution_count": null,
   "id": "4229ff98",
   "metadata": {},
   "outputs": [],
   "source": [
    "Map = geemap.Map()\n",
    "URL = 'https://bit.ly/3aSZ0fH'\n",
    "image = geemap.load_GeoTIFF(URL)\n",
    "vis = {\n",
    "    \"min\": 3000,\n",
    "    \"max\": 13500,\n",
    "    \"bands\": [\"B3\", \"B2\", \"B1\"],\n",
    "}\n",
    "Map.addLayer(image, vis, 'Cloud GeoTIFF')\n",
    "Map.centerObject(image)\n",
    "Map"
   ]
  },
  {
   "cell_type": "code",
   "execution_count": null,
   "id": "15d867d6",
   "metadata": {},
   "outputs": [],
   "source": [
    "B3 = 'gs://gcp-public-data-landsat/LC08/01/044/034/LC08_L1TP_044034_20131228_20170307_01_T1/LC08_L1TP_044034_20131228_20170307_01_T1_B3.TIF'\n",
    "B4 = 'gs://gcp-public-data-landsat/LC08/01/044/034/LC08_L1TP_044034_20131228_20170307_01_T1/LC08_L1TP_044034_20131228_20170307_01_T1_B4.TIF'\n",
    "B5 = 'gs://gcp-public-data-landsat/LC08/01/044/034/LC08_L1TP_044034_20131228_20170307_01_T1/LC08_L1TP_044034_20131228_20170307_01_T1_B5.TIF'"
   ]
  },
  {
   "cell_type": "code",
   "execution_count": null,
   "id": "2b24d57e",
   "metadata": {},
   "outputs": [],
   "source": [
    "URLs = [B3, B4, B5]\n",
    "collection = geemap.load_GeoTIFFs(URLs)\n",
    "image = collection.toBands().rename(['Green', 'Red', 'NIR']).selfMask()"
   ]
  },
  {
   "cell_type": "code",
   "execution_count": null,
   "id": "8fd9e81e",
   "metadata": {},
   "outputs": [],
   "source": [
    "Map = geemap.Map()\n",
    "vis = {'bands': ['NIR', 'Red', 'Green'], 'min': 100, 'max': 12000, 'gamma': 0.8}\n",
    "Map.addLayer(image, vis, 'Image')\n",
    "Map.centerObject(image.geometry(), 8)\n",
    "Map"
   ]
  },
  {
   "cell_type": "markdown",
   "id": "2337b828",
   "metadata": {},
   "source": [
    "### ImageCollection\n",
    "\n",
    "#### Loading image collections"
   ]
  },
  {
   "cell_type": "code",
   "execution_count": null,
   "id": "c0572fd5",
   "metadata": {},
   "outputs": [],
   "source": [
    "collection = ee.ImageCollection('COPERNICUS/S2_SR')"
   ]
  },
  {
   "cell_type": "markdown",
   "id": "a0020d99",
   "metadata": {},
   "source": [
    "#### Visualizing image collections"
   ]
  },
  {
   "cell_type": "code",
   "execution_count": null,
   "id": "3248691d",
   "metadata": {},
   "outputs": [],
   "source": [
    "Map = geemap.Map()\n",
    "collection = ee.ImageCollection('COPERNICUS/S2_SR')\n",
    "image = collection.median()\n",
    "\n",
    "vis = {\n",
    "    'min': 0.0,\n",
    "    'max': 3000,\n",
    "    'bands': ['B4', 'B3', 'B2'],\n",
    "}\n",
    "\n",
    "Map.setCenter(83.277, 17.7009, 12)\n",
    "Map.addLayer(image, vis, 'Sentinel-2')\n",
    "Map"
   ]
  },
  {
   "cell_type": "markdown",
   "id": "09886bd6",
   "metadata": {},
   "source": [
    "#### Filtering image collections"
   ]
  },
  {
   "cell_type": "code",
   "execution_count": null,
   "id": "6f4e1f18",
   "metadata": {},
   "outputs": [],
   "source": [
    "Map = geemap.Map()\n",
    "collection = (\n",
    "    ee.ImageCollection('COPERNICUS/S2_SR')\n",
    "    .filterDate('2021-01-01', '2022-01-01')\n",
    "    .filter(ee.Filter.lt('CLOUDY_PIXEL_PERCENTAGE', 5))\n",
    ")\n",
    "image = collection.median()\n",
    "\n",
    "vis = {\n",
    "    'min': 0.0,\n",
    "    'max': 3000,\n",
    "    'bands': ['B4', 'B3', 'B2'],\n",
    "}\n",
    "\n",
    "Map.setCenter(83.277, 17.7009, 12)\n",
    "Map.addLayer(image, vis, 'Sentinel-2')\n",
    "Map"
   ]
  },
  {
   "cell_type": "markdown",
   "id": "ead2dbe4",
   "metadata": {},
   "source": [
    "### Geometry\n",
    "\n",
    "#### Geometry types\n",
    "\n",
    "#### Creating Geometry objects"
   ]
  },
  {
   "cell_type": "code",
   "execution_count": null,
   "id": "a92efc8d",
   "metadata": {},
   "outputs": [],
   "source": [
    "Map = geemap.Map()\n",
    "\n",
    "point = ee.Geometry.Point([1.5, 1.5])\n",
    "\n",
    "lineString = ee.Geometry.LineString([[-35, -10], [35, -10], [35, 10], [-35, 10]])\n",
    "\n",
    "linearRing = ee.Geometry.LinearRing(\n",
    "    [[-35, -10], [35, -10], [35, 10], [-35, 10], [-35, -10]]\n",
    ")\n",
    "\n",
    "rectangle = ee.Geometry.Rectangle([-40, -20, 40, 20])\n",
    "\n",
    "polygon = ee.Geometry.Polygon([[[-5, 40], [65, 40], [65, 60], [-5, 60], [-5, 60]]])\n",
    "\n",
    "Map.addLayer(point, {}, 'Point')\n",
    "Map.addLayer(lineString, {}, 'LineString')\n",
    "Map.addLayer(linearRing, {}, 'LinearRing')\n",
    "Map.addLayer(rectangle, {}, 'Rectangle')\n",
    "Map.addLayer(polygon, {}, 'Polygon')\n",
    "Map"
   ]
  },
  {
   "cell_type": "code",
   "execution_count": null,
   "id": "94c93b15",
   "metadata": {},
   "outputs": [],
   "source": [
    "Map = geemap.Map()\n",
    "\n",
    "point = ee.Geometry.Point([1.5, 1.5])\n",
    "\n",
    "lineString = ee.Geometry.LineString(\n",
    "    [[-35, -10], [35, -10], [35, 10], [-35, 10]], None, False\n",
    ")\n",
    "\n",
    "linearRing = ee.Geometry.LinearRing(\n",
    "    [[-35, -10], [35, -10], [35, 10], [-35, 10], [-35, -10]], None, False\n",
    ")\n",
    "\n",
    "rectangle = ee.Geometry.Rectangle([-40, -20, 40, 20], None, False)\n",
    "\n",
    "polygon = ee.Geometry.Polygon(\n",
    "    [[[-5, 40], [65, 40], [65, 60], [-5, 60], [-5, 60]]], None, False\n",
    ")\n",
    "\n",
    "Map.addLayer(point, {}, 'Point')\n",
    "Map.addLayer(lineString, {}, 'LineString')\n",
    "Map.addLayer(linearRing, {}, 'LinearRing')\n",
    "Map.addLayer(rectangle, {}, 'Rectangle')\n",
    "Map.addLayer(polygon, {}, 'Polygon')\n",
    "Map"
   ]
  },
  {
   "cell_type": "markdown",
   "id": "b36295ad",
   "metadata": {},
   "source": [
    "#### Using drawing tools"
   ]
  },
  {
   "cell_type": "code",
   "execution_count": null,
   "id": "83cf1681",
   "metadata": {},
   "outputs": [],
   "source": [
    "if Map.user_roi is not None:\n",
    "    print(Map.user_roi.getInfo())"
   ]
  },
  {
   "cell_type": "markdown",
   "id": "f36e1bbc",
   "metadata": {},
   "source": [
    "### Feature\n",
    "\n",
    "#### Creating Feature objects"
   ]
  },
  {
   "cell_type": "code",
   "execution_count": null,
   "id": "62078d8b",
   "metadata": {},
   "outputs": [],
   "source": [
    "# Create an ee.Geometry.\n",
    "polygon = ee.Geometry.Polygon(\n",
    "    [[[-35, -10], [35, -10], [35, 10], [-35, 10], [-35, -10]]], None, False\n",
    ")\n",
    "\n",
    "# Create a Feature from the Geometry.\n",
    "polyFeature = ee.Feature(polygon, {'foo': 42, 'bar': 'tart'})"
   ]
  },
  {
   "cell_type": "code",
   "execution_count": null,
   "id": "55476dd3",
   "metadata": {},
   "outputs": [],
   "source": [
    "polyFeature.getInfo()"
   ]
  },
  {
   "cell_type": "code",
   "execution_count": null,
   "id": "b90fedd4",
   "metadata": {},
   "outputs": [],
   "source": [
    "Map = geemap.Map()\n",
    "Map.addLayer(polyFeature, {}, 'feature')\n",
    "Map"
   ]
  },
  {
   "cell_type": "code",
   "execution_count": null,
   "id": "11a942b9",
   "metadata": {},
   "outputs": [],
   "source": [
    "# Create a dictionary of properties, some of which may be computed values.\n",
    "props = {'foo': ee.Number(8).add(88), 'bar': 'nihao'}\n",
    "\n",
    "# Create a None geometry feature with the dictionary of properties.\n",
    "nowhereFeature = ee.Feature(None, props)\n",
    "\n",
    "nowhereFeature.getInfo()"
   ]
  },
  {
   "cell_type": "markdown",
   "id": "1e48a47e",
   "metadata": {},
   "source": [
    "#### Setting Feature properties"
   ]
  },
  {
   "cell_type": "code",
   "execution_count": null,
   "id": "61dc192f",
   "metadata": {},
   "outputs": [],
   "source": [
    "# Make a feature and set some properties.\n",
    "feature = (\n",
    "    ee.Feature(ee.Geometry.Point([-122.22599, 37.17605]))\n",
    "    .set('genus', 'Sequoia')\n",
    "    .set('species', 'sempervirens')\n",
    ")\n",
    "\n",
    "# Overwrite the old properties with a new dictionary.\n",
    "newDict = {'genus': 'Brachyramphus', 'presence': 1, 'species': 'marmoratus'}\n",
    "feature = feature.set(newDict)\n",
    "\n",
    "# Check the result.\n",
    "feature.getInfo()"
   ]
  },
  {
   "cell_type": "markdown",
   "id": "9f17c19b",
   "metadata": {},
   "source": [
    "#### Getting Feature properties"
   ]
  },
  {
   "cell_type": "code",
   "execution_count": null,
   "id": "934f5c02",
   "metadata": {},
   "outputs": [],
   "source": [
    "prop = feature.get('species')\n",
    "prop.getInfo()"
   ]
  },
  {
   "cell_type": "code",
   "execution_count": null,
   "id": "90dc3a4c",
   "metadata": {},
   "outputs": [],
   "source": [
    "props = feature.toDictionary()\n",
    "props.getInfo()"
   ]
  },
  {
   "cell_type": "markdown",
   "id": "11ae05d2",
   "metadata": {},
   "source": [
    "### FeatureCollection\n",
    "\n",
    "#### Loading feature collections"
   ]
  },
  {
   "cell_type": "code",
   "execution_count": null,
   "id": "7d1cab39",
   "metadata": {},
   "outputs": [],
   "source": [
    "Map = geemap.Map()\n",
    "fc = ee.FeatureCollection('TIGER/2016/Roads')\n",
    "Map.setCenter(-73.9596, 40.7688, 12)\n",
    "Map.addLayer(fc, {}, 'Census roads')\n",
    "Map"
   ]
  },
  {
   "cell_type": "markdown",
   "id": "4c058bc2",
   "metadata": {},
   "source": [
    "#### Creating feature collections"
   ]
  },
  {
   "cell_type": "code",
   "execution_count": null,
   "id": "8b670b1b",
   "metadata": {},
   "outputs": [],
   "source": [
    "# Make a list of Features.\n",
    "features = [\n",
    "    ee.Feature(ee.Geometry.Rectangle(30.01, 59.80, 30.59, 60.15), {'name': 'Voronoi'}),\n",
    "    ee.Feature(ee.Geometry.Point(-73.96, 40.781), {'name': 'Thiessen'}),\n",
    "    ee.Feature(ee.Geometry.Point(6.4806, 50.8012), {'name': 'Dirichlet'}),\n",
    "]\n",
    "\n",
    "# Create a FeatureCollection from the list and print it.\n",
    "fromList = ee.FeatureCollection(features)"
   ]
  },
  {
   "cell_type": "code",
   "execution_count": null,
   "id": "fbb62caf",
   "metadata": {},
   "outputs": [],
   "source": [
    "fromList.getInfo()"
   ]
  },
  {
   "cell_type": "markdown",
   "id": "342ffdc4",
   "metadata": {},
   "source": [
    "#### Filtering feature collections"
   ]
  },
  {
   "cell_type": "code",
   "execution_count": null,
   "id": "c30ff9bd",
   "metadata": {},
   "outputs": [],
   "source": [
    "Map = geemap.Map()\n",
    "states = ee.FeatureCollection('TIGER/2018/States')\n",
    "feat = states.filter(ee.Filter.eq('NAME', 'Texas'))\n",
    "Map.addLayer(feat, {}, 'Texas')\n",
    "Map.centerObject(feat)\n",
    "Map"
   ]
  },
  {
   "cell_type": "code",
   "execution_count": null,
   "id": "29e9e500",
   "metadata": {},
   "outputs": [],
   "source": [
    "texas = feat.first()\n",
    "texas.toDictionary().getInfo()"
   ]
  },
  {
   "cell_type": "code",
   "execution_count": null,
   "id": "dfd54348",
   "metadata": {},
   "outputs": [],
   "source": [
    "Map = geemap.Map()\n",
    "states = ee.FeatureCollection('TIGER/2018/States')\n",
    "fc = states.filter(ee.Filter.inList('NAME', ['California', 'Oregon', 'Washington']))\n",
    "Map.addLayer(fc, {}, 'West Coast')\n",
    "Map.centerObject(fc)\n",
    "Map"
   ]
  },
  {
   "cell_type": "code",
   "execution_count": null,
   "id": "498bdeee",
   "metadata": {},
   "outputs": [],
   "source": [
    "region = Map.user_roi\n",
    "if region is None:\n",
    "    region = ee.Geometry.BBox(-88.40, 29.88, -77.90, 35.39)\n",
    "\n",
    "fc = ee.FeatureCollection('TIGER/2018/States').filterBounds(region)\n",
    "Map.addLayer(fc, {}, 'Southeastern U.S.')\n",
    "Map.centerObject(fc)"
   ]
  },
  {
   "cell_type": "markdown",
   "id": "f8c0e240",
   "metadata": {},
   "source": [
    "#### Visualizing feature collections"
   ]
  },
  {
   "cell_type": "code",
   "execution_count": null,
   "id": "8643eae0",
   "metadata": {},
   "outputs": [],
   "source": [
    "Map = geemap.Map(center=[40, -100], zoom=4)\n",
    "states = ee.FeatureCollection(\"TIGER/2018/States\")\n",
    "Map.addLayer(states, {}, \"US States\")\n",
    "Map"
   ]
  },
  {
   "cell_type": "code",
   "execution_count": null,
   "id": "5b3b79d3",
   "metadata": {},
   "outputs": [],
   "source": [
    "Map = geemap.Map(center=[40, -100], zoom=4)\n",
    "states = ee.FeatureCollection(\"TIGER/2018/States\")\n",
    "image = ee.Image().paint(states, 0, 3)\n",
    "Map.addLayer(image, {'palette': 'red'}, \"US States\")\n",
    "Map"
   ]
  },
  {
   "cell_type": "code",
   "execution_count": null,
   "id": "f6f4bd55",
   "metadata": {},
   "outputs": [],
   "source": [
    "Map = geemap.Map(center=[40, -100], zoom=4)\n",
    "states = ee.FeatureCollection(\"TIGER/2018/States\")\n",
    "style = {'color': '0000ffff', 'width': 2, 'lineType': 'solid', 'fillColor': 'FF000080'}\n",
    "Map.addLayer(states.style(**style), {}, \"US States\")\n",
    "Map"
   ]
  },
  {
   "cell_type": "code",
   "execution_count": null,
   "id": "fa7b35d3",
   "metadata": {},
   "outputs": [],
   "source": [
    "Map = geemap.Map(center=[40, -100], zoom=4)\n",
    "states = ee.FeatureCollection(\"TIGER/2018/States\")\n",
    "vis_params = {\n",
    "    'color': '000000',\n",
    "    'colorOpacity': 1,\n",
    "    'pointSize': 3,\n",
    "    'pointShape': 'circle',\n",
    "    'width': 2,\n",
    "    'lineType': 'solid',\n",
    "    'fillColorOpacity': 0.66,\n",
    "}\n",
    "palette = ['006633', 'E5FFCC', '662A00', 'D8D8D8', 'F5F5F5']\n",
    "Map.add_styled_vector(\n",
    "    states, column=\"NAME\", palette=palette, layer_name=\"Styled vector\", **vis_params\n",
    ")\n",
    "Map"
   ]
  },
  {
   "cell_type": "markdown",
   "id": "1ea679c2",
   "metadata": {},
   "source": [
    "#### Styling by attribute"
   ]
  },
  {
   "cell_type": "code",
   "execution_count": null,
   "id": "d5d6fd97",
   "metadata": {},
   "outputs": [],
   "source": [
    "Map = geemap.Map(center=[28.00142, -81.7424], zoom=13)\n",
    "Map.add_basemap('HYBRID')"
   ]
  },
  {
   "cell_type": "code",
   "execution_count": null,
   "id": "0a7307d1",
   "metadata": {},
   "outputs": [],
   "source": [
    "types = [\n",
    "    \"Freshwater Forested/Shrub Wetland\",\n",
    "    \"Freshwater Emergent Wetland\",\n",
    "    \"Freshwater Pond\",\n",
    "    \"Estuarine and Marine Wetland\",\n",
    "    \"Riverine\",\n",
    "    \"Lake\",\n",
    "    \"Estuarine and Marine Deepwater\",\n",
    "    \"Other\",\n",
    "]\n",
    "\n",
    "colors = [\n",
    "    \"#008837\",\n",
    "    \"#7FC31C\",\n",
    "    \"#688CC0\",\n",
    "    \"#66C2A5\",\n",
    "    \"#0190BF\",\n",
    "    \"#13007C\",\n",
    "    \"#007C88\",\n",
    "    \"#B28653\",\n",
    "]\n",
    "\n",
    "fillColor = [c + \"A8\" for c in colors]"
   ]
  },
  {
   "cell_type": "code",
   "execution_count": null,
   "id": "53e9ccc2",
   "metadata": {},
   "outputs": [],
   "source": [
    "fc = ee.FeatureCollection(\"projects/sat-io/open-datasets/NWI/wetlands/FL_Wetlands\")\n",
    "styled_fc = geemap.ee_vector_style(\n",
    "    fc, column='WETLAND_TY', labels=types, fillColor=fillColor, color='00000000'\n",
    ")"
   ]
  },
  {
   "cell_type": "code",
   "execution_count": null,
   "id": "3d1f3634",
   "metadata": {},
   "outputs": [],
   "source": [
    "Map.addLayer(styled_fc, {}, 'NWI')\n",
    "Map.add_legend(title='Wetland Type', labels=types, colors=colors)\n",
    "Map"
   ]
  },
  {
   "cell_type": "code",
   "execution_count": null,
   "id": "95648576",
   "metadata": {},
   "outputs": [],
   "source": [
    "fuels = [\n",
    "    'Coal',\n",
    "    'Oil',\n",
    "    'Gas',\n",
    "    'Hydro',\n",
    "    'Nuclear',\n",
    "    'Solar',\n",
    "    'Waste',\n",
    "    'Wind',\n",
    "    'Geothermal',\n",
    "    'Biomass',\n",
    "]\n",
    "colors = [\n",
    "    '000000',\n",
    "    '593704',\n",
    "    'BC80BD',\n",
    "    '0565A6',\n",
    "    'E31A1C',\n",
    "    'FF7F00',\n",
    "    '6A3D9A',\n",
    "    '5CA2D1',\n",
    "    'FDBF6F',\n",
    "    '229A00',\n",
    "]"
   ]
  },
  {
   "cell_type": "code",
   "execution_count": null,
   "id": "2e206201",
   "metadata": {},
   "outputs": [],
   "source": [
    "fc = ee.FeatureCollection(\"WRI/GPPD/power_plants\").filter(\n",
    "    ee.Filter.inList('fuel1', fuels)\n",
    ")\n",
    "styled_fc = geemap.ee_vector_style(fc, column=\"fuel1\", labels=fuels, color=colors)"
   ]
  },
  {
   "cell_type": "code",
   "execution_count": null,
   "id": "01054a11",
   "metadata": {},
   "outputs": [],
   "source": [
    "Map = geemap.Map(center=[40, -100], zoom=4)\n",
    "Map.addLayer(styled_fc, {}, 'Power Plants')\n",
    "Map.add_legend(title=\"Power Plant Fuel Type\", labels=fuels, colors=colors)\n",
    "Map"
   ]
  },
  {
   "cell_type": "code",
   "execution_count": null,
   "id": "8c3c4313",
   "metadata": {},
   "outputs": [],
   "source": [
    "types = ['I', 'U', 'S', 'M', 'C', 'O']\n",
    "labels = ['Interstate', 'U.S.', 'State recognized', 'Common Name', 'County', 'Other']\n",
    "colors = ['E31A1C', 'FF7F00', '6A3D9A', '000000', 'FDBF6F', '229A00']\n",
    "width = [8, 5, 4, 2, 1, 1]"
   ]
  },
  {
   "cell_type": "code",
   "execution_count": null,
   "id": "c86b9c3c",
   "metadata": {},
   "outputs": [],
   "source": [
    "fc = ee.FeatureCollection('TIGER/2016/Roads')\n",
    "styled_fc = geemap.ee_vector_style(\n",
    "    fc, column='rttyp', labels=types, color=colors, width=width\n",
    ")"
   ]
  },
  {
   "cell_type": "code",
   "execution_count": null,
   "id": "db51fa6e",
   "metadata": {},
   "outputs": [],
   "source": [
    "Map = geemap.Map(center=[40.7424, -73.9724], zoom=13)\n",
    "Map.addLayer(styled_fc, {}, 'Census Roads')\n",
    "Map.add_legend(title='Route Type', labels=labels, colors=colors)\n",
    "Map"
   ]
  },
  {
   "cell_type": "markdown",
   "id": "51ce8ca5",
   "metadata": {},
   "source": [
    "## Earth Engine Data Catalog\n",
    "\n",
    "### Searching for datasets"
   ]
  },
  {
   "cell_type": "code",
   "execution_count": null,
   "id": "f19a7c5d",
   "metadata": {},
   "outputs": [],
   "source": [
    "dataset_xyz = ee.Image('USGS/SRTMGL1_003')\n",
    "Map.addLayer(dataset_xyz, {}, \"USGS/SRTMGL1_003\")"
   ]
  },
  {
   "cell_type": "code",
   "execution_count": null,
   "id": "16fd4450",
   "metadata": {},
   "outputs": [],
   "source": [
    "Map = geemap.Map()\n",
    "dem = ee.Image('USGS/SRTMGL1_003')\n",
    "vis_params = {\n",
    "    'min': 0,\n",
    "    'max': 4000,\n",
    "    'palette': ['006633', 'E5FFCC', '662A00', 'D8D8D8', 'F5F5F5'],\n",
    "}\n",
    "Map.addLayer(dem, vis_params, 'SRTM DEM')\n",
    "Map"
   ]
  },
  {
   "cell_type": "markdown",
   "id": "02af5181",
   "metadata": {},
   "source": [
    "### Using the datasets module"
   ]
  },
  {
   "cell_type": "code",
   "execution_count": null,
   "id": "62037487",
   "metadata": {},
   "outputs": [],
   "source": [
    "from geemap.datasets import DATA"
   ]
  },
  {
   "cell_type": "code",
   "execution_count": null,
   "id": "9ca82640",
   "metadata": {},
   "outputs": [],
   "source": [
    "Map = geemap.Map(center=[40, -100], zoom=4)\n",
    "dataset = ee.Image(DATA.USGS_GAP_CONUS_2011)\n",
    "Map.addLayer(dataset, {}, 'GAP CONUS')\n",
    "Map"
   ]
  },
  {
   "cell_type": "code",
   "execution_count": null,
   "id": "d6a632e1",
   "metadata": {},
   "outputs": [],
   "source": [
    "from geemap.datasets import get_metadata\n",
    "\n",
    "get_metadata(DATA.USGS_GAP_CONUS_2011)"
   ]
  },
  {
   "cell_type": "markdown",
   "id": "52b970d1",
   "metadata": {},
   "source": [
    "## Getting image metadata"
   ]
  },
  {
   "cell_type": "code",
   "execution_count": null,
   "id": "cdde0639",
   "metadata": {},
   "outputs": [],
   "source": [
    "image = ee.Image('LANDSAT/LC09/C02/T1_L2/LC09_044034_20220503')"
   ]
  },
  {
   "cell_type": "code",
   "execution_count": null,
   "id": "cbd4b695",
   "metadata": {},
   "outputs": [],
   "source": [
    "image.bandNames().getInfo()"
   ]
  },
  {
   "cell_type": "code",
   "execution_count": null,
   "id": "d091c784",
   "metadata": {},
   "outputs": [],
   "source": [
    "image.select('SR_B1').projection().getInfo()"
   ]
  },
  {
   "cell_type": "code",
   "execution_count": null,
   "id": "84d46b2e",
   "metadata": {},
   "outputs": [],
   "source": [
    "image.select('SR_B1').projection().nominalScale().getInfo()"
   ]
  },
  {
   "cell_type": "code",
   "execution_count": null,
   "id": "accff298",
   "metadata": {},
   "outputs": [],
   "source": [
    "image.propertyNames().getInfo()"
   ]
  },
  {
   "cell_type": "code",
   "execution_count": null,
   "id": "b7e1ef88",
   "metadata": {},
   "outputs": [],
   "source": [
    "image.get('CLOUD_COVER').getInfo()"
   ]
  },
  {
   "cell_type": "code",
   "execution_count": null,
   "id": "89911f62",
   "metadata": {},
   "outputs": [],
   "source": [
    "image.get('DATE_ACQUIRED').getInfo()"
   ]
  },
  {
   "cell_type": "code",
   "execution_count": null,
   "id": "67ef958d",
   "metadata": {},
   "outputs": [],
   "source": [
    "image.get('system:time_start').getInfo()"
   ]
  },
  {
   "cell_type": "code",
   "execution_count": null,
   "id": "03d64320",
   "metadata": {},
   "outputs": [],
   "source": [
    "date = ee.Date(image.get('system:time_start'))\n",
    "date.format('YYYY-MM-dd').getInfo()"
   ]
  },
  {
   "cell_type": "code",
   "execution_count": null,
   "id": "c46c487e",
   "metadata": {},
   "outputs": [],
   "source": [
    "image.toDictionary().getInfo()"
   ]
  },
  {
   "cell_type": "code",
   "execution_count": null,
   "id": "30e5b7a9",
   "metadata": {},
   "outputs": [],
   "source": [
    "props = geemap.image_props(image)\n",
    "props.getInfo()"
   ]
  },
  {
   "cell_type": "markdown",
   "id": "a8bd38e5",
   "metadata": {},
   "source": [
    "## Calculating descriptive statistics"
   ]
  },
  {
   "cell_type": "code",
   "execution_count": null,
   "id": "1234456e",
   "metadata": {},
   "outputs": [],
   "source": [
    "image = ee.Image('LANDSAT/LC09/C02/T1_L2/LC09_044034_20220503')\n",
    "geemap.image_min_value(image).getInfo()"
   ]
  },
  {
   "cell_type": "code",
   "execution_count": null,
   "id": "1eaa4c02",
   "metadata": {},
   "outputs": [],
   "source": [
    "geemap.image_max_value(image).getInfo()"
   ]
  },
  {
   "cell_type": "code",
   "execution_count": null,
   "id": "dd088c5c",
   "metadata": {},
   "outputs": [],
   "source": [
    "geemap.image_mean_value(image).getInfo()"
   ]
  },
  {
   "cell_type": "code",
   "execution_count": null,
   "id": "7f33c6a9",
   "metadata": {},
   "outputs": [],
   "source": [
    "geemap.image_stats(image).getInfo()"
   ]
  },
  {
   "cell_type": "markdown",
   "id": "4a33309f",
   "metadata": {},
   "source": [
    "## Using the inspector tool"
   ]
  },
  {
   "cell_type": "code",
   "execution_count": null,
   "id": "b21e8485",
   "metadata": {},
   "outputs": [],
   "source": [
    "# Create an interactive map\n",
    "Map = geemap.Map(center=(40, -100), zoom=4)\n",
    "\n",
    "# Add Earth Engine datasets\n",
    "dem = ee.Image('USGS/SRTMGL1_003')\n",
    "landsat7 = ee.Image('LANDSAT/LE7_TOA_5YEAR/1999_2003').select(\n",
    "    ['B1', 'B2', 'B3', 'B4', 'B5', 'B7']\n",
    ")\n",
    "states = ee.FeatureCollection(\"TIGER/2018/States\")\n",
    "\n",
    "# Set visualization parameters.\n",
    "vis_params = {\n",
    "    'min': 0,\n",
    "    'max': 4000,\n",
    "    'palette': ['006633', 'E5FFCC', '662A00', 'D8D8D8', 'F5F5F5'],\n",
    "}\n",
    "\n",
    "# Add Earth Engine layers to the map\n",
    "Map.addLayer(dem, vis_params, 'SRTM DEM')\n",
    "Map.addLayer(\n",
    "    landsat7,\n",
    "    {'bands': ['B4', 'B3', 'B2'], 'min': 20, 'max': 200, 'gamma': 2.0},\n",
    "    'Landsat 7',\n",
    ")\n",
    "Map.addLayer(states, {}, \"US States\")\n",
    "\n",
    "# Display the map\n",
    "Map"
   ]
  },
  {
   "cell_type": "markdown",
   "id": "81611b70",
   "metadata": {},
   "source": [
    "## Converting JavaScript to Python\n",
    "\n",
    "### Interactive conversion"
   ]
  },
  {
   "cell_type": "code",
   "execution_count": null,
   "id": "d07fb87d",
   "metadata": {},
   "outputs": [],
   "source": [
    "Map = geemap.Map()\n",
    "Map"
   ]
  },
  {
   "cell_type": "code",
   "execution_count": null,
   "id": "4b161dfd",
   "metadata": {},
   "outputs": [],
   "source": [
    "# Load an image.\n",
    "image = ee.Image('LANDSAT/LC08/C02/T1_TOA/LC08_044034_20140318')\n",
    "\n",
    "# Define the visualization parameters.\n",
    "vizParams = {'bands': ['B5', 'B4', 'B3'], 'min': 0, 'max': 0.5, 'gamma': [0.95, 1.1, 1]}\n",
    "\n",
    "# Center the map and display the image.\n",
    "Map.setCenter(-122.1899, 37.5010, 10)\n",
    "# San Francisco Bay\n",
    "Map.addLayer(image, vizParams, 'False color composite')"
   ]
  },
  {
   "cell_type": "markdown",
   "id": "f634a3d4",
   "metadata": {},
   "source": [
    "### Batch conversion"
   ]
  },
  {
   "cell_type": "code",
   "execution_count": null,
   "id": "8f40b782",
   "metadata": {},
   "outputs": [],
   "source": [
    "snippet = \"\"\"\n",
    "// Load an image.\n",
    "var image = ee.Image('LANDSAT/LC08/C02/T1_TOA/LC08_044034_20140318');\n",
    "\n",
    "// Create an NDWI image, define visualization parameters and display.\n",
    "var ndwi = image.normalizedDifference(['B3', 'B5']);\n",
    "var ndwiViz = {min: 0.5, max: 1, palette: ['00FFFF', '0000FF']};\n",
    "Map.addLayer(ndwi, ndwiViz, 'NDWI');\n",
    "Map.centerObject(image)\n",
    "\"\"\"\n",
    "\n",
    "geemap.js_snippet_to_py(snippet)"
   ]
  },
  {
   "cell_type": "code",
   "execution_count": null,
   "id": "b6f2cce2",
   "metadata": {},
   "outputs": [],
   "source": [
    "import ee\n",
    "import geemap\n",
    "\n",
    "Map = geemap.Map()\n",
    "\n",
    "# Load an image.\n",
    "image = ee.Image('LANDSAT/LC08/C02/T1_TOA/LC08_044034_20140318')\n",
    "\n",
    "# Create an NDWI image, define visualization parameters and display.\n",
    "ndwi = image.normalizedDifference(['B3', 'B5'])\n",
    "ndwiViz = {'min': 0.5, 'max': 1, 'palette': ['00FFFF', '0000FF']}\n",
    "Map.addLayer(ndwi, ndwiViz, 'NDWI')\n",
    "Map.centerObject(image)\n",
    "Map"
   ]
  },
  {
   "cell_type": "code",
   "execution_count": null,
   "id": "84b1f875",
   "metadata": {},
   "outputs": [],
   "source": [
    "import os\n",
    "from geemap.conversion import *\n",
    "\n",
    "# Set the output directory\n",
    "out_dir = os.getcwd()\n",
    "\n",
    "# Set the input directory\n",
    "js_dir = get_js_examples(out_dir)\n",
    "\n",
    "# Convert Earth Engine JavaScripts Python\n",
    "js_to_python_dir(in_dir=js_dir, out_dir=out_dir, use_qgis=False)\n",
    "\n",
    "# Convert Python scripts to Jupyter notebooks\n",
    "py_to_ipynb_dir(js_dir)"
   ]
  },
  {
   "cell_type": "markdown",
   "id": "64b384e4",
   "metadata": {},
   "source": [
    "## Calling JavaScript functions from Python"
   ]
  },
  {
   "cell_type": "code",
   "execution_count": null,
   "id": "a14877ae",
   "metadata": {},
   "outputs": [],
   "source": [
    "pip install oeel"
   ]
  },
  {
   "cell_type": "code",
   "execution_count": null,
   "id": "7aba05fc",
   "metadata": {},
   "outputs": [],
   "source": [
    "import oeel"
   ]
  },
  {
   "cell_type": "code",
   "execution_count": null,
   "id": "cac33444",
   "metadata": {},
   "outputs": [],
   "source": [
    "oeel = geemap.requireJS()"
   ]
  },
  {
   "cell_type": "code",
   "execution_count": null,
   "id": "1f7b5450",
   "metadata": {},
   "outputs": [],
   "source": [
    "ic = ee.ImageCollection(\"COPERNICUS/S2_SR\")\n",
    "\n",
    "icSize = (\n",
    "    oeel.Algorithms.Sentinel2.cloudfree(maxCloud=20, S2Collection=ic)\n",
    "    .filterDate('2020-01-01', '2020-01-02')\n",
    "    .size()\n",
    ")\n",
    "print('Cloud free imagery: ', icSize.getInfo())"
   ]
  },
  {
   "cell_type": "code",
   "execution_count": null,
   "id": "47b0ac86",
   "metadata": {},
   "outputs": [],
   "source": [
    "var generateRasterGrid = function(origin, dx, dy, proj) {\n",
    "    var coords = origin.transform(proj).coordinates();\n",
    "    origin = ee.Image.constant(coords.get(0)).addBands(ee.Image.constant(coords.get(1)));\n",
    "\n",
    "    var pixelCoords = ee.Image.pixelCoordinates(proj);\n",
    "\n",
    "    var grid = pixelCoords\n",
    "       .subtract(origin)\n",
    "       .divide([dx, dy]).floor()\n",
    "       .toInt().reduce(ee.Reducer.sum()).bitwiseAnd(1).rename('grid');\n",
    "\n",
    "    var xy = pixelCoords.reproject(proj.translate(coords.get(0), coords.get(1)).scale(dx, dy));\n",
    "\n",
    "    var id = xy.multiply(ee.Image.constant([1, 1000000])).reduce(ee.Reducer.sum()).rename('id');\n",
    "\n",
    "    return grid\n",
    "      .addBands(id)\n",
    "      .addBands(xy);\n",
    "  }\n",
    "\n",
    "exports.grid_test = grid_test;"
   ]
  },
  {
   "cell_type": "code",
   "execution_count": null,
   "id": "ab696846",
   "metadata": {},
   "outputs": [],
   "source": [
    "url = 'https://tinyurl.com/27xy4oh9'\n",
    "lib = geemap.requireJS(lib_path=url)"
   ]
  },
  {
   "cell_type": "code",
   "execution_count": null,
   "id": "83e61a3d",
   "metadata": {},
   "outputs": [],
   "source": [
    "lib.availability"
   ]
  },
  {
   "cell_type": "code",
   "execution_count": null,
   "id": "b3528465",
   "metadata": {},
   "outputs": [],
   "source": [
    "grid = lib.generateGrid(-180, -70, 180, 70, 10, 10, 0, 0)\n",
    "grid.first().getInfo()"
   ]
  },
  {
   "cell_type": "code",
   "execution_count": null,
   "id": "b27908ba",
   "metadata": {},
   "outputs": [],
   "source": [
    "Map = geemap.Map()\n",
    "style = {'fillColor': '00000000'}\n",
    "Map.addLayer(grid.style(**style), {}, 'Grid')\n",
    "Map"
   ]
  },
  {
   "cell_type": "code",
   "execution_count": null,
   "id": "ffd05f7c",
   "metadata": {},
   "outputs": [],
   "source": [
    "var grid_test = function() {\n",
    "\n",
    "    var gridRaster = generateRasterGrid(ee.Geometry.Point(0, 0), 10, 10, ee.Projection('EPSG:4326'))\n",
    "    Map.addLayer(gridRaster.select('id').randomVisualizer(), {}, 'Grid raster')\n",
    "\n",
    "    var gridVector = generateGrid(-180, -70, 180, 70, 10, 10, 0, 0)\n",
    "    Map.addLayer(gridVector, {}, 'Grid vector')\n",
    "}"
   ]
  },
  {
   "cell_type": "code",
   "execution_count": null,
   "id": "b2c266c2",
   "metadata": {},
   "outputs": [],
   "source": [
    "Map = geemap.Map()\n",
    "lib = geemap.requireJS(lib_path='grid.js', Map=Map)"
   ]
  },
  {
   "cell_type": "code",
   "execution_count": null,
   "id": "886bc131",
   "metadata": {},
   "outputs": [],
   "source": [
    "lib.grid_test()\n",
    "Map"
   ]
  },
  {
   "cell_type": "code",
   "execution_count": null,
   "id": "3a548d09",
   "metadata": {},
   "outputs": [],
   "source": [
    "lib = geemap.requireJS('users/gena/packages:grid')"
   ]
  },
  {
   "cell_type": "code",
   "execution_count": null,
   "id": "b5a8f532",
   "metadata": {},
   "outputs": [],
   "source": [
    "grid = lib.generateGrid(-180, -70, 180, 70, 10, 10, 0, 0)"
   ]
  },
  {
   "cell_type": "code",
   "execution_count": null,
   "id": "85014fe7",
   "metadata": {},
   "outputs": [],
   "source": [
    "Map = geemap.Map()\n",
    "style = {'fillColor': '00000000'}\n",
    "Map.addLayer(grid.style(**style), {}, 'Grid')\n",
    "Map"
   ]
  },
  {
   "cell_type": "markdown",
   "id": "ad0f5583",
   "metadata": {},
   "source": [
    "## Summary\n",
    "\n",
    "## References\n",
    "\n",
    "- https://geemap.org/notebooks/03_inspector_tool/\n",
    "- https://geemap.org/notebooks/08_ee_js_to_ipynb/\n",
    "- https://geemap.org/notebooks/15_convert_js_to_py/\n",
    "- https://geemap.org/notebooks/19_search_places_and_datasets/\n",
    "- https://geemap.org/notebooks/22_import_assets\n",
    "- https://geemap.org/notebooks/30_image_props_stats/\n",
    "- https://geemap.org/notebooks/38_cloud_geotiff/\n",
    "- https://geemap.org/notebooks/44_cog_stac/\n",
    "- https://geemap.org/notebooks/64_data_catalog/\n",
    "- https://geemap.org/notebooks/120_javascript/\n",
    "- https://developers.google.com/earth-engine/guides/image_overview\n",
    "- https://developers.google.com/earth-engine/guides/ic_creating\n",
    "- https://developers.google.com/earth-engine/guides/ic_filtering\n",
    "- https://developers.google.com/earth-engine/guides/features\n",
    "- https://developers.google.com/earth-engine/guides/feature_collections"
   ]
  }
 ],
 "metadata": {
  "jupytext": {
   "text_representation": {
    "extension": ".md",
    "format_name": "myst",
    "format_version": 0.13,
    "jupytext_version": "1.11.5"
   }
  },
  "kernelspec": {
   "display_name": "Python 3",
   "language": "python",
   "name": "python3"
  },
  "source_map": [
   12,
   23,
   40,
   44,
   49,
   51,
   59,
   61,
   65,
   75,
   79,
   93,
   99,
   105,
   111,
   117,
   119,
   123,
   137,
   141,
   159,
   167,
   190,
   215,
   219,
   222,
   228,
   238,
   242,
   248,
   256,
   260,
   274,
   278,
   283,
   286,
   292,
   298,
   302,
   314,
   316,
   320,
   329,
   334,
   343,
   351,
   355,
   362,
   370,
   378,
   395,
   399,
   404,
   430,
   437,
   443,
   470,
   477,
   484,
   491,
   498,
   503,
   509,
   514,
   524,
   528,
   532,
   539,
   545,
   549,
   553,
   557,
   561,
   565,
   569,
   573,
   577,
   581,
   586,
   590,
   593,
   597,
   602,
   606,
   610,
   612,
   616,
   647,
   653,
   658,
   669,
   673,
   688,
   705,
   720,
   724,
   728,
   732,
   736,
   747,
   771,
   776,
   780,
   785,
   792,
   803,
   808,
   813,
   817,
   821,
   826
  ]
 },
 "nbformat": 4,
 "nbformat_minor": 5
}