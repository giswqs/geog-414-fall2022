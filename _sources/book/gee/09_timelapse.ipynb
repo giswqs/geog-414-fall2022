{
 "cells": [
  {
   "cell_type": "markdown",
   "id": "94a83957",
   "metadata": {},
   "source": [
    "# Creating Timelapses\n",
    "\n",
    "```{contents}\n",
    ":local:\n",
    ":depth: 2\n",
    "```\n",
    "\n",
    "## Introduction"
   ]
  },
  {
   "cell_type": "markdown",
   "id": "f3433708",
   "metadata": {},
   "source": [
    "## Technical requirements\n",
    "\n",
    "```bash\n",
    "conda create -n gee python\n",
    "conda activate gee\n",
    "conda install -c conda-forge mamba\n",
    "mamba install -c conda-forge geemap pygis\n",
    "```\n",
    "\n",
    "```bash\n",
    "jupyter lab\n",
    "```\n",
    "\n",
    "[![Open in Colab](https://colab.research.google.com/assets/colab-badge.svg)](https://colab.research.google.com/github/giswqs/geebook/blob/master/chapters/09_timelapse.ipynb)"
   ]
  },
  {
   "cell_type": "code",
   "execution_count": null,
   "id": "17627087",
   "metadata": {},
   "outputs": [],
   "source": [
    "# pip install pygis"
   ]
  },
  {
   "cell_type": "code",
   "execution_count": null,
   "id": "6b6544dc",
   "metadata": {},
   "outputs": [],
   "source": [
    "import ee\n",
    "import geemap"
   ]
  },
  {
   "cell_type": "code",
   "execution_count": null,
   "id": "d795340a",
   "metadata": {},
   "outputs": [],
   "source": [
    "geemap.ee_initialize()"
   ]
  },
  {
   "cell_type": "markdown",
   "id": "22f16367",
   "metadata": {},
   "source": [
    "## The map function"
   ]
  },
  {
   "cell_type": "code",
   "execution_count": null,
   "id": "b3d53e3b",
   "metadata": {},
   "outputs": [],
   "source": [
    "myList = ee.List.sequence(1, 10)\n",
    "print(myList.getInfo())"
   ]
  },
  {
   "cell_type": "code",
   "execution_count": null,
   "id": "8c63df23",
   "metadata": {},
   "outputs": [],
   "source": [
    "def computeSquares(number):\n",
    "    return ee.Number(number).pow(2)\n",
    "\n",
    "\n",
    "squares = myList.map(computeSquares)\n",
    "print(squares.getInfo())"
   ]
  },
  {
   "cell_type": "code",
   "execution_count": null,
   "id": "47fd63d5",
   "metadata": {},
   "outputs": [],
   "source": [
    "squares = myList.map(lambda number: ee.Number(number).pow(2))\n",
    "print(squares.getInfo())"
   ]
  },
  {
   "cell_type": "markdown",
   "id": "4ee9b81e",
   "metadata": {},
   "source": [
    "## Creating cloud-free composites"
   ]
  },
  {
   "cell_type": "code",
   "execution_count": null,
   "id": "1470c465",
   "metadata": {},
   "outputs": [],
   "source": [
    "Map = geemap.Map()\n",
    "fc = ee.FeatureCollection('USDOS/LSIB_SIMPLE/2017').filter(\n",
    "    ee.Filter.eq('country_na', 'Netherlands')\n",
    ")\n",
    "\n",
    "Map.addLayer(fc, {'color': 'ff000000'}, \"Netherlands\")\n",
    "Map.centerObject(fc)\n",
    "Map"
   ]
  },
  {
   "cell_type": "code",
   "execution_count": null,
   "id": "3f4c766c",
   "metadata": {},
   "outputs": [],
   "source": [
    "years = ee.List.sequence(2013, 2021)"
   ]
  },
  {
   "cell_type": "code",
   "execution_count": null,
   "id": "7d6ff96c",
   "metadata": {},
   "outputs": [],
   "source": [
    "def yearly_image(year):\n",
    "\n",
    "    start_date = ee.Date.fromYMD(year, 1, 1)\n",
    "    end_date = start_date.advance(1, \"year\")\n",
    "\n",
    "    collection = (\n",
    "        ee.ImageCollection('LANDSAT/LC08/C01/T1')\n",
    "        .filterDate(start_date, end_date)\n",
    "        .filterBounds(fc)\n",
    "    )\n",
    "\n",
    "    image = ee.Algorithms.Landsat.simpleComposite(collection).clipToCollection(fc)\n",
    "\n",
    "    return image"
   ]
  },
  {
   "cell_type": "code",
   "execution_count": null,
   "id": "f04046cf",
   "metadata": {},
   "outputs": [],
   "source": [
    "images = years.map(yearly_image)"
   ]
  },
  {
   "cell_type": "code",
   "execution_count": null,
   "id": "6285c641",
   "metadata": {},
   "outputs": [],
   "source": [
    "vis_params = {'bands': ['B5', 'B4', 'B3'], 'max': 128}\n",
    "for index in range(0, 9):\n",
    "    image = ee.Image(images.get(index))\n",
    "    layer_name = \"Year \" + str(index + 2013)\n",
    "    Map.addLayer(image, vis_params, layer_name)"
   ]
  },
  {
   "cell_type": "markdown",
   "id": "17f06f58",
   "metadata": {},
   "source": [
    "## Creating timeseries"
   ]
  },
  {
   "cell_type": "code",
   "execution_count": null,
   "id": "0046f527",
   "metadata": {},
   "outputs": [],
   "source": [
    "collection = ee.ImageCollection(\"COPERNICUS/S2_HARMONIZED\").filterMetadata(\n",
    "    'CLOUDY_PIXEL_PERCENTAGE', 'less_than', 10\n",
    ")"
   ]
  },
  {
   "cell_type": "code",
   "execution_count": null,
   "id": "20dc835e",
   "metadata": {},
   "outputs": [],
   "source": [
    "start_date = '2016-01-01'\n",
    "end_date = '2022-12-31'\n",
    "region = ee.Geometry.BBox(-122.5549, 37.6968, -122.3446, 37.8111)"
   ]
  },
  {
   "cell_type": "code",
   "execution_count": null,
   "id": "bb87672e",
   "metadata": {},
   "outputs": [],
   "source": [
    "images = geemap.create_timeseries(\n",
    "    collection, start_date, end_date, region, frequency='year', reducer='median'\n",
    ")\n",
    "images.size().getInfo()"
   ]
  },
  {
   "cell_type": "code",
   "execution_count": null,
   "id": "967e4e6b",
   "metadata": {},
   "outputs": [],
   "source": [
    "Map = geemap.Map()\n",
    "\n",
    "vis_params = {\"min\": 0, \"max\": 4000, \"bands\": [\"B8\", \"B4\", \"B3\"]}\n",
    "labels = [str(y) for y in range(2016, 2023)]\n",
    "\n",
    "Map.addLayer(images, vis_params, \"Sentinel-2\", False)\n",
    "Map.add_time_slider(images, vis_params, time_interval=2, labels=labels)\n",
    "Map.centerObject(region)\n",
    "Map"
   ]
  },
  {
   "cell_type": "markdown",
   "id": "e9620b31",
   "metadata": {},
   "source": [
    "## NAIP timelapse"
   ]
  },
  {
   "cell_type": "code",
   "execution_count": null,
   "id": "9066021a",
   "metadata": {},
   "outputs": [],
   "source": [
    "Map = geemap.Map(center=[40, -100], zoom=4)\n",
    "Map"
   ]
  },
  {
   "cell_type": "code",
   "execution_count": null,
   "id": "b8a924ff",
   "metadata": {},
   "outputs": [],
   "source": [
    "roi = Map.user_roi\n",
    "if roi is None:\n",
    "    roi = ee.Geometry.BBox(-99.1019, 47.1274, -99.0334, 47.1562)\n",
    "    Map.addLayer(roi)\n",
    "    Map.centerObject(roi)"
   ]
  },
  {
   "cell_type": "code",
   "execution_count": null,
   "id": "54c070a2",
   "metadata": {},
   "outputs": [],
   "source": [
    "collection = geemap.naip_timeseries(roi, start_year=2009, end_year=2022, RGBN=True)"
   ]
  },
  {
   "cell_type": "code",
   "execution_count": null,
   "id": "925bfbca",
   "metadata": {},
   "outputs": [],
   "source": [
    "years = geemap.image_dates(collection, date_format='YYYY').getInfo()\n",
    "print(years)"
   ]
  },
  {
   "cell_type": "code",
   "execution_count": null,
   "id": "135e1644",
   "metadata": {},
   "outputs": [],
   "source": [
    "size = len(years)\n",
    "images = collection.toList(size)\n",
    "for i in range(size):\n",
    "    image = ee.Image(images.get(i))\n",
    "    Map.addLayer(image, {'bands': ['N', 'R', 'G']}, years[i])\n",
    "Map"
   ]
  },
  {
   "cell_type": "code",
   "execution_count": null,
   "id": "e41b9714",
   "metadata": {},
   "outputs": [],
   "source": [
    "timelapse = geemap.naip_timelapse(\n",
    "    roi,\n",
    "    out_gif=\"naip.gif\",\n",
    "    bands=['N', 'R', 'G'],\n",
    "    frames_per_second=3,\n",
    "    title='NAIP Timelapse',\n",
    ")\n",
    "geemap.show_image(timelapse)"
   ]
  },
  {
   "cell_type": "markdown",
   "id": "0deecf34",
   "metadata": {},
   "source": [
    "![](https://i.imgur.com/Me6D78k.gif)"
   ]
  },
  {
   "cell_type": "markdown",
   "id": "47eddfe9",
   "metadata": {},
   "source": [
    "## Landsat timelapse"
   ]
  },
  {
   "cell_type": "code",
   "execution_count": null,
   "id": "ecf93a70",
   "metadata": {},
   "outputs": [],
   "source": [
    "Map = geemap.Map()\n",
    "Map"
   ]
  },
  {
   "cell_type": "code",
   "execution_count": null,
   "id": "45b755d7",
   "metadata": {},
   "outputs": [],
   "source": [
    "roi = Map.user_roi\n",
    "if roi is None:\n",
    "    roi = ee.Geometry.BBox(-74.7222, -8.5867, -74.1596, -8.2824)\n",
    "    Map.addLayer(roi)\n",
    "    Map.centerObject(roi)"
   ]
  },
  {
   "cell_type": "code",
   "execution_count": null,
   "id": "1034dbbb",
   "metadata": {},
   "outputs": [],
   "source": [
    "timelapse = geemap.landsat_timelapse(\n",
    "    roi,\n",
    "    out_gif='landsat.gif',\n",
    "    start_year=1984,\n",
    "    end_year=2022,\n",
    "    start_date='01-01',\n",
    "    end_date='12-31',\n",
    "    bands=['SWIR1', 'NIR', 'Red'],\n",
    "    frames_per_second=5,\n",
    "    title='Landsat Timelapse',\n",
    "    progress_bar_color='blue',\n",
    "    mp4=True,\n",
    ")\n",
    "geemap.show_image(timelapse)"
   ]
  },
  {
   "cell_type": "markdown",
   "id": "bb5087a7",
   "metadata": {},
   "source": [
    "![](https://i.imgur.com/VL1V1Y4.gif)"
   ]
  },
  {
   "cell_type": "code",
   "execution_count": null,
   "id": "a0d8aa47",
   "metadata": {},
   "outputs": [],
   "source": [
    "Map = geemap.Map()\n",
    "roi = ee.Geometry.BBox(-115.5541, 35.8044, -113.9035, 36.5581)\n",
    "Map.addLayer(roi)\n",
    "Map.centerObject(roi)\n",
    "Map"
   ]
  },
  {
   "cell_type": "code",
   "execution_count": null,
   "id": "15ef2b32",
   "metadata": {},
   "outputs": [],
   "source": [
    "timelapse = geemap.landsat_timelapse(\n",
    "    roi,\n",
    "    out_gif='las_vegas.gif',\n",
    "    start_year=1984,\n",
    "    end_year=2022,\n",
    "    bands=['NIR', 'Red', 'Green'],\n",
    "    frames_per_second=5,\n",
    "    title='Las Vegas, NV',\n",
    "    font_color='blue',\n",
    ")\n",
    "geemap.show_image(timelapse)"
   ]
  },
  {
   "cell_type": "markdown",
   "id": "5813c79c",
   "metadata": {},
   "source": [
    "![](https://i.imgur.com/LzWyyZW.gif)"
   ]
  },
  {
   "cell_type": "code",
   "execution_count": null,
   "id": "c2253a3f",
   "metadata": {},
   "outputs": [],
   "source": [
    "Map = geemap.Map()\n",
    "roi = ee.Geometry.BBox(113.8252, 22.1988, 114.0851, 22.3497)\n",
    "Map.addLayer(roi)\n",
    "Map.centerObject(roi)\n",
    "Map"
   ]
  },
  {
   "cell_type": "code",
   "execution_count": null,
   "id": "890ad6f3",
   "metadata": {},
   "outputs": [],
   "source": [
    "timelapse = geemap.landsat_timelapse(\n",
    "    roi,\n",
    "    out_gif='hong_kong.gif',\n",
    "    start_year=1990,\n",
    "    end_year=2022,\n",
    "    start_date='01-01',\n",
    "    end_date='12-31',\n",
    "    bands=['SWIR1', 'NIR', 'Red'],\n",
    "    frames_per_second=3,\n",
    "    title='Hong Kong',\n",
    ")\n",
    "geemap.show_image(timelapse)"
   ]
  },
  {
   "cell_type": "markdown",
   "id": "a19408ec",
   "metadata": {},
   "source": [
    "![](https://i.imgur.com/0nLRj22.gif)"
   ]
  },
  {
   "cell_type": "markdown",
   "id": "7b3bab30",
   "metadata": {},
   "source": [
    "## Sentinel-1 timelapse"
   ]
  },
  {
   "cell_type": "code",
   "execution_count": null,
   "id": "a3619c67",
   "metadata": {},
   "outputs": [],
   "source": [
    "Map = geemap.Map()\n",
    "Map"
   ]
  },
  {
   "cell_type": "code",
   "execution_count": null,
   "id": "767289a3",
   "metadata": {},
   "outputs": [],
   "source": [
    "roi = Map.user_roi\n",
    "if roi is None:\n",
    "    roi = ee.Geometry.BBox(117.1132, 3.5227, 117.2214, 3.5843)\n",
    "    Map.addLayer(roi)\n",
    "    Map.centerObject(roi)"
   ]
  },
  {
   "cell_type": "code",
   "execution_count": null,
   "id": "efbe8fe6",
   "metadata": {
    "tags": []
   },
   "outputs": [],
   "source": [
    "timelapse = geemap.sentinel1_timelapse(\n",
    "    roi,\n",
    "    out_gif='sentinel1.gif',\n",
    "    start_year=2019,\n",
    "    end_year=2019,\n",
    "    start_date='04-01',\n",
    "    end_date='08-01',\n",
    "    frequency='day',\n",
    "    vis_params={\"min\": -30, \"max\": 0},\n",
    "    palette=\"Greys\",\n",
    "    frames_per_second=3,\n",
    "    title='Sentinel-1 Timelapse',\n",
    "    add_colorbar=True,\n",
    "    colorbar_bg_color='gray',\n",
    ")\n",
    "geemap.show_image(timelapse)"
   ]
  },
  {
   "cell_type": "markdown",
   "id": "ff6eb7f1",
   "metadata": {},
   "source": [
    "![](https://i.imgur.com/yTSBwnB.gif)"
   ]
  },
  {
   "cell_type": "markdown",
   "id": "6c05d26a",
   "metadata": {},
   "source": [
    "## Sentinel-2 timelapse"
   ]
  },
  {
   "cell_type": "code",
   "execution_count": null,
   "id": "0303e767",
   "metadata": {},
   "outputs": [],
   "source": [
    "Map = geemap.Map()\n",
    "Map"
   ]
  },
  {
   "cell_type": "code",
   "execution_count": null,
   "id": "736bef3a",
   "metadata": {},
   "outputs": [],
   "source": [
    "roi = Map.user_roi\n",
    "if roi is None:\n",
    "    roi = ee.Geometry.BBox(-74.7222, -8.5867, -74.1596, -8.2824)\n",
    "    Map.addLayer(roi)\n",
    "    Map.centerObject(roi)"
   ]
  },
  {
   "cell_type": "code",
   "execution_count": null,
   "id": "fc3e9ac7",
   "metadata": {},
   "outputs": [],
   "source": [
    "timelapse = geemap.sentinel2_timelapse(\n",
    "    roi,\n",
    "    out_gif='sentinel2.gif',\n",
    "    start_year=2016,\n",
    "    end_year=2021,\n",
    "    start_date='01-01',\n",
    "    end_date='12-31',\n",
    "    frequency='year',\n",
    "    bands=['SWIR1', 'NIR', 'Red'],\n",
    "    frames_per_second=3,\n",
    "    title='Sentinel-2 Timelapse',\n",
    ")\n",
    "geemap.show_image(timelapse)"
   ]
  },
  {
   "cell_type": "markdown",
   "id": "f9b2d091",
   "metadata": {},
   "source": [
    "![](https://i.imgur.com/BmQdo9j.gif)"
   ]
  },
  {
   "cell_type": "markdown",
   "id": "ad7d13be",
   "metadata": {},
   "source": [
    "## MODIS timelapse\n",
    "\n",
    "### MODIS NDVI"
   ]
  },
  {
   "cell_type": "code",
   "execution_count": null,
   "id": "0a0617d4",
   "metadata": {},
   "outputs": [],
   "source": [
    "Map = geemap.Map()\n",
    "Map"
   ]
  },
  {
   "cell_type": "code",
   "execution_count": null,
   "id": "9a07d5ad",
   "metadata": {},
   "outputs": [],
   "source": [
    "roi = Map.user_roi\n",
    "if roi is None:\n",
    "    roi = ee.Geometry.BBox(-18.6983, -36.1630, 52.2293, 38.1446)\n",
    "    Map.addLayer(roi)\n",
    "    Map.centerObject(roi)"
   ]
  },
  {
   "cell_type": "code",
   "execution_count": null,
   "id": "73d3aade",
   "metadata": {},
   "outputs": [],
   "source": [
    "timelapse = geemap.modis_ndvi_timelapse(\n",
    "    roi,\n",
    "    out_gif='ndvi.gif',\n",
    "    data='Terra',\n",
    "    band='NDVI',\n",
    "    start_date='2000-01-01',\n",
    "    end_date='2021-12-31',\n",
    "    frames_per_second=3,\n",
    "    title='MODIS NDVI Timelapse',\n",
    "    overlay_data='countries',\n",
    ")\n",
    "geemap.show_image(timelapse)"
   ]
  },
  {
   "cell_type": "markdown",
   "id": "695c2aca",
   "metadata": {},
   "source": [
    "![](https://i.imgur.com/KZwf8c2.gif)"
   ]
  },
  {
   "cell_type": "markdown",
   "id": "4425c2a6",
   "metadata": {},
   "source": [
    "### MODIS temperature"
   ]
  },
  {
   "cell_type": "code",
   "execution_count": null,
   "id": "e7d50db2",
   "metadata": {},
   "outputs": [],
   "source": [
    "Map = geemap.Map()\n",
    "Map"
   ]
  },
  {
   "cell_type": "code",
   "execution_count": null,
   "id": "ec33617f",
   "metadata": {},
   "outputs": [],
   "source": [
    "roi = Map.user_roi\n",
    "if roi is None:\n",
    "    roi = ee.Geometry.BBox(-171.21, -57.13, 177.53, 79.99)\n",
    "    Map.addLayer(roi)\n",
    "    Map.centerObject(roi)"
   ]
  },
  {
   "cell_type": "code",
   "execution_count": null,
   "id": "29ba291c",
   "metadata": {},
   "outputs": [],
   "source": [
    "timelapse = geemap.modis_ocean_color_timelapse(\n",
    "    satellite='Aqua',\n",
    "    start_date='2018-01-01',\n",
    "    end_date='2020-12-31',\n",
    "    roi=roi,\n",
    "    frequency='month',\n",
    "    out_gif='temperature.gif',\n",
    "    overlay_data='continents',\n",
    "    overlay_color='yellow',\n",
    "    overlay_opacity=0.5,\n",
    ")\n",
    "geemap.show_image(timelapse)"
   ]
  },
  {
   "cell_type": "markdown",
   "id": "fb7dea11",
   "metadata": {},
   "source": [
    "![](https://i.imgur.com/ELVn5jq.gif)"
   ]
  },
  {
   "cell_type": "markdown",
   "id": "4cb6d18c",
   "metadata": {},
   "source": [
    "## GOES timelapse"
   ]
  },
  {
   "cell_type": "code",
   "execution_count": null,
   "id": "8a78e423",
   "metadata": {},
   "outputs": [],
   "source": [
    "Map = geemap.Map()\n",
    "Map"
   ]
  },
  {
   "cell_type": "code",
   "execution_count": null,
   "id": "48112ac8",
   "metadata": {},
   "outputs": [],
   "source": [
    "roi = Map.user_roi\n",
    "if roi is None:\n",
    "    roi = ee.Geometry.BBox(167.1898, -28.5757, 202.6258, -12.4411)\n",
    "    Map.addLayer(roi)\n",
    "    Map.centerObject(roi)"
   ]
  },
  {
   "cell_type": "code",
   "execution_count": null,
   "id": "8b4acf9a",
   "metadata": {},
   "outputs": [],
   "source": [
    "start_date = \"2022-01-15T03:00:00\"\n",
    "end_date = \"2022-01-15T07:00:00\"\n",
    "data = \"GOES-17\"\n",
    "scan = \"full_disk\""
   ]
  },
  {
   "cell_type": "code",
   "execution_count": null,
   "id": "0b3d844d",
   "metadata": {},
   "outputs": [],
   "source": [
    "timelapse = geemap.goes_timelapse(\n",
    "    roi, \"goes.gif\", start_date, end_date, data, scan, framesPerSecond=5\n",
    ")\n",
    "geemap.show_image(timelapse)"
   ]
  },
  {
   "cell_type": "markdown",
   "id": "913de7de",
   "metadata": {},
   "source": [
    "![](https://i.imgur.com/l67i6Pj.gif)"
   ]
  },
  {
   "cell_type": "code",
   "execution_count": null,
   "id": "ac2923aa",
   "metadata": {},
   "outputs": [],
   "source": [
    "roi = ee.Geometry.BBox(-159.5954, 24.5178, -114.2438, 60.4088)\n",
    "start_date = \"2021-10-24T14:00:00\"\n",
    "end_date = \"2021-10-25T01:00:00\"\n",
    "data = \"GOES-17\"\n",
    "scan = \"full_disk\""
   ]
  },
  {
   "cell_type": "code",
   "execution_count": null,
   "id": "64c92a90",
   "metadata": {},
   "outputs": [],
   "source": [
    "timelapse = geemap.goes_timelapse(\n",
    "    roi, \"hurricane.gif\", start_date, end_date, data, scan, framesPerSecond=5\n",
    ")\n",
    "geemap.show_image(timelapse)"
   ]
  },
  {
   "cell_type": "markdown",
   "id": "a7a570b7",
   "metadata": {},
   "source": [
    "![](https://i.imgur.com/zYt2b8d.gif)"
   ]
  },
  {
   "cell_type": "code",
   "execution_count": null,
   "id": "41da680e",
   "metadata": {},
   "outputs": [],
   "source": [
    "Map = geemap.Map()\n",
    "roi = ee.Geometry.BBox(-121.0034, 36.8488, -117.9052, 39.0490)\n",
    "Map.addLayer(roi)\n",
    "Map.centerObject(roi)\n",
    "Map"
   ]
  },
  {
   "cell_type": "code",
   "execution_count": null,
   "id": "1209da01",
   "metadata": {},
   "outputs": [],
   "source": [
    "start_date = \"2020-09-05T15:00:00\"\n",
    "end_date = \"2020-09-06T02:00:00\"\n",
    "data = \"GOES-17\"\n",
    "scan = \"full_disk\""
   ]
  },
  {
   "cell_type": "code",
   "execution_count": null,
   "id": "70b3fc1f",
   "metadata": {},
   "outputs": [],
   "source": [
    "timelapse = geemap.goes_fire_timelapse(\n",
    "    roi, \"fire.gif\", start_date, end_date, data, scan, framesPerSecond=5\n",
    ")\n",
    "geemap.show_image(timelapse)"
   ]
  },
  {
   "cell_type": "markdown",
   "id": "0be3ca87",
   "metadata": {},
   "source": [
    "![](https://i.imgur.com/pgPjuLS.gif)"
   ]
  },
  {
   "cell_type": "markdown",
   "id": "ee385d05",
   "metadata": {},
   "source": [
    "## Fading effects"
   ]
  },
  {
   "cell_type": "code",
   "execution_count": null,
   "id": "651692e9",
   "metadata": {},
   "outputs": [],
   "source": [
    "in_gif = \"https://i.imgur.com/ZWSZC5z.gif\""
   ]
  },
  {
   "cell_type": "code",
   "execution_count": null,
   "id": "96a19e5d",
   "metadata": {},
   "outputs": [],
   "source": [
    "geemap.show_image(in_gif)"
   ]
  },
  {
   "cell_type": "code",
   "execution_count": null,
   "id": "4bcb32bd",
   "metadata": {},
   "outputs": [],
   "source": [
    "out_gif = \"gif_fading.gif\"\n",
    "geemap.gif_fading(in_gif, out_gif, verbose=False)\n",
    "geemap.show_image(out_gif)"
   ]
  },
  {
   "cell_type": "markdown",
   "id": "2d162a75",
   "metadata": {},
   "source": [
    "![](https://i.imgur.com/PbK89b6.gif)"
   ]
  },
  {
   "cell_type": "code",
   "execution_count": null,
   "id": "54a5489b",
   "metadata": {},
   "outputs": [],
   "source": [
    "roi = ee.Geometry.BBox(-69.3154, -22.8371, -69.1900, -22.7614)"
   ]
  },
  {
   "cell_type": "code",
   "execution_count": null,
   "id": "e5db9348",
   "metadata": {},
   "outputs": [],
   "source": [
    "timelapse = geemap.landsat_timelapse(\n",
    "    roi,\n",
    "    out_gif='mines.gif',\n",
    "    start_year=2004,\n",
    "    end_year=2010,\n",
    "    frames_per_second=1,\n",
    "    title='Copper mines, Chile',\n",
    "    fading=True,\n",
    ")\n",
    "geemap.show_image(timelapse)"
   ]
  },
  {
   "cell_type": "markdown",
   "id": "cd097c0e",
   "metadata": {},
   "source": [
    "![](https://i.imgur.com/1ZbWs66.gif)"
   ]
  },
  {
   "cell_type": "markdown",
   "id": "ae8965be",
   "metadata": {},
   "source": [
    "## Adding animated text\n",
    "\n",
    "### Add animated text to an existing GIF"
   ]
  },
  {
   "cell_type": "code",
   "execution_count": null,
   "id": "d0cd94ed",
   "metadata": {},
   "outputs": [],
   "source": [
    "in_gif = os.path.abspath('../data/animation.gif')\n",
    "out_dir = os.path.join(os.path.expanduser('~'), 'Downloads')\n",
    "out_gif = os.path.join(out_dir, 'output.gif')\n",
    "if not os.path.exists(out_dir):\n",
    "    os.makedirs(out_dir)"
   ]
  },
  {
   "cell_type": "code",
   "execution_count": null,
   "id": "d6b4f012",
   "metadata": {},
   "outputs": [],
   "source": [
    "geemap.show_image(in_gif)"
   ]
  },
  {
   "cell_type": "markdown",
   "id": "039cc64e",
   "metadata": {},
   "source": [
    "#### Add animated text to GIF"
   ]
  },
  {
   "cell_type": "code",
   "execution_count": null,
   "id": "bf8b50ef",
   "metadata": {},
   "outputs": [],
   "source": [
    "geemap.add_text_to_gif(\n",
    "    in_gif,\n",
    "    out_gif,\n",
    "    xy=('5%', '5%'),\n",
    "    text_sequence=1984,\n",
    "    font_size=30,\n",
    "    font_color='#0000ff',\n",
    "    duration=100,\n",
    ")"
   ]
  },
  {
   "cell_type": "code",
   "execution_count": null,
   "id": "6877057b",
   "metadata": {},
   "outputs": [],
   "source": [
    "geemap.show_image(out_gif)"
   ]
  },
  {
   "cell_type": "markdown",
   "id": "aafb2fa9",
   "metadata": {},
   "source": [
    "#### Add place name"
   ]
  },
  {
   "cell_type": "code",
   "execution_count": null,
   "id": "ff139579",
   "metadata": {},
   "outputs": [],
   "source": [
    "geemap.add_text_to_gif(\n",
    "    out_gif, out_gif, xy=('30%', '85%'), text_sequence=\"Las Vegas\", font_color='black'\n",
    ")"
   ]
  },
  {
   "cell_type": "code",
   "execution_count": null,
   "id": "97ca11f9",
   "metadata": {},
   "outputs": [],
   "source": [
    "geemap.show_image(out_gif)"
   ]
  },
  {
   "cell_type": "markdown",
   "id": "3a454b48",
   "metadata": {},
   "source": [
    "#### Change font type"
   ]
  },
  {
   "cell_type": "code",
   "execution_count": null,
   "id": "9c968aa6",
   "metadata": {},
   "outputs": [],
   "source": [
    "geemap.system_fonts()"
   ]
  },
  {
   "cell_type": "code",
   "execution_count": null,
   "id": "c1e5dca8",
   "metadata": {},
   "outputs": [],
   "source": [
    "geemap.add_text_to_gif(\n",
    "    in_gif,\n",
    "    out_gif,\n",
    "    xy=('5%', '5%'),\n",
    "    text_sequence=1984,\n",
    "    font_size=30,\n",
    "    font_color='#0000ff',\n",
    "    duration=100,\n",
    ")\n",
    "geemap.add_text_to_gif(\n",
    "    out_gif,\n",
    "    out_gif,\n",
    "    xy=('30%', '85%'),\n",
    "    text_sequence=\"Las Vegas\",\n",
    "    font_type=\"timesbd.ttf\",\n",
    "    font_size=30,\n",
    "    font_color='black',\n",
    ")\n",
    "geemap.show_image(out_gif)"
   ]
  },
  {
   "cell_type": "markdown",
   "id": "97eedbb2",
   "metadata": {},
   "source": [
    "### Create GIF from Earth Engine data"
   ]
  },
  {
   "cell_type": "markdown",
   "id": "d658d285",
   "metadata": {},
   "source": [
    "#### Prepare for an ImageCollection"
   ]
  },
  {
   "cell_type": "code",
   "execution_count": null,
   "id": "b9762c49",
   "metadata": {},
   "outputs": [],
   "source": [
    "import ee\n",
    "import geemap\n",
    "\n",
    "ee.Initialize()\n",
    "\n",
    "# Define an area of interest geometry with a global non-polar extent.\n",
    "aoi = ee.Geometry.Polygon(\n",
    "    [[[-179.0, 78.0], [-179.0, -58.0], [179.0, -58.0], [179.0, 78.0]]], None, False\n",
    ")\n",
    "\n",
    "# Import hourly predicted temperature image collection for northern winter\n",
    "# solstice. Note that predictions extend for 384 hours; limit the collection\n",
    "# to the first 24 hours.\n",
    "tempCol = (\n",
    "    ee.ImageCollection('NOAA/GFS0P25')\n",
    "    .filterDate('2018-12-22', '2018-12-23')\n",
    "    .limit(24)\n",
    "    .select('temperature_2m_above_ground')\n",
    ")\n",
    "\n",
    "# Define arguments for animation function parameters.\n",
    "videoArgs = {\n",
    "    'dimensions': 768,\n",
    "    'region': aoi,\n",
    "    'framesPerSecond': 10,\n",
    "    'crs': 'EPSG:3857',\n",
    "    'min': -40.0,\n",
    "    'max': 35.0,\n",
    "    'palette': ['blue', 'purple', 'cyan', 'green', 'yellow', 'red'],\n",
    "}"
   ]
  },
  {
   "cell_type": "markdown",
   "id": "5482cce6",
   "metadata": {},
   "source": [
    "#### Save the GIF to local drive"
   ]
  },
  {
   "cell_type": "code",
   "execution_count": null,
   "id": "5169f0dc",
   "metadata": {},
   "outputs": [],
   "source": [
    "saved_gif = os.path.join(os.path.expanduser('~'), 'Downloads/temperature.gif')\n",
    "geemap.download_ee_video(tempCol, videoArgs, saved_gif)"
   ]
  },
  {
   "cell_type": "code",
   "execution_count": null,
   "id": "e1801fd6",
   "metadata": {},
   "outputs": [],
   "source": [
    "geemap.show_image(saved_gif)"
   ]
  },
  {
   "cell_type": "markdown",
   "id": "1035138d",
   "metadata": {},
   "source": [
    "#### Generate an hourly text sequence"
   ]
  },
  {
   "cell_type": "code",
   "execution_count": null,
   "id": "59b132f4",
   "metadata": {},
   "outputs": [],
   "source": [
    "text = [str(n).zfill(2) + \":00\" for n in range(0, 24)]\n",
    "print(text)"
   ]
  },
  {
   "cell_type": "markdown",
   "id": "cd55c533",
   "metadata": {},
   "source": [
    "#### Add text to GIF"
   ]
  },
  {
   "cell_type": "code",
   "execution_count": null,
   "id": "41a73341",
   "metadata": {},
   "outputs": [],
   "source": [
    "out_gif = os.path.join(os.path.expanduser('~'), 'Downloads/output2.gif')"
   ]
  },
  {
   "cell_type": "code",
   "execution_count": null,
   "id": "4fe2a683",
   "metadata": {},
   "outputs": [],
   "source": [
    "geemap.add_text_to_gif(\n",
    "    saved_gif,\n",
    "    out_gif,\n",
    "    xy=('3%', '5%'),\n",
    "    text_sequence=text,\n",
    "    font_size=30,\n",
    "    font_color='#ffffff',\n",
    ")"
   ]
  },
  {
   "cell_type": "code",
   "execution_count": null,
   "id": "f63234ad",
   "metadata": {},
   "outputs": [],
   "source": [
    "geemap.add_text_to_gif(\n",
    "    out_gif,\n",
    "    out_gif,\n",
    "    xy=('32%', '92%'),\n",
    "    text_sequence='NOAA GFS Hourly Temperature',\n",
    "    font_color='white',\n",
    ")"
   ]
  },
  {
   "cell_type": "code",
   "execution_count": null,
   "id": "b29e2c45",
   "metadata": {},
   "outputs": [],
   "source": [
    "geemap.show_image(out_gif)"
   ]
  },
  {
   "cell_type": "markdown",
   "id": "d1da6d64",
   "metadata": {},
   "source": [
    "### Adding colorbar to an image"
   ]
  },
  {
   "cell_type": "code",
   "execution_count": null,
   "id": "f4a1338f",
   "metadata": {},
   "outputs": [],
   "source": [
    "import geemap\n",
    "import os"
   ]
  },
  {
   "cell_type": "code",
   "execution_count": null,
   "id": "b4e41463",
   "metadata": {},
   "outputs": [],
   "source": [
    "# geemap.update_package()"
   ]
  },
  {
   "cell_type": "markdown",
   "id": "1c469234",
   "metadata": {},
   "source": [
    "#### Download a GIF"
   ]
  },
  {
   "cell_type": "code",
   "execution_count": null,
   "id": "790055c8",
   "metadata": {},
   "outputs": [],
   "source": [
    "from geemap import *"
   ]
  },
  {
   "cell_type": "code",
   "execution_count": null,
   "id": "b3b7b618",
   "metadata": {},
   "outputs": [],
   "source": [
    "url = 'https://i.imgur.com/MSde1om.gif'\n",
    "download_file(url, 'temp.gif')"
   ]
  },
  {
   "cell_type": "code",
   "execution_count": null,
   "id": "97cc77ea",
   "metadata": {},
   "outputs": [],
   "source": [
    "in_gif = os.path.join(out_dir, 'temp.gif')\n",
    "show_image(in_gif)"
   ]
  },
  {
   "cell_type": "markdown",
   "id": "bec20751",
   "metadata": {},
   "source": [
    "#### Get image URLs"
   ]
  },
  {
   "cell_type": "code",
   "execution_count": null,
   "id": "dd93da6b",
   "metadata": {},
   "outputs": [],
   "source": [
    "noaa_logo = 'https://bit.ly/3ahJoMq'\n",
    "ee_logo = 'https://i.imgur.com/Qbvacvm.jpg'"
   ]
  },
  {
   "cell_type": "markdown",
   "id": "5e730b16",
   "metadata": {},
   "source": [
    "#### Set output GIF path"
   ]
  },
  {
   "cell_type": "code",
   "execution_count": null,
   "id": "4c68a367",
   "metadata": {},
   "outputs": [],
   "source": [
    "out_gif = os.path.join(out_dir, 'output.gif')"
   ]
  },
  {
   "cell_type": "markdown",
   "id": "2fc7058c",
   "metadata": {},
   "source": [
    "#### Add images to GIF"
   ]
  },
  {
   "cell_type": "code",
   "execution_count": null,
   "id": "7595e6fa",
   "metadata": {},
   "outputs": [],
   "source": [
    "add_image_to_gif(\n",
    "    in_gif, out_gif, in_image=noaa_logo, xy=('2%', '80%'), image_size=(80, 80)\n",
    ")"
   ]
  },
  {
   "cell_type": "code",
   "execution_count": null,
   "id": "7247c6bb",
   "metadata": {},
   "outputs": [],
   "source": [
    "add_image_to_gif(\n",
    "    out_gif, out_gif, in_image=ee_logo, xy=('13%', '79%'), image_size=(85, 85)\n",
    ")"
   ]
  },
  {
   "cell_type": "markdown",
   "id": "9ae5014e",
   "metadata": {},
   "source": [
    "#### Display output GIF"
   ]
  },
  {
   "cell_type": "code",
   "execution_count": null,
   "id": "c1eddcfa",
   "metadata": {},
   "outputs": [],
   "source": [
    "show_image(out_gif)"
   ]
  },
  {
   "cell_type": "markdown",
   "id": "bfcc7832",
   "metadata": {},
   "source": [
    "#### Create a colorbar"
   ]
  },
  {
   "cell_type": "code",
   "execution_count": null,
   "id": "3a523192",
   "metadata": {},
   "outputs": [],
   "source": [
    "width = 250\n",
    "height = 30\n",
    "palette = ['blue', 'purple', 'cyan', 'green', 'yellow', 'red']\n",
    "labels = [-40, 35]\n",
    "colorbar = create_colorbar(\n",
    "    width=width,\n",
    "    height=height,\n",
    "    palette=palette,\n",
    "    vertical=False,\n",
    "    add_labels=True,\n",
    "    font_size=20,\n",
    "    labels=labels,\n",
    ")"
   ]
  },
  {
   "cell_type": "code",
   "execution_count": null,
   "id": "4a9c52d4",
   "metadata": {},
   "outputs": [],
   "source": [
    "show_image(colorbar)"
   ]
  },
  {
   "cell_type": "markdown",
   "id": "9a8922c8",
   "metadata": {},
   "source": [
    "#### Add colorbar to GIF"
   ]
  },
  {
   "cell_type": "code",
   "execution_count": null,
   "id": "6961b093",
   "metadata": {},
   "outputs": [],
   "source": [
    "add_image_to_gif(\n",
    "    out_gif, out_gif, in_image=colorbar, xy=('69%', '89%'), image_size=(250, 250)\n",
    ")"
   ]
  },
  {
   "cell_type": "code",
   "execution_count": null,
   "id": "ef2a6f7a",
   "metadata": {},
   "outputs": [],
   "source": [
    "show_image(out_gif)"
   ]
  },
  {
   "cell_type": "markdown",
   "id": "ba2146fd",
   "metadata": {},
   "source": [
    "## Summary\n",
    "\n",
    "## References\n",
    "\n",
    "- https://geemap.org/notebooks/16_add_animated_text/\n",
    "- https://geemap.org/notebooks/17_add_colorbar_to_gif/\n",
    "- https://geemap.org/notebooks/18_create_landsat_timelapse/\n",
    "- https://geemap.org/notebooks/39_timelapse/\n",
    "- https://geemap.org/notebooks/71_timelapse/\n",
    "- https://geemap.org/notebooks/72_time_slider_gui/\n",
    "- https://geemap.org/notebooks/81_goes_timelapse/\n",
    "- https://geemap.org/notebooks/90_naip_timelapse/\n",
    "- https://geemap.org/notebooks/98_timelapse_fading/"
   ]
  }
 ],
 "metadata": {
  "jupytext": {
   "text_representation": {
    "extension": ".md",
    "format_name": "myst",
    "format_version": 0.13,
    "jupytext_version": "1.11.5"
   }
  },
  "kernelspec": {
   "display_name": "Python 3",
   "language": "python",
   "name": "python3"
  },
  "source_map": [
   12,
   23,
   40,
   44,
   49,
   51,
   55,
   60,
   69,
   74,
   78,
   89,
   93,
   110,
   114,
   120,
   124,
   130,
   136,
   143,
   153,
   157,
   162,
   170,
   174,
   179,
   188,
   197,
   203,
   207,
   212,
   220,
   235,
   239,
   247,
   259,
   263,
   271,
   284,
   288,
   292,
   297,
   305,
   324,
   328,
   332,
   337,
   345,
   359,
   363,
   369,
   374,
   382,
   395,
   399,
   403,
   408,
   416,
   429,
   433,
   437,
   442,
   450,
   457,
   462,
   466,
   474,
   479,
   483,
   491,
   498,
   503,
   507,
   513,
   517,
   521,
   525,
   531,
   535,
   546,
   550,
   556,
   564,
   566,
   570,
   582,
   584,
   588,
   594,
   596,
   600,
   604,
   624,
   628,
   632,
   663,
   667,
   672,
   674,
   678,
   681,
   685,
   689,
   700,
   710,
   712,
   716,
   721,
   723,
   727,
   731,
   736,
   739,
   743,
   746,
   750,
   752,
   756,
   762,
   766,
   770,
   772,
   776,
   792,
   794,
   798,
   804,
   806
  ]
 },
 "nbformat": 4,
 "nbformat_minor": 5
}