{
 "cells": [
  {
   "cell_type": "markdown",
   "id": "f17d52dd",
   "metadata": {},
   "source": [
    "# Making Maps with Cartoee\n",
    "\n",
    "```{contents}\n",
    ":local:\n",
    ":depth: 2\n",
    "```\n",
    "\n",
    "## Introduction"
   ]
  },
  {
   "cell_type": "markdown",
   "id": "d45cbadd",
   "metadata": {},
   "source": [
    "## Technical requirements\n",
    "\n",
    "```bash\n",
    "conda create -n gee python\n",
    "conda activate gee\n",
    "conda install -c conda-forge mamba\n",
    "mamba install -c conda-forge geemap pygis\n",
    "mamba install -c conda-forge cartopy\n",
    "```\n",
    "\n",
    "```bash\n",
    "jupyter lab\n",
    "```\n",
    "\n",
    "[![Open in Colab](https://colab.research.google.com/assets/colab-badge.svg)](https://colab.research.google.com/github/giswqs/geebook/blob/master/chapters/08_cartoee.ipynb)"
   ]
  },
  {
   "cell_type": "code",
   "execution_count": null,
   "id": "10dd16d7",
   "metadata": {},
   "outputs": [],
   "source": [
    "# pip install pygis"
   ]
  },
  {
   "cell_type": "code",
   "execution_count": null,
   "id": "bf63a3ba",
   "metadata": {},
   "outputs": [],
   "source": [
    "# pip install cartopy"
   ]
  },
  {
   "cell_type": "code",
   "execution_count": null,
   "id": "53cdacd5",
   "metadata": {},
   "outputs": [],
   "source": [
    "import ee\n",
    "import geemap"
   ]
  },
  {
   "cell_type": "code",
   "execution_count": null,
   "id": "56f9ba91",
   "metadata": {},
   "outputs": [],
   "source": [
    "geemap.ee_initialize()"
   ]
  },
  {
   "cell_type": "markdown",
   "id": "620de6af",
   "metadata": {},
   "source": [
    "## Cartoee quickstart"
   ]
  },
  {
   "cell_type": "code",
   "execution_count": null,
   "id": "163eadad",
   "metadata": {},
   "outputs": [],
   "source": [
    "# import the cartoee functionality from geemap\n",
    "from geemap import cartoee\n",
    "import matplotlib.pyplot as plt\n",
    "import cartopy.crs as ccrs"
   ]
  },
  {
   "cell_type": "code",
   "execution_count": null,
   "id": "d49aff4f",
   "metadata": {},
   "outputs": [],
   "source": [
    "for key in cartoee.create_legend():\n",
    "    print(key)"
   ]
  },
  {
   "cell_type": "markdown",
   "id": "2775e67e",
   "metadata": {},
   "source": [
    "### Plotting an image"
   ]
  },
  {
   "cell_type": "code",
   "execution_count": null,
   "id": "9c2d0bcf",
   "metadata": {},
   "outputs": [],
   "source": [
    "# get an image\n",
    "srtm = ee.Image(\"CGIAR/SRTM90_V4\")"
   ]
  },
  {
   "cell_type": "code",
   "execution_count": null,
   "id": "faed9614",
   "metadata": {},
   "outputs": [],
   "source": [
    "# geospatial region in format [E,S,W,N]\n",
    "region = [180, -60, -180, 85]  # define bounding box to request data\n",
    "vis = {'min': 0, 'max': 3000}  # define visualization parameters for image"
   ]
  },
  {
   "cell_type": "code",
   "execution_count": null,
   "id": "5a35f0b3",
   "metadata": {},
   "outputs": [],
   "source": [
    "fig = plt.figure(figsize=(15, 10))\n",
    "\n",
    "# use cartoee to get a map\n",
    "ax = cartoee.get_map(srtm, region=region, vis_params=vis)\n",
    "\n",
    "# add a colorbar to the map using the visualization params we passed to the map\n",
    "cartoee.add_colorbar(ax, vis, loc=\"bottom\", label=\"Elevation\", orientation=\"horizontal\")\n",
    "\n",
    "# add gridlines to the map at a specified interval\n",
    "cartoee.add_gridlines(ax, interval=[60, 30], linestyle=\":\")\n",
    "\n",
    "# add coastlines using the cartopy api\n",
    "ax.coastlines(color=\"red\")\n",
    "\n",
    "plt.show()"
   ]
  },
  {
   "cell_type": "code",
   "execution_count": null,
   "id": "c9e5f95b",
   "metadata": {},
   "outputs": [],
   "source": [
    "fig = plt.figure(figsize=(15, 10))\n",
    "\n",
    "cmap = \"gist_earth\"  # colormap we want to use\n",
    "# cmap = \"terrain\"\n",
    "\n",
    "# use cartoee to get a map\n",
    "ax = cartoee.get_map(srtm, region=region, vis_params=vis, cmap=cmap)\n",
    "\n",
    "# add a colorbar to the map using the visualization params we passed to the map\n",
    "cartoee.add_colorbar(\n",
    "    ax, vis, cmap=cmap, loc=\"right\", label=\"Elevation\", orientation=\"vertical\"\n",
    ")\n",
    "\n",
    "# add gridlines to the map at a specified interval\n",
    "cartoee.add_gridlines(ax, interval=[60, 30], linestyle=\"--\")\n",
    "\n",
    "# add coastlines using the cartopy api\n",
    "ax.coastlines(color=\"red\")\n",
    "\n",
    "ax.set_title(label='Global Elevation Map', fontsize=15)\n",
    "\n",
    "plt.show()"
   ]
  },
  {
   "cell_type": "markdown",
   "id": "c7074603",
   "metadata": {},
   "source": [
    "### Plotting an RGB image"
   ]
  },
  {
   "cell_type": "code",
   "execution_count": null,
   "id": "6365c945",
   "metadata": {},
   "outputs": [],
   "source": [
    "# get a landsat image to visualize\n",
    "image = ee.Image('LANDSAT/LC08/C01/T1_SR/LC08_044034_20140318')\n",
    "\n",
    "# define the visualization parameters to view\n",
    "vis = {\"bands\": ['B5', 'B4', 'B3'], \"min\": 0, \"max\": 5000, \"gamma\": 1.3}"
   ]
  },
  {
   "cell_type": "code",
   "execution_count": null,
   "id": "0f377604",
   "metadata": {},
   "outputs": [],
   "source": [
    "fig = plt.figure(figsize=(15, 10))\n",
    "\n",
    "# use cartoee to get a map\n",
    "ax = cartoee.get_map(image, vis_params=vis)\n",
    "\n",
    "# pad the view for some visual appeal\n",
    "cartoee.pad_view(ax)\n",
    "\n",
    "# add the gridlines and specify that the xtick labels be rotated 45 degrees\n",
    "cartoee.add_gridlines(ax, interval=0.5, xtick_rotation=45, linestyle=\":\")\n",
    "\n",
    "# add the coastline\n",
    "ax.coastlines(color=\"yellow\")\n",
    "\n",
    "plt.show()"
   ]
  },
  {
   "cell_type": "code",
   "execution_count": null,
   "id": "e9539f4f",
   "metadata": {},
   "outputs": [],
   "source": [
    "fig = plt.figure(figsize=(15, 10))\n",
    "\n",
    "# here is the bounding box of the map extent we want to use\n",
    "# formatted a [E,S,W,N]\n",
    "zoom_region = [-121.8025, 37.3458, -122.6265, 37.9178]\n",
    "\n",
    "# plot the map over the region of interest\n",
    "ax = cartoee.get_map(image, vis_params=vis, region=zoom_region)\n",
    "\n",
    "# add the gridlines and specify that the xtick labels be rotated 45 degrees\n",
    "cartoee.add_gridlines(ax, interval=0.15, xtick_rotation=45, linestyle=\":\")\n",
    "\n",
    "# add coastline\n",
    "ax.coastlines(color=\"yellow\")\n",
    "\n",
    "plt.show()"
   ]
  },
  {
   "cell_type": "markdown",
   "id": "db9ae5af",
   "metadata": {},
   "source": [
    "### Adding north arrow and scale bar"
   ]
  },
  {
   "cell_type": "code",
   "execution_count": null,
   "id": "e65386c7",
   "metadata": {},
   "outputs": [],
   "source": [
    "fig = plt.figure(figsize=(15, 10))\n",
    "\n",
    "# here is the bounding box of the map extent we want to use\n",
    "# formatted a [E,S,W,N]\n",
    "zoom_region = [-121.8025, 37.3458, -122.6265, 37.9178]\n",
    "\n",
    "# plot the map over the region of interest\n",
    "ax = cartoee.get_map(image, vis_params=vis, region=zoom_region)\n",
    "\n",
    "# add the gridlines and specify that the xtick labels be rotated 45 degrees\n",
    "cartoee.add_gridlines(ax, interval=0.15, xtick_rotation=45, linestyle=\":\")\n",
    "\n",
    "# add coastline\n",
    "ax.coastlines(color=\"yellow\")\n",
    "\n",
    "# add north arrow\n",
    "cartoee.add_north_arrow(\n",
    "    ax, text=\"N\", xy=(0.05, 0.25), text_color=\"white\", arrow_color=\"white\", fontsize=20\n",
    ")\n",
    "\n",
    "# add scale bar\n",
    "cartoee.add_scale_bar_lite(\n",
    "    ax, length=10, xy=(0.1, 0.05), fontsize=20, color=\"white\", unit=\"km\"\n",
    ")\n",
    "\n",
    "ax.set_title(label='Landsat False Color Composite (Band 5/4/3)', fontsize=15)\n",
    "\n",
    "plt.show()"
   ]
  },
  {
   "cell_type": "markdown",
   "id": "64676c62",
   "metadata": {
    "tags": []
   },
   "source": [
    "## Using custom projections"
   ]
  },
  {
   "cell_type": "markdown",
   "id": "14375388",
   "metadata": {},
   "source": [
    "### Plotting an image on a map"
   ]
  },
  {
   "cell_type": "code",
   "execution_count": null,
   "id": "d421b99e",
   "metadata": {},
   "outputs": [],
   "source": [
    "# get an earth engine image of ocean data for Jan-Mar 2018\n",
    "ocean = (\n",
    "    ee.ImageCollection('NASA/OCEANDATA/MODIS-Terra/L3SMI')\n",
    "    .filter(ee.Filter.date('2018-01-01', '2018-03-01'))\n",
    "    .median()\n",
    "    .select([\"sst\"], [\"SST\"])\n",
    ")"
   ]
  },
  {
   "cell_type": "code",
   "execution_count": null,
   "id": "ef693d01",
   "metadata": {},
   "outputs": [],
   "source": [
    "# set parameters for plotting\n",
    "# will plot the Sea Surface Temp with specific range and colormap\n",
    "visualization = {'bands': \"SST\", 'min': -2, 'max': 30}\n",
    "# specify region to focus on\n",
    "bbox = [180, -88, -180, 88]"
   ]
  },
  {
   "cell_type": "code",
   "execution_count": null,
   "id": "06566e90",
   "metadata": {},
   "outputs": [],
   "source": [
    "fig = plt.figure(figsize=(15, 10))\n",
    "\n",
    "# plot the result with cartoee using a PlateCarre projection (default)\n",
    "ax = cartoee.get_map(ocean, cmap='plasma', vis_params=visualization, region=bbox)\n",
    "cb = cartoee.add_colorbar(ax, vis_params=visualization, loc='right', cmap='plasma')\n",
    "\n",
    "ax.set_title(label='Sea Surface Temperature', fontsize=15)\n",
    "\n",
    "ax.coastlines()\n",
    "plt.show()"
   ]
  },
  {
   "cell_type": "markdown",
   "id": "69f73741",
   "metadata": {},
   "source": [
    "### Mapping with different projections"
   ]
  },
  {
   "cell_type": "code",
   "execution_count": null,
   "id": "4ab702c5",
   "metadata": {},
   "outputs": [],
   "source": [
    "fig = plt.figure(figsize=(15, 10))\n",
    "\n",
    "# create a new Mollweide projection centered on the Pacific\n",
    "projection = ccrs.Mollweide(central_longitude=-180)\n",
    "\n",
    "# plot the result with cartoee using the Mollweide projection\n",
    "ax = cartoee.get_map(\n",
    "    ocean, vis_params=visualization, region=bbox, cmap='plasma', proj=projection\n",
    ")\n",
    "cb = cartoee.add_colorbar(\n",
    "    ax, vis_params=visualization, loc='bottom', cmap='plasma', orientation='horizontal'\n",
    ")\n",
    "\n",
    "ax.set_title(\"Mollweide projection\")\n",
    "\n",
    "ax.coastlines()\n",
    "plt.show()"
   ]
  },
  {
   "cell_type": "code",
   "execution_count": null,
   "id": "e85ae05a",
   "metadata": {},
   "outputs": [],
   "source": [
    "fig = plt.figure(figsize=(15, 10))\n",
    "\n",
    "# create a new Goode homolosine projection centered on the Pacific\n",
    "projection = ccrs.Robinson(central_longitude=-180)\n",
    "\n",
    "# plot the result with cartoee using the Goode homolosine projection\n",
    "ax = cartoee.get_map(\n",
    "    ocean, vis_params=visualization, region=bbox, cmap='plasma', proj=projection\n",
    ")\n",
    "cb = cartoee.add_colorbar(\n",
    "    ax, vis_params=visualization, loc='bottom', cmap='plasma', orientation='horizontal'\n",
    ")\n",
    "\n",
    "ax.set_title(\"Robinson projection\")\n",
    "\n",
    "ax.coastlines()\n",
    "plt.show()"
   ]
  },
  {
   "cell_type": "code",
   "execution_count": null,
   "id": "d9729421",
   "metadata": {},
   "outputs": [],
   "source": [
    "fig = plt.figure(figsize=(15, 10))\n",
    "\n",
    "# create a new Goode homolosine projection centered on the Pacific\n",
    "projection = ccrs.InterruptedGoodeHomolosine(central_longitude=-180)\n",
    "\n",
    "# plot the result with cartoee using the Goode homolosine projection\n",
    "ax = cartoee.get_map(\n",
    "    ocean, vis_params=visualization, region=bbox, cmap='plasma', proj=projection\n",
    ")\n",
    "cb = cartoee.add_colorbar(\n",
    "    ax, vis_params=visualization, loc='bottom', cmap='plasma', orientation='horizontal'\n",
    ")\n",
    "\n",
    "ax.set_title(\"Goode homolosine projection\")\n",
    "\n",
    "ax.coastlines()\n",
    "plt.show()"
   ]
  },
  {
   "cell_type": "code",
   "execution_count": null,
   "id": "5ff6bcef",
   "metadata": {},
   "outputs": [],
   "source": [
    "fig = plt.figure(figsize=(15, 10))\n",
    "\n",
    "# create a new orographic projection focused on the Pacific\n",
    "projection = ccrs.EqualEarth(central_longitude=-180)\n",
    "\n",
    "# plot the result with cartoee using the orographic projection\n",
    "ax = cartoee.get_map(\n",
    "    ocean, vis_params=visualization, region=bbox, cmap='plasma', proj=projection\n",
    ")\n",
    "cb = cartoee.add_colorbar(\n",
    "    ax, vis_params=visualization, loc='right', cmap='plasma', orientation='vertical'\n",
    ")\n",
    "\n",
    "ax.set_title(\"Equal Earth projection\")\n",
    "\n",
    "ax.coastlines()\n",
    "plt.show()"
   ]
  },
  {
   "cell_type": "code",
   "execution_count": null,
   "id": "7b6b27c0",
   "metadata": {},
   "outputs": [],
   "source": [
    "fig = plt.figure(figsize=(15, 10))\n",
    "\n",
    "# create a new orographic projection focused on the Pacific\n",
    "projection = ccrs.Orthographic(-130, -10)\n",
    "\n",
    "# plot the result with cartoee using the orographic projection\n",
    "ax = cartoee.get_map(\n",
    "    ocean, vis_params=visualization, region=bbox, cmap='plasma', proj=projection\n",
    ")\n",
    "cb = cartoee.add_colorbar(\n",
    "    ax, vis_params=visualization, loc='right', cmap='plasma', orientation='vertical'\n",
    ")\n",
    "\n",
    "ax.set_title(\"Orographic projection\")\n",
    "\n",
    "ax.coastlines()\n",
    "plt.show()"
   ]
  },
  {
   "cell_type": "markdown",
   "id": "015c5d5c",
   "metadata": {},
   "source": [
    "### Warping artifacts"
   ]
  },
  {
   "cell_type": "code",
   "execution_count": null,
   "id": "0706c3f1",
   "metadata": {},
   "outputs": [],
   "source": [
    "fig = plt.figure(figsize=(15, 10))\n",
    "\n",
    "# Create a new region to focus on\n",
    "spole = [180, -88, -180, 0]\n",
    "\n",
    "projection = ccrs.SouthPolarStereo()\n",
    "\n",
    "# plot the result with cartoee focusing on the south pole\n",
    "ax = cartoee.get_map(\n",
    "    ocean, cmap='plasma', vis_params=visualization, region=spole, proj=projection\n",
    ")\n",
    "cb = cartoee.add_colorbar(ax, vis_params=visualization, loc='right', cmap='plasma')\n",
    "\n",
    "ax.coastlines()\n",
    "ax.set_title('The South Pole')\n",
    "plt.show()"
   ]
  },
  {
   "cell_type": "code",
   "execution_count": null,
   "id": "f44c094a",
   "metadata": {},
   "outputs": [],
   "source": [
    "fig = plt.figure(figsize=(15, 10))\n",
    "\n",
    "# plot the result with cartoee focusing on the south pole\n",
    "ax = cartoee.get_map(\n",
    "    ocean, cmap='plasma', vis_params=visualization, region=spole, proj=projection\n",
    ")\n",
    "cb = cartoee.add_colorbar(ax, vis_params=visualization, loc='right', cmap='plasma')\n",
    "\n",
    "ax.coastlines()\n",
    "ax.set_title('The South Pole')\n",
    "\n",
    "# get bounding box coordinates of a zoom area\n",
    "zoom = spole\n",
    "zoom[-1] = -20\n",
    "\n",
    "# convert bbox coordinate from [W,S,E,N] to [W,E,S,N] as matplotlib expects\n",
    "zoom_extent = cartoee.bbox_to_extent(zoom)\n",
    "\n",
    "# set the extent of the map to the zoom area\n",
    "ax.set_extent(zoom_extent, ccrs.PlateCarree())\n",
    "\n",
    "plt.show()"
   ]
  },
  {
   "cell_type": "markdown",
   "id": "948f5da9",
   "metadata": {},
   "source": [
    "## Using multiple data layers"
   ]
  },
  {
   "cell_type": "markdown",
   "id": "92c3df89",
   "metadata": {},
   "source": [
    "### Create an interactive map"
   ]
  },
  {
   "cell_type": "code",
   "execution_count": null,
   "id": "8234d338",
   "metadata": {},
   "outputs": [],
   "source": [
    "Map = geemap.Map()\n",
    "\n",
    "image = (\n",
    "    ee.ImageCollection('MODIS/MCD43A4_006_NDVI')\n",
    "    .filter(ee.Filter.date('2018-04-01', '2018-05-01'))\n",
    "    .select(\"NDVI\")\n",
    "    .first()\n",
    ")\n",
    "\n",
    "vis_params = {\n",
    "    'min': 0.0,\n",
    "    'max': 1.0,\n",
    "    'palette': [\n",
    "        'FFFFFF',\n",
    "        'CE7E45',\n",
    "        'DF923D',\n",
    "        'F1B555',\n",
    "        'FCD163',\n",
    "        '99B718',\n",
    "        '74A901',\n",
    "        '66A000',\n",
    "        '529400',\n",
    "        '3E8601',\n",
    "        '207401',\n",
    "        '056201',\n",
    "        '004C00',\n",
    "        '023B01',\n",
    "        '012E01',\n",
    "        '011D01',\n",
    "        '011301',\n",
    "    ],\n",
    "}\n",
    "Map.setCenter(-7.03125, 31.0529339857, 2)\n",
    "Map.addLayer(image, vis_params, 'MODIS NDVI')\n",
    "\n",
    "countries = ee.FeatureCollection(geemap.examples.get_ee_path('countries'))\n",
    "style = {\"color\": \"00000088\", \"width\": 1, \"fillColor\": \"00000000\"}\n",
    "Map.addLayer(countries.style(**style), {}, \"Countries\")\n",
    "\n",
    "ndvi = image.visualize(**vis_params)\n",
    "blend = ndvi.blend(countries.style(**style))\n",
    "\n",
    "Map.addLayer(blend, {}, \"Blend\")\n",
    "\n",
    "Map"
   ]
  },
  {
   "cell_type": "markdown",
   "id": "143c7291",
   "metadata": {},
   "source": [
    "### Plot an image with the default projection"
   ]
  },
  {
   "cell_type": "code",
   "execution_count": null,
   "id": "489c23cd",
   "metadata": {},
   "outputs": [],
   "source": [
    "# specify region to focus on\n",
    "bbox = [180, -88, -180, 88]"
   ]
  },
  {
   "cell_type": "code",
   "execution_count": null,
   "id": "6be5ef49",
   "metadata": {},
   "outputs": [],
   "source": [
    "fig = plt.figure(figsize=(15, 10))\n",
    "\n",
    "# plot the result with cartoee using a PlateCarre projection (default)\n",
    "ax = cartoee.get_map(blend, region=bbox)\n",
    "cb = cartoee.add_colorbar(ax, vis_params=vis_params, loc='right')\n",
    "\n",
    "ax.set_title(label='MODIS NDVI', fontsize=15)\n",
    "\n",
    "# ax.coastlines()\n",
    "plt.show()"
   ]
  },
  {
   "cell_type": "markdown",
   "id": "e4538e37",
   "metadata": {},
   "source": [
    "### Plot an image with a different projection"
   ]
  },
  {
   "cell_type": "code",
   "execution_count": null,
   "id": "4e7b1ca4",
   "metadata": {},
   "outputs": [],
   "source": [
    "fig = plt.figure(figsize=(15, 10))\n",
    "\n",
    "projection = ccrs.EqualEarth(central_longitude=-180)\n",
    "\n",
    "# plot the result with cartoee using a PlateCarre projection (default)\n",
    "ax = cartoee.get_map(blend, region=bbox, proj=projection)\n",
    "cb = cartoee.add_colorbar(ax, vis_params=vis_params, loc='right')\n",
    "\n",
    "ax.set_title(label='MODIS NDVI', fontsize=15)\n",
    "\n",
    "# ax.coastlines()\n",
    "plt.show()"
   ]
  },
  {
   "cell_type": "markdown",
   "id": "5003e966",
   "metadata": {},
   "source": [
    "## Adding a scale bar and legend\n",
    "\n",
    "### Scale bar"
   ]
  },
  {
   "cell_type": "code",
   "execution_count": null,
   "id": "d5bb600c",
   "metadata": {},
   "outputs": [],
   "source": [
    "# Get image\n",
    "lon = -115.1585\n",
    "lat = 36.1500\n",
    "start_year = 1984\n",
    "end_year = 2011\n",
    "\n",
    "point = ee.Geometry.Point(lon, lat)\n",
    "years = ee.List.sequence(start_year, end_year)\n",
    "\n",
    "def get_best_image(year):\n",
    "\n",
    "    start_date = ee.Date.fromYMD(year, 1, 1)\n",
    "    end_date = ee.Date.fromYMD(year, 12, 31)\n",
    "    image = (\n",
    "        ee.ImageCollection(\"LANDSAT/LT05/C01/T1_SR\")\n",
    "        .filterBounds(point)\n",
    "        .filterDate(start_date, end_date)\n",
    "        .sort(\"CLOUD_COVER\")\n",
    "        .first()\n",
    "    )\n",
    "    return ee.Image(image)\n",
    "\n",
    "collection = ee.ImageCollection(years.map(get_best_image))\n",
    "vis_params = {\"bands\": ['B4', 'B3', 'B2'], \"min\": 0, \"max\": 5000}\n",
    "image = ee.Image(collection.first())"
   ]
  },
  {
   "cell_type": "code",
   "execution_count": null,
   "id": "e98b739f",
   "metadata": {},
   "outputs": [],
   "source": [
    "w = 0.4\n",
    "h = 0.3\n",
    "\n",
    "region = [lon + w, lat - h, lon - w, lat + h]\n",
    "\n",
    "fig = plt.figure(figsize=(10, 8))\n",
    "\n",
    "# use cartoee to get a map\n",
    "ax = cartoee.get_map(image, region=region, vis_params=vis_params)\n",
    "\n",
    "# add gridlines to the map at a specified interval\n",
    "cartoee.add_gridlines(ax, interval=[0.2, 0.2], linestyle=\":\")\n",
    "\n",
    "# add north arrow\n",
    "north_arrow_dict = {\n",
    "    \"text\": \"N\",\n",
    "    \"xy\": (0.10, 0.36),\n",
    "    \"arrow_length\": 0.15,\n",
    "    \"text_color\": \"white\",\n",
    "    \"arrow_color\": \"white\",\n",
    "    \"fontsize\": 20,\n",
    "    \"width\": 5,\n",
    "    \"headwidth\": 15,\n",
    "    \"ha\": \"center\",\n",
    "    \"va\": \"center\",\n",
    "}\n",
    "cartoee.add_north_arrow(ax, **north_arrow_dict)\n",
    "\n",
    "# add scale bar\n",
    "scale_bar_dict = {\n",
    "    'metric_distance': 4,\n",
    "    'unit': \"km\",\n",
    "    'at_x': (0.05, 0.2),\n",
    "    'at_y': (0.08, 0.11),\n",
    "    'max_stripes': 5,\n",
    "    'ytick_label_margins': 0.25,\n",
    "    'fontsize': 8,\n",
    "    'font_weight': \"bold\",\n",
    "    'rotation': 0,\n",
    "    'zorder': 999,\n",
    "    'paddings': {\"xmin\": 0.05, \"xmax\": 0.05, \"ymin\": 1.5, \"ymax\": 0.5},\n",
    "}\n",
    "\n",
    "cartoee.add_scale_bar(ax, **scale_bar_dict)\n",
    "\n",
    "ax.set_title(label='Las Vegas, NV', fontsize=15)\n",
    "plt.show()"
   ]
  },
  {
   "cell_type": "markdown",
   "id": "a39a93f5",
   "metadata": {},
   "source": [
    "### Legend"
   ]
  },
  {
   "cell_type": "markdown",
   "id": "093ff469",
   "metadata": {},
   "source": [
    "#### Plot an RGB image"
   ]
  },
  {
   "cell_type": "code",
   "execution_count": null,
   "id": "439dff20",
   "metadata": {},
   "outputs": [],
   "source": [
    "# get a landsat image to visualize\n",
    "image = ee.Image('LANDSAT/LC08/C01/T1_SR/LC08_044034_20140318')\n",
    "\n",
    "# define the visualization parameters to view\n",
    "vis = {\"bands\": ['B5', 'B4', 'B3'], \"min\": 0, \"max\": 5000, \"gamma\": 1.3}"
   ]
  },
  {
   "cell_type": "code",
   "execution_count": null,
   "id": "9f88a8ab",
   "metadata": {},
   "outputs": [],
   "source": [
    "fig = plt.figure(figsize=(15, 10))\n",
    "\n",
    "# use cartoee to get a map\n",
    "ax = cartoee.get_map(image, vis_params=vis)\n",
    "\n",
    "# pad the view for some visual appeal\n",
    "cartoee.pad_view(ax)\n",
    "\n",
    "# add the gridlines and specify that the xtick labels be rotated 45 degrees\n",
    "cartoee.add_gridlines(ax, interval=0.5, xtick_rotation=0, linestyle=\":\")\n",
    "\n",
    "# add the coastline\n",
    "ax.coastlines(color=\"cyan\")\n",
    "\n",
    "plt.show()"
   ]
  },
  {
   "cell_type": "code",
   "execution_count": null,
   "id": "bc209135",
   "metadata": {},
   "outputs": [],
   "source": [
    "fig = plt.figure(figsize=(15, 10))\n",
    "\n",
    "# here is the bounding box of the map extent we want to use\n",
    "# formatted a [E,S,W,N]\n",
    "zoom_region = [-121.8025, 37.3458, -122.6265, 37.9178]\n",
    "\n",
    "# plot the map over the region of interest\n",
    "ax = cartoee.get_map(image, vis_params=vis, region=zoom_region)\n",
    "\n",
    "# add the gridlines and specify that the xtick labels be rotated 45 degrees\n",
    "cartoee.add_gridlines(ax, interval=0.15, xtick_rotation=0, linestyle=\":\")\n",
    "\n",
    "# add coastline\n",
    "ax.coastlines(color=\"cyan\")\n",
    "\n",
    "plt.show()"
   ]
  },
  {
   "cell_type": "markdown",
   "id": "a148f85c",
   "metadata": {},
   "source": [
    "#### Adding north arrow, scale bar, and legend"
   ]
  },
  {
   "cell_type": "code",
   "execution_count": null,
   "id": "b94281ed",
   "metadata": {},
   "outputs": [],
   "source": [
    "from matplotlib.lines import Line2D"
   ]
  },
  {
   "cell_type": "code",
   "execution_count": null,
   "id": "88d2a393",
   "metadata": {},
   "outputs": [],
   "source": [
    "fig = plt.figure(figsize=(15, 10))\n",
    "\n",
    "# here is the bounding box of the map extent we want to use\n",
    "# formatted a [E,S,W,N]\n",
    "zoom_region = [-121.8025, 37.3458, -122.6265, 37.9178]\n",
    "\n",
    "# plot the map over the region of interest\n",
    "ax = cartoee.get_map(image, vis_params=vis, region=zoom_region)\n",
    "\n",
    "# add the gridlines and specify that the xtick labels be rotated 45 degrees\n",
    "cartoee.add_gridlines(ax, interval=0.15, xtick_rotation=0, linestyle=\":\")\n",
    "\n",
    "# add coastline\n",
    "ax.coastlines(color=\"cyan\")\n",
    "\n",
    "# add north arrow\n",
    "cartoee.add_north_arrow(\n",
    "    ax, text=\"N\", xy=(0.05, 0.25), text_color=\"white\", arrow_color=\"white\", fontsize=20\n",
    ")\n",
    "\n",
    "# add scale bar\n",
    "cartoee.add_scale_bar_lite(\n",
    "    ax, length=10, xy=(0.1, 0.05), fontsize=20, color=\"white\", unit=\"km\"\n",
    ")\n",
    "\n",
    "ax.set_title(label='Landsat False Color Composite (Band 5/4/3)', fontsize=15)\n",
    "\n",
    "# add legend\n",
    "legend_elements = [\n",
    "    Line2D([], [], color='#00ffff', lw=2, label='Coastline'),\n",
    "    Line2D(\n",
    "        [],\n",
    "        [],\n",
    "        marker='o',\n",
    "        color='#A8321D',\n",
    "        label='City',\n",
    "        markerfacecolor='#A8321D',\n",
    "        markersize=10,\n",
    "        ls='',\n",
    "    ),\n",
    "]\n",
    "\n",
    "cartoee.add_legend(ax, legend_elements, loc='lower right')\n",
    "\n",
    "plt.show()"
   ]
  },
  {
   "cell_type": "markdown",
   "id": "246e38da",
   "metadata": {},
   "source": [
    "## Creating animations"
   ]
  },
  {
   "cell_type": "markdown",
   "id": "022fcdda",
   "metadata": {
    "tags": []
   },
   "source": [
    "### Create an interactive map"
   ]
  },
  {
   "cell_type": "code",
   "execution_count": null,
   "id": "8dd3a076",
   "metadata": {},
   "outputs": [],
   "source": [
    "Map = geemap.Map()\n",
    "Map"
   ]
  },
  {
   "cell_type": "markdown",
   "id": "5a28c08a",
   "metadata": {},
   "source": [
    "### Create an ImageCollection"
   ]
  },
  {
   "cell_type": "code",
   "execution_count": null,
   "id": "dde410db",
   "metadata": {},
   "outputs": [],
   "source": [
    "lon = -115.1585\n",
    "lat = 36.1500\n",
    "start_year = 1984\n",
    "end_year = 2011\n",
    "\n",
    "point = ee.Geometry.Point(lon, lat)\n",
    "years = ee.List.sequence(start_year, end_year)\n",
    "\n",
    "def get_best_image(year):\n",
    "\n",
    "    start_date = ee.Date.fromYMD(year, 1, 1)\n",
    "    end_date = ee.Date.fromYMD(year, 12, 31)\n",
    "    image = (\n",
    "        ee.ImageCollection(\"LANDSAT/LT05/C01/T1_SR\")\n",
    "        .filterBounds(point)\n",
    "        .filterDate(start_date, end_date)\n",
    "        .sort(\"CLOUD_COVER\")\n",
    "        .first()\n",
    "    )\n",
    "    return ee.Image(image)\n",
    "\n",
    "collection = ee.ImageCollection(years.map(get_best_image))"
   ]
  },
  {
   "cell_type": "markdown",
   "id": "3fe1d455",
   "metadata": {},
   "source": [
    "### Display a sample image"
   ]
  },
  {
   "cell_type": "code",
   "execution_count": null,
   "id": "514a749c",
   "metadata": {},
   "outputs": [],
   "source": [
    "vis_params = {\"bands\": ['B4', 'B3', 'B2'], \"min\": 0, \"max\": 5000}\n",
    "\n",
    "image = ee.Image(collection.first())\n",
    "Map.addLayer(image, vis_params, 'First image')\n",
    "Map.setCenter(lon, lat, 8)\n",
    "Map"
   ]
  },
  {
   "cell_type": "markdown",
   "id": "7910c2d8",
   "metadata": {},
   "source": [
    "### Get a sample output image"
   ]
  },
  {
   "cell_type": "code",
   "execution_count": null,
   "id": "eed55306",
   "metadata": {},
   "outputs": [],
   "source": [
    "w = 0.4\n",
    "h = 0.3\n",
    "\n",
    "region = [lon + w, lat - h, lon - w, lat + h]\n",
    "\n",
    "fig = plt.figure(figsize=(10, 8))\n",
    "\n",
    "# use cartoee to get a map\n",
    "ax = cartoee.get_map(image, region=region, vis_params=vis_params)\n",
    "\n",
    "# add gridlines to the map at a specified interval\n",
    "cartoee.add_gridlines(ax, interval=[0.2, 0.2], linestyle=\":\")\n",
    "\n",
    "# add north arrow\n",
    "north_arrow_dict = {\n",
    "    \"text\": \"N\",\n",
    "    \"xy\": (0.1, 0.3),\n",
    "    \"arrow_length\": 0.15,\n",
    "    \"text_color\": \"white\",\n",
    "    \"arrow_color\": \"white\",\n",
    "    \"fontsize\": 20,\n",
    "    \"width\": 5,\n",
    "    \"headwidth\": 15,\n",
    "    \"ha\": \"center\",\n",
    "    \"va\": \"center\",\n",
    "}\n",
    "cartoee.add_north_arrow(ax, **north_arrow_dict)\n",
    "\n",
    "# add scale bar\n",
    "scale_bar_dict = {\n",
    "    \"length\": 10,\n",
    "    \"xy\": (0.1, 0.05),\n",
    "    \"linewidth\": 3,\n",
    "    \"fontsize\": 20,\n",
    "    \"color\": \"white\",\n",
    "    \"unit\": \"km\",\n",
    "    \"ha\": \"center\",\n",
    "    \"va\": \"bottom\",\n",
    "}\n",
    "cartoee.add_scale_bar_lite(ax, **scale_bar_dict)\n",
    "\n",
    "ax.set_title(label='Las Vegas, NV', fontsize=15)\n",
    "\n",
    "plt.show()"
   ]
  },
  {
   "cell_type": "markdown",
   "id": "895bf938",
   "metadata": {},
   "source": [
    "### Create timelapse animations"
   ]
  },
  {
   "cell_type": "code",
   "execution_count": null,
   "id": "b6b94842",
   "metadata": {},
   "outputs": [],
   "source": [
    "import os"
   ]
  },
  {
   "cell_type": "code",
   "execution_count": null,
   "id": "ff8f9071",
   "metadata": {},
   "outputs": [],
   "source": [
    "cartoee.get_image_collection_gif(\n",
    "    ee_ic=collection,\n",
    "    out_dir=os.getcwd(),\n",
    "    out_gif=\"animation.gif\",\n",
    "    vis_params=vis_params,\n",
    "    region=region,\n",
    "    fps=5,\n",
    "    mp4=True,\n",
    "    grid_interval=(0.2, 0.2),\n",
    "    plot_title=\"Las Vegas, NV\",\n",
    "    date_format='YYYY-MM-dd',\n",
    "    fig_size=(10, 8),\n",
    "    dpi_plot=100,\n",
    "    file_format=\"jpg\",\n",
    "    north_arrow_dict=north_arrow_dict,\n",
    "    scale_bar_dict=scale_bar_dict,\n",
    "    verbose=True,\n",
    ")"
   ]
  },
  {
   "cell_type": "code",
   "execution_count": null,
   "id": "8bc09b93",
   "metadata": {},
   "outputs": [],
   "source": [
    "geemap.show_image('animation.gif')"
   ]
  },
  {
   "cell_type": "markdown",
   "id": "5a043206",
   "metadata": {},
   "source": [
    "## Plotting vector data"
   ]
  },
  {
   "cell_type": "code",
   "execution_count": null,
   "id": "6e804773",
   "metadata": {},
   "outputs": [],
   "source": [
    "import ee\n",
    "import geemap\n",
    "from geemap import cartoee\n",
    "from geemap.datasets import DATA\n",
    "import geemap.colormaps as cmap\n",
    "import cartopy.crs as ccrs\n",
    "\n",
    "%pylab inline"
   ]
  },
  {
   "cell_type": "markdown",
   "id": "c157d4d4",
   "metadata": {},
   "source": [
    "### Plot a simple vector"
   ]
  },
  {
   "cell_type": "code",
   "execution_count": null,
   "id": "4d3ca4c2",
   "metadata": {},
   "outputs": [],
   "source": [
    "Map = geemap.Map()\n",
    "\n",
    "features = ee.FeatureCollection(geemap.examples.get_ee_path('countries'))\n",
    "\n",
    "style = {'color': '000000ff', 'width': 1, 'lineType': 'solid', 'fillColor': '0000ff40'}\n",
    "\n",
    "Map.addLayer(features.style(**style), {}, \"Polygons\")\n",
    "Map.setCenter(-14.77, 34.70, 2)\n",
    "Map"
   ]
  },
  {
   "cell_type": "code",
   "execution_count": null,
   "id": "8931977b",
   "metadata": {},
   "outputs": [],
   "source": [
    "# specify region to focus on\n",
    "bbox = [180, -88, -180, 88]"
   ]
  },
  {
   "cell_type": "code",
   "execution_count": null,
   "id": "23f8fcb5",
   "metadata": {},
   "outputs": [],
   "source": [
    "fig = plt.figure(figsize=(15, 10))\n",
    "\n",
    "# plot the result with cartoee using a PlateCarre projection (default)\n",
    "ax = cartoee.get_map(features, region=bbox, style=style)\n",
    "ax.set_title(label='Countries', fontsize=15)\n",
    "cartoee.add_gridlines(ax, interval=30)\n",
    "\n",
    "plt.show()"
   ]
  },
  {
   "cell_type": "markdown",
   "id": "588ccf7e",
   "metadata": {},
   "source": [
    "![](https://i.imgur.com/RTFGotE.jpg)"
   ]
  },
  {
   "cell_type": "code",
   "execution_count": null,
   "id": "238b7b48",
   "metadata": {},
   "outputs": [],
   "source": [
    "fig = plt.figure(figsize=(15, 10))\n",
    "\n",
    "projection = ccrs.EqualEarth(central_longitude=-180)\n",
    "ax = cartoee.get_map(features, region=bbox, proj=projection, style=style)\n",
    "ax.set_title(label='Countries', fontsize=15)\n",
    "\n",
    "plt.show()"
   ]
  },
  {
   "cell_type": "markdown",
   "id": "1f3b8d0b",
   "metadata": {},
   "source": [
    "![](https://i.imgur.com/GagRINK.jpg)"
   ]
  },
  {
   "cell_type": "markdown",
   "id": "cebb3ce0",
   "metadata": {},
   "source": [
    "### Plot a styled vector"
   ]
  },
  {
   "cell_type": "code",
   "execution_count": null,
   "id": "f38348f2",
   "metadata": {},
   "outputs": [],
   "source": [
    "import geemap.colormaps as cm"
   ]
  },
  {
   "cell_type": "code",
   "execution_count": null,
   "id": "5db074a8",
   "metadata": {},
   "outputs": [],
   "source": [
    "fuels = [\n",
    "    'Coal',\n",
    "    'Oil',\n",
    "    'Gas',\n",
    "    'Hydro',\n",
    "    'Nuclear',\n",
    "    'Solar',\n",
    "    'Waste',\n",
    "    'Wind',\n",
    "    'Geothermal',\n",
    "    'Biomass',\n",
    "]"
   ]
  },
  {
   "cell_type": "code",
   "execution_count": null,
   "id": "15d0a8f5",
   "metadata": {},
   "outputs": [],
   "source": [
    "fc = ee.FeatureCollection(\"WRI/GPPD/power_plants\").filter(\n",
    "    ee.Filter.inList('fuel1', fuels)\n",
    ")"
   ]
  },
  {
   "cell_type": "code",
   "execution_count": null,
   "id": "13008f4e",
   "metadata": {},
   "outputs": [],
   "source": [
    "colors = [\n",
    "    '000000',\n",
    "    '593704',\n",
    "    'BC80BD',\n",
    "    '0565A6',\n",
    "    'E31A1C',\n",
    "    'FF7F00',\n",
    "    '6A3D9A',\n",
    "    '5CA2D1',\n",
    "    'FDBF6F',\n",
    "    '229A00',\n",
    "]"
   ]
  },
  {
   "cell_type": "code",
   "execution_count": null,
   "id": "d57c2f5a",
   "metadata": {},
   "outputs": [],
   "source": [
    "styled_fc = geemap.ee_vector_style(fc, column=\"fuel1\", labels=fuels, color=colors, pointSize=1)"
   ]
  },
  {
   "cell_type": "code",
   "execution_count": null,
   "id": "eef7b509",
   "metadata": {},
   "outputs": [],
   "source": [
    "Map = geemap.Map()\n",
    "Map.addLayer(styled_fc, {}, 'Power Plants')\n",
    "Map.add_legend(title=\"Power Plant Fuel Type\", labels=fuels, colors=colors)\n",
    "Map"
   ]
  },
  {
   "cell_type": "code",
   "execution_count": null,
   "id": "3e77f244",
   "metadata": {},
   "outputs": [],
   "source": [
    "from matplotlib.lines import Line2D"
   ]
  },
  {
   "cell_type": "code",
   "execution_count": null,
   "id": "181adc4d",
   "metadata": {},
   "outputs": [],
   "source": [
    "legend = []"
   ]
  },
  {
   "cell_type": "code",
   "execution_count": null,
   "id": "7cecbfb0",
   "metadata": {},
   "outputs": [],
   "source": [
    "for index, fuel in enumerate(fuels):\n",
    "    item =            Line2D(\n",
    "                    [],\n",
    "                    [],\n",
    "                    marker=\"o\",\n",
    "                    color='#' + colors[index],\n",
    "                    label=fuel,\n",
    "                    markerfacecolor='#' + colors[index],\n",
    "                    markersize=10,\n",
    "                    ls=\"\",\n",
    "                )\n",
    "    legend.append(item)"
   ]
  },
  {
   "cell_type": "code",
   "execution_count": null,
   "id": "3ba4fc8a",
   "metadata": {},
   "outputs": [],
   "source": [
    "fig = plt.figure(figsize=(15, 10))\n",
    "\n",
    "# plot the result with cartoee using a PlateCarre projection (default)\n",
    "ax = cartoee.get_map(styled_fc, region=bbox, basemap='ROADMAP')\n",
    "ax.set_title(label='Countries', fontsize=15)\n",
    "cartoee.add_gridlines(ax, interval=30)\n",
    "cartoee.add_legend(ax, legend_elements=legend)\n",
    "\n",
    "plt.show()"
   ]
  },
  {
   "cell_type": "code",
   "execution_count": null,
   "id": "146d8679",
   "metadata": {},
   "outputs": [],
   "source": [
    "Map = geemap.Map()\n",
    "\n",
    "palette = cm.palettes.gist_earth\n",
    "features = ee.FeatureCollection(geemap.examples.get_ee_path('countries'))\n",
    "features_styled = geemap.vector_styling(features, column=\"NAME\", palette=palette)\n",
    "\n",
    "Map.add_styled_vector(features, column=\"NAME\", palette=palette, layer_name='Polygon')\n",
    "Map.setCenter(-14.77, 34.70, 2)\n",
    "Map"
   ]
  },
  {
   "cell_type": "code",
   "execution_count": null,
   "id": "5a490f61",
   "metadata": {},
   "outputs": [],
   "source": [
    "Map = geemap.Map()\n",
    "\n",
    "palette = cm.palettes.gist_earth\n",
    "features = ee.FeatureCollection('USDOS/LSIB_SIMPLE/2017')\n",
    "features_styled = geemap.vector_styling(features, column=\"abbreviati\", palette=palette)\n",
    "\n",
    "Map.add_styled_vector(features, column=\"abbreviati\", palette=palette, layer_name='Polygon')\n",
    "Map.setCenter(-14.77, 34.70, 2)\n",
    "Map"
   ]
  },
  {
   "cell_type": "code",
   "execution_count": null,
   "id": "40644a66",
   "metadata": {},
   "outputs": [],
   "source": [
    "car"
   ]
  },
  {
   "cell_type": "code",
   "execution_count": null,
   "id": "0fc9202f",
   "metadata": {},
   "outputs": [],
   "source": [
    "features_styled.first().propertyNames().getInfo()"
   ]
  },
  {
   "cell_type": "code",
   "execution_count": null,
   "id": "107a2dd1",
   "metadata": {},
   "outputs": [],
   "source": [
    "image = features_styled.style(**{\"styleProperty\": \"style\"})"
   ]
  },
  {
   "cell_type": "code",
   "execution_count": null,
   "id": "b3e3443e",
   "metadata": {},
   "outputs": [],
   "source": [
    "proj = ee.Projection(\"EPSG:3857\")"
   ]
  },
  {
   "cell_type": "code",
   "execution_count": null,
   "id": "5cc235ae",
   "metadata": {},
   "outputs": [],
   "source": [
    "image = image.setDefaultProjection(proj)"
   ]
  },
  {
   "cell_type": "code",
   "execution_count": null,
   "id": "591f33f8",
   "metadata": {},
   "outputs": [],
   "source": [
    "Map.addLayer(image)"
   ]
  },
  {
   "cell_type": "code",
   "execution_count": null,
   "id": "bf822258",
   "metadata": {},
   "outputs": [],
   "source": [
    "fig = plt.figure(figsize=(15, 10))\n",
    "\n",
    "# plot the result with cartoee using a PlateCarre projection (default)\n",
    "ax = cartoee.get_map(image, region=bbox, style=style)\n",
    "ax.set_title(label='Countries', fontsize=15)\n",
    "cartoee.add_gridlines(ax, interval=30)\n",
    "\n",
    "plt.show()"
   ]
  },
  {
   "cell_type": "code",
   "execution_count": null,
   "id": "58e2fda5",
   "metadata": {},
   "outputs": [],
   "source": [
    "image.projection().getInfo()"
   ]
  },
  {
   "cell_type": "code",
   "execution_count": null,
   "id": "e14a3f9b",
   "metadata": {
    "jupyter": {
     "source_hidden": true
    },
    "tags": []
   },
   "outputs": [],
   "source": [
    "bbox = [179, -88, -179, 88]\n",
    "fig = plt.figure(figsize=(15, 10))\n",
    "\n",
    "ax = cartoee.get_map(image, region=bbox)\n",
    "ax.set_title(label='Countries', fontsize=15)\n",
    "cartoee.add_gridlines(ax, interval=30)\n",
    "\n",
    "plt.show()"
   ]
  },
  {
   "cell_type": "markdown",
   "id": "70f79524",
   "metadata": {},
   "source": [
    "![](https://i.imgur.com/reecFZo.jpg)"
   ]
  },
  {
   "cell_type": "code",
   "execution_count": null,
   "id": "bd0260a3",
   "metadata": {},
   "outputs": [],
   "source": [
    "fig = plt.figure(figsize=(15, 10))\n",
    "\n",
    "projection = ccrs.EqualEarth(central_longitude=-180)\n",
    "ax = cartoee.get_map(features_styled, region=bbox, proj=projection)\n",
    "ax.set_title(label='Countries', fontsize=15)\n",
    "\n",
    "plt.show()"
   ]
  },
  {
   "cell_type": "markdown",
   "id": "e1b86027",
   "metadata": {},
   "source": [
    "![](https://i.imgur.com/uW9p8vS.jpg)\n",
    "\n",
    "## References\n",
    "\n",
    "- https://geemap.org/notebooks/50_cartoee_quickstart/\n",
    "- https://geemap.org/notebooks/51_cartoee_projections/\n",
    "- https://geemap.org/notebooks/52_cartoee_gif/\n",
    "- https://geemap.org/notebooks/57_cartoee_blend/\n",
    "- https://geemap.org/notebooks/61_cartoee_scalebar/\n",
    "- https://geemap.org/notebooks/66_cartoee_legend/\n",
    "- https://geemap.org/notebooks/69_cartoee_vector\n",
    "- https://geemap.org/notebooks/112_cartoee_basemap/"
   ]
  }
 ],
 "metadata": {
  "jupytext": {
   "text_representation": {
    "extension": ".md",
    "format_name": "myst",
    "format_version": 0.13,
    "jupytext_version": "1.11.5"
   }
  },
  "kernelspec": {
   "display_name": "Python 3 (ipykernel)",
   "language": "python",
   "name": "python3"
  },
  "source_map": [
   12,
   23,
   41,
   45,
   49,
   54,
   56,
   60,
   67,
   70,
   74,
   79,
   85,
   103,
   126,
   130,
   138,
   156,
   173,
   177,
   208,
   212,
   216,
   226,
   234,
   245,
   249,
   269,
   289,
   309,
   329,
   347,
   351,
   370,
   393,
   397,
   401,
   447,
   451,
   456,
   467,
   471,
   484,
   490,
   518,
   566,
   570,
   574,
   582,
   600,
   617,
   621,
   625,
   671,
   675,
   679,
   682,
   686,
   709,
   713,
   720,
   724,
   769,
   773,
   777,
   798,
   800,
   804,
   813,
   817,
   829,
   834,
   843,
   847,
   855,
   859,
   863,
   867,
   882,
   888,
   903,
   907,
   914,
   918,
   922,
   937,
   949,
   961,
   973,
   977,
   981,
   985,
   989,
   993,
   997,
   1008,
   1012,
   1026,
   1030,
   1038
  ]
 },
 "nbformat": 4,
 "nbformat_minor": 5
}