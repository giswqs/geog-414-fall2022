{
 "cells": [
  {
   "cell_type": "markdown",
   "id": "9178804e",
   "metadata": {},
   "source": [
    "# Analyzing Geospatial Data\n",
    "\n",
    "```{contents}\n",
    ":local:\n",
    ":depth: 2\n",
    "```\n",
    "\n",
    "## Introduction"
   ]
  },
  {
   "cell_type": "markdown",
   "id": "8edccbcd",
   "metadata": {},
   "source": [
    "## Technical requirements\n",
    "\n",
    "```bash\n",
    "conda create -n gee python\n",
    "conda activate gee\n",
    "conda install -c conda-forge mamba\n",
    "mamba install -c conda-forge geemap pygis\n",
    "```\n",
    "\n",
    "```bash\n",
    "jupyter lab\n",
    "```\n",
    "\n",
    "[![Open in Colab](https://colab.research.google.com/assets/colab-badge.svg)](https://colab.research.google.com/github/giswqs/geebook/blob/master/chapters/06_data_analysis.ipynb)"
   ]
  },
  {
   "cell_type": "code",
   "execution_count": null,
   "id": "6987f8cb",
   "metadata": {},
   "outputs": [],
   "source": [
    "# pip install pygis"
   ]
  },
  {
   "cell_type": "code",
   "execution_count": null,
   "id": "73f08982",
   "metadata": {},
   "outputs": [],
   "source": [
    "import ee\n",
    "import geemap"
   ]
  },
  {
   "cell_type": "code",
   "execution_count": null,
   "id": "271dc12a",
   "metadata": {},
   "outputs": [],
   "source": [
    "geemap.ee_initialize()"
   ]
  },
  {
   "cell_type": "markdown",
   "id": "f2078e6f",
   "metadata": {},
   "source": [
    "## Reducer\n",
    "\n",
    "### List reductions"
   ]
  },
  {
   "cell_type": "code",
   "execution_count": null,
   "id": "872292c7",
   "metadata": {},
   "outputs": [],
   "source": [
    "values = ee.List.sequence(1, 10)\n",
    "print(values.getInfo())"
   ]
  },
  {
   "cell_type": "code",
   "execution_count": null,
   "id": "c572196e",
   "metadata": {},
   "outputs": [],
   "source": [
    "count = values.reduce(ee.Reducer.count())\n",
    "print(count.getInfo())  # 10"
   ]
  },
  {
   "cell_type": "code",
   "execution_count": null,
   "id": "db2d674c",
   "metadata": {},
   "outputs": [],
   "source": [
    "min_value = values.reduce(ee.Reducer.min())\n",
    "print(min_value.getInfo())  # 1"
   ]
  },
  {
   "cell_type": "code",
   "execution_count": null,
   "id": "aa3d926e",
   "metadata": {},
   "outputs": [],
   "source": [
    "max_value = values.reduce(ee.Reducer.max())\n",
    "print(max_value.getInfo())  # 10"
   ]
  },
  {
   "cell_type": "code",
   "execution_count": null,
   "id": "ca644b32",
   "metadata": {},
   "outputs": [],
   "source": [
    "min_max_value = values.reduce(ee.Reducer.minMax())\n",
    "print(min_max_value.getInfo())"
   ]
  },
  {
   "cell_type": "code",
   "execution_count": null,
   "id": "0a792c57",
   "metadata": {},
   "outputs": [],
   "source": [
    "mean_value = values.reduce(ee.Reducer.mean())\n",
    "print(mean_value.getInfo())  # 5.5"
   ]
  },
  {
   "cell_type": "code",
   "execution_count": null,
   "id": "ab741032",
   "metadata": {},
   "outputs": [],
   "source": [
    "median_value = values.reduce(ee.Reducer.median())\n",
    "print(median_value.getInfo())  # 5.5"
   ]
  },
  {
   "cell_type": "code",
   "execution_count": null,
   "id": "f9a03628",
   "metadata": {},
   "outputs": [],
   "source": [
    "sum_value = values.reduce(ee.Reducer.sum())\n",
    "print(sum_value.getInfo())  # 55"
   ]
  },
  {
   "cell_type": "code",
   "execution_count": null,
   "id": "d74495d3",
   "metadata": {},
   "outputs": [],
   "source": [
    "std_value = values.reduce(ee.Reducer.stdDev())\n",
    "print(std_value.getInfo())  # 2.8723"
   ]
  },
  {
   "cell_type": "markdown",
   "id": "b787cdab",
   "metadata": {},
   "source": [
    "### ImageCollection reductions"
   ]
  },
  {
   "cell_type": "code",
   "execution_count": null,
   "id": "4b9bf1b7",
   "metadata": {},
   "outputs": [],
   "source": [
    "Map = geemap.Map()\n",
    "\n",
    "# Load an image collection, filtered so it's not too much data.\n",
    "collection = (\n",
    "    ee.ImageCollection('LANDSAT/LC08/C01/T1_TOA')\n",
    "    .filterDate('2021-01-01', '2021-12-31')\n",
    "    .filter(ee.Filter.eq('WRS_PATH', 44))\n",
    "    .filter(ee.Filter.eq('WRS_ROW', 34))\n",
    ")\n",
    "\n",
    "# Compute the median in each band, each pixel.\n",
    "# Band names are B1_median, B2_median, etc.\n",
    "median = collection.reduce(ee.Reducer.median())\n",
    "\n",
    "# The output is an Image.  Add it to the map.\n",
    "vis_param = {'bands': ['B5_median', 'B4_median', 'B3_median'], 'gamma': 2}\n",
    "Map.setCenter(-122.3355, 37.7924, 8)\n",
    "Map.addLayer(median, vis_param)\n",
    "Map"
   ]
  },
  {
   "cell_type": "code",
   "execution_count": null,
   "id": "dd52c038",
   "metadata": {},
   "outputs": [],
   "source": [
    "median = collection.median()\n",
    "print(median.bandNames().getInfo())"
   ]
  },
  {
   "cell_type": "markdown",
   "id": "833383ad",
   "metadata": {},
   "source": [
    "### Image reductions"
   ]
  },
  {
   "cell_type": "code",
   "execution_count": null,
   "id": "8c88b671",
   "metadata": {},
   "outputs": [],
   "source": [
    "Map = geemap.Map()\n",
    "\n",
    "# Load an image and select some bands of interest.\n",
    "image = ee.Image('LANDSAT/LC08/C01/T1/LC08_044034_20140318').select(['B4', 'B3', 'B2'])\n",
    "\n",
    "# Reduce the image to get a one-band maximum value image.\n",
    "maxValue = image.reduce(ee.Reducer.max())\n",
    "\n",
    "# Display the result.\n",
    "Map.centerObject(image, 8)\n",
    "Map.addLayer(image, {}, 'Original image')\n",
    "Map.addLayer(maxValue, {'max': 13000}, 'Maximum value image')\n",
    "Map"
   ]
  },
  {
   "cell_type": "markdown",
   "id": "b9561553",
   "metadata": {},
   "source": [
    "### FeatureCollection reductions"
   ]
  },
  {
   "cell_type": "code",
   "execution_count": null,
   "id": "ef65572f",
   "metadata": {},
   "outputs": [],
   "source": [
    "Map = geemap.Map()\n",
    "\n",
    "# Load US census data as a FeatureCollection.\n",
    "census = ee.FeatureCollection('TIGER/2010/Blocks')\n",
    "\n",
    "# Filter the collection to include only Benton County, OR.\n",
    "benton = census.filter(\n",
    "    ee.Filter.And(ee.Filter.eq('statefp10', '41'), ee.Filter.eq('countyfp10', '003'))\n",
    ")\n",
    "\n",
    "# Display Benton County census blocks.\n",
    "Map.setCenter(-123.27, 44.57, 13)\n",
    "Map.addLayer(benton)\n",
    "Map"
   ]
  },
  {
   "cell_type": "code",
   "execution_count": null,
   "id": "f305ac4e",
   "metadata": {},
   "outputs": [],
   "source": [
    "# Compute sums of the specified properties.\n",
    "properties = ['pop10', 'housing10']\n",
    "sums = benton.filter(ee.Filter.notNull(properties)).reduceColumns(\n",
    "    **{'reducer': ee.Reducer.sum().repeat(2), 'selectors': properties}\n",
    ")\n",
    "\n",
    "# Print the resultant Dictionary.\n",
    "print(sums.getInfo())"
   ]
  },
  {
   "cell_type": "code",
   "execution_count": null,
   "id": "a3939a67",
   "metadata": {},
   "outputs": [],
   "source": [
    "print(benton.aggregate_sum('pop10').getInfo())  # 85579\n",
    "print(benton.aggregate_sum('housing10').getInfo())  # 36245"
   ]
  },
  {
   "cell_type": "code",
   "execution_count": null,
   "id": "d53d5750",
   "metadata": {},
   "outputs": [],
   "source": [
    "benton.aggregate_stats('pop10').getInfo()"
   ]
  },
  {
   "cell_type": "markdown",
   "id": "c2596989",
   "metadata": {},
   "source": [
    "## Image descriptive statistics"
   ]
  },
  {
   "cell_type": "code",
   "execution_count": null,
   "id": "0d691a2a",
   "metadata": {},
   "outputs": [],
   "source": [
    "Map = geemap.Map()\n",
    "\n",
    "centroid = ee.Geometry.Point([-122.4439, 37.7538])\n",
    "image = ee.ImageCollection('LANDSAT/LC08/C01/T1_SR').filterBounds(centroid).first()\n",
    "vis = {'min': 0, 'max': 3000, 'bands': ['B5', 'B4', 'B3']}\n",
    "\n",
    "Map.centerObject(centroid, 8)\n",
    "Map.addLayer(image, vis, \"Landsat-8\")\n",
    "Map"
   ]
  },
  {
   "cell_type": "code",
   "execution_count": null,
   "id": "cd2d4a8b",
   "metadata": {},
   "outputs": [],
   "source": [
    "image.propertyNames().getInfo()"
   ]
  },
  {
   "cell_type": "code",
   "execution_count": null,
   "id": "fdc5b26b",
   "metadata": {},
   "outputs": [],
   "source": [
    "image.get('CLOUD_COVER').getInfo()  # 0.05"
   ]
  },
  {
   "cell_type": "code",
   "execution_count": null,
   "id": "c6414757",
   "metadata": {},
   "outputs": [],
   "source": [
    "props = geemap.image_props(image)\n",
    "props.getInfo()"
   ]
  },
  {
   "cell_type": "code",
   "execution_count": null,
   "id": "69afc9bf",
   "metadata": {},
   "outputs": [],
   "source": [
    "stats = geemap.image_stats(image, scale=30)\n",
    "stats.getInfo()"
   ]
  },
  {
   "cell_type": "markdown",
   "id": "73f9021d",
   "metadata": {},
   "source": [
    "## Zonal statistics"
   ]
  },
  {
   "cell_type": "code",
   "execution_count": null,
   "id": "33f1b408",
   "metadata": {},
   "outputs": [],
   "source": [
    "Map = geemap.Map(center=[40, -100], zoom=4)\n",
    "\n",
    "# Add NASA SRTM\n",
    "dem = ee.Image('USGS/SRTMGL1_003')\n",
    "dem_vis = {\n",
    "    'min': 0,\n",
    "    'max': 4000,\n",
    "    'palette': ['006633', 'E5FFCC', '662A00', 'D8D8D8', 'F5F5F5'],\n",
    "}\n",
    "Map.addLayer(dem, dem_vis, 'SRTM DEM')\n",
    "\n",
    "# Add 5-year Landsat TOA composite\n",
    "landsat = ee.Image('LANDSAT/LE7_TOA_5YEAR/1999_2003')\n",
    "landsat_vis = {'bands': ['B4', 'B3', 'B2'], 'gamma': 1.4}\n",
    "Map.addLayer(landsat, landsat_vis, \"Landsat\", False)\n",
    "\n",
    "# Add US Census States\n",
    "states = ee.FeatureCollection(\"TIGER/2018/States\")\n",
    "style = {'fillColor': '00000000'}\n",
    "Map.addLayer(states.style(**style), {}, 'US States')\n",
    "Map"
   ]
  },
  {
   "cell_type": "code",
   "execution_count": null,
   "id": "a01742a4",
   "metadata": {},
   "outputs": [],
   "source": [
    "out_dem_stats = 'dem_stats.csv'\n",
    "geemap.zonal_stats(\n",
    "    dem, states, out_dem_stats, statistics_type='MEAN', scale=1000, return_fc=False\n",
    ")"
   ]
  },
  {
   "cell_type": "code",
   "execution_count": null,
   "id": "af74e95a",
   "metadata": {},
   "outputs": [],
   "source": [
    "out_landsat_stats = 'landsat_stats.csv'\n",
    "geemap.zonal_stats(\n",
    "    landsat,\n",
    "    states,\n",
    "    out_landsat_stats,\n",
    "    statistics_type='MEAN',\n",
    "    scale=1000,\n",
    "    return_fc=False,\n",
    ")"
   ]
  },
  {
   "cell_type": "markdown",
   "id": "b8d63e73",
   "metadata": {},
   "source": [
    "## Zonal statistics by group"
   ]
  },
  {
   "cell_type": "code",
   "execution_count": null,
   "id": "ab0c2069",
   "metadata": {},
   "outputs": [],
   "source": [
    "Map = geemap.Map(center=[40, -100], zoom=4)\n",
    "\n",
    "# Add NLCD data\n",
    "dataset = ee.Image('USGS/NLCD_RELEASES/2019_REL/NLCD/2019')\n",
    "landcover = dataset.select('landcover')\n",
    "Map.addLayer(landcover, {}, 'NLCD 2019')\n",
    "\n",
    "# Add US census states\n",
    "states = ee.FeatureCollection(\"TIGER/2018/States\")\n",
    "style = {'fillColor': '00000000'}\n",
    "Map.addLayer(states.style(**style), {}, 'US States')\n",
    "\n",
    "# Add NLCD legend\n",
    "Map.add_legend(title='NLCD Land Cover', builtin_legend='NLCD')\n",
    "Map"
   ]
  },
  {
   "cell_type": "code",
   "execution_count": null,
   "id": "e29e9890",
   "metadata": {},
   "outputs": [],
   "source": [
    "nlcd_stats = 'nlcd_stats.csv'\n",
    "\n",
    "geemap.zonal_stats_by_group(\n",
    "    landcover,\n",
    "    states,\n",
    "    nlcd_stats,\n",
    "    statistics_type='SUM',\n",
    "    denominator=1e6,\n",
    "    decimal_places=2,\n",
    ")"
   ]
  },
  {
   "cell_type": "code",
   "execution_count": null,
   "id": "46d82143",
   "metadata": {},
   "outputs": [],
   "source": [
    "nlcd_stats = 'nlcd_stats_pct.csv'\n",
    "\n",
    "geemap.zonal_stats_by_group(\n",
    "    landcover,\n",
    "    states,\n",
    "    nlcd_stats,\n",
    "    statistics_type='PERCENTAGE',\n",
    "    denominator=1e6,\n",
    "    decimal_places=2,\n",
    ")"
   ]
  },
  {
   "cell_type": "markdown",
   "id": "1afb83db",
   "metadata": {},
   "source": [
    "## Zonal statistics with two images"
   ]
  },
  {
   "cell_type": "code",
   "execution_count": null,
   "id": "e41a8e3b",
   "metadata": {},
   "outputs": [],
   "source": [
    "Map = geemap.Map(center=[40, -100], zoom=4)\n",
    "dem = ee.Image('USGS/3DEP/10m')\n",
    "vis = {'min': 0, 'max': 4000, 'palette': 'terrain'}\n",
    "Map.addLayer(dem, vis, 'DEM')\n",
    "Map"
   ]
  },
  {
   "cell_type": "code",
   "execution_count": null,
   "id": "5aee17f6",
   "metadata": {},
   "outputs": [],
   "source": [
    "landcover = ee.Image(\"USGS/NLCD_RELEASES/2019_REL/NLCD/2019\").select('landcover')\n",
    "Map.addLayer(landcover, {}, 'NLCD 2019')\n",
    "Map.add_legend(title='NLCD Land Cover Classification', builtin_legend='NLCD')"
   ]
  },
  {
   "cell_type": "code",
   "execution_count": null,
   "id": "3b3457e4",
   "metadata": {},
   "outputs": [],
   "source": [
    "stats = geemap.image_stats_by_zone(dem, landcover, reducer='MEAN')\n",
    "stats"
   ]
  },
  {
   "cell_type": "code",
   "execution_count": null,
   "id": "f7ab42d3",
   "metadata": {},
   "outputs": [],
   "source": [
    "stats.to_csv('mean.csv', index=False)"
   ]
  },
  {
   "cell_type": "code",
   "execution_count": null,
   "id": "bc4311a1",
   "metadata": {},
   "outputs": [],
   "source": [
    "geemap.image_stats_by_zone(dem, landcover, out_csv=\"std.csv\", reducer='STD')"
   ]
  },
  {
   "cell_type": "markdown",
   "id": "c8e6d08d",
   "metadata": {},
   "source": [
    "## Creating coordinate grids"
   ]
  },
  {
   "cell_type": "code",
   "execution_count": null,
   "id": "ef1c06e9",
   "metadata": {},
   "outputs": [],
   "source": [
    "lat_grid = geemap.latitude_grid(step=5.0, west=-180, east=180, south=-85, north=85)"
   ]
  },
  {
   "cell_type": "code",
   "execution_count": null,
   "id": "152b45d9",
   "metadata": {},
   "outputs": [],
   "source": [
    "Map = geemap.Map()\n",
    "style = {'fillColor': '00000000'}\n",
    "Map.addLayer(lat_grid.style(**style), {}, 'Latitude Grid')\n",
    "Map"
   ]
  },
  {
   "cell_type": "code",
   "execution_count": null,
   "id": "fa061f0a",
   "metadata": {},
   "outputs": [],
   "source": [
    "df = geemap.ee_to_df(lat_grid)\n",
    "df"
   ]
  },
  {
   "cell_type": "code",
   "execution_count": null,
   "id": "b9865901",
   "metadata": {},
   "outputs": [],
   "source": [
    "lon_grid = geemap.longitude_grid(step=5.0, west=-180, east=180, south=-85, north=85)"
   ]
  },
  {
   "cell_type": "code",
   "execution_count": null,
   "id": "da080626",
   "metadata": {},
   "outputs": [],
   "source": [
    "Map = geemap.Map()\n",
    "style = {'fillColor': '00000000'}\n",
    "Map.addLayer(lon_grid.style(**style), {}, 'Longitude Grid')\n",
    "Map"
   ]
  },
  {
   "cell_type": "code",
   "execution_count": null,
   "id": "b20d29a1",
   "metadata": {},
   "outputs": [],
   "source": [
    "grid = geemap.latlon_grid(\n",
    "    lat_step=10, lon_step=10, west=-180, east=180, south=-85, north=85\n",
    ")"
   ]
  },
  {
   "cell_type": "code",
   "execution_count": null,
   "id": "c2b394ad",
   "metadata": {},
   "outputs": [],
   "source": [
    "Map = geemap.Map()\n",
    "style = {'fillColor': '00000000'}\n",
    "Map.addLayer(grid.style(**style), {}, 'Coordinate Grid')\n",
    "Map"
   ]
  },
  {
   "cell_type": "markdown",
   "id": "2e8d6327",
   "metadata": {},
   "source": [
    "## Creating fishnets"
   ]
  },
  {
   "cell_type": "code",
   "execution_count": null,
   "id": "0bc5694f",
   "metadata": {},
   "outputs": [],
   "source": [
    "Map = geemap.Map()\n",
    "Map"
   ]
  },
  {
   "cell_type": "code",
   "execution_count": null,
   "id": "585a34ec",
   "metadata": {},
   "outputs": [],
   "source": [
    "data = Map.user_roi\n",
    "\n",
    "if data is None:\n",
    "    data = ee.Geometry.BBox(-112.8089, 33.7306, -88.5951, 46.6244)\n",
    "    Map.addLayer(data, {}, 'ROI')\n",
    "    Map.user_roi = None\n",
    "\n",
    "Map.centerObject(data)"
   ]
  },
  {
   "cell_type": "code",
   "execution_count": null,
   "id": "497017a5",
   "metadata": {},
   "outputs": [],
   "source": [
    "fishnet = geemap.fishnet(data, h_interval=2.0, v_interval=2.0, delta=1)\n",
    "Map.addLayer(fishnet, {}, 'Fishnet 1')"
   ]
  },
  {
   "cell_type": "code",
   "execution_count": null,
   "id": "51c15fba",
   "metadata": {},
   "outputs": [],
   "source": [
    "data = Map.user_roi\n",
    "\n",
    "if data is None:\n",
    "    data = ee.Geometry.Polygon(\n",
    "        [\n",
    "            [\n",
    "                [-64.602356, -1.127399],\n",
    "                [-68.821106, -12.625598],\n",
    "                [-60.647278, -22.498601],\n",
    "                [-47.815247, -21.111406],\n",
    "                [-43.860168, -8.913564],\n",
    "                [-54.582825, -0.775886],\n",
    "                [-60.823059, 0.454555],\n",
    "                [-64.602356, -1.127399],\n",
    "            ]\n",
    "        ]\n",
    "    )\n",
    "    Map.addLayer(data, {}, 'ROI2')\n",
    "\n",
    "Map.centerObject(data)\n",
    "Map"
   ]
  },
  {
   "cell_type": "code",
   "execution_count": null,
   "id": "2d5ca84d",
   "metadata": {},
   "outputs": [],
   "source": [
    "fishnet = geemap.fishnet(data, rows=6, cols=8, delta=1)\n",
    "Map.addLayer(fishnet, {}, 'Fishnet 2')"
   ]
  },
  {
   "cell_type": "markdown",
   "id": "b3189736",
   "metadata": {},
   "source": [
    "## Sankey diagrams"
   ]
  },
  {
   "cell_type": "code",
   "execution_count": null,
   "id": "d0f8ab75",
   "metadata": {},
   "outputs": [],
   "source": [
    "import sankee\n",
    "\n",
    "sankee.datasets.LCMS_LC.sankify(\n",
    "    years=[1990, 2000, 2010, 2020],\n",
    "    region=ee.Geometry.Point([-122.192688, 46.25917]).buffer(2000),\n",
    "    max_classes=3,\n",
    "    title=\"Mount St. Helens Recovery\",\n",
    ")"
   ]
  },
  {
   "cell_type": "code",
   "execution_count": null,
   "id": "dd12a1b9",
   "metadata": {},
   "outputs": [],
   "source": [
    "Map = geemap.Map(height=650)\n",
    "Map"
   ]
  },
  {
   "cell_type": "markdown",
   "id": "d26ba849",
   "metadata": {},
   "source": [
    "## Mapping available image count"
   ]
  },
  {
   "cell_type": "code",
   "execution_count": null,
   "id": "82191ca5",
   "metadata": {},
   "outputs": [],
   "source": [
    "collection = ee.ImageCollection(\"LANDSAT/LC08/C02/T1_L2\")\n",
    "image = geemap.image_count(\n",
    "    collection, region=None, start_date='2021-01-01', end_date='2022-01-01', clip=False\n",
    ")"
   ]
  },
  {
   "cell_type": "code",
   "execution_count": null,
   "id": "77a031a7",
   "metadata": {},
   "outputs": [],
   "source": [
    "Map = geemap.Map()\n",
    "vis = {'min': 0, 'max': 60, 'palette': 'coolwarm'}\n",
    "Map.addLayer(image, vis, 'Image Count')\n",
    "\n",
    "countries = ee.FeatureCollection(geemap.examples.get_ee_path('countries'))\n",
    "style = {\"color\": \"00000088\", \"width\": 1, \"fillColor\": \"00000000\"}\n",
    "Map.addLayer(countries.style(**style), {}, \"Countries\")\n",
    "Map.add_colorbar(vis, label='Landsat 8 Image Count')\n",
    "\n",
    "Map"
   ]
  },
  {
   "cell_type": "markdown",
   "id": "918aa00e",
   "metadata": {},
   "source": [
    "## Using Landsat 9"
   ]
  },
  {
   "cell_type": "code",
   "execution_count": null,
   "id": "b5ee21e1",
   "metadata": {},
   "outputs": [],
   "source": [
    "Map = geemap.Map()"
   ]
  },
  {
   "cell_type": "code",
   "execution_count": null,
   "id": "f99f57a4",
   "metadata": {},
   "outputs": [],
   "source": [
    "collection = ee.ImageCollection('LANDSAT/LC09/C02/T1_L2')\n",
    "print(collection.size().getInfo())"
   ]
  },
  {
   "cell_type": "code",
   "execution_count": null,
   "id": "d8ee06fd",
   "metadata": {},
   "outputs": [],
   "source": [
    "median = collection.median()"
   ]
  },
  {
   "cell_type": "code",
   "execution_count": null,
   "id": "ee0aae7a",
   "metadata": {},
   "outputs": [],
   "source": [
    "def apply_scale_factors(image):\n",
    "    opticalBands = image.select('SR_B.').multiply(0.0000275).add(-0.2)\n",
    "    thermalBands = image.select('ST_B.*').multiply(0.00341802).add(149.0)\n",
    "    return image.addBands(opticalBands, None, True).addBands(thermalBands, None, True)"
   ]
  },
  {
   "cell_type": "code",
   "execution_count": null,
   "id": "3c4e02e3",
   "metadata": {
    "tags": []
   },
   "outputs": [],
   "source": [
    "dataset = apply_scale_factors(median)"
   ]
  },
  {
   "cell_type": "code",
   "execution_count": null,
   "id": "8a246785",
   "metadata": {},
   "outputs": [],
   "source": [
    "vis_natural = {\n",
    "    'bands': ['SR_B4', 'SR_B3', 'SR_B2'],\n",
    "    'min': 0.0,\n",
    "    'max': 0.3,\n",
    "}\n",
    "\n",
    "vis_nir = {\n",
    "    'bands': ['SR_B5', 'SR_B4', 'SR_B3'],\n",
    "    'min': 0.0,\n",
    "    'max': 0.3,\n",
    "}"
   ]
  },
  {
   "cell_type": "code",
   "execution_count": null,
   "id": "e9eada5f",
   "metadata": {},
   "outputs": [],
   "source": [
    "Map.addLayer(dataset, vis_natural, 'True color (432)')\n",
    "Map.addLayer(dataset, vis_nir, 'Color infrared (543)')\n",
    "Map"
   ]
  },
  {
   "cell_type": "markdown",
   "id": "046407da",
   "metadata": {},
   "source": [
    "![](https://i.imgur.com/USPMXzw.jpg)"
   ]
  },
  {
   "cell_type": "code",
   "execution_count": null,
   "id": "619c1b6b",
   "metadata": {},
   "outputs": [],
   "source": [
    "vis_params = [\n",
    "    {'bands': ['SR_B4', 'SR_B3', 'SR_B2'], 'min': 0, 'max': 0.3},\n",
    "    {'bands': ['SR_B5', 'SR_B4', 'SR_B3'], 'min': 0, 'max': 0.3},\n",
    "    {'bands': ['SR_B7', 'SR_B6', 'SR_B4'], 'min': 0, 'max': 0.3},\n",
    "    {'bands': ['SR_B6', 'SR_B5', 'SR_B2'], 'min': 0, 'max': 0.3},\n",
    "]"
   ]
  },
  {
   "cell_type": "code",
   "execution_count": null,
   "id": "ab0d234d",
   "metadata": {},
   "outputs": [],
   "source": [
    "labels = [\n",
    "    'Natural Color (4, 3, 2)',\n",
    "    'Color Infrared (5, 4, 3)',\n",
    "    'Short-Wave Infrared (7, 6 4)',\n",
    "    'Agriculture (6, 5, 2)',\n",
    "]"
   ]
  },
  {
   "cell_type": "code",
   "execution_count": null,
   "id": "3b6ada9e",
   "metadata": {},
   "outputs": [],
   "source": [
    "geemap.linked_maps(\n",
    "    rows=2,\n",
    "    cols=2,\n",
    "    height=\"300px\",\n",
    "    center=[40, -100],\n",
    "    zoom=4,\n",
    "    ee_objects=[dataset],\n",
    "    vis_params=vis_params,\n",
    "    labels=labels,\n",
    "    label_position=\"topright\",\n",
    ")"
   ]
  },
  {
   "cell_type": "markdown",
   "id": "1571a966",
   "metadata": {},
   "source": [
    "![](https://i.imgur.com/c4FsGBI.jpg)"
   ]
  },
  {
   "cell_type": "code",
   "execution_count": null,
   "id": "d07f3714",
   "metadata": {},
   "outputs": [],
   "source": [
    "landsat8 = ee.Image('LANDSAT/LC08/C02/T1_L2/LC08_015043_20130402')\n",
    "landsat9 = ee.Image('LANDSAT/LC09/C02/T1_L2/LC09_015043_20211231')"
   ]
  },
  {
   "cell_type": "code",
   "execution_count": null,
   "id": "a737286e",
   "metadata": {},
   "outputs": [],
   "source": [
    "landsat8 = apply_scale_factors(landsat8)\n",
    "landsat9 = apply_scale_factors(landsat9)"
   ]
  },
  {
   "cell_type": "code",
   "execution_count": null,
   "id": "866a9ac1",
   "metadata": {},
   "outputs": [],
   "source": [
    "left_layer = geemap.ee_tile_layer(landsat8, vis_natural, 'Landsat 8')\n",
    "right_layer = geemap.ee_tile_layer(landsat9, vis_nir, 'Landsat 9')"
   ]
  },
  {
   "cell_type": "code",
   "execution_count": null,
   "id": "a7a8063a",
   "metadata": {},
   "outputs": [],
   "source": [
    "Map = geemap.Map()\n",
    "Map.split_map(left_layer, right_layer)\n",
    "Map.centerObject(landsat9)\n",
    "Map"
   ]
  },
  {
   "cell_type": "markdown",
   "id": "e4f4468a",
   "metadata": {},
   "source": [
    "![](https://i.imgur.com/i6lUYHF.jpg)\n",
    "\n",
    "## Interactive region reduction"
   ]
  },
  {
   "cell_type": "markdown",
   "id": "366acbd7",
   "metadata": {},
   "source": [
    "### Create an interactive map"
   ]
  },
  {
   "cell_type": "code",
   "execution_count": null,
   "id": "e32a8563",
   "metadata": {},
   "outputs": [],
   "source": []
  },
  {
   "cell_type": "markdown",
   "id": "f9c7b3bd",
   "metadata": {},
   "source": [
    "### Add add to the map"
   ]
  },
  {
   "cell_type": "code",
   "execution_count": null,
   "id": "35a878b8",
   "metadata": {},
   "outputs": [],
   "source": [
    "Map = geemap.Map()\n",
    "\n",
    "collection = (\n",
    "    ee.ImageCollection('MODIS/006/MOD13A2')\n",
    "    .filterDate('2015-01-01', '2019-12-31')\n",
    "    .select('NDVI')\n",
    ")\n",
    "\n",
    "# Convert the image collection to an image.\n",
    "image = collection.toBands()\n",
    "\n",
    "ndvi_vis = {\n",
    "    'min': 0.0,\n",
    "    'max': 9000.0,\n",
    "    'palette': 'ndvi',\n",
    "}\n",
    "\n",
    "Map.addLayer(image, {}, 'MODIS NDVI Time-series')\n",
    "Map.addLayer(image.select(0), ndvi_vis, 'First image')\n",
    "\n",
    "Map"
   ]
  },
  {
   "cell_type": "markdown",
   "id": "37f8431e",
   "metadata": {},
   "source": [
    "### Set reducer"
   ]
  },
  {
   "cell_type": "code",
   "execution_count": null,
   "id": "5c646837",
   "metadata": {},
   "outputs": [],
   "source": [
    "Map.set_plot_options(add_marker_cluster=True)\n",
    "Map.roi_reducer = ee.Reducer.mean()"
   ]
  },
  {
   "cell_type": "markdown",
   "id": "c2b61357",
   "metadata": {},
   "source": [
    "### Export data"
   ]
  },
  {
   "cell_type": "code",
   "execution_count": null,
   "id": "2929ca86",
   "metadata": {},
   "outputs": [],
   "source": [
    "Map.extract_values_to_points('ndvi.shp')"
   ]
  },
  {
   "cell_type": "markdown",
   "id": "2562d1f1",
   "metadata": {},
   "source": [
    "## Extracting values to points"
   ]
  },
  {
   "cell_type": "code",
   "execution_count": null,
   "id": "ab631582",
   "metadata": {},
   "outputs": [],
   "source": [
    "Map = geemap.Map()\n",
    "\n",
    "# Add Earth Engine dataset\n",
    "dem = ee.Image('USGS/SRTMGL1_003')\n",
    "landsat7 = ee.Image('LANDSAT/LE7_TOA_5YEAR/1999_2003')\n",
    "\n",
    "# Set visualization parameters.\n",
    "vis_params = {\n",
    "    'min': 0,\n",
    "    'max': 4000,\n",
    "    'palette': ['006633', 'E5FFCC', '662A00', 'D8D8D8', 'F5F5F5'],\n",
    "}\n",
    "\n",
    "# Add Earth Engine layers to Map\n",
    "Map.addLayer(\n",
    "    landsat7,\n",
    "    {'bands': ['B4', 'B3', 'B2'], 'min': 20, 'max': 200, 'gamma': 2},\n",
    "    'Landsat 7',\n",
    ")\n",
    "Map.addLayer(dem, vis_params, 'SRTM DEM', True, 1)\n",
    "Map"
   ]
  },
  {
   "cell_type": "code",
   "execution_count": null,
   "id": "6843ada1",
   "metadata": {},
   "outputs": [],
   "source": [
    "import os\n",
    "\n",
    "in_shp = 'us_cities.shp'\n",
    "if not os.path.exists(in_shp):\n",
    "    url = 'https://github.com/giswqs/data/raw/main/us/us_cities.zip'\n",
    "    geemap.download_file(url)"
   ]
  },
  {
   "cell_type": "code",
   "execution_count": null,
   "id": "691a2bc8",
   "metadata": {},
   "outputs": [],
   "source": [
    "in_fc = geemap.shp_to_ee(in_shp)\n",
    "Map.addLayer(in_fc, {}, 'Cities')"
   ]
  },
  {
   "cell_type": "code",
   "execution_count": null,
   "id": "28adf8ad",
   "metadata": {},
   "outputs": [],
   "source": [
    "geemap.extract_values_to_points(in_fc, dem, \"dem.shp\")"
   ]
  },
  {
   "cell_type": "code",
   "execution_count": null,
   "id": "e7bbea9a",
   "metadata": {},
   "outputs": [],
   "source": [
    "geemap.extract_values_to_points(in_fc, landsat7, 'landsat.csv')"
   ]
  },
  {
   "cell_type": "markdown",
   "id": "40bdec4f",
   "metadata": {},
   "source": [
    "## Extracting pixel values along a transect"
   ]
  },
  {
   "cell_type": "code",
   "execution_count": null,
   "id": "e815af91",
   "metadata": {},
   "outputs": [],
   "source": [
    "Map = geemap.Map(center=[40, -100], zoom=4)\n",
    "Map.add_basemap(\"TERRAIN\")\n",
    "\n",
    "image = ee.Image('USGS/SRTMGL1_003')\n",
    "vis_params = {\n",
    "    'min': 0,\n",
    "    'max': 4000,\n",
    "    'palette': ['006633', 'E5FFCC', '662A00', 'D8D8D8', 'F5F5F5'],\n",
    "}\n",
    "Map.addLayer(image, vis_params, 'SRTM DEM', True, 0.5)\n",
    "Map"
   ]
  },
  {
   "cell_type": "code",
   "execution_count": null,
   "id": "227a1225",
   "metadata": {},
   "outputs": [],
   "source": [
    "# Use the drawing tool to draw any line on the map.\n",
    "line = Map.user_roi\n",
    "if line is None:\n",
    "    line = ee.Geometry.LineString(\n",
    "        [[-120.2232, 36.3148], [-118.9269, 36.7121], [-117.2022, 36.7562]]\n",
    "    )\n",
    "    Map.addLayer(line, {}, \"ROI\")\n",
    "Map.centerObject(line)"
   ]
  },
  {
   "cell_type": "code",
   "execution_count": null,
   "id": "6e70a0fd",
   "metadata": {},
   "outputs": [],
   "source": [
    "reducer = 'mean'  # Any ee.Reducer, e.g., mean, median, min, max, stdDev\n",
    "transect = geemap.extract_transect(\n",
    "    image, line, n_segments=100, reducer=reducer, to_pandas=True\n",
    ")\n",
    "transect"
   ]
  },
  {
   "cell_type": "code",
   "execution_count": null,
   "id": "33fe5481",
   "metadata": {},
   "outputs": [],
   "source": [
    "transect.to_csv('transect.csv')"
   ]
  },
  {
   "cell_type": "code",
   "execution_count": null,
   "id": "a5cfd719",
   "metadata": {},
   "outputs": [],
   "source": [
    "from bqplot import pyplot as plt\n",
    "\n",
    "fig = plt.figure()\n",
    "plt.plot(transect['distance'], transect[reducer])\n",
    "plt.xlabel('Distance')\n",
    "plt.ylabel(\"Elevation\")\n",
    "plt.show()"
   ]
  },
  {
   "cell_type": "markdown",
   "id": "700f271c",
   "metadata": {},
   "source": [
    "## Quality mosaicking"
   ]
  },
  {
   "cell_type": "markdown",
   "id": "e0ee9c26",
   "metadata": {},
   "source": [
    "### Create an interactive map"
   ]
  },
  {
   "cell_type": "code",
   "execution_count": null,
   "id": "e8b3008c",
   "metadata": {},
   "outputs": [],
   "source": [
    "Map = geemap.Map(center=[40, -100], zoom=4)\n",
    "Map"
   ]
  },
  {
   "cell_type": "markdown",
   "id": "75f4cf7b",
   "metadata": {},
   "source": [
    "### Define a region of interest (ROI)"
   ]
  },
  {
   "cell_type": "code",
   "execution_count": null,
   "id": "d7347438",
   "metadata": {},
   "outputs": [],
   "source": [
    "countries = ee.FeatureCollection(geemap.examples.get_ee_path('countries'))\n",
    "Map.addLayer(countries, {}, 'coutries')"
   ]
  },
  {
   "cell_type": "code",
   "execution_count": null,
   "id": "62a924fa",
   "metadata": {},
   "outputs": [],
   "source": [
    "roi = countries.filter(ee.Filter.eq('ISO_A3', 'USA'))\n",
    "Map.addLayer(roi, {}, 'roi')"
   ]
  },
  {
   "cell_type": "markdown",
   "id": "5f87adfb",
   "metadata": {},
   "source": [
    "### Filter ImageCollection"
   ]
  },
  {
   "cell_type": "code",
   "execution_count": null,
   "id": "46834565",
   "metadata": {},
   "outputs": [],
   "source": [
    "start_date = '2019-01-01'\n",
    "end_date = '2019-12-31'\n",
    "\n",
    "l8 = (\n",
    "    ee.ImageCollection('LANDSAT/LC08/C01/T1_TOA')\n",
    "    .filterBounds(roi)\n",
    "    .filterDate(start_date, end_date)\n",
    ")"
   ]
  },
  {
   "cell_type": "markdown",
   "id": "9a121819",
   "metadata": {},
   "source": [
    "### Create a median composite"
   ]
  },
  {
   "cell_type": "code",
   "execution_count": null,
   "id": "b67f76c9",
   "metadata": {},
   "outputs": [],
   "source": [
    "median = l8.median()\n",
    "\n",
    "visParams = {\n",
    "    'bands': ['B4', 'B3', 'B2'],\n",
    "    'min': 0,\n",
    "    'max': 0.4,\n",
    "}\n",
    "\n",
    "Map.addLayer(median, visParams, 'Median')\n",
    "Map"
   ]
  },
  {
   "cell_type": "markdown",
   "id": "cc19509a",
   "metadata": {},
   "source": [
    "### Define functions to add time bands"
   ]
  },
  {
   "cell_type": "code",
   "execution_count": null,
   "id": "c07d631f",
   "metadata": {},
   "outputs": [],
   "source": [
    "def addNDVI(image):\n",
    "    ndvi = image.normalizedDifference(['B5', 'B4']).rename('NDVI')\n",
    "    return image.addBands(ndvi)"
   ]
  },
  {
   "cell_type": "code",
   "execution_count": null,
   "id": "21678afb",
   "metadata": {},
   "outputs": [],
   "source": [
    "def addDate(image):\n",
    "    img_date = ee.Date(image.date())\n",
    "    img_date = ee.Number.parse(img_date.format('YYYYMMdd'))\n",
    "    return image.addBands(ee.Image(img_date).rename('date').toInt())"
   ]
  },
  {
   "cell_type": "code",
   "execution_count": null,
   "id": "00436ad0",
   "metadata": {},
   "outputs": [],
   "source": [
    "def addMonth(image):\n",
    "    img_date = ee.Date(image.date())\n",
    "    img_doy = ee.Number.parse(img_date.format('M'))\n",
    "    return image.addBands(ee.Image(img_doy).rename('month').toInt())"
   ]
  },
  {
   "cell_type": "code",
   "execution_count": null,
   "id": "e143f91f",
   "metadata": {},
   "outputs": [],
   "source": [
    "def addDOY(image):\n",
    "    img_date = ee.Date(image.date())\n",
    "    img_doy = ee.Number.parse(img_date.format('D'))\n",
    "    return image.addBands(ee.Image(img_doy).rename('doy').toInt())"
   ]
  },
  {
   "cell_type": "markdown",
   "id": "5d50e60f",
   "metadata": {},
   "source": [
    "### Map over an ImageCollection"
   ]
  },
  {
   "cell_type": "code",
   "execution_count": null,
   "id": "be774541",
   "metadata": {},
   "outputs": [],
   "source": [
    "withNDVI = l8.map(addNDVI).map(addDate).map(addMonth).map(addDOY)"
   ]
  },
  {
   "cell_type": "markdown",
   "id": "5c75951e",
   "metadata": {},
   "source": [
    "### Create a quality mosaic"
   ]
  },
  {
   "cell_type": "code",
   "execution_count": null,
   "id": "1df64842",
   "metadata": {},
   "outputs": [],
   "source": [
    "greenest = withNDVI.qualityMosaic('NDVI')"
   ]
  },
  {
   "cell_type": "code",
   "execution_count": null,
   "id": "62026ff6",
   "metadata": {},
   "outputs": [],
   "source": [
    "greenest.bandNames().getInfo()"
   ]
  },
  {
   "cell_type": "markdown",
   "id": "1aaf1c2c",
   "metadata": {},
   "source": [
    "### Display the max value band"
   ]
  },
  {
   "cell_type": "code",
   "execution_count": null,
   "id": "d2851bb3",
   "metadata": {},
   "outputs": [],
   "source": [
    "ndvi = greenest.select('NDVI')\n",
    "palette = [\n",
    "    '#d73027',\n",
    "    '#f46d43',\n",
    "    '#fdae61',\n",
    "    '#fee08b',\n",
    "    '#d9ef8b',\n",
    "    '#a6d96a',\n",
    "    '#66bd63',\n",
    "    '#1a9850',\n",
    "]\n",
    "Map.addLayer(ndvi, {'palette': palette}, 'NDVI')\n",
    "Map"
   ]
  },
  {
   "cell_type": "code",
   "execution_count": null,
   "id": "eceb3abf",
   "metadata": {},
   "outputs": [],
   "source": [
    "Map.addLayer(greenest, visParams, 'Greenest pixel')\n",
    "Map"
   ]
  },
  {
   "cell_type": "markdown",
   "id": "864fa8ed",
   "metadata": {},
   "source": [
    "### Display time bands"
   ]
  },
  {
   "cell_type": "code",
   "execution_count": null,
   "id": "ae7cfdaf",
   "metadata": {},
   "outputs": [],
   "source": [
    "Map.addLayer(\n",
    "    greenest.select('month'),\n",
    "    {'palette': ['red', 'blue'], 'min': 1, 'max': 12},\n",
    "    'Greenest month',\n",
    ")"
   ]
  },
  {
   "cell_type": "code",
   "execution_count": null,
   "id": "513922e3",
   "metadata": {},
   "outputs": [],
   "source": [
    "Map.addLayer(\n",
    "    greenest.select('doy'),\n",
    "    {'palette': ['brown', 'green'], 'min': 1, 'max': 365},\n",
    "    'Greenest doy',\n",
    ")"
   ]
  },
  {
   "cell_type": "markdown",
   "id": "8c488a41",
   "metadata": {},
   "source": [
    "## Interactive charts"
   ]
  },
  {
   "cell_type": "code",
   "execution_count": null,
   "id": "2feb55b2",
   "metadata": {},
   "outputs": [],
   "source": [
    "import geemap.chart as chart"
   ]
  },
  {
   "cell_type": "markdown",
   "id": "382bf4dc",
   "metadata": {},
   "source": [
    "### Chart by feature"
   ]
  },
  {
   "cell_type": "code",
   "execution_count": null,
   "id": "baaf4502",
   "metadata": {},
   "outputs": [],
   "source": [
    "Map = geemap.Map(center=[40, -100], zoom=4)\n",
    "\n",
    "features = ee.FeatureCollection('projects/google/charts_feature_example').select(\n",
    "    '[0-9][0-9]_tmean|label'\n",
    ")\n",
    "\n",
    "Map.addLayer(features, {}, \"Ecoregions\")\n",
    "Map"
   ]
  },
  {
   "cell_type": "code",
   "execution_count": null,
   "id": "c220732b",
   "metadata": {},
   "outputs": [],
   "source": [
    "df = geemap.ee_to_pandas(features)\n",
    "df"
   ]
  },
  {
   "cell_type": "code",
   "execution_count": null,
   "id": "d62e0442",
   "metadata": {},
   "outputs": [],
   "source": [
    "xProperty = \"label\"\n",
    "yProperties = [str(x).zfill(2) + \"_tmean\" for x in range(1, 13)]\n",
    "\n",
    "labels = [\n",
    "    'Jan',\n",
    "    'Feb',\n",
    "    'Mar',\n",
    "    'Apr',\n",
    "    'May',\n",
    "    'Jun',\n",
    "    'Jul',\n",
    "    'Aug',\n",
    "    'Sep',\n",
    "    'Oct',\n",
    "    'Nov',\n",
    "    'Dec',\n",
    "]\n",
    "colors = [\n",
    "    '#604791',\n",
    "    '#1d6b99',\n",
    "    '#39a8a7',\n",
    "    '#0f8755',\n",
    "    '#76b349',\n",
    "    '#f0af07',\n",
    "    '#e37d05',\n",
    "    '#cf513e',\n",
    "    '#96356f',\n",
    "    '#724173',\n",
    "    '#9c4f97',\n",
    "    '#696969',\n",
    "]\n",
    "title = \"Average Monthly Temperature by Ecoregion\"\n",
    "xlabel = \"Ecoregion\"\n",
    "ylabel = \"Temperature\""
   ]
  },
  {
   "cell_type": "code",
   "execution_count": null,
   "id": "98136947",
   "metadata": {},
   "outputs": [],
   "source": [
    "options = {\n",
    "    \"labels\": labels,\n",
    "    \"colors\": colors,\n",
    "    \"title\": title,\n",
    "    \"xlabel\": xlabel,\n",
    "    \"ylabel\": ylabel,\n",
    "    \"legend_location\": \"top-left\",\n",
    "    \"height\": \"500px\",\n",
    "}"
   ]
  },
  {
   "cell_type": "code",
   "execution_count": null,
   "id": "50811266",
   "metadata": {},
   "outputs": [],
   "source": [
    "chart.feature_byFeature(features, xProperty, yProperties, **options)"
   ]
  },
  {
   "cell_type": "markdown",
   "id": "1d8b874c",
   "metadata": {},
   "source": [
    "![](https://i.imgur.com/9xzsUxg.jpg)"
   ]
  },
  {
   "cell_type": "markdown",
   "id": "a17494fa",
   "metadata": {},
   "source": [
    "### Chart by property"
   ]
  },
  {
   "cell_type": "code",
   "execution_count": null,
   "id": "e89b0f7d",
   "metadata": {},
   "outputs": [],
   "source": [
    "Map = geemap.Map()\n",
    "\n",
    "features = ee.FeatureCollection('projects/google/charts_feature_example').select(\n",
    "    '[0-9][0-9]_ppt|label'\n",
    ")\n",
    "\n",
    "Map.addLayer(features, {}, 'Features')\n",
    "Map"
   ]
  },
  {
   "cell_type": "code",
   "execution_count": null,
   "id": "16e6ae37",
   "metadata": {},
   "outputs": [],
   "source": [
    "df = geemap.ee_to_pandas(features)\n",
    "df"
   ]
  },
  {
   "cell_type": "code",
   "execution_count": null,
   "id": "b64fbe3c",
   "metadata": {},
   "outputs": [],
   "source": [
    "keys = [str(x).zfill(2) + \"_ppt\" for x in range(1, 13)]\n",
    "values = [\n",
    "    'Jan',\n",
    "    'Feb',\n",
    "    'Mar',\n",
    "    'Apr',\n",
    "    'May',\n",
    "    'Jun',\n",
    "    'Jul',\n",
    "    'Aug',\n",
    "    'Sep',\n",
    "    'Oct',\n",
    "    'Nov',\n",
    "    'Dec',\n",
    "]"
   ]
  },
  {
   "cell_type": "code",
   "execution_count": null,
   "id": "7ede82da",
   "metadata": {},
   "outputs": [],
   "source": [
    "xProperties = dict(zip(keys, values))\n",
    "seriesProperty = \"label\""
   ]
  },
  {
   "cell_type": "code",
   "execution_count": null,
   "id": "d263b526",
   "metadata": {},
   "outputs": [],
   "source": [
    "options = {\n",
    "    'title': \"Average Ecoregion Precipitation by Month\",\n",
    "    'colors': ['#f0af07', '#0f8755', '#76b349'],\n",
    "    'xlabel': \"Month\",\n",
    "    'ylabel': \"Precipitation (mm)\",\n",
    "    'legend_location': \"top-left\",\n",
    "    \"height\": \"500px\",\n",
    "}"
   ]
  },
  {
   "cell_type": "code",
   "execution_count": null,
   "id": "76bbc107",
   "metadata": {},
   "outputs": [],
   "source": [
    "chart.feature_byProperty(features, xProperties, seriesProperty, **options)"
   ]
  },
  {
   "cell_type": "markdown",
   "id": "882a36fb",
   "metadata": {},
   "source": [
    "![](https://i.imgur.com/mS3vzHJ.jpg)\n",
    "\n",
    "### Histogram"
   ]
  },
  {
   "cell_type": "code",
   "execution_count": null,
   "id": "34f8cf3c",
   "metadata": {},
   "outputs": [],
   "source": [
    "import geemap.chart as chart"
   ]
  },
  {
   "cell_type": "code",
   "execution_count": null,
   "id": "23398e3b",
   "metadata": {},
   "outputs": [],
   "source": [
    "source = ee.ImageCollection('OREGONSTATE/PRISM/Norm81m').toBands()\n",
    "region = ee.Geometry.Rectangle(-123.41, 40.43, -116.38, 45.14)\n",
    "samples = source.sample(region, 5000)\n",
    "prop = '07_ppt'"
   ]
  },
  {
   "cell_type": "code",
   "execution_count": null,
   "id": "8550ea28",
   "metadata": {},
   "outputs": [],
   "source": [
    "options = {\n",
    "    \"title\": 'July Precipitation Distribution for NW USA',\n",
    "    \"xlabel\": 'Precipitation (mm)',\n",
    "    \"ylabel\": 'Pixel count',\n",
    "    \"colors\": ['#1d6b99'],\n",
    "}"
   ]
  },
  {
   "cell_type": "code",
   "execution_count": null,
   "id": "cef5fb57",
   "metadata": {},
   "outputs": [],
   "source": [
    "chart.feature_histogram(samples, prop, **options)"
   ]
  },
  {
   "cell_type": "markdown",
   "id": "92e36636",
   "metadata": {},
   "source": [
    "![](https://i.imgur.com/zgzpfvb.gif)"
   ]
  },
  {
   "cell_type": "code",
   "execution_count": null,
   "id": "95ca4e32",
   "metadata": {},
   "outputs": [],
   "source": [
    "chart.feature_histogram(samples, prop, maxBuckets=30, **options)"
   ]
  },
  {
   "cell_type": "markdown",
   "id": "b91b7bff",
   "metadata": {},
   "source": [
    "![](https://i.imgur.com/WV7aB1e.gif)"
   ]
  },
  {
   "cell_type": "code",
   "execution_count": null,
   "id": "a0cd1492",
   "metadata": {},
   "outputs": [],
   "source": [
    "chart.feature_histogram(samples, prop, minBucketWidth=0.5, **options)"
   ]
  },
  {
   "cell_type": "code",
   "execution_count": null,
   "id": "6ca8eed8",
   "metadata": {},
   "outputs": [],
   "source": [
    "chart.feature_histogram(samples, prop, minBucketWidth=3, maxBuckets=30, **options)"
   ]
  },
  {
   "cell_type": "markdown",
   "id": "7edbfc8f",
   "metadata": {},
   "source": [
    "## Creating training samples"
   ]
  },
  {
   "cell_type": "code",
   "execution_count": null,
   "id": "7a1f51ea",
   "metadata": {},
   "outputs": [],
   "source": [
    "Map = geemap.Map()\n",
    "Map"
   ]
  },
  {
   "cell_type": "code",
   "execution_count": null,
   "id": "dc8dac23",
   "metadata": {},
   "outputs": [],
   "source": [
    "if Map.user_rois is not None:\n",
    "    training_samples = Map.user_rois\n",
    "    print(training_samples.getInfo())"
   ]
  },
  {
   "cell_type": "markdown",
   "id": "9cc70abf",
   "metadata": {},
   "source": [
    "## Unsupervised classification\n",
    "\n",
    "### Unsupervised classification algorithms"
   ]
  },
  {
   "cell_type": "markdown",
   "id": "cb7c11e1",
   "metadata": {},
   "source": [
    "![](https://i.imgur.com/IcBapEx.jpg)"
   ]
  },
  {
   "cell_type": "markdown",
   "id": "443c6f7a",
   "metadata": {},
   "source": [
    "### Add data to the map"
   ]
  },
  {
   "cell_type": "code",
   "execution_count": null,
   "id": "9f8dcb68",
   "metadata": {},
   "outputs": [],
   "source": [
    "Map = geemap.Map()\n",
    "\n",
    "# point = ee.Geometry.Point([-122.4439, 37.7538])\n",
    "point = ee.Geometry.Point([-87.7719, 41.8799])\n",
    "\n",
    "image = (\n",
    "    ee.ImageCollection('LANDSAT/LC08/C01/T1_SR')\n",
    "    .filterBounds(point)\n",
    "    .filterDate('2019-01-01', '2019-12-31')\n",
    "    .sort('CLOUD_COVER')\n",
    "    .first()\n",
    "    .select('B[1-7]')\n",
    ")\n",
    "\n",
    "vis_params = {'min': 0, 'max': 3000, 'bands': ['B5', 'B4', 'B3']}\n",
    "\n",
    "Map.centerObject(point, 8)\n",
    "Map.addLayer(image, vis_params, \"Landsat-8\")\n",
    "Map"
   ]
  },
  {
   "cell_type": "markdown",
   "id": "a9993be4",
   "metadata": {},
   "source": [
    "### Check image properties"
   ]
  },
  {
   "cell_type": "code",
   "execution_count": null,
   "id": "bc3ec8b4",
   "metadata": {},
   "outputs": [],
   "source": [
    "props = geemap.image_props(image)\n",
    "props.getInfo()"
   ]
  },
  {
   "cell_type": "code",
   "execution_count": null,
   "id": "eb649f2a",
   "metadata": {},
   "outputs": [],
   "source": [
    "props.get('IMAGE_DATE').getInfo()"
   ]
  },
  {
   "cell_type": "code",
   "execution_count": null,
   "id": "139c4fa5",
   "metadata": {},
   "outputs": [],
   "source": [
    "props.get('CLOUD_COVER').getInfo()"
   ]
  },
  {
   "cell_type": "markdown",
   "id": "1b5db368",
   "metadata": {},
   "source": [
    "### Create training samples"
   ]
  },
  {
   "cell_type": "code",
   "execution_count": null,
   "id": "d848dc7a",
   "metadata": {},
   "outputs": [],
   "source": [
    "# region = Map.user_roi\n",
    "# region = ee.Geometry.Rectangle([-122.6003, 37.4831, -121.8036, 37.8288])\n",
    "# region = ee.Geometry.Point([-122.4439, 37.7538]).buffer(10000)"
   ]
  },
  {
   "cell_type": "code",
   "execution_count": null,
   "id": "aa6b52c9",
   "metadata": {},
   "outputs": [],
   "source": [
    "# Make the training dataset.\n",
    "training = image.sample(\n",
    "    **{\n",
    "        #     'region': region,\n",
    "        'scale': 30,\n",
    "        'numPixels': 5000,\n",
    "        'seed': 0,\n",
    "        'geometries': True,  # Set this to False to ignore geometries\n",
    "    }\n",
    ")\n",
    "\n",
    "Map.addLayer(training, {}, 'training', False)\n",
    "Map"
   ]
  },
  {
   "cell_type": "markdown",
   "id": "c6fbcdfc",
   "metadata": {},
   "source": [
    "### Train the clusterer"
   ]
  },
  {
   "cell_type": "code",
   "execution_count": null,
   "id": "4cf7a4da",
   "metadata": {},
   "outputs": [],
   "source": [
    "# Instantiate the clusterer and train it.\n",
    "n_clusters = 5\n",
    "clusterer = ee.Clusterer.wekaKMeans(n_clusters).train(training)"
   ]
  },
  {
   "cell_type": "markdown",
   "id": "e0c78cb5",
   "metadata": {},
   "source": [
    "### Classify the image"
   ]
  },
  {
   "cell_type": "code",
   "execution_count": null,
   "id": "b948a86a",
   "metadata": {},
   "outputs": [],
   "source": [
    "# Cluster the input using the trained clusterer.\n",
    "result = image.cluster(clusterer)\n",
    "\n",
    "# # Display the clusters with random colors.\n",
    "Map.addLayer(result.randomVisualizer(), {}, 'clusters')\n",
    "Map"
   ]
  },
  {
   "cell_type": "markdown",
   "id": "bbe3ca7d",
   "metadata": {},
   "source": [
    "### Label the clusters"
   ]
  },
  {
   "cell_type": "code",
   "execution_count": null,
   "id": "4fdde6c4",
   "metadata": {},
   "outputs": [],
   "source": [
    "legend_keys = ['One', 'Two', 'Three', 'Four', 'ect']\n",
    "legend_colors = ['#8DD3C7', '#FFFFB3', '#BEBADA', '#FB8072', '#80B1D3']\n",
    "\n",
    "# Reclassify the map\n",
    "result = result.remap([0, 1, 2, 3, 4], [1, 2, 3, 4, 5])\n",
    "\n",
    "Map.addLayer(\n",
    "    result, {'min': 1, 'max': 5, 'palette': legend_colors}, 'Labelled clusters'\n",
    ")\n",
    "Map.add_legend(\n",
    "    legend_keys=legend_keys, legend_colors=legend_colors, position='bottomright'\n",
    ")\n",
    "Map"
   ]
  },
  {
   "cell_type": "markdown",
   "id": "e0bba196",
   "metadata": {},
   "source": [
    "### Visualize results"
   ]
  },
  {
   "cell_type": "code",
   "execution_count": null,
   "id": "590f55c3",
   "metadata": {},
   "outputs": [],
   "source": [
    "print('Change layer opacity:')\n",
    "cluster_layer = Map.layers[-1]\n",
    "cluster_layer.interact(opacity=(0, 1, 0.1))"
   ]
  },
  {
   "cell_type": "markdown",
   "id": "8f47deb2",
   "metadata": {},
   "source": [
    "### Export results"
   ]
  },
  {
   "cell_type": "code",
   "execution_count": null,
   "id": "bdba3a5a",
   "metadata": {},
   "outputs": [],
   "source": [
    "geemap.ee_export_image(result, filename=\"cluster.tif\", scale=90)"
   ]
  },
  {
   "cell_type": "code",
   "execution_count": null,
   "id": "25796b65",
   "metadata": {},
   "outputs": [],
   "source": [
    "geemap.ee_export_image_to_drive(\n",
    "    result, description='clusters', folder='export', scale=90\n",
    ")"
   ]
  },
  {
   "cell_type": "markdown",
   "id": "250cb1b7",
   "metadata": {},
   "source": [
    "## Supervised classification\n",
    "\n",
    "### Supervised classification algorithms"
   ]
  },
  {
   "cell_type": "markdown",
   "id": "36ac668f",
   "metadata": {},
   "source": [
    "![](https://i.imgur.com/vROsEiq.jpg)"
   ]
  },
  {
   "cell_type": "markdown",
   "id": "6604abdd",
   "metadata": {},
   "source": [
    "### Add data to the map"
   ]
  },
  {
   "cell_type": "code",
   "execution_count": null,
   "id": "c0d36170",
   "metadata": {},
   "outputs": [],
   "source": [
    "Map = geemap.Map()\n",
    "point = ee.Geometry.Point([-122.4439, 37.7538])\n",
    "# point = ee.Geometry.Point([-87.7719, 41.8799])\n",
    "\n",
    "image = (\n",
    "    ee.ImageCollection('LANDSAT/LC08/C01/T1_SR')\n",
    "    .filterBounds(point)\n",
    "    .filterDate('2016-01-01', '2016-12-31')\n",
    "    .sort('CLOUD_COVER')\n",
    "    .first()\n",
    "    .select('B[1-7]')\n",
    ")\n",
    "\n",
    "vis_params = {'min': 0, 'max': 3000, 'bands': ['B5', 'B4', 'B3']}\n",
    "\n",
    "Map.centerObject(point, 8)\n",
    "Map.addLayer(image, vis_params, \"Landsat-8\")\n",
    "Map"
   ]
  },
  {
   "cell_type": "markdown",
   "id": "ab41311c",
   "metadata": {},
   "source": [
    "### Check image properties"
   ]
  },
  {
   "cell_type": "code",
   "execution_count": null,
   "id": "6251d1cd",
   "metadata": {},
   "outputs": [],
   "source": [
    "ee.Date(image.get('system:time_start')).format('YYYY-MM-dd').getInfo()"
   ]
  },
  {
   "cell_type": "code",
   "execution_count": null,
   "id": "61d75ed0",
   "metadata": {},
   "outputs": [],
   "source": [
    "image.get('CLOUD_COVER').getInfo()"
   ]
  },
  {
   "cell_type": "markdown",
   "id": "d16f8c50",
   "metadata": {},
   "source": [
    "### Create training samples"
   ]
  },
  {
   "cell_type": "code",
   "execution_count": null,
   "id": "c5989167",
   "metadata": {},
   "outputs": [],
   "source": [
    "# region = Map.user_roi\n",
    "# region = ee.Geometry.Rectangle([-122.6003, 37.4831, -121.8036, 37.8288])\n",
    "# region = ee.Geometry.Point([-122.4439, 37.7538]).buffer(10000)"
   ]
  },
  {
   "cell_type": "markdown",
   "id": "da1a424b",
   "metadata": {},
   "source": [
    "![](https://i.imgur.com/7QoRXxu.jpg)"
   ]
  },
  {
   "cell_type": "code",
   "execution_count": null,
   "id": "a2e6ac76",
   "metadata": {},
   "outputs": [],
   "source": [
    "nlcd = ee.Image('USGS/NLCD/NLCD2016').select('landcover').clip(image.geometry())\n",
    "Map.addLayer(nlcd, {}, 'NLCD')\n",
    "Map"
   ]
  },
  {
   "cell_type": "code",
   "execution_count": null,
   "id": "2588294b",
   "metadata": {},
   "outputs": [],
   "source": [
    "# Make the training dataset.\n",
    "points = nlcd.sample(\n",
    "    **{\n",
    "        'region': image.geometry(),\n",
    "        'scale': 30,\n",
    "        'numPixels': 5000,\n",
    "        'seed': 0,\n",
    "        'geometries': True,  # Set this to False to ignore geometries\n",
    "    }\n",
    ")\n",
    "\n",
    "Map.addLayer(points, {}, 'training', False)"
   ]
  },
  {
   "cell_type": "code",
   "execution_count": null,
   "id": "d2aeb7fa",
   "metadata": {},
   "outputs": [],
   "source": [
    "print(points.size().getInfo())"
   ]
  },
  {
   "cell_type": "code",
   "execution_count": null,
   "id": "fc411220",
   "metadata": {},
   "outputs": [],
   "source": [
    "print(points.first().getInfo())"
   ]
  },
  {
   "cell_type": "markdown",
   "id": "5c8ec6bd",
   "metadata": {},
   "source": [
    "### Train the classifier"
   ]
  },
  {
   "cell_type": "code",
   "execution_count": null,
   "id": "debede37",
   "metadata": {},
   "outputs": [],
   "source": [
    "# Use these bands for prediction.\n",
    "bands = ['B1', 'B2', 'B3', 'B4', 'B5', 'B6', 'B7']\n",
    "\n",
    "\n",
    "# This property of the table stores the land cover labels.\n",
    "label = 'landcover'\n",
    "\n",
    "# Overlay the points on the imagery to get training.\n",
    "training = image.select(bands).sampleRegions(\n",
    "    **{'collection': points, 'properties': [label], 'scale': 30}\n",
    ")\n",
    "\n",
    "# Train a CART classifier with default parameters.\n",
    "trained = ee.Classifier.smileCart().train(training, label, bands)"
   ]
  },
  {
   "cell_type": "code",
   "execution_count": null,
   "id": "811428e4",
   "metadata": {},
   "outputs": [],
   "source": [
    "print(training.first().getInfo())"
   ]
  },
  {
   "cell_type": "markdown",
   "id": "d6fc4151",
   "metadata": {},
   "source": [
    "### Classify the image"
   ]
  },
  {
   "cell_type": "code",
   "execution_count": null,
   "id": "fced8ad7",
   "metadata": {},
   "outputs": [],
   "source": [
    "# Classify the image with the same bands used for training.\n",
    "result = image.select(bands).classify(trained)\n",
    "\n",
    "# # Display the clusters with random colors.\n",
    "Map.addLayer(result.randomVisualizer(), {}, 'classified')\n",
    "Map"
   ]
  },
  {
   "cell_type": "markdown",
   "id": "50f68f11",
   "metadata": {},
   "source": [
    "### Render categorical map"
   ]
  },
  {
   "cell_type": "code",
   "execution_count": null,
   "id": "c839b848",
   "metadata": {},
   "outputs": [],
   "source": [
    "class_values = nlcd.get('landcover_class_values').getInfo()\n",
    "class_values"
   ]
  },
  {
   "cell_type": "code",
   "execution_count": null,
   "id": "3aa5b402",
   "metadata": {},
   "outputs": [],
   "source": [
    "class_palette = nlcd.get('landcover_class_palette').getInfo()\n",
    "class_palette"
   ]
  },
  {
   "cell_type": "code",
   "execution_count": null,
   "id": "d4daeffc",
   "metadata": {},
   "outputs": [],
   "source": [
    "landcover = result.set('classification_class_values', class_values)\n",
    "landcover = landcover.set('classification_class_palette', class_palette)"
   ]
  },
  {
   "cell_type": "code",
   "execution_count": null,
   "id": "70bb8aa0",
   "metadata": {},
   "outputs": [],
   "source": [
    "Map.addLayer(landcover, {}, 'Land cover')\n",
    "Map"
   ]
  },
  {
   "cell_type": "markdown",
   "id": "a15e59d5",
   "metadata": {},
   "source": [
    "### Visualize results"
   ]
  },
  {
   "cell_type": "code",
   "execution_count": null,
   "id": "786c9b39",
   "metadata": {},
   "outputs": [],
   "source": [
    "print('Change layer opacity:')\n",
    "cluster_layer = Map.layers[-1]\n",
    "cluster_layer.interact(opacity=(0, 1, 0.1))"
   ]
  },
  {
   "cell_type": "markdown",
   "id": "943064eb",
   "metadata": {},
   "source": [
    "### Add a legend to the map"
   ]
  },
  {
   "cell_type": "code",
   "execution_count": null,
   "id": "7e09856a",
   "metadata": {},
   "outputs": [],
   "source": [
    "Map.add_legend(builtin_legend='NLCD')\n",
    "Map"
   ]
  },
  {
   "cell_type": "markdown",
   "id": "c1e09cdc",
   "metadata": {},
   "source": [
    "### Export results"
   ]
  },
  {
   "cell_type": "code",
   "execution_count": null,
   "id": "7bbe8867",
   "metadata": {},
   "outputs": [],
   "source": [
    "geemap.ee_export_image(landcover, filename='landcover.tif', scale=900)"
   ]
  },
  {
   "cell_type": "code",
   "execution_count": null,
   "id": "e19ec704",
   "metadata": {},
   "outputs": [],
   "source": [
    "geemap.ee_export_image_to_drive(\n",
    "    landcover, description='landcover', folder='export', scale=900\n",
    ")"
   ]
  },
  {
   "cell_type": "markdown",
   "id": "d4515a01",
   "metadata": {},
   "source": [
    "## Accuracy assessment\n",
    "\n",
    "### Supervised classification algorithms"
   ]
  },
  {
   "cell_type": "markdown",
   "id": "5a12e6b8",
   "metadata": {},
   "source": [
    "![](https://i.imgur.com/vROsEiq.jpg)"
   ]
  },
  {
   "cell_type": "markdown",
   "id": "a1a0dc46",
   "metadata": {},
   "source": [
    "### Add data to the map\n",
    "\n",
    "![](https://i.imgur.com/7QoRXxu.jpg)"
   ]
  },
  {
   "cell_type": "code",
   "execution_count": null,
   "id": "eb03b552",
   "metadata": {},
   "outputs": [],
   "source": [
    "Map = geemap.Map()\n",
    "NLCD2016 = ee.Image('USGS/NLCD/NLCD2016').select('landcover')\n",
    "Map.addLayer(NLCD2016, {}, 'NLCD 2016')\n",
    "Map"
   ]
  },
  {
   "cell_type": "code",
   "execution_count": null,
   "id": "d30992c1",
   "metadata": {},
   "outputs": [],
   "source": [
    "NLCD_metadata = ee.FeatureCollection(\"users/giswqs/landcover/NLCD2016_metadata\")\n",
    "Map.addLayer(NLCD_metadata, {}, 'NLCD Metadata')"
   ]
  },
  {
   "cell_type": "code",
   "execution_count": null,
   "id": "18461bc3",
   "metadata": {},
   "outputs": [],
   "source": [
    "# point = ee.Geometry.Point([-122.4439, 37.7538])  # Sanfrancisco, CA\n",
    "# point = ee.Geometry.Point([-83.9293, 36.0526])   # Knoxville, TN\n",
    "point = ee.Geometry.Point([-88.3070, 41.7471])  # Chicago, IL"
   ]
  },
  {
   "cell_type": "code",
   "execution_count": null,
   "id": "e4801ec9",
   "metadata": {},
   "outputs": [],
   "source": [
    "metadata = NLCD_metadata.filterBounds(point).first()\n",
    "region = metadata.geometry()"
   ]
  },
  {
   "cell_type": "code",
   "execution_count": null,
   "id": "93c9d3b3",
   "metadata": {},
   "outputs": [],
   "source": [
    "metadata.get('2016on_bas').getInfo()"
   ]
  },
  {
   "cell_type": "code",
   "execution_count": null,
   "id": "2553d4ec",
   "metadata": {},
   "outputs": [],
   "source": [
    "doy = metadata.get('2016on_bas').getInfo().replace('LC08_', '')\n",
    "doy"
   ]
  },
  {
   "cell_type": "code",
   "execution_count": null,
   "id": "c5333c69",
   "metadata": {},
   "outputs": [],
   "source": [
    "ee.Date.parse('YYYYDDD', doy).format('YYYY-MM-dd').getInfo()"
   ]
  },
  {
   "cell_type": "code",
   "execution_count": null,
   "id": "82fc9d04",
   "metadata": {},
   "outputs": [],
   "source": [
    "start_date = ee.Date.parse('YYYYDDD', doy)\n",
    "end_date = start_date.advance(1, 'day')"
   ]
  },
  {
   "cell_type": "code",
   "execution_count": null,
   "id": "070e4892",
   "metadata": {},
   "outputs": [],
   "source": [
    "image = (\n",
    "    ee.ImageCollection('LANDSAT/LC08/C01/T1_SR')\n",
    "    .filterBounds(point)\n",
    "    .filterDate(start_date, end_date)\n",
    "    .first()\n",
    "    .select('B[1-7]')\n",
    "    .clip(region)\n",
    ")\n",
    "\n",
    "vis_params = {'min': 0, 'max': 3000, 'bands': ['B5', 'B4', 'B3']}\n",
    "\n",
    "Map.centerObject(point, 8)\n",
    "Map.addLayer(image, vis_params, \"Landsat-8\")\n",
    "Map"
   ]
  },
  {
   "cell_type": "code",
   "execution_count": null,
   "id": "d19bbe7c",
   "metadata": {},
   "outputs": [],
   "source": [
    "nlcd_raw = NLCD2016.clip(region)\n",
    "Map.addLayer(nlcd_raw, {}, 'NLCD')"
   ]
  },
  {
   "cell_type": "markdown",
   "id": "7c26d4ed",
   "metadata": {},
   "source": [
    "### Prepare for consecutive class labels"
   ]
  },
  {
   "cell_type": "code",
   "execution_count": null,
   "id": "ef90656c",
   "metadata": {},
   "outputs": [],
   "source": [
    "raw_class_values = nlcd_raw.get('landcover_class_values').getInfo()\n",
    "print(raw_class_values)"
   ]
  },
  {
   "cell_type": "code",
   "execution_count": null,
   "id": "d1961761",
   "metadata": {},
   "outputs": [],
   "source": [
    "n_classes = len(raw_class_values)\n",
    "new_class_values = list(range(0, n_classes))\n",
    "new_class_values"
   ]
  },
  {
   "cell_type": "code",
   "execution_count": null,
   "id": "01151e83",
   "metadata": {},
   "outputs": [],
   "source": [
    "class_palette = nlcd_raw.get('landcover_class_palette').getInfo()\n",
    "print(class_palette)"
   ]
  },
  {
   "cell_type": "code",
   "execution_count": null,
   "id": "ebe04146",
   "metadata": {},
   "outputs": [],
   "source": [
    "nlcd = nlcd_raw.remap(raw_class_values, new_class_values).select(\n",
    "    ['remapped'], ['landcover']\n",
    ")\n",
    "nlcd = nlcd.set('landcover_class_values', new_class_values)\n",
    "nlcd = nlcd.set('landcover_class_palette', class_palette)"
   ]
  },
  {
   "cell_type": "code",
   "execution_count": null,
   "id": "8b720c1e",
   "metadata": {},
   "outputs": [],
   "source": [
    "Map.addLayer(nlcd, {}, 'NLCD')\n",
    "Map"
   ]
  },
  {
   "cell_type": "markdown",
   "id": "ff7bbc87",
   "metadata": {},
   "source": [
    "### Make training data"
   ]
  },
  {
   "cell_type": "code",
   "execution_count": null,
   "id": "4c1868dd",
   "metadata": {},
   "outputs": [],
   "source": [
    "# Make the training dataset.\n",
    "points = nlcd.sample(\n",
    "    **{\n",
    "        'region': region,\n",
    "        'scale': 30,\n",
    "        'numPixels': 5000,\n",
    "        'seed': 0,\n",
    "        'geometries': True,  # Set this to False to ignore geometries\n",
    "    }\n",
    ")\n",
    "\n",
    "Map.addLayer(points, {}, 'training', False)"
   ]
  },
  {
   "cell_type": "code",
   "execution_count": null,
   "id": "69503c83",
   "metadata": {},
   "outputs": [],
   "source": [
    "print(points.size().getInfo())"
   ]
  },
  {
   "cell_type": "code",
   "execution_count": null,
   "id": "6d0a97a8",
   "metadata": {},
   "outputs": [],
   "source": [
    "print(points.first().getInfo())"
   ]
  },
  {
   "cell_type": "markdown",
   "id": "174d376f",
   "metadata": {},
   "source": [
    "### Split training and testing"
   ]
  },
  {
   "cell_type": "code",
   "execution_count": null,
   "id": "1c4aba6f",
   "metadata": {},
   "outputs": [],
   "source": [
    "# Use these bands for prediction.\n",
    "bands = ['B1', 'B2', 'B3', 'B4', 'B5', 'B6', 'B7']\n",
    "\n",
    "# This property of the table stores the land cover labels.\n",
    "label = 'landcover'\n",
    "\n",
    "# Overlay the points on the imagery to get training.\n",
    "sample = image.select(bands).sampleRegions(\n",
    "    **{'collection': points, 'properties': [label], 'scale': 30}\n",
    ")\n",
    "\n",
    "# Adds a column of deterministic pseudorandom numbers.\n",
    "sample = sample.randomColumn()\n",
    "\n",
    "split = 0.7\n",
    "\n",
    "training = sample.filter(ee.Filter.lt('random', split))\n",
    "validation = sample.filter(ee.Filter.gte('random', split))"
   ]
  },
  {
   "cell_type": "code",
   "execution_count": null,
   "id": "36ef41ea",
   "metadata": {},
   "outputs": [],
   "source": [
    "training.first().getInfo()"
   ]
  },
  {
   "cell_type": "code",
   "execution_count": null,
   "id": "f90679ad",
   "metadata": {},
   "outputs": [],
   "source": [
    "validation.first().getInfo()"
   ]
  },
  {
   "cell_type": "markdown",
   "id": "27f91445",
   "metadata": {},
   "source": [
    "### Train the classifier"
   ]
  },
  {
   "cell_type": "code",
   "execution_count": null,
   "id": "d29a45df",
   "metadata": {},
   "outputs": [],
   "source": [
    "classifier = ee.Classifier.smileRandomForest(10).train(training, label, bands)"
   ]
  },
  {
   "cell_type": "markdown",
   "id": "072e2d8f",
   "metadata": {},
   "source": [
    "### Classify the image"
   ]
  },
  {
   "cell_type": "code",
   "execution_count": null,
   "id": "1a35526a",
   "metadata": {},
   "outputs": [],
   "source": [
    "# Classify the image with the same bands used for training.\n",
    "result = image.select(bands).classify(classifier)\n",
    "\n",
    "# # Display the clusters with random colors.\n",
    "Map.addLayer(result.randomVisualizer(), {}, 'classfied')\n",
    "Map"
   ]
  },
  {
   "cell_type": "markdown",
   "id": "18a18704",
   "metadata": {},
   "source": [
    "### Render categorical map"
   ]
  },
  {
   "cell_type": "code",
   "execution_count": null,
   "id": "5e5912b5",
   "metadata": {},
   "outputs": [],
   "source": [
    "class_values = nlcd.get('landcover_class_values').getInfo()\n",
    "print(class_values)"
   ]
  },
  {
   "cell_type": "code",
   "execution_count": null,
   "id": "713f0cb4",
   "metadata": {},
   "outputs": [],
   "source": [
    "class_palette = nlcd.get('landcover_class_palette').getInfo()\n",
    "print(class_palette)"
   ]
  },
  {
   "cell_type": "code",
   "execution_count": null,
   "id": "c00a20d8",
   "metadata": {},
   "outputs": [],
   "source": [
    "landcover = result.set('classification_class_values', class_values)\n",
    "landcover = landcover.set('classification_class_palette', class_palette)"
   ]
  },
  {
   "cell_type": "code",
   "execution_count": null,
   "id": "586701e8",
   "metadata": {},
   "outputs": [],
   "source": [
    "Map.addLayer(landcover, {}, 'Land cover')\n",
    "Map"
   ]
  },
  {
   "cell_type": "markdown",
   "id": "fd2efe13",
   "metadata": {},
   "source": [
    "### Visualize results"
   ]
  },
  {
   "cell_type": "code",
   "execution_count": null,
   "id": "54c60c5e",
   "metadata": {},
   "outputs": [],
   "source": [
    "print('Change layer opacity:')\n",
    "cluster_layer = Map.layers[-1]\n",
    "cluster_layer.interact(opacity=(0, 1, 0.1))"
   ]
  },
  {
   "cell_type": "markdown",
   "id": "8264de6e",
   "metadata": {},
   "source": [
    "### Add a legend to the map"
   ]
  },
  {
   "cell_type": "code",
   "execution_count": null,
   "id": "27235e5d",
   "metadata": {},
   "outputs": [],
   "source": [
    "Map.add_legend(builtin_legend='NLCD')\n",
    "Map"
   ]
  },
  {
   "cell_type": "markdown",
   "id": "c4057b21",
   "metadata": {},
   "source": [
    "### Accuracy assessment"
   ]
  },
  {
   "cell_type": "markdown",
   "id": "c7c913fd",
   "metadata": {},
   "source": [
    "#### Training dataset"
   ]
  },
  {
   "cell_type": "code",
   "execution_count": null,
   "id": "8a43ec6f",
   "metadata": {},
   "outputs": [],
   "source": [
    "train_accuracy = classifier.confusionMatrix()"
   ]
  },
  {
   "cell_type": "code",
   "execution_count": null,
   "id": "350329e0",
   "metadata": {},
   "outputs": [],
   "source": [
    "train_accuracy.getInfo()"
   ]
  },
  {
   "cell_type": "code",
   "execution_count": null,
   "id": "0b42e34c",
   "metadata": {},
   "outputs": [],
   "source": [
    "train_accuracy.accuracy().getInfo()"
   ]
  },
  {
   "cell_type": "code",
   "execution_count": null,
   "id": "19a4f1dd",
   "metadata": {},
   "outputs": [],
   "source": [
    "train_accuracy.kappa().getInfo()"
   ]
  },
  {
   "cell_type": "code",
   "execution_count": null,
   "id": "9179bc75",
   "metadata": {},
   "outputs": [],
   "source": [
    "train_accuracy.producersAccuracy().getInfo()"
   ]
  },
  {
   "cell_type": "code",
   "execution_count": null,
   "id": "18922458",
   "metadata": {},
   "outputs": [],
   "source": [
    "train_accuracy.consumersAccuracy().getInfo()"
   ]
  },
  {
   "cell_type": "markdown",
   "id": "fd34c711",
   "metadata": {},
   "source": [
    "##### Validation dataset"
   ]
  },
  {
   "cell_type": "code",
   "execution_count": null,
   "id": "95c2049f",
   "metadata": {},
   "outputs": [],
   "source": [
    "validated = validation.classify(classifier)"
   ]
  },
  {
   "cell_type": "code",
   "execution_count": null,
   "id": "da1904d7",
   "metadata": {},
   "outputs": [],
   "source": [
    "validated.first().getInfo()"
   ]
  },
  {
   "cell_type": "code",
   "execution_count": null,
   "id": "9bc0fcb9",
   "metadata": {},
   "outputs": [],
   "source": [
    "test_accuracy = validated.errorMatrix('landcover', 'classification')"
   ]
  },
  {
   "cell_type": "code",
   "execution_count": null,
   "id": "2ab912f3",
   "metadata": {},
   "outputs": [],
   "source": [
    "test_accuracy.getInfo()"
   ]
  },
  {
   "cell_type": "code",
   "execution_count": null,
   "id": "b229ec1e",
   "metadata": {},
   "outputs": [],
   "source": [
    "test_accuracy.accuracy().getInfo()"
   ]
  },
  {
   "cell_type": "code",
   "execution_count": null,
   "id": "93d8b26e",
   "metadata": {},
   "outputs": [],
   "source": [
    "test_accuracy.kappa().getInfo()"
   ]
  },
  {
   "cell_type": "code",
   "execution_count": null,
   "id": "7a396ef2",
   "metadata": {},
   "outputs": [],
   "source": [
    "test_accuracy.producersAccuracy().getInfo()"
   ]
  },
  {
   "cell_type": "code",
   "execution_count": null,
   "id": "8d032ad7",
   "metadata": {},
   "outputs": [],
   "source": [
    "test_accuracy.consumersAccuracy().getInfo()"
   ]
  },
  {
   "cell_type": "markdown",
   "id": "0089f1b5",
   "metadata": {},
   "source": [
    "### Download confusion matrix"
   ]
  },
  {
   "cell_type": "code",
   "execution_count": null,
   "id": "c04efd9a",
   "metadata": {},
   "outputs": [],
   "source": [
    "import csv\n",
    "import os\n",
    "\n",
    "out_dir = os.getcwd()\n",
    "training_csv = os.path.join(out_dir, 'train_accuracy.csv')\n",
    "testing_csv = os.path.join(out_dir, 'test_accuracy.csv')\n",
    "\n",
    "with open(training_csv, \"w\", newline=\"\") as f:\n",
    "    writer = csv.writer(f)\n",
    "    writer.writerows(train_accuracy.getInfo())\n",
    "\n",
    "with open(testing_csv, \"w\", newline=\"\") as f:\n",
    "    writer = csv.writer(f)\n",
    "    writer.writerows(test_accuracy.getInfo())"
   ]
  },
  {
   "cell_type": "markdown",
   "id": "d841c272",
   "metadata": {},
   "source": [
    "### Reclassify land cover map"
   ]
  },
  {
   "cell_type": "code",
   "execution_count": null,
   "id": "d1533117",
   "metadata": {},
   "outputs": [],
   "source": [
    "landcover = landcover.remap(new_class_values, raw_class_values).select(\n",
    "    ['remapped'], ['classification']\n",
    ")"
   ]
  },
  {
   "cell_type": "code",
   "execution_count": null,
   "id": "e5670758",
   "metadata": {},
   "outputs": [],
   "source": [
    "landcover = landcover.set('classification_class_values', raw_class_values)\n",
    "landcover = landcover.set('classification_class_palette', class_palette)"
   ]
  },
  {
   "cell_type": "code",
   "execution_count": null,
   "id": "541765d4",
   "metadata": {},
   "outputs": [],
   "source": [
    "Map.addLayer(landcover, {}, 'Final land cover')\n",
    "Map"
   ]
  },
  {
   "cell_type": "markdown",
   "id": "e9c43177",
   "metadata": {},
   "source": [
    "### Export results"
   ]
  },
  {
   "cell_type": "code",
   "execution_count": null,
   "id": "57a9b6fb",
   "metadata": {},
   "outputs": [],
   "source": [
    "import os\n",
    "\n",
    "out_dir = os.getcwd()\n",
    "out_file = os.path.join(out_dir, 'landcover.tif')"
   ]
  },
  {
   "cell_type": "code",
   "execution_count": null,
   "id": "66ec5f81",
   "metadata": {},
   "outputs": [],
   "source": [
    "geemap.ee_export_image(landcover, filename=out_file, scale=900)"
   ]
  },
  {
   "cell_type": "code",
   "execution_count": null,
   "id": "b1284c8d",
   "metadata": {},
   "outputs": [],
   "source": [
    "geemap.ee_export_image_to_drive(\n",
    "    landcover, description='landcover', folder='export', scale=900\n",
    ")"
   ]
  },
  {
   "cell_type": "markdown",
   "id": "2b6348c2",
   "metadata": {},
   "source": [
    "## Using locally trained machine learning models"
   ]
  },
  {
   "cell_type": "code",
   "execution_count": null,
   "id": "d29a2638",
   "metadata": {},
   "outputs": [],
   "source": [
    "import pandas as pd\n",
    "from geemap import ml\n",
    "from sklearn import ensemble"
   ]
  },
  {
   "cell_type": "markdown",
   "id": "3311829b",
   "metadata": {},
   "source": [
    "### Train a model locally using scikit-learn"
   ]
  },
  {
   "cell_type": "code",
   "execution_count": null,
   "id": "ba088b91",
   "metadata": {},
   "outputs": [],
   "source": [
    "# read the feature table to train our RandomForest model\n",
    "# data taken from ee.FeatureCollection('GOOGLE/EE/DEMOS/demo_landcover_labels')\n",
    "\n",
    "url = \"https://raw.githubusercontent.com/giswqs/geemap/master/examples/data/rf_example.csv\"\n",
    "df = pd.read_csv(url)\n",
    "df"
   ]
  },
  {
   "cell_type": "code",
   "execution_count": null,
   "id": "6218b130",
   "metadata": {},
   "outputs": [],
   "source": [
    "# specify the names of the features (i.e. band names) and label\n",
    "# feature names used to extract out features and define what bands\n",
    "\n",
    "feature_names = ['B2', 'B3', 'B4', 'B5', 'B6', 'B7']\n",
    "label = \"landcover\""
   ]
  },
  {
   "cell_type": "code",
   "execution_count": null,
   "id": "66fb45df",
   "metadata": {},
   "outputs": [],
   "source": [
    "# get the features and labels into separate variables\n",
    "X = df[feature_names]\n",
    "y = df[label]"
   ]
  },
  {
   "cell_type": "code",
   "execution_count": null,
   "id": "acc3d1f6",
   "metadata": {},
   "outputs": [],
   "source": [
    "# create a classifier and fit\n",
    "n_trees = 10\n",
    "rf = ensemble.RandomForestClassifier(n_trees).fit(X, y)"
   ]
  },
  {
   "cell_type": "markdown",
   "id": "30b49dc5",
   "metadata": {},
   "source": [
    "### Convert a sklearn classifier object to a list of strings"
   ]
  },
  {
   "cell_type": "code",
   "execution_count": null,
   "id": "61f43d89",
   "metadata": {},
   "outputs": [],
   "source": [
    "# convert the estimator into a list of strings\n",
    "# this function also works with the ensemble.ExtraTrees estimator\n",
    "trees = ml.rf_to_strings(rf, feature_names)\n",
    "# print the first tree to see the result\n",
    "print(trees[0])"
   ]
  },
  {
   "cell_type": "code",
   "execution_count": null,
   "id": "ac605f7d",
   "metadata": {},
   "outputs": [],
   "source": [
    "print(trees[1])"
   ]
  },
  {
   "cell_type": "code",
   "execution_count": null,
   "id": "4e58f4f4",
   "metadata": {},
   "outputs": [],
   "source": [
    "# number of trees we converted should equal the number of trees we defined for the model\n",
    "len(trees) == n_trees"
   ]
  },
  {
   "cell_type": "markdown",
   "id": "1864c514",
   "metadata": {},
   "source": [
    "### Convert sklearn classifier to GEE classifier"
   ]
  },
  {
   "cell_type": "code",
   "execution_count": null,
   "id": "e708e97f",
   "metadata": {},
   "outputs": [],
   "source": [
    "# create a ee classifier to use with ee objects from the trees\n",
    "ee_classifier = ml.strings_to_classifier(trees)"
   ]
  },
  {
   "cell_type": "code",
   "execution_count": null,
   "id": "4b36c00e",
   "metadata": {},
   "outputs": [],
   "source": [
    "# ee_classifier.getInfo()"
   ]
  },
  {
   "cell_type": "markdown",
   "id": "5907f106",
   "metadata": {},
   "source": [
    "### Classify image using GEE classifier"
   ]
  },
  {
   "cell_type": "code",
   "execution_count": null,
   "id": "8103be1b",
   "metadata": {},
   "outputs": [],
   "source": [
    "# Make a cloud-free Landsat 8 TOA composite (from raw imagery).\n",
    "l8 = ee.ImageCollection('LANDSAT/LC08/C01/T1')\n",
    "\n",
    "image = ee.Algorithms.Landsat.simpleComposite(\n",
    "    collection=l8.filterDate('2018-01-01', '2018-12-31'), asFloat=True\n",
    ")"
   ]
  },
  {
   "cell_type": "code",
   "execution_count": null,
   "id": "04ea6084",
   "metadata": {},
   "outputs": [],
   "source": [
    "# classify the image using the classifier we created from the local training\n",
    "# note: here we select the feature_names from the image that way the classifier knows which bands to use\n",
    "classified = image.select(feature_names).classify(ee_classifier)"
   ]
  },
  {
   "cell_type": "code",
   "execution_count": null,
   "id": "d7912bd4",
   "metadata": {},
   "outputs": [],
   "source": [
    "# display results\n",
    "Map = geemap.Map(center=(37.75, -122.25), zoom=11)\n",
    "\n",
    "Map.addLayer(\n",
    "    image,\n",
    "    {\"bands\": ['B7', 'B5', 'B3'], \"min\": 0.05, \"max\": 0.55, \"gamma\": 1.5},\n",
    "    'image',\n",
    ")\n",
    "Map.addLayer(\n",
    "    classified,\n",
    "    {\"min\": 0, \"max\": 2, \"palette\": ['red', 'green', 'blue']},\n",
    "    'classification',\n",
    ")\n",
    "\n",
    "Map"
   ]
  },
  {
   "cell_type": "markdown",
   "id": "17834e78",
   "metadata": {},
   "source": [
    "### Save trees to the cloud"
   ]
  },
  {
   "cell_type": "code",
   "execution_count": null,
   "id": "5ad8cc80",
   "metadata": {},
   "outputs": [],
   "source": [
    "user_id = geemap.ee_user_id()\n",
    "user_id"
   ]
  },
  {
   "cell_type": "code",
   "execution_count": null,
   "id": "c2a00399",
   "metadata": {},
   "outputs": [],
   "source": [
    "# specify asset id where to save trees\n",
    "# be sure to change <user_name> to your ee user name\n",
    "asset_id = user_id + \"/random_forest_strings_test\"\n",
    "asset_id"
   ]
  },
  {
   "cell_type": "code",
   "execution_count": null,
   "id": "8c7f45e9",
   "metadata": {},
   "outputs": [],
   "source": [
    "# kick off an export process so it will be saved to the ee asset\n",
    "ml.export_trees_to_fc(trees, asset_id)\n",
    "\n",
    "# this will kick off an export task, so wait a few minutes before moving on"
   ]
  },
  {
   "cell_type": "code",
   "execution_count": null,
   "id": "9184a644",
   "metadata": {},
   "outputs": [],
   "source": [
    "# read the exported tree feature collection\n",
    "rf_fc = ee.FeatureCollection(asset_id)\n",
    "\n",
    "# convert it to a classifier, very similar to the `ml.trees_to_classifier` function\n",
    "another_classifier = ml.fc_to_classifier(rf_fc)\n",
    "\n",
    "# classify the image again but with the classifier from the persisted trees\n",
    "classified = image.select(feature_names).classify(another_classifier)"
   ]
  },
  {
   "cell_type": "code",
   "execution_count": null,
   "id": "656f79e7",
   "metadata": {},
   "outputs": [],
   "source": [
    "# display results\n",
    "# we should get the exact same results as before\n",
    "Map = geemap.Map(center=(37.75, -122.25), zoom=11)\n",
    "\n",
    "Map.addLayer(\n",
    "    image,\n",
    "    {\"bands\": ['B7', 'B5', 'B3'], \"min\": 0.05, \"max\": 0.55, \"gamma\": 1.5},\n",
    "    'image',\n",
    ")\n",
    "Map.addLayer(\n",
    "    classified,\n",
    "    {\"min\": 0, \"max\": 2, \"palette\": ['red', 'green', 'blue']},\n",
    "    'classification',\n",
    ")\n",
    "\n",
    "Map"
   ]
  },
  {
   "cell_type": "markdown",
   "id": "e955bc34",
   "metadata": {},
   "source": [
    "### Save trees locally"
   ]
  },
  {
   "cell_type": "code",
   "execution_count": null,
   "id": "f66d0fe6",
   "metadata": {},
   "outputs": [],
   "source": [
    "import os\n",
    "\n",
    "out_csv = os.path.abspath(\"trees.csv\")"
   ]
  },
  {
   "cell_type": "code",
   "execution_count": null,
   "id": "1f6c6b82",
   "metadata": {},
   "outputs": [],
   "source": [
    "ml.trees_to_csv(trees, out_csv)"
   ]
  },
  {
   "cell_type": "code",
   "execution_count": null,
   "id": "6a7a8501",
   "metadata": {},
   "outputs": [],
   "source": [
    "another_classifier = ml.csv_to_classifier(out_csv)"
   ]
  },
  {
   "cell_type": "code",
   "execution_count": null,
   "id": "50b604cd",
   "metadata": {},
   "outputs": [],
   "source": [
    "classified = image.select(feature_names).classify(another_classifier)"
   ]
  },
  {
   "cell_type": "code",
   "execution_count": null,
   "id": "e52b55ad",
   "metadata": {},
   "outputs": [],
   "source": [
    "# display results\n",
    "# we should get the exact same results as before\n",
    "Map = geemap.Map(center=(37.75, -122.25), zoom=11)\n",
    "\n",
    "Map.addLayer(\n",
    "    image,\n",
    "    {\"bands\": ['B7', 'B5', 'B3'], \"min\": 0.05, \"max\": 0.55, \"gamma\": 1.5},\n",
    "    'image',\n",
    ")\n",
    "Map.addLayer(\n",
    "    classified,\n",
    "    {\"min\": 0, \"max\": 2, \"palette\": ['red', 'green', 'blue']},\n",
    "    'classification',\n",
    ")\n",
    "\n",
    "Map"
   ]
  },
  {
   "cell_type": "markdown",
   "id": "2d617c28",
   "metadata": {},
   "source": [
    "## Global land cover area"
   ]
  },
  {
   "cell_type": "code",
   "execution_count": null,
   "id": "7fd5ca14",
   "metadata": {},
   "outputs": [],
   "source": [
    "Map = geemap.Map()\n",
    "dataset = ee.ImageCollection(\"ESA/WorldCover/v100\").first()\n",
    "Map.addLayer(dataset, {'bands': ['Map']}, 'ESA Land Cover')\n",
    "Map.add_legend(builtin_legend='ESA_WorldCover')\n",
    "Map"
   ]
  },
  {
   "cell_type": "code",
   "execution_count": null,
   "id": "be197560",
   "metadata": {},
   "outputs": [],
   "source": [
    "df = geemap.image_area_by_group(\n",
    "    dataset, scale=1000, denominator=1e6, decimal_places=4, verbose=True\n",
    ")\n",
    "df"
   ]
  },
  {
   "cell_type": "code",
   "execution_count": null,
   "id": "d186ba94",
   "metadata": {},
   "outputs": [],
   "source": [
    "df.to_csv('esa_area.csv')"
   ]
  },
  {
   "cell_type": "code",
   "execution_count": null,
   "id": "374030e8",
   "metadata": {},
   "outputs": [],
   "source": [
    "Map = geemap.Map(center=[40, -100], zoom=4)\n",
    "Map.add_basemap('HYBRID')\n",
    "\n",
    "nlcd = ee.Image('USGS/NLCD_RELEASES/2019_REL/NLCD/2019')\n",
    "landcover = nlcd.select('landcover')\n",
    "\n",
    "Map.addLayer(landcover, {}, 'NLCD Land Cover 2019')\n",
    "Map.add_legend(\n",
    "    title=\"NLCD Land Cover Classification\", builtin_legend='NLCD', height='465px'\n",
    ")\n",
    "Map"
   ]
  },
  {
   "cell_type": "code",
   "execution_count": null,
   "id": "9ebc318e",
   "metadata": {},
   "outputs": [],
   "source": [
    "df = geemap.image_area_by_group(\n",
    "    landcover, scale=1000, denominator=1e6, decimal_places=4, verbose=True\n",
    ")\n",
    "df"
   ]
  },
  {
   "cell_type": "code",
   "execution_count": null,
   "id": "9f9b4eef",
   "metadata": {},
   "outputs": [],
   "source": [
    "df.to_csv('nlcd_area.csv')"
   ]
  },
  {
   "cell_type": "markdown",
   "id": "1a4a6359",
   "metadata": {},
   "source": [
    "## WhiteboxTools"
   ]
  },
  {
   "cell_type": "code",
   "execution_count": null,
   "id": "932ba93c",
   "metadata": {},
   "outputs": [],
   "source": [
    "pip install geemap[lidar]"
   ]
  },
  {
   "cell_type": "markdown",
   "id": "5267a328",
   "metadata": {},
   "source": [
    "### Import libraries"
   ]
  },
  {
   "cell_type": "code",
   "execution_count": null,
   "id": "1b079901",
   "metadata": {},
   "outputs": [],
   "source": [
    "import os\n",
    "import geemap\n",
    "import whitebox"
   ]
  },
  {
   "cell_type": "markdown",
   "id": "df376e0d",
   "metadata": {},
   "source": [
    "### Set up whitebox"
   ]
  },
  {
   "cell_type": "code",
   "execution_count": null,
   "id": "235cb4b0",
   "metadata": {},
   "outputs": [],
   "source": [
    "wbt = whitebox.WhiteboxTools()\n",
    "wbt.set_working_dir(os.getcwd())\n",
    "wbt.set_verbose_mode(False)"
   ]
  },
  {
   "cell_type": "markdown",
   "id": "e267c6e1",
   "metadata": {},
   "source": [
    "### Download sample data"
   ]
  },
  {
   "cell_type": "code",
   "execution_count": null,
   "id": "9b44230a",
   "metadata": {},
   "outputs": [],
   "source": [
    "url = 'https://github.com/giswqs/data/raw/main/lidar/madison.laz'\n",
    "if not os.path.exists('madison.laz'):\n",
    "    geemap.download_file(url)"
   ]
  },
  {
   "cell_type": "markdown",
   "id": "19206cbd",
   "metadata": {},
   "source": [
    "### Read LAS/LAZ data"
   ]
  },
  {
   "cell_type": "code",
   "execution_count": null,
   "id": "d4e2d3f2",
   "metadata": {},
   "outputs": [],
   "source": [
    "laz = geemap.read_lidar('madison.laz')"
   ]
  },
  {
   "cell_type": "code",
   "execution_count": null,
   "id": "e5a6672e",
   "metadata": {},
   "outputs": [],
   "source": [
    "laz"
   ]
  },
  {
   "cell_type": "code",
   "execution_count": null,
   "id": "57d037ed",
   "metadata": {},
   "outputs": [],
   "source": [
    "str(laz.header.version)"
   ]
  },
  {
   "cell_type": "markdown",
   "id": "8a05eab3",
   "metadata": {},
   "source": [
    "### Upgrade file version"
   ]
  },
  {
   "cell_type": "code",
   "execution_count": null,
   "id": "862a21f8",
   "metadata": {},
   "outputs": [],
   "source": [
    "las = geemap.convert_lidar(laz, file_version='1.4')"
   ]
  },
  {
   "cell_type": "code",
   "execution_count": null,
   "id": "efc3b2a1",
   "metadata": {},
   "outputs": [],
   "source": [
    "str(las.header.version)"
   ]
  },
  {
   "cell_type": "markdown",
   "id": "e8f8e815",
   "metadata": {},
   "source": [
    "### Write LAS data"
   ]
  },
  {
   "cell_type": "code",
   "execution_count": null,
   "id": "3d555114",
   "metadata": {},
   "outputs": [],
   "source": [
    "geemap.write_lidar(las, 'madison.las')"
   ]
  },
  {
   "cell_type": "markdown",
   "id": "3402992e",
   "metadata": {
    "tags": []
   },
   "source": [
    "### Histogram analysis"
   ]
  },
  {
   "cell_type": "code",
   "execution_count": null,
   "id": "733259be",
   "metadata": {},
   "outputs": [],
   "source": [
    "wbt.lidar_histogram('madison.las', 'histogram.html')"
   ]
  },
  {
   "cell_type": "markdown",
   "id": "8e7c2a7d",
   "metadata": {},
   "source": [
    "### Visualize LiDAR data"
   ]
  },
  {
   "cell_type": "code",
   "execution_count": null,
   "id": "b9b82e4b",
   "metadata": {},
   "outputs": [],
   "source": [
    "geemap.view_lidar('madison.las')"
   ]
  },
  {
   "cell_type": "markdown",
   "id": "0cf51725",
   "metadata": {},
   "source": [
    "### Remove outliers"
   ]
  },
  {
   "cell_type": "code",
   "execution_count": null,
   "id": "2df1adf1",
   "metadata": {},
   "outputs": [],
   "source": [
    "wbt.lidar_elevation_slice(\"madison.las\", \"madison_rm.las\", minz=0, maxz=450)"
   ]
  },
  {
   "cell_type": "markdown",
   "id": "42211745",
   "metadata": {},
   "source": [
    "### Visualize LiDAR data after removing outliers"
   ]
  },
  {
   "cell_type": "code",
   "execution_count": null,
   "id": "05862ebc",
   "metadata": {},
   "outputs": [],
   "source": [
    "geemap.view_lidar('madison_rm.las', cmap='terrain')"
   ]
  },
  {
   "cell_type": "markdown",
   "id": "57a7a9be",
   "metadata": {},
   "source": [
    "### Create DSM"
   ]
  },
  {
   "cell_type": "code",
   "execution_count": null,
   "id": "64e2df9f",
   "metadata": {},
   "outputs": [],
   "source": [
    "wbt.lidar_digital_surface_model(\n",
    "    'madison_rm.las', 'dsm.tif', resolution=1.0, minz=0, maxz=450\n",
    ")"
   ]
  },
  {
   "cell_type": "code",
   "execution_count": null,
   "id": "a79c5b4c",
   "metadata": {
    "jp-MarkdownHeadingCollapsed": true,
    "tags": []
   },
   "outputs": [],
   "source": [
    "geemap.add_crs(\"dsm.tif\", epsg=2255)"
   ]
  },
  {
   "cell_type": "markdown",
   "id": "e2b7bc4d",
   "metadata": {},
   "source": [
    "### Visualize DSM"
   ]
  },
  {
   "cell_type": "code",
   "execution_count": null,
   "id": "5e87cc90",
   "metadata": {},
   "outputs": [],
   "source": [
    "Map = geemap.Map()\n",
    "Map.add_raster('dsm.tif', palette='terrain', layer_name='DSM')\n",
    "Map"
   ]
  },
  {
   "cell_type": "markdown",
   "id": "ea1b199b",
   "metadata": {},
   "source": [
    "### Create DEM"
   ]
  },
  {
   "cell_type": "code",
   "execution_count": null,
   "id": "57ef7f12",
   "metadata": {},
   "outputs": [],
   "source": [
    "wbt.remove_off_terrain_objects('dsm.tif', 'dem.tif', filter=25, slope=15.0)"
   ]
  },
  {
   "cell_type": "markdown",
   "id": "b22f428d",
   "metadata": {},
   "source": [
    "### Visualize DEM"
   ]
  },
  {
   "cell_type": "code",
   "execution_count": null,
   "id": "e1d22aa7",
   "metadata": {},
   "outputs": [],
   "source": [
    "Map.add_raster('dem.tif', palette='terrain', layer_name='DEM')\n",
    "Map"
   ]
  },
  {
   "cell_type": "markdown",
   "id": "a1c6963c",
   "metadata": {},
   "source": [
    "### Create CHM"
   ]
  },
  {
   "cell_type": "code",
   "execution_count": null,
   "id": "c31480d5",
   "metadata": {},
   "outputs": [],
   "source": [
    "chm = wbt.subtract('dsm.tif', 'dem.tif', 'chm.tif')"
   ]
  },
  {
   "cell_type": "code",
   "execution_count": null,
   "id": "adc36fa7",
   "metadata": {},
   "outputs": [],
   "source": [
    "Map.add_raster('chm.tif', palette='gist_earth', layer_name='CHM')\n",
    "Map"
   ]
  },
  {
   "cell_type": "markdown",
   "id": "592fca4d",
   "metadata": {},
   "source": [
    "## Summary\n",
    "\n",
    "## References\n",
    "\n",
    "- https://geemap.org/notebooks/12_zonal_statistics/\n",
    "- https://geemap.org/notebooks/13_zonal_statistics_by_group/\n",
    "- https://geemap.org/notebooks/31_unsupervised_classification/\n",
    "- https://geemap.org/notebooks/32_supervised_classification/\n",
    "- https://geemap.org/notebooks/33_accuracy_assessment/\n",
    "- https://geemap.org/notebooks/34_extract_values/\n",
    "- https://geemap.org/notebooks/36_quality_mosaic/\n",
    "- https://geemap.org/notebooks/46_local_rf_training/\n",
    "- https://geemap.org/notebooks/59_whitebox/\n",
    "- https://geemap.org/notebooks/63_charts/\n",
    "- https://geemap.org/notebooks/67_training_samples/\n",
    "- https://geemap.org/notebooks/71_timelapse/\n",
    "- https://geemap.org/notebooks/108_image_zonal_stats/\n",
    "- https://geemap.org/notebooks/109_coordinate_grids/\n",
    "- https://geemap.org/notebooks/111_image_count/\n",
    "- https://geemap.org/notebooks/113_image_area/\n",
    "- https://geemap.org/notebooks/114_dynamic_world/\n",
    "- https://geemap.org/notebooks/115_land_cover/\n",
    "- https://geemap.org/notebooks/116_land_cover_timeseries/\n",
    "- https://geemap.org/notebooks/117_fishnet/\n",
    "- https://geemap.org/notebooks/122_lidar/\n",
    "- https://developers.google.com/earth-engine/tutorials/tutorial_api_06\n",
    "- https://developers.google.com/earth-engine/guides/clustering"
   ]
  }
 ],
 "metadata": {
  "jupytext": {
   "text_representation": {
    "extension": ".md",
    "format_name": "myst",
    "format_version": 0.13,
    "jupytext_version": "1.11.5"
   }
  },
  "kernelspec": {
   "display_name": "Python 3",
   "language": "python",
   "name": "python3"
  },
  "source_map": [
   12,
   23,
   40,
   44,
   49,
   51,
   57,
   62,
   67,
   72,
   77,
   82,
   87,
   92,
   97,
   100,
   104,
   126,
   129,
   133,
   147,
   151,
   168,
   179,
   184,
   186,
   190,
   202,
   206,
   210,
   215,
   218,
   222,
   246,
   253,
   263,
   267,
   285,
   298,
   309,
   313,
   321,
   327,
   332,
   336,
   338,
   342,
   346,
   353,
   358,
   362,
   369,
   375,
   380,
   384,
   389,
   400,
   405,
   429,
   432,
   436,
   447,
   450,
   454,
   461,
   472,
   478,
   482,
   487,
   491,
   498,
   504,
   518,
   522,
   530,
   539,
   548,
   560,
   566,
   571,
   576,
   581,
   586,
   592,
   596,
   598,
   602,
   624,
   628,
   631,
   635,
   637,
   641,
   665,
   674,
   679,
   683,
   685,
   689,
   703,
   714,
   722,
   726,
   734,
   738,
   742,
   745,
   749,
   754,
   757,
   761,
   770,
   774,
   785,
   789,
   795,
   802,
   809,
   814,
   818,
   820,
   824,
   828,
   830,
   834,
   850,
   853,
   857,
   865,
   871,
   875,
   877,
   881,
   892,
   897,
   934,
   946,
   948,
   952,
   956,
   967,
   972,
   990,
   995,
   1006,
   1008,
   1014,
   1018,
   1025,
   1034,
   1036,
   1042,
   1044,
   1050,
   1054,
   1056,
   1060,
   1065,
   1069,
   1075,
   1079,
   1083,
   1103,
   1107,
   1112,
   1116,
   1118,
   1122,
   1128,
   1142,
   1146,
   1150,
   1154,
   1161,
   1165,
   1179,
   1183,
   1187,
   1191,
   1195,
   1199,
   1205,
   1209,
   1213,
   1232,
   1236,
   1240,
   1242,
   1246,
   1250,
   1254,
   1260,
   1275,
   1279,
   1281,
   1285,
   1302,
   1304,
   1308,
   1315,
   1319,
   1324,
   1329,
   1334,
   1337,
   1341,
   1345,
   1349,
   1352,
   1356,
   1360,
   1364,
   1370,
   1374,
   1380,
   1387,
   1392,
   1398,
   1403,
   1407,
   1412,
   1416,
   1421,
   1438,
   1441,
   1445,
   1450,
   1456,
   1461,
   1469,
   1472,
   1476,
   1491,
   1495,
   1497,
   1501,
   1522,
   1526,
   1528,
   1532,
   1534,
   1538,
   1545,
   1549,
   1554,
   1559,
   1564,
   1567,
   1571,
   1575,
   1579,
   1582,
   1586,
   1590,
   1594,
   1598,
   1602,
   1606,
   1610,
   1612,
   1616,
   1620,
   1624,
   1628,
   1632,
   1636,
   1640,
   1644,
   1646,
   1650,
   1665,
   1669,
   1675,
   1680,
   1683,
   1687,
   1694,
   1698,
   1702,
   1706,
   1710,
   1714,
   1723,
   1731,
   1737,
   1741,
   1745,
   1753,
   1757,
   1760,
   1764,
   1769,
   1771,
   1775,
   1784,
   1790,
   1806,
   1810,
   1815,
   1822,
   1829,
   1840,
   1857,
   1861,
   1867,
   1871,
   1875,
   1879,
   1896,
   1900,
   1908,
   1915,
   1919,
   1933,
   1940,
   1942,
   1946,
   1948,
   1952,
   1956,
   1960,
   1964,
   1968,
   1972,
   1976,
   1980,
   1984,
   1986,
   1990,
   1994,
   1996,
   2000,
   2004,
   2008,
   2010,
   2014,
   2016,
   2020,
   2022,
   2026,
   2028,
   2032,
   2038,
   2043,
   2047,
   2051,
   2055,
   2057,
   2061,
   2064,
   2068,
   2072,
   2075
  ]
 },
 "nbformat": 4,
 "nbformat_minor": 5
}