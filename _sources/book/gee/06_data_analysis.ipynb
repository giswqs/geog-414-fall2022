{
 "cells": [
  {
   "cell_type": "markdown",
   "id": "e9ea2701",
   "metadata": {},
   "source": [
    "# Analyzing Geospatial Data\n",
    "\n",
    "```{contents}\n",
    ":local:\n",
    ":depth: 2\n",
    "```\n",
    "\n",
    "## Introduction"
   ]
  },
  {
   "cell_type": "markdown",
   "id": "ae798402",
   "metadata": {},
   "source": [
    "## Technical requirements\n",
    "\n",
    "```bash\n",
    "conda create -n gee python\n",
    "conda activate gee\n",
    "conda install -c conda-forge mamba\n",
    "mamba install -c conda-forge geemap pygis\n",
    "```\n",
    "\n",
    "```bash\n",
    "jupyter lab\n",
    "```\n",
    "\n",
    "[![Open in Colab](https://colab.research.google.com/assets/colab-badge.svg)](https://colab.research.google.com/github/giswqs/geebook/blob/master/chapters/06_data_analysis.ipynb)"
   ]
  },
  {
   "cell_type": "code",
   "execution_count": null,
   "id": "78eca183",
   "metadata": {},
   "outputs": [],
   "source": [
    "# pip install pygis"
   ]
  },
  {
   "cell_type": "code",
   "execution_count": null,
   "id": "8c8d1680",
   "metadata": {},
   "outputs": [],
   "source": [
    "import ee\n",
    "import geemap"
   ]
  },
  {
   "cell_type": "code",
   "execution_count": null,
   "id": "1ce03992",
   "metadata": {},
   "outputs": [],
   "source": [
    "geemap.ee_initialize()"
   ]
  },
  {
   "cell_type": "markdown",
   "id": "0e3cc542",
   "metadata": {},
   "source": [
    "## Reducer\n",
    "\n",
    "### List reductions"
   ]
  },
  {
   "cell_type": "code",
   "execution_count": null,
   "id": "f4e8a12d",
   "metadata": {},
   "outputs": [],
   "source": [
    "values = ee.List.sequence(1, 10)\n",
    "print(values.getInfo())"
   ]
  },
  {
   "cell_type": "code",
   "execution_count": null,
   "id": "eb7ca01d",
   "metadata": {},
   "outputs": [],
   "source": [
    "count = values.reduce(ee.Reducer.count())\n",
    "print(count.getInfo())  # 10"
   ]
  },
  {
   "cell_type": "code",
   "execution_count": null,
   "id": "f3bb5c2a",
   "metadata": {},
   "outputs": [],
   "source": [
    "min_value = values.reduce(ee.Reducer.min())\n",
    "print(min_value.getInfo())  # 1"
   ]
  },
  {
   "cell_type": "code",
   "execution_count": null,
   "id": "8c828b8a",
   "metadata": {},
   "outputs": [],
   "source": [
    "max_value = values.reduce(ee.Reducer.max())\n",
    "print(max_value.getInfo())  # 10"
   ]
  },
  {
   "cell_type": "code",
   "execution_count": null,
   "id": "5c4fae49",
   "metadata": {},
   "outputs": [],
   "source": [
    "min_max_value = values.reduce(ee.Reducer.minMax())\n",
    "print(min_max_value.getInfo())"
   ]
  },
  {
   "cell_type": "code",
   "execution_count": null,
   "id": "3878b2f8",
   "metadata": {},
   "outputs": [],
   "source": [
    "mean_value = values.reduce(ee.Reducer.mean())\n",
    "print(mean_value.getInfo())  # 5.5"
   ]
  },
  {
   "cell_type": "code",
   "execution_count": null,
   "id": "5c4cd12d",
   "metadata": {},
   "outputs": [],
   "source": [
    "median_value = values.reduce(ee.Reducer.median())\n",
    "print(median_value.getInfo())  # 5.5"
   ]
  },
  {
   "cell_type": "code",
   "execution_count": null,
   "id": "9e816650",
   "metadata": {},
   "outputs": [],
   "source": [
    "sum_value = values.reduce(ee.Reducer.sum())\n",
    "print(sum_value.getInfo())  # 55"
   ]
  },
  {
   "cell_type": "code",
   "execution_count": null,
   "id": "335279c8",
   "metadata": {},
   "outputs": [],
   "source": [
    "std_value = values.reduce(ee.Reducer.stdDev())\n",
    "print(std_value.getInfo())  # 2.8723"
   ]
  },
  {
   "cell_type": "markdown",
   "id": "c807af5f",
   "metadata": {},
   "source": [
    "### ImageCollection reductions"
   ]
  },
  {
   "cell_type": "code",
   "execution_count": null,
   "id": "d58fb1f5",
   "metadata": {},
   "outputs": [],
   "source": [
    "Map = geemap.Map()\n",
    "\n",
    "# Load an image collection, filtered so it's not too much data.\n",
    "collection = (\n",
    "    ee.ImageCollection('LANDSAT/LC08/C01/T1_TOA')\n",
    "    .filterDate('2021-01-01', '2021-12-31')\n",
    "    .filter(ee.Filter.eq('WRS_PATH', 44))\n",
    "    .filter(ee.Filter.eq('WRS_ROW', 34))\n",
    ")\n",
    "\n",
    "# Compute the median in each band, each pixel.\n",
    "# Band names are B1_median, B2_median, etc.\n",
    "median = collection.reduce(ee.Reducer.median())\n",
    "\n",
    "# The output is an Image.  Add it to the map.\n",
    "vis_param = {'bands': ['B5_median', 'B4_median', 'B3_median'], 'gamma': 2}\n",
    "Map.setCenter(-122.3355, 37.7924, 8)\n",
    "Map.addLayer(median, vis_param)\n",
    "Map"
   ]
  },
  {
   "cell_type": "code",
   "execution_count": null,
   "id": "792f43c8",
   "metadata": {},
   "outputs": [],
   "source": [
    "median = collection.median()\n",
    "print(median.bandNames().getInfo())"
   ]
  },
  {
   "cell_type": "markdown",
   "id": "c3774bc9",
   "metadata": {},
   "source": [
    "### Image reductions"
   ]
  },
  {
   "cell_type": "code",
   "execution_count": null,
   "id": "560dab2d",
   "metadata": {},
   "outputs": [],
   "source": [
    "Map = geemap.Map()\n",
    "\n",
    "# Load an image and select some bands of interest.\n",
    "image = ee.Image('LANDSAT/LC08/C01/T1/LC08_044034_20140318').select(['B4', 'B3', 'B2'])\n",
    "\n",
    "# Reduce the image to get a one-band maximum value image.\n",
    "maxValue = image.reduce(ee.Reducer.max())\n",
    "\n",
    "# Display the result.\n",
    "Map.centerObject(image, 8)\n",
    "Map.addLayer(image, {}, 'Original image')\n",
    "Map.addLayer(maxValue, {'max': 13000}, 'Maximum value image')\n",
    "Map"
   ]
  },
  {
   "cell_type": "markdown",
   "id": "2970232c",
   "metadata": {},
   "source": [
    "### FeatureCollection reductions"
   ]
  },
  {
   "cell_type": "code",
   "execution_count": null,
   "id": "cf0bb951",
   "metadata": {},
   "outputs": [],
   "source": [
    "Map = geemap.Map()\n",
    "\n",
    "# Load US census data as a FeatureCollection.\n",
    "census = ee.FeatureCollection('TIGER/2010/Blocks')\n",
    "\n",
    "# Filter the collection to include only Benton County, OR.\n",
    "benton = census.filter(\n",
    "    ee.Filter.And(ee.Filter.eq('statefp10', '41'), ee.Filter.eq('countyfp10', '003'))\n",
    ")\n",
    "\n",
    "# Display Benton County census blocks.\n",
    "Map.setCenter(-123.27, 44.57, 13)\n",
    "Map.addLayer(benton)\n",
    "Map"
   ]
  },
  {
   "cell_type": "code",
   "execution_count": null,
   "id": "8d07c10d",
   "metadata": {},
   "outputs": [],
   "source": [
    "# Compute sums of the specified properties.\n",
    "properties = ['pop10', 'housing10']\n",
    "sums = benton.filter(ee.Filter.notNull(properties)).reduceColumns(\n",
    "    **{'reducer': ee.Reducer.sum().repeat(2), 'selectors': properties}\n",
    ")\n",
    "\n",
    "# Print the resultant Dictionary.\n",
    "print(sums.getInfo())"
   ]
  },
  {
   "cell_type": "code",
   "execution_count": null,
   "id": "326416a4",
   "metadata": {},
   "outputs": [],
   "source": [
    "print(benton.aggregate_sum('pop10').getInfo())  # 85579\n",
    "print(benton.aggregate_sum('housing10').getInfo())  # 36245"
   ]
  },
  {
   "cell_type": "code",
   "execution_count": null,
   "id": "36cf0189",
   "metadata": {},
   "outputs": [],
   "source": [
    "benton.aggregate_stats('pop10').getInfo()"
   ]
  },
  {
   "cell_type": "markdown",
   "id": "b58ede6c",
   "metadata": {},
   "source": [
    "## Image descriptive statistics"
   ]
  },
  {
   "cell_type": "code",
   "execution_count": null,
   "id": "ccb25e82",
   "metadata": {},
   "outputs": [],
   "source": [
    "Map = geemap.Map()\n",
    "\n",
    "centroid = ee.Geometry.Point([-122.4439, 37.7538])\n",
    "image = ee.ImageCollection('LANDSAT/LC08/C01/T1_SR').filterBounds(centroid).first()\n",
    "vis = {'min': 0, 'max': 3000, 'bands': ['B5', 'B4', 'B3']}\n",
    "\n",
    "Map.centerObject(centroid, 8)\n",
    "Map.addLayer(image, vis, \"Landsat-8\")\n",
    "Map"
   ]
  },
  {
   "cell_type": "code",
   "execution_count": null,
   "id": "c5e02a45",
   "metadata": {},
   "outputs": [],
   "source": [
    "image.propertyNames().getInfo()"
   ]
  },
  {
   "cell_type": "code",
   "execution_count": null,
   "id": "3654909e",
   "metadata": {},
   "outputs": [],
   "source": [
    "image.get('CLOUD_COVER').getInfo()  # 0.05"
   ]
  },
  {
   "cell_type": "code",
   "execution_count": null,
   "id": "dbc5916b",
   "metadata": {},
   "outputs": [],
   "source": [
    "props = geemap.image_props(image)\n",
    "props.getInfo()"
   ]
  },
  {
   "cell_type": "code",
   "execution_count": null,
   "id": "15e9ee05",
   "metadata": {},
   "outputs": [],
   "source": [
    "stats = geemap.image_stats(image, scale=30)\n",
    "stats.getInfo()"
   ]
  },
  {
   "cell_type": "markdown",
   "id": "8b4ce76c",
   "metadata": {},
   "source": [
    "## Zonal statistics"
   ]
  },
  {
   "cell_type": "code",
   "execution_count": null,
   "id": "4ed53e63",
   "metadata": {},
   "outputs": [],
   "source": [
    "Map = geemap.Map(center=[40, -100], zoom=4)\n",
    "\n",
    "# Add NASA SRTM\n",
    "dem = ee.Image('USGS/SRTMGL1_003')\n",
    "dem_vis = {\n",
    "    'min': 0,\n",
    "    'max': 4000,\n",
    "    'palette': ['006633', 'E5FFCC', '662A00', 'D8D8D8', 'F5F5F5'],\n",
    "}\n",
    "Map.addLayer(dem, dem_vis, 'SRTM DEM')\n",
    "\n",
    "# Add 5-year Landsat TOA composite\n",
    "landsat = ee.Image('LANDSAT/LE7_TOA_5YEAR/1999_2003')\n",
    "landsat_vis = {'bands': ['B4', 'B3', 'B2'], 'gamma': 1.4}\n",
    "Map.addLayer(landsat, landsat_vis, \"Landsat\", False)\n",
    "\n",
    "# Add US Census States\n",
    "states = ee.FeatureCollection(\"TIGER/2018/States\")\n",
    "style = {'fillColor': '00000000'}\n",
    "Map.addLayer(states.style(**style), {}, 'US States')\n",
    "Map"
   ]
  },
  {
   "cell_type": "code",
   "execution_count": null,
   "id": "70660de3",
   "metadata": {},
   "outputs": [],
   "source": [
    "out_dem_stats = 'dem_stats.csv'\n",
    "geemap.zonal_stats(\n",
    "    dem, states, out_dem_stats, statistics_type='MEAN', scale=1000, return_fc=False\n",
    ")"
   ]
  },
  {
   "cell_type": "code",
   "execution_count": null,
   "id": "bf470ac8",
   "metadata": {},
   "outputs": [],
   "source": [
    "out_landsat_stats = 'landsat_stats.csv'\n",
    "geemap.zonal_stats(\n",
    "    landsat,\n",
    "    states,\n",
    "    out_landsat_stats,\n",
    "    statistics_type='MEAN',\n",
    "    scale=1000,\n",
    "    return_fc=False,\n",
    ")"
   ]
  },
  {
   "cell_type": "markdown",
   "id": "0d2fefd2",
   "metadata": {},
   "source": [
    "## Zonal statistics by group"
   ]
  },
  {
   "cell_type": "code",
   "execution_count": null,
   "id": "87097a4d",
   "metadata": {},
   "outputs": [],
   "source": [
    "Map = geemap.Map(center=[40, -100], zoom=4)\n",
    "\n",
    "# Add NLCD data\n",
    "dataset = ee.Image('USGS/NLCD_RELEASES/2019_REL/NLCD/2019')\n",
    "landcover = dataset.select('landcover')\n",
    "Map.addLayer(landcover, {}, 'NLCD 2019')\n",
    "\n",
    "# Add US census states\n",
    "states = ee.FeatureCollection(\"TIGER/2018/States\")\n",
    "style = {'fillColor': '00000000'}\n",
    "Map.addLayer(states.style(**style), {}, 'US States')\n",
    "\n",
    "# Add NLCD legend\n",
    "Map.add_legend(title='NLCD Land Cover', builtin_legend='NLCD')\n",
    "Map"
   ]
  },
  {
   "cell_type": "code",
   "execution_count": null,
   "id": "cb9a3c17",
   "metadata": {},
   "outputs": [],
   "source": [
    "nlcd_stats = 'nlcd_stats.csv'\n",
    "\n",
    "geemap.zonal_stats_by_group(\n",
    "    landcover,\n",
    "    states,\n",
    "    nlcd_stats,\n",
    "    statistics_type='SUM',\n",
    "    denominator=1e6,\n",
    "    decimal_places=2,\n",
    ")"
   ]
  },
  {
   "cell_type": "code",
   "execution_count": null,
   "id": "559437c1",
   "metadata": {},
   "outputs": [],
   "source": [
    "nlcd_stats = 'nlcd_stats_pct.csv'\n",
    "\n",
    "geemap.zonal_stats_by_group(\n",
    "    landcover,\n",
    "    states,\n",
    "    nlcd_stats,\n",
    "    statistics_type='PERCENTAGE',\n",
    "    denominator=1e6,\n",
    "    decimal_places=2,\n",
    ")"
   ]
  },
  {
   "cell_type": "markdown",
   "id": "f3496bb2",
   "metadata": {},
   "source": [
    "## Zonal statistics with two images"
   ]
  },
  {
   "cell_type": "code",
   "execution_count": null,
   "id": "9a5deeec",
   "metadata": {},
   "outputs": [],
   "source": [
    "Map = geemap.Map(center=[40, -100], zoom=4)\n",
    "dem = ee.Image('USGS/3DEP/10m')\n",
    "vis = {'min': 0, 'max': 4000, 'palette': 'terrain'}\n",
    "Map.addLayer(dem, vis, 'DEM')\n",
    "Map"
   ]
  },
  {
   "cell_type": "code",
   "execution_count": null,
   "id": "781d6291",
   "metadata": {},
   "outputs": [],
   "source": [
    "landcover = ee.Image(\"USGS/NLCD_RELEASES/2019_REL/NLCD/2019\").select('landcover')\n",
    "Map.addLayer(landcover, {}, 'NLCD 2019')\n",
    "Map.add_legend(title='NLCD Land Cover Classification', builtin_legend='NLCD')"
   ]
  },
  {
   "cell_type": "code",
   "execution_count": null,
   "id": "9faeb9d8",
   "metadata": {},
   "outputs": [],
   "source": [
    "stats = geemap.image_stats_by_zone(dem, landcover, reducer='MEAN')\n",
    "stats"
   ]
  },
  {
   "cell_type": "code",
   "execution_count": null,
   "id": "fa2ee43d",
   "metadata": {},
   "outputs": [],
   "source": [
    "stats.to_csv('mean.csv', index=False)"
   ]
  },
  {
   "cell_type": "code",
   "execution_count": null,
   "id": "c936b11b",
   "metadata": {},
   "outputs": [],
   "source": [
    "geemap.image_stats_by_zone(dem, landcover, out_csv=\"std.csv\", reducer='STD')"
   ]
  },
  {
   "cell_type": "markdown",
   "id": "b98a7450",
   "metadata": {},
   "source": [
    "## Creating coordinate grids"
   ]
  },
  {
   "cell_type": "code",
   "execution_count": null,
   "id": "339d9d07",
   "metadata": {},
   "outputs": [],
   "source": [
    "lat_grid = geemap.latitude_grid(step=5.0, west=-180, east=180, south=-85, north=85)"
   ]
  },
  {
   "cell_type": "code",
   "execution_count": null,
   "id": "9581b48f",
   "metadata": {},
   "outputs": [],
   "source": [
    "Map = geemap.Map()\n",
    "style = {'fillColor': '00000000'}\n",
    "Map.addLayer(lat_grid.style(**style), {}, 'Latitude Grid')\n",
    "Map"
   ]
  },
  {
   "cell_type": "code",
   "execution_count": null,
   "id": "b87bdf49",
   "metadata": {},
   "outputs": [],
   "source": [
    "df = geemap.ee_to_df(lat_grid)\n",
    "df"
   ]
  },
  {
   "cell_type": "code",
   "execution_count": null,
   "id": "e8842e24",
   "metadata": {},
   "outputs": [],
   "source": [
    "lon_grid = geemap.longitude_grid(step=5.0, west=-180, east=180, south=-85, north=85)"
   ]
  },
  {
   "cell_type": "code",
   "execution_count": null,
   "id": "6bbb3a24",
   "metadata": {},
   "outputs": [],
   "source": [
    "Map = geemap.Map()\n",
    "style = {'fillColor': '00000000'}\n",
    "Map.addLayer(lon_grid.style(**style), {}, 'Longitude Grid')\n",
    "Map"
   ]
  },
  {
   "cell_type": "code",
   "execution_count": null,
   "id": "12537ab5",
   "metadata": {},
   "outputs": [],
   "source": [
    "grid = geemap.latlon_grid(\n",
    "    lat_step=10, lon_step=10, west=-180, east=180, south=-85, north=85\n",
    ")"
   ]
  },
  {
   "cell_type": "code",
   "execution_count": null,
   "id": "48c5b7cd",
   "metadata": {},
   "outputs": [],
   "source": [
    "Map = geemap.Map()\n",
    "style = {'fillColor': '00000000'}\n",
    "Map.addLayer(grid.style(**style), {}, 'Coordinate Grid')\n",
    "Map"
   ]
  },
  {
   "cell_type": "markdown",
   "id": "7c7b9248",
   "metadata": {},
   "source": [
    "## Creating fishnets"
   ]
  },
  {
   "cell_type": "code",
   "execution_count": null,
   "id": "2f9edd69",
   "metadata": {},
   "outputs": [],
   "source": [
    "Map = geemap.Map()\n",
    "Map"
   ]
  },
  {
   "cell_type": "code",
   "execution_count": null,
   "id": "11ac9765",
   "metadata": {},
   "outputs": [],
   "source": [
    "data = Map.user_roi\n",
    "\n",
    "if data is None:\n",
    "    data = ee.Geometry.BBox(-112.8089, 33.7306, -88.5951, 46.6244)\n",
    "    Map.addLayer(data, {}, 'ROI')\n",
    "    Map.user_roi = None\n",
    "\n",
    "Map.centerObject(data)"
   ]
  },
  {
   "cell_type": "code",
   "execution_count": null,
   "id": "5a18d598",
   "metadata": {},
   "outputs": [],
   "source": [
    "fishnet = geemap.fishnet(data, h_interval=2.0, v_interval=2.0, delta=1)\n",
    "Map.addLayer(fishnet, {}, 'Fishnet 1')"
   ]
  },
  {
   "cell_type": "code",
   "execution_count": null,
   "id": "d26ea881",
   "metadata": {},
   "outputs": [],
   "source": [
    "data = Map.user_roi\n",
    "\n",
    "if data is None:\n",
    "    data = ee.Geometry.Polygon(\n",
    "        [\n",
    "            [\n",
    "                [-64.602356, -1.127399],\n",
    "                [-68.821106, -12.625598],\n",
    "                [-60.647278, -22.498601],\n",
    "                [-47.815247, -21.111406],\n",
    "                [-43.860168, -8.913564],\n",
    "                [-54.582825, -0.775886],\n",
    "                [-60.823059, 0.454555],\n",
    "                [-64.602356, -1.127399],\n",
    "            ]\n",
    "        ]\n",
    "    )\n",
    "    Map.addLayer(data, {}, 'ROI2')\n",
    "\n",
    "Map.centerObject(data)\n",
    "Map"
   ]
  },
  {
   "cell_type": "code",
   "execution_count": null,
   "id": "1e6a97e8",
   "metadata": {},
   "outputs": [],
   "source": [
    "fishnet = geemap.fishnet(data, rows=6, cols=8, delta=1)\n",
    "Map.addLayer(fishnet, {}, 'Fishnet 2')"
   ]
  },
  {
   "cell_type": "markdown",
   "id": "9db9cd65",
   "metadata": {},
   "source": [
    "## Sankey diagrams"
   ]
  },
  {
   "cell_type": "code",
   "execution_count": null,
   "id": "66cf308e",
   "metadata": {},
   "outputs": [],
   "source": [
    "import sankee\n",
    "\n",
    "sankee.datasets.LCMS_LC.sankify(\n",
    "    years=[1990, 2000, 2010, 2020],\n",
    "    region=ee.Geometry.Point([-122.192688, 46.25917]).buffer(2000),\n",
    "    max_classes=3,\n",
    "    title=\"Mount St. Helens Recovery\",\n",
    ")"
   ]
  },
  {
   "cell_type": "code",
   "execution_count": null,
   "id": "6d771073",
   "metadata": {},
   "outputs": [],
   "source": [
    "Map = geemap.Map(height=650)\n",
    "Map"
   ]
  },
  {
   "cell_type": "markdown",
   "id": "cff0607b",
   "metadata": {},
   "source": [
    "## Mapping available image count"
   ]
  },
  {
   "cell_type": "code",
   "execution_count": null,
   "id": "e050f2b8",
   "metadata": {},
   "outputs": [],
   "source": [
    "collection = ee.ImageCollection(\"LANDSAT/LC08/C02/T1_L2\")\n",
    "image = geemap.image_count(\n",
    "    collection, region=None, start_date='2021-01-01', end_date='2022-01-01', clip=False\n",
    ")"
   ]
  },
  {
   "cell_type": "code",
   "execution_count": null,
   "id": "2f77fbce",
   "metadata": {},
   "outputs": [],
   "source": [
    "Map = geemap.Map()\n",
    "vis = {'min': 0, 'max': 60, 'palette': 'coolwarm'}\n",
    "Map.addLayer(image, vis, 'Image Count')\n",
    "\n",
    "countries = ee.FeatureCollection(geemap.examples.get_ee_path('countries'))\n",
    "style = {\"color\": \"00000088\", \"width\": 1, \"fillColor\": \"00000000\"}\n",
    "Map.addLayer(countries.style(**style), {}, \"Countries\")\n",
    "Map.add_colorbar(vis, label='Landsat 8 Image Count')\n",
    "\n",
    "Map"
   ]
  },
  {
   "cell_type": "markdown",
   "id": "c609d5ee",
   "metadata": {},
   "source": [
    "## Using Landsat 9"
   ]
  },
  {
   "cell_type": "code",
   "execution_count": null,
   "id": "836a3f05",
   "metadata": {},
   "outputs": [],
   "source": [
    "Map = geemap.Map()"
   ]
  },
  {
   "cell_type": "code",
   "execution_count": null,
   "id": "3f7384d7",
   "metadata": {},
   "outputs": [],
   "source": [
    "collection = ee.ImageCollection('LANDSAT/LC09/C02/T1_L2')\n",
    "print(collection.size().getInfo())"
   ]
  },
  {
   "cell_type": "code",
   "execution_count": null,
   "id": "775d4293",
   "metadata": {},
   "outputs": [],
   "source": [
    "median = collection.median()"
   ]
  },
  {
   "cell_type": "code",
   "execution_count": null,
   "id": "aeeed118",
   "metadata": {},
   "outputs": [],
   "source": [
    "def apply_scale_factors(image):\n",
    "    opticalBands = image.select('SR_B.').multiply(0.0000275).add(-0.2)\n",
    "    thermalBands = image.select('ST_B.*').multiply(0.00341802).add(149.0)\n",
    "    return image.addBands(opticalBands, None, True).addBands(thermalBands, None, True)"
   ]
  },
  {
   "cell_type": "code",
   "execution_count": null,
   "id": "5c38f7b4",
   "metadata": {
    "tags": []
   },
   "outputs": [],
   "source": [
    "dataset = apply_scale_factors(median)"
   ]
  },
  {
   "cell_type": "code",
   "execution_count": null,
   "id": "cebcafda",
   "metadata": {},
   "outputs": [],
   "source": [
    "vis_natural = {\n",
    "    'bands': ['SR_B4', 'SR_B3', 'SR_B2'],\n",
    "    'min': 0.0,\n",
    "    'max': 0.3,\n",
    "}\n",
    "\n",
    "vis_nir = {\n",
    "    'bands': ['SR_B5', 'SR_B4', 'SR_B3'],\n",
    "    'min': 0.0,\n",
    "    'max': 0.3,\n",
    "}"
   ]
  },
  {
   "cell_type": "code",
   "execution_count": null,
   "id": "11d6d71d",
   "metadata": {},
   "outputs": [],
   "source": [
    "Map.addLayer(dataset, vis_natural, 'True color (432)')\n",
    "Map.addLayer(dataset, vis_nir, 'Color infrared (543)')\n",
    "Map"
   ]
  },
  {
   "cell_type": "markdown",
   "id": "20e2daf8",
   "metadata": {},
   "source": [
    "![](https://i.imgur.com/USPMXzw.jpg)"
   ]
  },
  {
   "cell_type": "code",
   "execution_count": null,
   "id": "29e5e56c",
   "metadata": {},
   "outputs": [],
   "source": [
    "vis_params = [\n",
    "    {'bands': ['SR_B4', 'SR_B3', 'SR_B2'], 'min': 0, 'max': 0.3},\n",
    "    {'bands': ['SR_B5', 'SR_B4', 'SR_B3'], 'min': 0, 'max': 0.3},\n",
    "    {'bands': ['SR_B7', 'SR_B6', 'SR_B4'], 'min': 0, 'max': 0.3},\n",
    "    {'bands': ['SR_B6', 'SR_B5', 'SR_B2'], 'min': 0, 'max': 0.3},\n",
    "]"
   ]
  },
  {
   "cell_type": "code",
   "execution_count": null,
   "id": "20d8dc23",
   "metadata": {},
   "outputs": [],
   "source": [
    "labels = [\n",
    "    'Natural Color (4, 3, 2)',\n",
    "    'Color Infrared (5, 4, 3)',\n",
    "    'Short-Wave Infrared (7, 6 4)',\n",
    "    'Agriculture (6, 5, 2)',\n",
    "]"
   ]
  },
  {
   "cell_type": "code",
   "execution_count": null,
   "id": "89e31c85",
   "metadata": {},
   "outputs": [],
   "source": [
    "geemap.linked_maps(\n",
    "    rows=2,\n",
    "    cols=2,\n",
    "    height=\"300px\",\n",
    "    center=[40, -100],\n",
    "    zoom=4,\n",
    "    ee_objects=[dataset],\n",
    "    vis_params=vis_params,\n",
    "    labels=labels,\n",
    "    label_position=\"topright\",\n",
    ")"
   ]
  },
  {
   "cell_type": "markdown",
   "id": "ce3bff2a",
   "metadata": {},
   "source": [
    "![](https://i.imgur.com/c4FsGBI.jpg)"
   ]
  },
  {
   "cell_type": "code",
   "execution_count": null,
   "id": "6c952649",
   "metadata": {},
   "outputs": [],
   "source": [
    "landsat8 = ee.Image('LANDSAT/LC08/C02/T1_L2/LC08_015043_20130402')\n",
    "landsat9 = ee.Image('LANDSAT/LC09/C02/T1_L2/LC09_015043_20211231')"
   ]
  },
  {
   "cell_type": "code",
   "execution_count": null,
   "id": "d46d74b2",
   "metadata": {},
   "outputs": [],
   "source": [
    "landsat8 = apply_scale_factors(landsat8)\n",
    "landsat9 = apply_scale_factors(landsat9)"
   ]
  },
  {
   "cell_type": "code",
   "execution_count": null,
   "id": "39d587d9",
   "metadata": {},
   "outputs": [],
   "source": [
    "left_layer = geemap.ee_tile_layer(landsat8, vis_natural, 'Landsat 8')\n",
    "right_layer = geemap.ee_tile_layer(landsat9, vis_nir, 'Landsat 9')"
   ]
  },
  {
   "cell_type": "code",
   "execution_count": null,
   "id": "3f51f123",
   "metadata": {},
   "outputs": [],
   "source": [
    "Map = geemap.Map()\n",
    "Map.split_map(left_layer, right_layer)\n",
    "Map.centerObject(landsat9)\n",
    "Map"
   ]
  },
  {
   "cell_type": "markdown",
   "id": "1608067f",
   "metadata": {},
   "source": [
    "![](https://i.imgur.com/i6lUYHF.jpg)\n",
    "\n",
    "## Interactive region reduction"
   ]
  },
  {
   "cell_type": "markdown",
   "id": "2ca5868f",
   "metadata": {},
   "source": [
    "### Create an interactive map"
   ]
  },
  {
   "cell_type": "code",
   "execution_count": null,
   "id": "d14534ac",
   "metadata": {},
   "outputs": [],
   "source": []
  },
  {
   "cell_type": "markdown",
   "id": "f2097edd",
   "metadata": {},
   "source": [
    "### Add add to the map"
   ]
  },
  {
   "cell_type": "code",
   "execution_count": null,
   "id": "b076a8ab",
   "metadata": {},
   "outputs": [],
   "source": [
    "Map = geemap.Map()\n",
    "\n",
    "collection = (\n",
    "    ee.ImageCollection('MODIS/006/MOD13A2')\n",
    "    .filterDate('2015-01-01', '2019-12-31')\n",
    "    .select('NDVI')\n",
    ")\n",
    "\n",
    "# Convert the image collection to an image.\n",
    "image = collection.toBands()\n",
    "\n",
    "ndvi_vis = {\n",
    "    'min': 0.0,\n",
    "    'max': 9000.0,\n",
    "    'palette': 'ndvi',\n",
    "}\n",
    "\n",
    "Map.addLayer(image, {}, 'MODIS NDVI Time-series')\n",
    "Map.addLayer(image.select(0), ndvi_vis, 'First image')\n",
    "\n",
    "Map"
   ]
  },
  {
   "cell_type": "markdown",
   "id": "c43b5743",
   "metadata": {},
   "source": [
    "### Set reducer"
   ]
  },
  {
   "cell_type": "code",
   "execution_count": null,
   "id": "8a327f6d",
   "metadata": {},
   "outputs": [],
   "source": [
    "Map.set_plot_options(add_marker_cluster=True)\n",
    "Map.roi_reducer = ee.Reducer.mean()"
   ]
  },
  {
   "cell_type": "markdown",
   "id": "e50da436",
   "metadata": {},
   "source": [
    "### Export data"
   ]
  },
  {
   "cell_type": "code",
   "execution_count": null,
   "id": "b1443320",
   "metadata": {},
   "outputs": [],
   "source": [
    "Map.extract_values_to_points('ndvi.shp')"
   ]
  },
  {
   "cell_type": "markdown",
   "id": "5782395c",
   "metadata": {},
   "source": [
    "## Extracting values to points"
   ]
  },
  {
   "cell_type": "code",
   "execution_count": null,
   "id": "7dc4b1cb",
   "metadata": {},
   "outputs": [],
   "source": [
    "Map = geemap.Map()\n",
    "\n",
    "# Add Earth Engine dataset\n",
    "dem = ee.Image('USGS/SRTMGL1_003')\n",
    "landsat7 = ee.Image('LANDSAT/LE7_TOA_5YEAR/1999_2003')\n",
    "\n",
    "# Set visualization parameters.\n",
    "vis_params = {\n",
    "    'min': 0,\n",
    "    'max': 4000,\n",
    "    'palette': ['006633', 'E5FFCC', '662A00', 'D8D8D8', 'F5F5F5'],\n",
    "}\n",
    "\n",
    "# Add Earth Engine layers to Map\n",
    "Map.addLayer(\n",
    "    landsat7,\n",
    "    {'bands': ['B4', 'B3', 'B2'], 'min': 20, 'max': 200, 'gamma': 2},\n",
    "    'Landsat 7',\n",
    ")\n",
    "Map.addLayer(dem, vis_params, 'SRTM DEM', True, 1)\n",
    "Map"
   ]
  },
  {
   "cell_type": "code",
   "execution_count": null,
   "id": "666b67c0",
   "metadata": {},
   "outputs": [],
   "source": [
    "import os\n",
    "\n",
    "in_shp = 'us_cities.shp'\n",
    "if not os.path.exists(in_shp):\n",
    "    url = 'https://github.com/giswqs/data/raw/main/us/us_cities.zip'\n",
    "    geemap.download_file(url)"
   ]
  },
  {
   "cell_type": "code",
   "execution_count": null,
   "id": "882a884e",
   "metadata": {},
   "outputs": [],
   "source": [
    "in_fc = geemap.shp_to_ee(in_shp)\n",
    "Map.addLayer(in_fc, {}, 'Cities')"
   ]
  },
  {
   "cell_type": "code",
   "execution_count": null,
   "id": "0c7510c2",
   "metadata": {},
   "outputs": [],
   "source": [
    "geemap.extract_values_to_points(in_fc, dem, \"dem.shp\")"
   ]
  },
  {
   "cell_type": "code",
   "execution_count": null,
   "id": "a9d6db69",
   "metadata": {},
   "outputs": [],
   "source": [
    "geemap.extract_values_to_points(in_fc, landsat7, 'landsat.csv')"
   ]
  },
  {
   "cell_type": "markdown",
   "id": "ef72ec44",
   "metadata": {},
   "source": [
    "## Extracting pixel values along a transect"
   ]
  },
  {
   "cell_type": "code",
   "execution_count": null,
   "id": "278337cd",
   "metadata": {},
   "outputs": [],
   "source": [
    "Map = geemap.Map(center=[40, -100], zoom=4)\n",
    "Map.add_basemap(\"TERRAIN\")\n",
    "\n",
    "image = ee.Image('USGS/SRTMGL1_003')\n",
    "vis_params = {\n",
    "    'min': 0,\n",
    "    'max': 4000,\n",
    "    'palette': ['006633', 'E5FFCC', '662A00', 'D8D8D8', 'F5F5F5'],\n",
    "}\n",
    "Map.addLayer(image, vis_params, 'SRTM DEM', True, 0.5)\n",
    "Map"
   ]
  },
  {
   "cell_type": "code",
   "execution_count": null,
   "id": "1927c66a",
   "metadata": {},
   "outputs": [],
   "source": [
    "# Use the drawing tool to draw any line on the map.\n",
    "line = Map.user_roi\n",
    "if line is None:\n",
    "    line = ee.Geometry.LineString(\n",
    "        [[-120.2232, 36.3148], [-118.9269, 36.7121], [-117.2022, 36.7562]]\n",
    "    )\n",
    "    Map.addLayer(line, {}, \"ROI\")\n",
    "Map.centerObject(line)"
   ]
  },
  {
   "cell_type": "code",
   "execution_count": null,
   "id": "2b9d8ccc",
   "metadata": {},
   "outputs": [],
   "source": [
    "reducer = 'mean'  # Any ee.Reducer, e.g., mean, median, min, max, stdDev\n",
    "transect = geemap.extract_transect(\n",
    "    image, line, n_segments=100, reducer=reducer, to_pandas=True\n",
    ")\n",
    "transect"
   ]
  },
  {
   "cell_type": "code",
   "execution_count": null,
   "id": "8f25cc96",
   "metadata": {},
   "outputs": [],
   "source": [
    "transect.to_csv('transect.csv')"
   ]
  },
  {
   "cell_type": "code",
   "execution_count": null,
   "id": "57bf1676",
   "metadata": {},
   "outputs": [],
   "source": [
    "from bqplot import pyplot as plt\n",
    "\n",
    "fig = plt.figure()\n",
    "plt.plot(transect['distance'], transect[reducer])\n",
    "plt.xlabel('Distance')\n",
    "plt.ylabel(\"Elevation\")\n",
    "plt.show()"
   ]
  },
  {
   "cell_type": "markdown",
   "id": "d2cf7f06",
   "metadata": {},
   "source": [
    "## Quality mosaicking"
   ]
  },
  {
   "cell_type": "markdown",
   "id": "b8aadf0f",
   "metadata": {},
   "source": [
    "### Create an interactive map"
   ]
  },
  {
   "cell_type": "code",
   "execution_count": null,
   "id": "ed4fd0c4",
   "metadata": {},
   "outputs": [],
   "source": [
    "Map = geemap.Map(center=[40, -100], zoom=4)\n",
    "Map"
   ]
  },
  {
   "cell_type": "markdown",
   "id": "0fd5b34a",
   "metadata": {},
   "source": [
    "### Define a region of interest (ROI)"
   ]
  },
  {
   "cell_type": "code",
   "execution_count": null,
   "id": "4446cc37",
   "metadata": {},
   "outputs": [],
   "source": [
    "countries = ee.FeatureCollection(geemap.examples.get_ee_path('countries'))\n",
    "Map.addLayer(countries, {}, 'coutries')"
   ]
  },
  {
   "cell_type": "code",
   "execution_count": null,
   "id": "b075602a",
   "metadata": {},
   "outputs": [],
   "source": [
    "roi = countries.filter(ee.Filter.eq('ISO_A3', 'USA'))\n",
    "Map.addLayer(roi, {}, 'roi')"
   ]
  },
  {
   "cell_type": "markdown",
   "id": "f41cbb64",
   "metadata": {},
   "source": [
    "### Filter ImageCollection"
   ]
  },
  {
   "cell_type": "code",
   "execution_count": null,
   "id": "9157da8c",
   "metadata": {},
   "outputs": [],
   "source": [
    "start_date = '2019-01-01'\n",
    "end_date = '2019-12-31'\n",
    "\n",
    "l8 = (\n",
    "    ee.ImageCollection('LANDSAT/LC08/C01/T1_TOA')\n",
    "    .filterBounds(roi)\n",
    "    .filterDate(start_date, end_date)\n",
    ")"
   ]
  },
  {
   "cell_type": "markdown",
   "id": "e29505df",
   "metadata": {},
   "source": [
    "### Create a median composite"
   ]
  },
  {
   "cell_type": "code",
   "execution_count": null,
   "id": "e732039c",
   "metadata": {},
   "outputs": [],
   "source": [
    "median = l8.median()\n",
    "\n",
    "visParams = {\n",
    "    'bands': ['B4', 'B3', 'B2'],\n",
    "    'min': 0,\n",
    "    'max': 0.4,\n",
    "}\n",
    "\n",
    "Map.addLayer(median, visParams, 'Median')\n",
    "Map"
   ]
  },
  {
   "cell_type": "markdown",
   "id": "d65e7558",
   "metadata": {},
   "source": [
    "### Define functions to add time bands"
   ]
  },
  {
   "cell_type": "code",
   "execution_count": null,
   "id": "724a43d2",
   "metadata": {},
   "outputs": [],
   "source": [
    "def addNDVI(image):\n",
    "    ndvi = image.normalizedDifference(['B5', 'B4']).rename('NDVI')\n",
    "    return image.addBands(ndvi)"
   ]
  },
  {
   "cell_type": "code",
   "execution_count": null,
   "id": "596f2d3d",
   "metadata": {},
   "outputs": [],
   "source": [
    "def addDate(image):\n",
    "    img_date = ee.Date(image.date())\n",
    "    img_date = ee.Number.parse(img_date.format('YYYYMMdd'))\n",
    "    return image.addBands(ee.Image(img_date).rename('date').toInt())"
   ]
  },
  {
   "cell_type": "code",
   "execution_count": null,
   "id": "1072307f",
   "metadata": {},
   "outputs": [],
   "source": [
    "def addMonth(image):\n",
    "    img_date = ee.Date(image.date())\n",
    "    img_doy = ee.Number.parse(img_date.format('M'))\n",
    "    return image.addBands(ee.Image(img_doy).rename('month').toInt())"
   ]
  },
  {
   "cell_type": "code",
   "execution_count": null,
   "id": "738dc283",
   "metadata": {},
   "outputs": [],
   "source": [
    "def addDOY(image):\n",
    "    img_date = ee.Date(image.date())\n",
    "    img_doy = ee.Number.parse(img_date.format('D'))\n",
    "    return image.addBands(ee.Image(img_doy).rename('doy').toInt())"
   ]
  },
  {
   "cell_type": "markdown",
   "id": "1f9f1938",
   "metadata": {},
   "source": [
    "### Map over an ImageCollection"
   ]
  },
  {
   "cell_type": "code",
   "execution_count": null,
   "id": "6ea9fb69",
   "metadata": {},
   "outputs": [],
   "source": [
    "withNDVI = l8.map(addNDVI).map(addDate).map(addMonth).map(addDOY)"
   ]
  },
  {
   "cell_type": "markdown",
   "id": "1421e62f",
   "metadata": {},
   "source": [
    "### Create a quality mosaic"
   ]
  },
  {
   "cell_type": "code",
   "execution_count": null,
   "id": "f732ab72",
   "metadata": {},
   "outputs": [],
   "source": [
    "greenest = withNDVI.qualityMosaic('NDVI')"
   ]
  },
  {
   "cell_type": "code",
   "execution_count": null,
   "id": "4ac60afe",
   "metadata": {},
   "outputs": [],
   "source": [
    "greenest.bandNames().getInfo()"
   ]
  },
  {
   "cell_type": "markdown",
   "id": "1891a08f",
   "metadata": {},
   "source": [
    "### Display the max value band"
   ]
  },
  {
   "cell_type": "code",
   "execution_count": null,
   "id": "d569faed",
   "metadata": {},
   "outputs": [],
   "source": [
    "ndvi = greenest.select('NDVI')\n",
    "palette = [\n",
    "    '#d73027',\n",
    "    '#f46d43',\n",
    "    '#fdae61',\n",
    "    '#fee08b',\n",
    "    '#d9ef8b',\n",
    "    '#a6d96a',\n",
    "    '#66bd63',\n",
    "    '#1a9850',\n",
    "]\n",
    "Map.addLayer(ndvi, {'palette': palette}, 'NDVI')\n",
    "Map"
   ]
  },
  {
   "cell_type": "code",
   "execution_count": null,
   "id": "8a359105",
   "metadata": {},
   "outputs": [],
   "source": [
    "Map.addLayer(greenest, visParams, 'Greenest pixel')\n",
    "Map"
   ]
  },
  {
   "cell_type": "markdown",
   "id": "224fb219",
   "metadata": {},
   "source": [
    "### Display time bands"
   ]
  },
  {
   "cell_type": "code",
   "execution_count": null,
   "id": "4df352ec",
   "metadata": {},
   "outputs": [],
   "source": [
    "Map.addLayer(\n",
    "    greenest.select('month'),\n",
    "    {'palette': ['red', 'blue'], 'min': 1, 'max': 12},\n",
    "    'Greenest month',\n",
    ")"
   ]
  },
  {
   "cell_type": "code",
   "execution_count": null,
   "id": "522a13b4",
   "metadata": {},
   "outputs": [],
   "source": [
    "Map.addLayer(\n",
    "    greenest.select('doy'),\n",
    "    {'palette': ['brown', 'green'], 'min': 1, 'max': 365},\n",
    "    'Greenest doy',\n",
    ")"
   ]
  },
  {
   "cell_type": "markdown",
   "id": "b2c76438",
   "metadata": {},
   "source": [
    "## Interactive charts"
   ]
  },
  {
   "cell_type": "code",
   "execution_count": null,
   "id": "a7329e38",
   "metadata": {},
   "outputs": [],
   "source": [
    "import geemap.chart as chart"
   ]
  },
  {
   "cell_type": "markdown",
   "id": "f5d5d905",
   "metadata": {},
   "source": [
    "### Chart by feature"
   ]
  },
  {
   "cell_type": "code",
   "execution_count": null,
   "id": "1d703c10",
   "metadata": {},
   "outputs": [],
   "source": [
    "Map = geemap.Map(center=[40, -100], zoom=4)\n",
    "\n",
    "features = ee.FeatureCollection('projects/google/charts_feature_example').select(\n",
    "    '[0-9][0-9]_tmean|label'\n",
    ")\n",
    "\n",
    "Map.addLayer(features, {}, \"Ecoregions\")\n",
    "Map"
   ]
  },
  {
   "cell_type": "code",
   "execution_count": null,
   "id": "798910a0",
   "metadata": {},
   "outputs": [],
   "source": [
    "df = geemap.ee_to_pandas(features)\n",
    "df"
   ]
  },
  {
   "cell_type": "code",
   "execution_count": null,
   "id": "782eefaf",
   "metadata": {},
   "outputs": [],
   "source": [
    "xProperty = \"label\"\n",
    "yProperties = [str(x).zfill(2) + \"_tmean\" for x in range(1, 13)]\n",
    "\n",
    "labels = [\n",
    "    'Jan',\n",
    "    'Feb',\n",
    "    'Mar',\n",
    "    'Apr',\n",
    "    'May',\n",
    "    'Jun',\n",
    "    'Jul',\n",
    "    'Aug',\n",
    "    'Sep',\n",
    "    'Oct',\n",
    "    'Nov',\n",
    "    'Dec',\n",
    "]\n",
    "colors = [\n",
    "    '#604791',\n",
    "    '#1d6b99',\n",
    "    '#39a8a7',\n",
    "    '#0f8755',\n",
    "    '#76b349',\n",
    "    '#f0af07',\n",
    "    '#e37d05',\n",
    "    '#cf513e',\n",
    "    '#96356f',\n",
    "    '#724173',\n",
    "    '#9c4f97',\n",
    "    '#696969',\n",
    "]\n",
    "title = \"Average Monthly Temperature by Ecoregion\"\n",
    "xlabel = \"Ecoregion\"\n",
    "ylabel = \"Temperature\""
   ]
  },
  {
   "cell_type": "code",
   "execution_count": null,
   "id": "fd7d3c37",
   "metadata": {},
   "outputs": [],
   "source": [
    "options = {\n",
    "    \"labels\": labels,\n",
    "    \"colors\": colors,\n",
    "    \"title\": title,\n",
    "    \"xlabel\": xlabel,\n",
    "    \"ylabel\": ylabel,\n",
    "    \"legend_location\": \"top-left\",\n",
    "    \"height\": \"500px\",\n",
    "}"
   ]
  },
  {
   "cell_type": "code",
   "execution_count": null,
   "id": "49dc80f5",
   "metadata": {},
   "outputs": [],
   "source": [
    "chart.feature_byFeature(features, xProperty, yProperties, **options)"
   ]
  },
  {
   "cell_type": "markdown",
   "id": "3aec9dab",
   "metadata": {},
   "source": [
    "![](https://i.imgur.com/9xzsUxg.jpg)"
   ]
  },
  {
   "cell_type": "markdown",
   "id": "8107066e",
   "metadata": {},
   "source": [
    "### Chart by property"
   ]
  },
  {
   "cell_type": "code",
   "execution_count": null,
   "id": "e61f7112",
   "metadata": {},
   "outputs": [],
   "source": [
    "Map = geemap.Map()\n",
    "\n",
    "features = ee.FeatureCollection('projects/google/charts_feature_example').select(\n",
    "    '[0-9][0-9]_ppt|label'\n",
    ")\n",
    "\n",
    "Map.addLayer(features, {}, 'Features')\n",
    "Map"
   ]
  },
  {
   "cell_type": "code",
   "execution_count": null,
   "id": "5703dab2",
   "metadata": {},
   "outputs": [],
   "source": [
    "df = geemap.ee_to_pandas(features)\n",
    "df"
   ]
  },
  {
   "cell_type": "code",
   "execution_count": null,
   "id": "316c7531",
   "metadata": {},
   "outputs": [],
   "source": [
    "keys = [str(x).zfill(2) + \"_ppt\" for x in range(1, 13)]\n",
    "values = [\n",
    "    'Jan',\n",
    "    'Feb',\n",
    "    'Mar',\n",
    "    'Apr',\n",
    "    'May',\n",
    "    'Jun',\n",
    "    'Jul',\n",
    "    'Aug',\n",
    "    'Sep',\n",
    "    'Oct',\n",
    "    'Nov',\n",
    "    'Dec',\n",
    "]"
   ]
  },
  {
   "cell_type": "code",
   "execution_count": null,
   "id": "87bd182d",
   "metadata": {},
   "outputs": [],
   "source": [
    "xProperties = dict(zip(keys, values))\n",
    "seriesProperty = \"label\""
   ]
  },
  {
   "cell_type": "code",
   "execution_count": null,
   "id": "f5741dbc",
   "metadata": {},
   "outputs": [],
   "source": [
    "options = {\n",
    "    'title': \"Average Ecoregion Precipitation by Month\",\n",
    "    'colors': ['#f0af07', '#0f8755', '#76b349'],\n",
    "    'xlabel': \"Month\",\n",
    "    'ylabel': \"Precipitation (mm)\",\n",
    "    'legend_location': \"top-left\",\n",
    "    \"height\": \"500px\",\n",
    "}"
   ]
  },
  {
   "cell_type": "code",
   "execution_count": null,
   "id": "955d7193",
   "metadata": {},
   "outputs": [],
   "source": [
    "chart.feature_byProperty(features, xProperties, seriesProperty, **options)"
   ]
  },
  {
   "cell_type": "markdown",
   "id": "7d14b3ea",
   "metadata": {},
   "source": [
    "![](https://i.imgur.com/mS3vzHJ.jpg)\n",
    "\n",
    "### Histogram"
   ]
  },
  {
   "cell_type": "code",
   "execution_count": null,
   "id": "687bfda2",
   "metadata": {},
   "outputs": [],
   "source": [
    "import geemap.chart as chart"
   ]
  },
  {
   "cell_type": "code",
   "execution_count": null,
   "id": "d2db294c",
   "metadata": {},
   "outputs": [],
   "source": [
    "source = ee.ImageCollection('OREGONSTATE/PRISM/Norm81m').toBands()\n",
    "region = ee.Geometry.Rectangle(-123.41, 40.43, -116.38, 45.14)\n",
    "samples = source.sample(region, 5000)\n",
    "prop = '07_ppt'"
   ]
  },
  {
   "cell_type": "code",
   "execution_count": null,
   "id": "0486c999",
   "metadata": {},
   "outputs": [],
   "source": [
    "options = {\n",
    "    \"title\": 'July Precipitation Distribution for NW USA',\n",
    "    \"xlabel\": 'Precipitation (mm)',\n",
    "    \"ylabel\": 'Pixel count',\n",
    "    \"colors\": ['#1d6b99'],\n",
    "}"
   ]
  },
  {
   "cell_type": "code",
   "execution_count": null,
   "id": "7fb9fc24",
   "metadata": {},
   "outputs": [],
   "source": [
    "chart.feature_histogram(samples, prop, **options)"
   ]
  },
  {
   "cell_type": "markdown",
   "id": "64533c80",
   "metadata": {},
   "source": [
    "![](https://i.imgur.com/zgzpfvb.gif)"
   ]
  },
  {
   "cell_type": "code",
   "execution_count": null,
   "id": "c9c3574e",
   "metadata": {},
   "outputs": [],
   "source": [
    "chart.feature_histogram(samples, prop, maxBuckets=30, **options)"
   ]
  },
  {
   "cell_type": "markdown",
   "id": "2ba2075e",
   "metadata": {},
   "source": [
    "![](https://i.imgur.com/WV7aB1e.gif)"
   ]
  },
  {
   "cell_type": "code",
   "execution_count": null,
   "id": "c1527805",
   "metadata": {},
   "outputs": [],
   "source": [
    "chart.feature_histogram(samples, prop, minBucketWidth=0.5, **options)"
   ]
  },
  {
   "cell_type": "code",
   "execution_count": null,
   "id": "51ee9aed",
   "metadata": {},
   "outputs": [],
   "source": [
    "chart.feature_histogram(samples, prop, minBucketWidth=3, maxBuckets=30, **options)"
   ]
  },
  {
   "cell_type": "markdown",
   "id": "8db77f3e",
   "metadata": {},
   "source": [
    "## Creating training samples"
   ]
  },
  {
   "cell_type": "code",
   "execution_count": null,
   "id": "6a8f9b95",
   "metadata": {},
   "outputs": [],
   "source": [
    "Map = geemap.Map()\n",
    "Map"
   ]
  },
  {
   "cell_type": "code",
   "execution_count": null,
   "id": "a9d68c70",
   "metadata": {},
   "outputs": [],
   "source": [
    "if Map.user_rois is not None:\n",
    "    training_samples = Map.user_rois\n",
    "    print(training_samples.getInfo())"
   ]
  },
  {
   "cell_type": "markdown",
   "id": "f86958c6",
   "metadata": {},
   "source": [
    "## Unsupervised classification\n",
    "\n",
    "### Unsupervised classification algorithms"
   ]
  },
  {
   "cell_type": "markdown",
   "id": "53e13115",
   "metadata": {},
   "source": [
    "![](https://i.imgur.com/IcBapEx.jpg)"
   ]
  },
  {
   "cell_type": "markdown",
   "id": "99edc406",
   "metadata": {},
   "source": [
    "### Add data to the map"
   ]
  },
  {
   "cell_type": "code",
   "execution_count": null,
   "id": "a148ca17",
   "metadata": {},
   "outputs": [],
   "source": [
    "Map = geemap.Map()\n",
    "\n",
    "# point = ee.Geometry.Point([-122.4439, 37.7538])\n",
    "point = ee.Geometry.Point([-87.7719, 41.8799])\n",
    "\n",
    "image = (\n",
    "    ee.ImageCollection('LANDSAT/LC08/C01/T1_SR')\n",
    "    .filterBounds(point)\n",
    "    .filterDate('2019-01-01', '2019-12-31')\n",
    "    .sort('CLOUD_COVER')\n",
    "    .first()\n",
    "    .select('B[1-7]')\n",
    ")\n",
    "\n",
    "vis_params = {'min': 0, 'max': 3000, 'bands': ['B5', 'B4', 'B3']}\n",
    "\n",
    "Map.centerObject(point, 8)\n",
    "Map.addLayer(image, vis_params, \"Landsat-8\")\n",
    "Map"
   ]
  },
  {
   "cell_type": "markdown",
   "id": "3fdbab4d",
   "metadata": {},
   "source": [
    "### Check image properties"
   ]
  },
  {
   "cell_type": "code",
   "execution_count": null,
   "id": "8a17bbd4",
   "metadata": {},
   "outputs": [],
   "source": [
    "props = geemap.image_props(image)\n",
    "props.getInfo()"
   ]
  },
  {
   "cell_type": "code",
   "execution_count": null,
   "id": "2638a6dc",
   "metadata": {},
   "outputs": [],
   "source": [
    "props.get('IMAGE_DATE').getInfo()"
   ]
  },
  {
   "cell_type": "code",
   "execution_count": null,
   "id": "51c447c5",
   "metadata": {},
   "outputs": [],
   "source": [
    "props.get('CLOUD_COVER').getInfo()"
   ]
  },
  {
   "cell_type": "markdown",
   "id": "44b13f65",
   "metadata": {},
   "source": [
    "### Create training samples"
   ]
  },
  {
   "cell_type": "code",
   "execution_count": null,
   "id": "90f6ba29",
   "metadata": {},
   "outputs": [],
   "source": [
    "# region = Map.user_roi\n",
    "# region = ee.Geometry.Rectangle([-122.6003, 37.4831, -121.8036, 37.8288])\n",
    "# region = ee.Geometry.Point([-122.4439, 37.7538]).buffer(10000)"
   ]
  },
  {
   "cell_type": "code",
   "execution_count": null,
   "id": "5452bd17",
   "metadata": {},
   "outputs": [],
   "source": [
    "# Make the training dataset.\n",
    "training = image.sample(\n",
    "    **{\n",
    "        #     'region': region,\n",
    "        'scale': 30,\n",
    "        'numPixels': 5000,\n",
    "        'seed': 0,\n",
    "        'geometries': True,  # Set this to False to ignore geometries\n",
    "    }\n",
    ")\n",
    "\n",
    "Map.addLayer(training, {}, 'training', False)\n",
    "Map"
   ]
  },
  {
   "cell_type": "markdown",
   "id": "4a500bd2",
   "metadata": {},
   "source": [
    "### Train the clusterer"
   ]
  },
  {
   "cell_type": "code",
   "execution_count": null,
   "id": "2549bc8b",
   "metadata": {},
   "outputs": [],
   "source": [
    "# Instantiate the clusterer and train it.\n",
    "n_clusters = 5\n",
    "clusterer = ee.Clusterer.wekaKMeans(n_clusters).train(training)"
   ]
  },
  {
   "cell_type": "markdown",
   "id": "77681004",
   "metadata": {},
   "source": [
    "### Classify the image"
   ]
  },
  {
   "cell_type": "code",
   "execution_count": null,
   "id": "70d8dbb3",
   "metadata": {},
   "outputs": [],
   "source": [
    "# Cluster the input using the trained clusterer.\n",
    "result = image.cluster(clusterer)\n",
    "\n",
    "# # Display the clusters with random colors.\n",
    "Map.addLayer(result.randomVisualizer(), {}, 'clusters')\n",
    "Map"
   ]
  },
  {
   "cell_type": "markdown",
   "id": "99420347",
   "metadata": {},
   "source": [
    "### Label the clusters"
   ]
  },
  {
   "cell_type": "code",
   "execution_count": null,
   "id": "099fcf45",
   "metadata": {},
   "outputs": [],
   "source": [
    "legend_keys = ['One', 'Two', 'Three', 'Four', 'ect']\n",
    "legend_colors = ['#8DD3C7', '#FFFFB3', '#BEBADA', '#FB8072', '#80B1D3']\n",
    "\n",
    "# Reclassify the map\n",
    "result = result.remap([0, 1, 2, 3, 4], [1, 2, 3, 4, 5])\n",
    "\n",
    "Map.addLayer(\n",
    "    result, {'min': 1, 'max': 5, 'palette': legend_colors}, 'Labelled clusters'\n",
    ")\n",
    "Map.add_legend(\n",
    "    legend_keys=legend_keys, legend_colors=legend_colors, position='bottomright'\n",
    ")\n",
    "Map"
   ]
  },
  {
   "cell_type": "markdown",
   "id": "1e009639",
   "metadata": {},
   "source": [
    "### Visualize results"
   ]
  },
  {
   "cell_type": "code",
   "execution_count": null,
   "id": "bdceead0",
   "metadata": {},
   "outputs": [],
   "source": [
    "print('Change layer opacity:')\n",
    "cluster_layer = Map.layers[-1]\n",
    "cluster_layer.interact(opacity=(0, 1, 0.1))"
   ]
  },
  {
   "cell_type": "markdown",
   "id": "76ce9853",
   "metadata": {},
   "source": [
    "### Export results"
   ]
  },
  {
   "cell_type": "code",
   "execution_count": null,
   "id": "b819d60e",
   "metadata": {},
   "outputs": [],
   "source": [
    "geemap.ee_export_image(result, filename=\"cluster.tif\", scale=90)"
   ]
  },
  {
   "cell_type": "code",
   "execution_count": null,
   "id": "3037e128",
   "metadata": {},
   "outputs": [],
   "source": [
    "geemap.ee_export_image_to_drive(\n",
    "    result, description='clusters', folder='export', scale=90\n",
    ")"
   ]
  },
  {
   "cell_type": "markdown",
   "id": "f4363c4e",
   "metadata": {},
   "source": [
    "## Supervised classification\n",
    "\n",
    "### Supervised classification algorithms"
   ]
  },
  {
   "cell_type": "markdown",
   "id": "ae98a412",
   "metadata": {},
   "source": [
    "![](https://i.imgur.com/vROsEiq.jpg)"
   ]
  },
  {
   "cell_type": "markdown",
   "id": "2adc6d12",
   "metadata": {},
   "source": [
    "### Add data to the map"
   ]
  },
  {
   "cell_type": "code",
   "execution_count": null,
   "id": "44275922",
   "metadata": {},
   "outputs": [],
   "source": [
    "Map = geemap.Map()\n",
    "point = ee.Geometry.Point([-122.4439, 37.7538])\n",
    "# point = ee.Geometry.Point([-87.7719, 41.8799])\n",
    "\n",
    "image = (\n",
    "    ee.ImageCollection('LANDSAT/LC08/C01/T1_SR')\n",
    "    .filterBounds(point)\n",
    "    .filterDate('2016-01-01', '2016-12-31')\n",
    "    .sort('CLOUD_COVER')\n",
    "    .first()\n",
    "    .select('B[1-7]')\n",
    ")\n",
    "\n",
    "vis_params = {'min': 0, 'max': 3000, 'bands': ['B5', 'B4', 'B3']}\n",
    "\n",
    "Map.centerObject(point, 8)\n",
    "Map.addLayer(image, vis_params, \"Landsat-8\")\n",
    "Map"
   ]
  },
  {
   "cell_type": "markdown",
   "id": "1f323eb5",
   "metadata": {},
   "source": [
    "### Check image properties"
   ]
  },
  {
   "cell_type": "code",
   "execution_count": null,
   "id": "56ea74f0",
   "metadata": {},
   "outputs": [],
   "source": [
    "ee.Date(image.get('system:time_start')).format('YYYY-MM-dd').getInfo()"
   ]
  },
  {
   "cell_type": "code",
   "execution_count": null,
   "id": "e20732cb",
   "metadata": {},
   "outputs": [],
   "source": [
    "image.get('CLOUD_COVER').getInfo()"
   ]
  },
  {
   "cell_type": "markdown",
   "id": "8cdea49a",
   "metadata": {},
   "source": [
    "### Create training samples"
   ]
  },
  {
   "cell_type": "code",
   "execution_count": null,
   "id": "16867bfa",
   "metadata": {},
   "outputs": [],
   "source": [
    "# region = Map.user_roi\n",
    "# region = ee.Geometry.Rectangle([-122.6003, 37.4831, -121.8036, 37.8288])\n",
    "# region = ee.Geometry.Point([-122.4439, 37.7538]).buffer(10000)"
   ]
  },
  {
   "cell_type": "markdown",
   "id": "f3f252e6",
   "metadata": {},
   "source": [
    "![](https://i.imgur.com/7QoRXxu.jpg)"
   ]
  },
  {
   "cell_type": "code",
   "execution_count": null,
   "id": "2d306be0",
   "metadata": {},
   "outputs": [],
   "source": [
    "nlcd = ee.Image('USGS/NLCD/NLCD2016').select('landcover').clip(image.geometry())\n",
    "Map.addLayer(nlcd, {}, 'NLCD')\n",
    "Map"
   ]
  },
  {
   "cell_type": "code",
   "execution_count": null,
   "id": "ba8f87b9",
   "metadata": {},
   "outputs": [],
   "source": [
    "# Make the training dataset.\n",
    "points = nlcd.sample(\n",
    "    **{\n",
    "        'region': image.geometry(),\n",
    "        'scale': 30,\n",
    "        'numPixels': 5000,\n",
    "        'seed': 0,\n",
    "        'geometries': True,  # Set this to False to ignore geometries\n",
    "    }\n",
    ")\n",
    "\n",
    "Map.addLayer(points, {}, 'training', False)"
   ]
  },
  {
   "cell_type": "code",
   "execution_count": null,
   "id": "318a526a",
   "metadata": {},
   "outputs": [],
   "source": [
    "print(points.size().getInfo())"
   ]
  },
  {
   "cell_type": "code",
   "execution_count": null,
   "id": "6f6ea3de",
   "metadata": {},
   "outputs": [],
   "source": [
    "print(points.first().getInfo())"
   ]
  },
  {
   "cell_type": "markdown",
   "id": "78473c50",
   "metadata": {},
   "source": [
    "### Train the classifier"
   ]
  },
  {
   "cell_type": "code",
   "execution_count": null,
   "id": "b40f6047",
   "metadata": {},
   "outputs": [],
   "source": [
    "# Use these bands for prediction.\n",
    "bands = ['B1', 'B2', 'B3', 'B4', 'B5', 'B6', 'B7']\n",
    "\n",
    "\n",
    "# This property of the table stores the land cover labels.\n",
    "label = 'landcover'\n",
    "\n",
    "# Overlay the points on the imagery to get training.\n",
    "training = image.select(bands).sampleRegions(\n",
    "    **{'collection': points, 'properties': [label], 'scale': 30}\n",
    ")\n",
    "\n",
    "# Train a CART classifier with default parameters.\n",
    "trained = ee.Classifier.smileCart().train(training, label, bands)"
   ]
  },
  {
   "cell_type": "code",
   "execution_count": null,
   "id": "614209c1",
   "metadata": {},
   "outputs": [],
   "source": [
    "print(training.first().getInfo())"
   ]
  },
  {
   "cell_type": "markdown",
   "id": "b8b63135",
   "metadata": {},
   "source": [
    "### Classify the image"
   ]
  },
  {
   "cell_type": "code",
   "execution_count": null,
   "id": "5f6fefaf",
   "metadata": {},
   "outputs": [],
   "source": [
    "# Classify the image with the same bands used for training.\n",
    "result = image.select(bands).classify(trained)\n",
    "\n",
    "# # Display the clusters with random colors.\n",
    "Map.addLayer(result.randomVisualizer(), {}, 'classified')\n",
    "Map"
   ]
  },
  {
   "cell_type": "markdown",
   "id": "c885196c",
   "metadata": {},
   "source": [
    "### Render categorical map"
   ]
  },
  {
   "cell_type": "code",
   "execution_count": null,
   "id": "9eb6cf80",
   "metadata": {},
   "outputs": [],
   "source": [
    "class_values = nlcd.get('landcover_class_values').getInfo()\n",
    "class_values"
   ]
  },
  {
   "cell_type": "code",
   "execution_count": null,
   "id": "7734b396",
   "metadata": {},
   "outputs": [],
   "source": [
    "class_palette = nlcd.get('landcover_class_palette').getInfo()\n",
    "class_palette"
   ]
  },
  {
   "cell_type": "code",
   "execution_count": null,
   "id": "c3d1015f",
   "metadata": {},
   "outputs": [],
   "source": [
    "landcover = result.set('classification_class_values', class_values)\n",
    "landcover = landcover.set('classification_class_palette', class_palette)"
   ]
  },
  {
   "cell_type": "code",
   "execution_count": null,
   "id": "3f31130c",
   "metadata": {},
   "outputs": [],
   "source": [
    "Map.addLayer(landcover, {}, 'Land cover')\n",
    "Map"
   ]
  },
  {
   "cell_type": "markdown",
   "id": "3bbdfa35",
   "metadata": {},
   "source": [
    "### Visualize results"
   ]
  },
  {
   "cell_type": "code",
   "execution_count": null,
   "id": "ba5759f7",
   "metadata": {},
   "outputs": [],
   "source": [
    "print('Change layer opacity:')\n",
    "cluster_layer = Map.layers[-1]\n",
    "cluster_layer.interact(opacity=(0, 1, 0.1))"
   ]
  },
  {
   "cell_type": "markdown",
   "id": "80baa070",
   "metadata": {},
   "source": [
    "### Add a legend to the map"
   ]
  },
  {
   "cell_type": "code",
   "execution_count": null,
   "id": "2a0cfb27",
   "metadata": {},
   "outputs": [],
   "source": [
    "Map.add_legend(builtin_legend='NLCD')\n",
    "Map"
   ]
  },
  {
   "cell_type": "markdown",
   "id": "08c38450",
   "metadata": {},
   "source": [
    "### Export results"
   ]
  },
  {
   "cell_type": "code",
   "execution_count": null,
   "id": "82723419",
   "metadata": {},
   "outputs": [],
   "source": [
    "geemap.ee_export_image(landcover, filename='landcover.tif', scale=900)"
   ]
  },
  {
   "cell_type": "code",
   "execution_count": null,
   "id": "cc46be37",
   "metadata": {},
   "outputs": [],
   "source": [
    "geemap.ee_export_image_to_drive(\n",
    "    landcover, description='landcover', folder='export', scale=900\n",
    ")"
   ]
  },
  {
   "cell_type": "markdown",
   "id": "67a252e8",
   "metadata": {},
   "source": [
    "## Accuracy assessment\n",
    "\n",
    "### Supervised classification algorithms"
   ]
  },
  {
   "cell_type": "markdown",
   "id": "2546b710",
   "metadata": {},
   "source": [
    "![](https://i.imgur.com/vROsEiq.jpg)"
   ]
  },
  {
   "cell_type": "markdown",
   "id": "79888fa2",
   "metadata": {},
   "source": [
    "### Add data to the map\n",
    "\n",
    "![](https://i.imgur.com/7QoRXxu.jpg)"
   ]
  },
  {
   "cell_type": "code",
   "execution_count": null,
   "id": "06cd0043",
   "metadata": {},
   "outputs": [],
   "source": [
    "Map = geemap.Map()\n",
    "NLCD2016 = ee.Image('USGS/NLCD/NLCD2016').select('landcover')\n",
    "Map.addLayer(NLCD2016, {}, 'NLCD 2016')\n",
    "Map"
   ]
  },
  {
   "cell_type": "code",
   "execution_count": null,
   "id": "89caa2f6",
   "metadata": {},
   "outputs": [],
   "source": [
    "NLCD_metadata = ee.FeatureCollection(\"users/giswqs/landcover/NLCD2016_metadata\")\n",
    "Map.addLayer(NLCD_metadata, {}, 'NLCD Metadata')"
   ]
  },
  {
   "cell_type": "code",
   "execution_count": null,
   "id": "b21bb1fc",
   "metadata": {},
   "outputs": [],
   "source": [
    "# point = ee.Geometry.Point([-122.4439, 37.7538])  # Sanfrancisco, CA\n",
    "# point = ee.Geometry.Point([-83.9293, 36.0526])   # Knoxville, TN\n",
    "point = ee.Geometry.Point([-88.3070, 41.7471])  # Chicago, IL"
   ]
  },
  {
   "cell_type": "code",
   "execution_count": null,
   "id": "af458558",
   "metadata": {},
   "outputs": [],
   "source": [
    "metadata = NLCD_metadata.filterBounds(point).first()\n",
    "region = metadata.geometry()"
   ]
  },
  {
   "cell_type": "code",
   "execution_count": null,
   "id": "b45d019f",
   "metadata": {},
   "outputs": [],
   "source": [
    "metadata.get('2016on_bas').getInfo()"
   ]
  },
  {
   "cell_type": "code",
   "execution_count": null,
   "id": "dd923a74",
   "metadata": {},
   "outputs": [],
   "source": [
    "doy = metadata.get('2016on_bas').getInfo().replace('LC08_', '')\n",
    "doy"
   ]
  },
  {
   "cell_type": "code",
   "execution_count": null,
   "id": "316b0d9a",
   "metadata": {},
   "outputs": [],
   "source": [
    "ee.Date.parse('YYYYDDD', doy).format('YYYY-MM-dd').getInfo()"
   ]
  },
  {
   "cell_type": "code",
   "execution_count": null,
   "id": "69e0d0c2",
   "metadata": {},
   "outputs": [],
   "source": [
    "start_date = ee.Date.parse('YYYYDDD', doy)\n",
    "end_date = start_date.advance(1, 'day')"
   ]
  },
  {
   "cell_type": "code",
   "execution_count": null,
   "id": "8eebb316",
   "metadata": {},
   "outputs": [],
   "source": [
    "image = (\n",
    "    ee.ImageCollection('LANDSAT/LC08/C01/T1_SR')\n",
    "    .filterBounds(point)\n",
    "    .filterDate(start_date, end_date)\n",
    "    .first()\n",
    "    .select('B[1-7]')\n",
    "    .clip(region)\n",
    ")\n",
    "\n",
    "vis_params = {'min': 0, 'max': 3000, 'bands': ['B5', 'B4', 'B3']}\n",
    "\n",
    "Map.centerObject(point, 8)\n",
    "Map.addLayer(image, vis_params, \"Landsat-8\")\n",
    "Map"
   ]
  },
  {
   "cell_type": "code",
   "execution_count": null,
   "id": "2de06a1c",
   "metadata": {},
   "outputs": [],
   "source": [
    "nlcd_raw = NLCD2016.clip(region)\n",
    "Map.addLayer(nlcd_raw, {}, 'NLCD')"
   ]
  },
  {
   "cell_type": "markdown",
   "id": "e0c90470",
   "metadata": {},
   "source": [
    "### Prepare for consecutive class labels"
   ]
  },
  {
   "cell_type": "code",
   "execution_count": null,
   "id": "1c722b9f",
   "metadata": {},
   "outputs": [],
   "source": [
    "raw_class_values = nlcd_raw.get('landcover_class_values').getInfo()\n",
    "print(raw_class_values)"
   ]
  },
  {
   "cell_type": "code",
   "execution_count": null,
   "id": "f8a545be",
   "metadata": {},
   "outputs": [],
   "source": [
    "n_classes = len(raw_class_values)\n",
    "new_class_values = list(range(0, n_classes))\n",
    "new_class_values"
   ]
  },
  {
   "cell_type": "code",
   "execution_count": null,
   "id": "297de388",
   "metadata": {},
   "outputs": [],
   "source": [
    "class_palette = nlcd_raw.get('landcover_class_palette').getInfo()\n",
    "print(class_palette)"
   ]
  },
  {
   "cell_type": "code",
   "execution_count": null,
   "id": "57ffa3d5",
   "metadata": {},
   "outputs": [],
   "source": [
    "nlcd = nlcd_raw.remap(raw_class_values, new_class_values).select(\n",
    "    ['remapped'], ['landcover']\n",
    ")\n",
    "nlcd = nlcd.set('landcover_class_values', new_class_values)\n",
    "nlcd = nlcd.set('landcover_class_palette', class_palette)"
   ]
  },
  {
   "cell_type": "code",
   "execution_count": null,
   "id": "703f7c07",
   "metadata": {},
   "outputs": [],
   "source": [
    "Map.addLayer(nlcd, {}, 'NLCD')\n",
    "Map"
   ]
  },
  {
   "cell_type": "markdown",
   "id": "91fbf012",
   "metadata": {},
   "source": [
    "### Make training data"
   ]
  },
  {
   "cell_type": "code",
   "execution_count": null,
   "id": "39435554",
   "metadata": {},
   "outputs": [],
   "source": [
    "# Make the training dataset.\n",
    "points = nlcd.sample(\n",
    "    **{\n",
    "        'region': region,\n",
    "        'scale': 30,\n",
    "        'numPixels': 5000,\n",
    "        'seed': 0,\n",
    "        'geometries': True,  # Set this to False to ignore geometries\n",
    "    }\n",
    ")\n",
    "\n",
    "Map.addLayer(points, {}, 'training', False)"
   ]
  },
  {
   "cell_type": "code",
   "execution_count": null,
   "id": "1c57c1b1",
   "metadata": {},
   "outputs": [],
   "source": [
    "print(points.size().getInfo())"
   ]
  },
  {
   "cell_type": "code",
   "execution_count": null,
   "id": "adce8ba8",
   "metadata": {},
   "outputs": [],
   "source": [
    "print(points.first().getInfo())"
   ]
  },
  {
   "cell_type": "markdown",
   "id": "9129e539",
   "metadata": {},
   "source": [
    "### Split training and testing"
   ]
  },
  {
   "cell_type": "code",
   "execution_count": null,
   "id": "0c1909f1",
   "metadata": {},
   "outputs": [],
   "source": [
    "# Use these bands for prediction.\n",
    "bands = ['B1', 'B2', 'B3', 'B4', 'B5', 'B6', 'B7']\n",
    "\n",
    "# This property of the table stores the land cover labels.\n",
    "label = 'landcover'\n",
    "\n",
    "# Overlay the points on the imagery to get training.\n",
    "sample = image.select(bands).sampleRegions(\n",
    "    **{'collection': points, 'properties': [label], 'scale': 30}\n",
    ")\n",
    "\n",
    "# Adds a column of deterministic pseudorandom numbers.\n",
    "sample = sample.randomColumn()\n",
    "\n",
    "split = 0.7\n",
    "\n",
    "training = sample.filter(ee.Filter.lt('random', split))\n",
    "validation = sample.filter(ee.Filter.gte('random', split))"
   ]
  },
  {
   "cell_type": "code",
   "execution_count": null,
   "id": "b2140bc0",
   "metadata": {},
   "outputs": [],
   "source": [
    "training.first().getInfo()"
   ]
  },
  {
   "cell_type": "code",
   "execution_count": null,
   "id": "760fed3f",
   "metadata": {},
   "outputs": [],
   "source": [
    "validation.first().getInfo()"
   ]
  },
  {
   "cell_type": "markdown",
   "id": "eb74b603",
   "metadata": {},
   "source": [
    "### Train the classifier"
   ]
  },
  {
   "cell_type": "code",
   "execution_count": null,
   "id": "d329a1c9",
   "metadata": {},
   "outputs": [],
   "source": [
    "classifier = ee.Classifier.smileRandomForest(10).train(training, label, bands)"
   ]
  },
  {
   "cell_type": "markdown",
   "id": "1cf19956",
   "metadata": {},
   "source": [
    "### Classify the image"
   ]
  },
  {
   "cell_type": "code",
   "execution_count": null,
   "id": "d15667c4",
   "metadata": {},
   "outputs": [],
   "source": [
    "# Classify the image with the same bands used for training.\n",
    "result = image.select(bands).classify(classifier)\n",
    "\n",
    "# # Display the clusters with random colors.\n",
    "Map.addLayer(result.randomVisualizer(), {}, 'classfied')\n",
    "Map"
   ]
  },
  {
   "cell_type": "markdown",
   "id": "0aa9171a",
   "metadata": {},
   "source": [
    "### Render categorical map"
   ]
  },
  {
   "cell_type": "code",
   "execution_count": null,
   "id": "1107a407",
   "metadata": {},
   "outputs": [],
   "source": [
    "class_values = nlcd.get('landcover_class_values').getInfo()\n",
    "print(class_values)"
   ]
  },
  {
   "cell_type": "code",
   "execution_count": null,
   "id": "ac06a280",
   "metadata": {},
   "outputs": [],
   "source": [
    "class_palette = nlcd.get('landcover_class_palette').getInfo()\n",
    "print(class_palette)"
   ]
  },
  {
   "cell_type": "code",
   "execution_count": null,
   "id": "38b5a286",
   "metadata": {},
   "outputs": [],
   "source": [
    "landcover = result.set('classification_class_values', class_values)\n",
    "landcover = landcover.set('classification_class_palette', class_palette)"
   ]
  },
  {
   "cell_type": "code",
   "execution_count": null,
   "id": "b169a012",
   "metadata": {},
   "outputs": [],
   "source": [
    "Map.addLayer(landcover, {}, 'Land cover')\n",
    "Map"
   ]
  },
  {
   "cell_type": "markdown",
   "id": "cb13a87b",
   "metadata": {},
   "source": [
    "### Visualize results"
   ]
  },
  {
   "cell_type": "code",
   "execution_count": null,
   "id": "086bd660",
   "metadata": {},
   "outputs": [],
   "source": [
    "print('Change layer opacity:')\n",
    "cluster_layer = Map.layers[-1]\n",
    "cluster_layer.interact(opacity=(0, 1, 0.1))"
   ]
  },
  {
   "cell_type": "markdown",
   "id": "6ac7ce25",
   "metadata": {},
   "source": [
    "### Add a legend to the map"
   ]
  },
  {
   "cell_type": "code",
   "execution_count": null,
   "id": "5d9b0671",
   "metadata": {},
   "outputs": [],
   "source": [
    "Map.add_legend(builtin_legend='NLCD')\n",
    "Map"
   ]
  },
  {
   "cell_type": "markdown",
   "id": "3f87abad",
   "metadata": {},
   "source": [
    "### Accuracy assessment"
   ]
  },
  {
   "cell_type": "markdown",
   "id": "284a9e6e",
   "metadata": {},
   "source": [
    "#### Training dataset"
   ]
  },
  {
   "cell_type": "code",
   "execution_count": null,
   "id": "a15e4128",
   "metadata": {},
   "outputs": [],
   "source": [
    "train_accuracy = classifier.confusionMatrix()"
   ]
  },
  {
   "cell_type": "code",
   "execution_count": null,
   "id": "03dd8072",
   "metadata": {},
   "outputs": [],
   "source": [
    "train_accuracy.getInfo()"
   ]
  },
  {
   "cell_type": "code",
   "execution_count": null,
   "id": "8aaa32ce",
   "metadata": {},
   "outputs": [],
   "source": [
    "train_accuracy.accuracy().getInfo()"
   ]
  },
  {
   "cell_type": "code",
   "execution_count": null,
   "id": "90794d77",
   "metadata": {},
   "outputs": [],
   "source": [
    "train_accuracy.kappa().getInfo()"
   ]
  },
  {
   "cell_type": "code",
   "execution_count": null,
   "id": "662d0675",
   "metadata": {},
   "outputs": [],
   "source": [
    "train_accuracy.producersAccuracy().getInfo()"
   ]
  },
  {
   "cell_type": "code",
   "execution_count": null,
   "id": "6cd977cf",
   "metadata": {},
   "outputs": [],
   "source": [
    "train_accuracy.consumersAccuracy().getInfo()"
   ]
  },
  {
   "cell_type": "markdown",
   "id": "f70c8fa8",
   "metadata": {},
   "source": [
    "##### Validation dataset"
   ]
  },
  {
   "cell_type": "code",
   "execution_count": null,
   "id": "61d481ba",
   "metadata": {},
   "outputs": [],
   "source": [
    "validated = validation.classify(classifier)"
   ]
  },
  {
   "cell_type": "code",
   "execution_count": null,
   "id": "5d7c48ad",
   "metadata": {},
   "outputs": [],
   "source": [
    "validated.first().getInfo()"
   ]
  },
  {
   "cell_type": "code",
   "execution_count": null,
   "id": "a54983e2",
   "metadata": {},
   "outputs": [],
   "source": [
    "test_accuracy = validated.errorMatrix('landcover', 'classification')"
   ]
  },
  {
   "cell_type": "code",
   "execution_count": null,
   "id": "66732dbe",
   "metadata": {},
   "outputs": [],
   "source": [
    "test_accuracy.getInfo()"
   ]
  },
  {
   "cell_type": "code",
   "execution_count": null,
   "id": "4414ab3d",
   "metadata": {},
   "outputs": [],
   "source": [
    "test_accuracy.accuracy().getInfo()"
   ]
  },
  {
   "cell_type": "code",
   "execution_count": null,
   "id": "9e836c27",
   "metadata": {},
   "outputs": [],
   "source": [
    "test_accuracy.kappa().getInfo()"
   ]
  },
  {
   "cell_type": "code",
   "execution_count": null,
   "id": "0413919f",
   "metadata": {},
   "outputs": [],
   "source": [
    "test_accuracy.producersAccuracy().getInfo()"
   ]
  },
  {
   "cell_type": "code",
   "execution_count": null,
   "id": "47d55a2d",
   "metadata": {},
   "outputs": [],
   "source": [
    "test_accuracy.consumersAccuracy().getInfo()"
   ]
  },
  {
   "cell_type": "markdown",
   "id": "da1961d9",
   "metadata": {},
   "source": [
    "### Download confusion matrix"
   ]
  },
  {
   "cell_type": "code",
   "execution_count": null,
   "id": "d7548258",
   "metadata": {},
   "outputs": [],
   "source": [
    "import csv\n",
    "import os\n",
    "\n",
    "out_dir = os.getcwd()\n",
    "training_csv = os.path.join(out_dir, 'train_accuracy.csv')\n",
    "testing_csv = os.path.join(out_dir, 'test_accuracy.csv')\n",
    "\n",
    "with open(training_csv, \"w\", newline=\"\") as f:\n",
    "    writer = csv.writer(f)\n",
    "    writer.writerows(train_accuracy.getInfo())\n",
    "\n",
    "with open(testing_csv, \"w\", newline=\"\") as f:\n",
    "    writer = csv.writer(f)\n",
    "    writer.writerows(test_accuracy.getInfo())"
   ]
  },
  {
   "cell_type": "markdown",
   "id": "c03335f9",
   "metadata": {},
   "source": [
    "### Reclassify land cover map"
   ]
  },
  {
   "cell_type": "code",
   "execution_count": null,
   "id": "da6fe365",
   "metadata": {},
   "outputs": [],
   "source": [
    "landcover = landcover.remap(new_class_values, raw_class_values).select(\n",
    "    ['remapped'], ['classification']\n",
    ")"
   ]
  },
  {
   "cell_type": "code",
   "execution_count": null,
   "id": "bdc9446b",
   "metadata": {},
   "outputs": [],
   "source": [
    "landcover = landcover.set('classification_class_values', raw_class_values)\n",
    "landcover = landcover.set('classification_class_palette', class_palette)"
   ]
  },
  {
   "cell_type": "code",
   "execution_count": null,
   "id": "a0cb11b8",
   "metadata": {},
   "outputs": [],
   "source": [
    "Map.addLayer(landcover, {}, 'Final land cover')\n",
    "Map"
   ]
  },
  {
   "cell_type": "markdown",
   "id": "fdc5431d",
   "metadata": {},
   "source": [
    "### Export results"
   ]
  },
  {
   "cell_type": "code",
   "execution_count": null,
   "id": "ea8e11c7",
   "metadata": {},
   "outputs": [],
   "source": [
    "import os\n",
    "\n",
    "out_dir = os.getcwd()\n",
    "out_file = os.path.join(out_dir, 'landcover.tif')"
   ]
  },
  {
   "cell_type": "code",
   "execution_count": null,
   "id": "d682ed35",
   "metadata": {},
   "outputs": [],
   "source": [
    "geemap.ee_export_image(landcover, filename=out_file, scale=900)"
   ]
  },
  {
   "cell_type": "code",
   "execution_count": null,
   "id": "2cb1f6f9",
   "metadata": {},
   "outputs": [],
   "source": [
    "geemap.ee_export_image_to_drive(\n",
    "    landcover, description='landcover', folder='export', scale=900\n",
    ")"
   ]
  },
  {
   "cell_type": "markdown",
   "id": "e4437d5f",
   "metadata": {},
   "source": [
    "## Using locally trained machine learning models"
   ]
  },
  {
   "cell_type": "code",
   "execution_count": null,
   "id": "6bd7562d",
   "metadata": {},
   "outputs": [],
   "source": [
    "import pandas as pd\n",
    "from geemap import ml\n",
    "from sklearn import ensemble"
   ]
  },
  {
   "cell_type": "markdown",
   "id": "b74823b0",
   "metadata": {},
   "source": [
    "### Train a model locally using scikit-learn"
   ]
  },
  {
   "cell_type": "code",
   "execution_count": null,
   "id": "2ccf4f63",
   "metadata": {},
   "outputs": [],
   "source": [
    "# read the feature table to train our RandomForest model\n",
    "# data taken from ee.FeatureCollection('GOOGLE/EE/DEMOS/demo_landcover_labels')\n",
    "\n",
    "url = \"https://raw.githubusercontent.com/giswqs/geemap/master/examples/data/rf_example.csv\"\n",
    "df = pd.read_csv(url)\n",
    "df"
   ]
  },
  {
   "cell_type": "code",
   "execution_count": null,
   "id": "a9cc4970",
   "metadata": {},
   "outputs": [],
   "source": [
    "# specify the names of the features (i.e. band names) and label\n",
    "# feature names used to extract out features and define what bands\n",
    "\n",
    "feature_names = ['B2', 'B3', 'B4', 'B5', 'B6', 'B7']\n",
    "label = \"landcover\""
   ]
  },
  {
   "cell_type": "code",
   "execution_count": null,
   "id": "059375a7",
   "metadata": {},
   "outputs": [],
   "source": [
    "# get the features and labels into separate variables\n",
    "X = df[feature_names]\n",
    "y = df[label]"
   ]
  },
  {
   "cell_type": "code",
   "execution_count": null,
   "id": "d2a56bb9",
   "metadata": {},
   "outputs": [],
   "source": [
    "# create a classifier and fit\n",
    "n_trees = 10\n",
    "rf = ensemble.RandomForestClassifier(n_trees).fit(X, y)"
   ]
  },
  {
   "cell_type": "markdown",
   "id": "90ccb38a",
   "metadata": {},
   "source": [
    "### Convert a sklearn classifier object to a list of strings"
   ]
  },
  {
   "cell_type": "code",
   "execution_count": null,
   "id": "8469ff46",
   "metadata": {},
   "outputs": [],
   "source": [
    "# convert the estimator into a list of strings\n",
    "# this function also works with the ensemble.ExtraTrees estimator\n",
    "trees = ml.rf_to_strings(rf, feature_names)\n",
    "# print the first tree to see the result\n",
    "print(trees[0])"
   ]
  },
  {
   "cell_type": "code",
   "execution_count": null,
   "id": "9675a084",
   "metadata": {},
   "outputs": [],
   "source": [
    "print(trees[1])"
   ]
  },
  {
   "cell_type": "code",
   "execution_count": null,
   "id": "16bd7eb3",
   "metadata": {},
   "outputs": [],
   "source": [
    "# number of trees we converted should equal the number of trees we defined for the model\n",
    "len(trees) == n_trees"
   ]
  },
  {
   "cell_type": "markdown",
   "id": "0e06153a",
   "metadata": {},
   "source": [
    "### Convert sklearn classifier to GEE classifier"
   ]
  },
  {
   "cell_type": "code",
   "execution_count": null,
   "id": "93e2c3f6",
   "metadata": {},
   "outputs": [],
   "source": [
    "# create a ee classifier to use with ee objects from the trees\n",
    "ee_classifier = ml.strings_to_classifier(trees)"
   ]
  },
  {
   "cell_type": "code",
   "execution_count": null,
   "id": "e54ee73d",
   "metadata": {},
   "outputs": [],
   "source": [
    "# ee_classifier.getInfo()"
   ]
  },
  {
   "cell_type": "markdown",
   "id": "bcf17442",
   "metadata": {},
   "source": [
    "### Classify image using GEE classifier"
   ]
  },
  {
   "cell_type": "code",
   "execution_count": null,
   "id": "a659f13e",
   "metadata": {},
   "outputs": [],
   "source": [
    "# Make a cloud-free Landsat 8 TOA composite (from raw imagery).\n",
    "l8 = ee.ImageCollection('LANDSAT/LC08/C01/T1')\n",
    "\n",
    "image = ee.Algorithms.Landsat.simpleComposite(\n",
    "    collection=l8.filterDate('2018-01-01', '2018-12-31'), asFloat=True\n",
    ")"
   ]
  },
  {
   "cell_type": "code",
   "execution_count": null,
   "id": "cc580dd0",
   "metadata": {},
   "outputs": [],
   "source": [
    "# classify the image using the classifier we created from the local training\n",
    "# note: here we select the feature_names from the image that way the classifier knows which bands to use\n",
    "classified = image.select(feature_names).classify(ee_classifier)"
   ]
  },
  {
   "cell_type": "code",
   "execution_count": null,
   "id": "66ee83c6",
   "metadata": {},
   "outputs": [],
   "source": [
    "# display results\n",
    "Map = geemap.Map(center=(37.75, -122.25), zoom=11)\n",
    "\n",
    "Map.addLayer(\n",
    "    image,\n",
    "    {\"bands\": ['B7', 'B5', 'B3'], \"min\": 0.05, \"max\": 0.55, \"gamma\": 1.5},\n",
    "    'image',\n",
    ")\n",
    "Map.addLayer(\n",
    "    classified,\n",
    "    {\"min\": 0, \"max\": 2, \"palette\": ['red', 'green', 'blue']},\n",
    "    'classification',\n",
    ")\n",
    "\n",
    "Map"
   ]
  },
  {
   "cell_type": "markdown",
   "id": "57e3ac66",
   "metadata": {},
   "source": [
    "### Save trees to the cloud"
   ]
  },
  {
   "cell_type": "code",
   "execution_count": null,
   "id": "b17158e6",
   "metadata": {},
   "outputs": [],
   "source": [
    "user_id = geemap.ee_user_id()\n",
    "user_id"
   ]
  },
  {
   "cell_type": "code",
   "execution_count": null,
   "id": "1986a75b",
   "metadata": {},
   "outputs": [],
   "source": [
    "# specify asset id where to save trees\n",
    "# be sure to change <user_name> to your ee user name\n",
    "asset_id = user_id + \"/random_forest_strings_test\"\n",
    "asset_id"
   ]
  },
  {
   "cell_type": "code",
   "execution_count": null,
   "id": "d748232d",
   "metadata": {},
   "outputs": [],
   "source": [
    "# kick off an export process so it will be saved to the ee asset\n",
    "ml.export_trees_to_fc(trees, asset_id)\n",
    "\n",
    "# this will kick off an export task, so wait a few minutes before moving on"
   ]
  },
  {
   "cell_type": "code",
   "execution_count": null,
   "id": "e295659f",
   "metadata": {},
   "outputs": [],
   "source": [
    "# read the exported tree feature collection\n",
    "rf_fc = ee.FeatureCollection(asset_id)\n",
    "\n",
    "# convert it to a classifier, very similar to the `ml.trees_to_classifier` function\n",
    "another_classifier = ml.fc_to_classifier(rf_fc)\n",
    "\n",
    "# classify the image again but with the classifier from the persisted trees\n",
    "classified = image.select(feature_names).classify(another_classifier)"
   ]
  },
  {
   "cell_type": "code",
   "execution_count": null,
   "id": "910e0a36",
   "metadata": {},
   "outputs": [],
   "source": [
    "# display results\n",
    "# we should get the exact same results as before\n",
    "Map = geemap.Map(center=(37.75, -122.25), zoom=11)\n",
    "\n",
    "Map.addLayer(\n",
    "    image,\n",
    "    {\"bands\": ['B7', 'B5', 'B3'], \"min\": 0.05, \"max\": 0.55, \"gamma\": 1.5},\n",
    "    'image',\n",
    ")\n",
    "Map.addLayer(\n",
    "    classified,\n",
    "    {\"min\": 0, \"max\": 2, \"palette\": ['red', 'green', 'blue']},\n",
    "    'classification',\n",
    ")\n",
    "\n",
    "Map"
   ]
  },
  {
   "cell_type": "markdown",
   "id": "7520fbf0",
   "metadata": {},
   "source": [
    "### Save trees locally"
   ]
  },
  {
   "cell_type": "code",
   "execution_count": null,
   "id": "babb629c",
   "metadata": {},
   "outputs": [],
   "source": [
    "import os\n",
    "\n",
    "out_csv = os.path.abspath(\"trees.csv\")"
   ]
  },
  {
   "cell_type": "code",
   "execution_count": null,
   "id": "58d97588",
   "metadata": {},
   "outputs": [],
   "source": [
    "ml.trees_to_csv(trees, out_csv)"
   ]
  },
  {
   "cell_type": "code",
   "execution_count": null,
   "id": "058fe13f",
   "metadata": {},
   "outputs": [],
   "source": [
    "another_classifier = ml.csv_to_classifier(out_csv)"
   ]
  },
  {
   "cell_type": "code",
   "execution_count": null,
   "id": "ad7864d3",
   "metadata": {},
   "outputs": [],
   "source": [
    "classified = image.select(feature_names).classify(another_classifier)"
   ]
  },
  {
   "cell_type": "code",
   "execution_count": null,
   "id": "ffedeb79",
   "metadata": {},
   "outputs": [],
   "source": [
    "# display results\n",
    "# we should get the exact same results as before\n",
    "Map = geemap.Map(center=(37.75, -122.25), zoom=11)\n",
    "\n",
    "Map.addLayer(\n",
    "    image,\n",
    "    {\"bands\": ['B7', 'B5', 'B3'], \"min\": 0.05, \"max\": 0.55, \"gamma\": 1.5},\n",
    "    'image',\n",
    ")\n",
    "Map.addLayer(\n",
    "    classified,\n",
    "    {\"min\": 0, \"max\": 2, \"palette\": ['red', 'green', 'blue']},\n",
    "    'classification',\n",
    ")\n",
    "\n",
    "Map"
   ]
  },
  {
   "cell_type": "markdown",
   "id": "a40da328",
   "metadata": {},
   "source": [
    "## Global land cover area"
   ]
  },
  {
   "cell_type": "code",
   "execution_count": null,
   "id": "87b256a9",
   "metadata": {},
   "outputs": [],
   "source": [
    "Map = geemap.Map()\n",
    "dataset = ee.ImageCollection(\"ESA/WorldCover/v100\").first()\n",
    "Map.addLayer(dataset, {'bands': ['Map']}, 'ESA Land Cover')\n",
    "Map.add_legend(builtin_legend='ESA_WorldCover')\n",
    "Map"
   ]
  },
  {
   "cell_type": "code",
   "execution_count": null,
   "id": "a5338b68",
   "metadata": {},
   "outputs": [],
   "source": [
    "df = geemap.image_area_by_group(\n",
    "    dataset, scale=1000, denominator=1e6, decimal_places=4, verbose=True\n",
    ")\n",
    "df"
   ]
  },
  {
   "cell_type": "code",
   "execution_count": null,
   "id": "c5526478",
   "metadata": {},
   "outputs": [],
   "source": [
    "df.to_csv('esa_area.csv')"
   ]
  },
  {
   "cell_type": "code",
   "execution_count": null,
   "id": "0d000be3",
   "metadata": {},
   "outputs": [],
   "source": [
    "Map = geemap.Map(center=[40, -100], zoom=4)\n",
    "Map.add_basemap('HYBRID')\n",
    "\n",
    "nlcd = ee.Image('USGS/NLCD_RELEASES/2019_REL/NLCD/2019')\n",
    "landcover = nlcd.select('landcover')\n",
    "\n",
    "Map.addLayer(landcover, {}, 'NLCD Land Cover 2019')\n",
    "Map.add_legend(\n",
    "    title=\"NLCD Land Cover Classification\", builtin_legend='NLCD', height='465px'\n",
    ")\n",
    "Map"
   ]
  },
  {
   "cell_type": "code",
   "execution_count": null,
   "id": "fa10e728",
   "metadata": {},
   "outputs": [],
   "source": [
    "df = geemap.image_area_by_group(\n",
    "    landcover, scale=1000, denominator=1e6, decimal_places=4, verbose=True\n",
    ")\n",
    "df"
   ]
  },
  {
   "cell_type": "code",
   "execution_count": null,
   "id": "aba9653c",
   "metadata": {},
   "outputs": [],
   "source": [
    "df.to_csv('nlcd_area.csv')"
   ]
  },
  {
   "cell_type": "markdown",
   "id": "ec4169c7",
   "metadata": {},
   "source": [
    "## WhiteboxTools"
   ]
  },
  {
   "cell_type": "code",
   "execution_count": null,
   "id": "bb8c6138",
   "metadata": {},
   "outputs": [],
   "source": [
    "pip install geemap[lidar]"
   ]
  },
  {
   "cell_type": "markdown",
   "id": "b4c89dc8",
   "metadata": {},
   "source": [
    "### Import libraries"
   ]
  },
  {
   "cell_type": "code",
   "execution_count": null,
   "id": "ec9dead8",
   "metadata": {},
   "outputs": [],
   "source": [
    "import os\n",
    "import geemap\n",
    "import whitebox"
   ]
  },
  {
   "cell_type": "markdown",
   "id": "74c2b845",
   "metadata": {},
   "source": [
    "### Set up whitebox"
   ]
  },
  {
   "cell_type": "code",
   "execution_count": null,
   "id": "0235b106",
   "metadata": {},
   "outputs": [],
   "source": [
    "wbt = whitebox.WhiteboxTools()\n",
    "wbt.set_working_dir(os.getcwd())\n",
    "wbt.set_verbose_mode(False)"
   ]
  },
  {
   "cell_type": "markdown",
   "id": "bab0a803",
   "metadata": {},
   "source": [
    "### Download sample data"
   ]
  },
  {
   "cell_type": "code",
   "execution_count": null,
   "id": "4225da50",
   "metadata": {},
   "outputs": [],
   "source": [
    "url = 'https://github.com/giswqs/data/raw/main/lidar/madison.laz'\n",
    "if not os.path.exists('madison.laz'):\n",
    "    geemap.download_file(url)"
   ]
  },
  {
   "cell_type": "markdown",
   "id": "448c2801",
   "metadata": {},
   "source": [
    "### Read LAS/LAZ data"
   ]
  },
  {
   "cell_type": "code",
   "execution_count": null,
   "id": "7f4882bc",
   "metadata": {},
   "outputs": [],
   "source": [
    "laz = geemap.read_lidar('madison.laz')"
   ]
  },
  {
   "cell_type": "code",
   "execution_count": null,
   "id": "f1cd394f",
   "metadata": {},
   "outputs": [],
   "source": [
    "laz"
   ]
  },
  {
   "cell_type": "code",
   "execution_count": null,
   "id": "59b20cde",
   "metadata": {},
   "outputs": [],
   "source": [
    "str(laz.header.version)"
   ]
  },
  {
   "cell_type": "markdown",
   "id": "3a960e75",
   "metadata": {},
   "source": [
    "### Upgrade file version"
   ]
  },
  {
   "cell_type": "code",
   "execution_count": null,
   "id": "a33a8dcb",
   "metadata": {},
   "outputs": [],
   "source": [
    "las = geemap.convert_lidar(laz, file_version='1.4')"
   ]
  },
  {
   "cell_type": "code",
   "execution_count": null,
   "id": "636eef6d",
   "metadata": {},
   "outputs": [],
   "source": [
    "str(las.header.version)"
   ]
  },
  {
   "cell_type": "markdown",
   "id": "19b8bd1e",
   "metadata": {},
   "source": [
    "### Write LAS data"
   ]
  },
  {
   "cell_type": "code",
   "execution_count": null,
   "id": "4b904e94",
   "metadata": {},
   "outputs": [],
   "source": [
    "geemap.write_lidar(las, 'madison.las')"
   ]
  },
  {
   "cell_type": "markdown",
   "id": "9af6ed6c",
   "metadata": {
    "tags": []
   },
   "source": [
    "### Histogram analysis"
   ]
  },
  {
   "cell_type": "code",
   "execution_count": null,
   "id": "b009a4bd",
   "metadata": {},
   "outputs": [],
   "source": [
    "wbt.lidar_histogram('madison.las', 'histogram.html')"
   ]
  },
  {
   "cell_type": "markdown",
   "id": "1790ba62",
   "metadata": {},
   "source": [
    "### Visualize LiDAR data"
   ]
  },
  {
   "cell_type": "code",
   "execution_count": null,
   "id": "9c58f1ff",
   "metadata": {},
   "outputs": [],
   "source": [
    "geemap.view_lidar('madison.las')"
   ]
  },
  {
   "cell_type": "markdown",
   "id": "165f9680",
   "metadata": {},
   "source": [
    "### Remove outliers"
   ]
  },
  {
   "cell_type": "code",
   "execution_count": null,
   "id": "c5fa653a",
   "metadata": {},
   "outputs": [],
   "source": [
    "wbt.lidar_elevation_slice(\"madison.las\", \"madison_rm.las\", minz=0, maxz=450)"
   ]
  },
  {
   "cell_type": "markdown",
   "id": "1f2773cf",
   "metadata": {},
   "source": [
    "### Visualize LiDAR data after removing outliers"
   ]
  },
  {
   "cell_type": "code",
   "execution_count": null,
   "id": "0076373b",
   "metadata": {},
   "outputs": [],
   "source": [
    "geemap.view_lidar('madison_rm.las', cmap='terrain')"
   ]
  },
  {
   "cell_type": "markdown",
   "id": "dd38cc0a",
   "metadata": {},
   "source": [
    "### Create DSM"
   ]
  },
  {
   "cell_type": "code",
   "execution_count": null,
   "id": "70178731",
   "metadata": {},
   "outputs": [],
   "source": [
    "wbt.lidar_digital_surface_model(\n",
    "    'madison_rm.las', 'dsm.tif', resolution=1.0, minz=0, maxz=450\n",
    ")"
   ]
  },
  {
   "cell_type": "code",
   "execution_count": null,
   "id": "f5cb9e48",
   "metadata": {
    "jp-MarkdownHeadingCollapsed": true,
    "tags": []
   },
   "outputs": [],
   "source": [
    "geemap.add_crs(\"dsm.tif\", epsg=2255)"
   ]
  },
  {
   "cell_type": "markdown",
   "id": "5ccdadee",
   "metadata": {},
   "source": [
    "### Visualize DSM"
   ]
  },
  {
   "cell_type": "code",
   "execution_count": null,
   "id": "14a4c2fd",
   "metadata": {},
   "outputs": [],
   "source": [
    "Map = geemap.Map()\n",
    "Map.add_raster('dsm.tif', palette='terrain', layer_name='DSM')\n",
    "Map"
   ]
  },
  {
   "cell_type": "markdown",
   "id": "e58d3705",
   "metadata": {},
   "source": [
    "### Create DEM"
   ]
  },
  {
   "cell_type": "code",
   "execution_count": null,
   "id": "4fa7739a",
   "metadata": {},
   "outputs": [],
   "source": [
    "wbt.remove_off_terrain_objects('dsm.tif', 'dem.tif', filter=25, slope=15.0)"
   ]
  },
  {
   "cell_type": "markdown",
   "id": "6128a718",
   "metadata": {},
   "source": [
    "### Visualize DEM"
   ]
  },
  {
   "cell_type": "code",
   "execution_count": null,
   "id": "889f12c0",
   "metadata": {},
   "outputs": [],
   "source": [
    "Map.add_raster('dem.tif', palette='terrain', layer_name='DEM')\n",
    "Map"
   ]
  },
  {
   "cell_type": "markdown",
   "id": "48ecbbbf",
   "metadata": {},
   "source": [
    "### Create CHM"
   ]
  },
  {
   "cell_type": "code",
   "execution_count": null,
   "id": "483b992e",
   "metadata": {},
   "outputs": [],
   "source": [
    "chm = wbt.subtract('dsm.tif', 'dem.tif', 'chm.tif')"
   ]
  },
  {
   "cell_type": "code",
   "execution_count": null,
   "id": "7bcd14bb",
   "metadata": {},
   "outputs": [],
   "source": [
    "Map.add_raster('chm.tif', palette='gist_earth', layer_name='CHM')\n",
    "Map"
   ]
  },
  {
   "cell_type": "markdown",
   "id": "1691aebc",
   "metadata": {},
   "source": [
    "## Summary\n",
    "\n",
    "## References\n",
    "\n",
    "- https://geemap.org/notebooks/12_zonal_statistics/\n",
    "- https://geemap.org/notebooks/13_zonal_statistics_by_group/\n",
    "- https://geemap.org/notebooks/31_unsupervised_classification/\n",
    "- https://geemap.org/notebooks/32_supervised_classification/\n",
    "- https://geemap.org/notebooks/33_accuracy_assessment/\n",
    "- https://geemap.org/notebooks/34_extract_values/\n",
    "- https://geemap.org/notebooks/36_quality_mosaic/\n",
    "- https://geemap.org/notebooks/46_local_rf_training/\n",
    "- https://geemap.org/notebooks/59_whitebox/\n",
    "- https://geemap.org/notebooks/63_charts/\n",
    "- https://geemap.org/notebooks/67_training_samples/\n",
    "- https://geemap.org/notebooks/71_timelapse/\n",
    "- https://geemap.org/notebooks/108_image_zonal_stats/\n",
    "- https://geemap.org/notebooks/109_coordinate_grids/\n",
    "- https://geemap.org/notebooks/111_image_count/\n",
    "- https://geemap.org/notebooks/113_image_area/\n",
    "- https://geemap.org/notebooks/114_dynamic_world/\n",
    "- https://geemap.org/notebooks/115_land_cover/\n",
    "- https://geemap.org/notebooks/116_land_cover_timeseries/\n",
    "- https://geemap.org/notebooks/117_fishnet/\n",
    "- https://geemap.org/notebooks/122_lidar/\n",
    "- https://developers.google.com/earth-engine/tutorials/tutorial_api_06\n",
    "- https://developers.google.com/earth-engine/guides/clustering"
   ]
  }
 ],
 "metadata": {
  "jupytext": {
   "text_representation": {
    "extension": ".md",
    "format_name": "myst",
    "format_version": 0.13,
    "jupytext_version": "1.11.5"
   }
  },
  "kernelspec": {
   "display_name": "Python 3",
   "language": "python",
   "name": "python3"
  },
  "source_map": [
   12,
   23,
   40,
   44,
   49,
   51,
   57,
   62,
   67,
   72,
   77,
   82,
   87,
   92,
   97,
   100,
   104,
   126,
   129,
   133,
   147,
   151,
   168,
   179,
   184,
   186,
   190,
   202,
   206,
   210,
   215,
   218,
   222,
   246,
   253,
   263,
   267,
   285,
   298,
   309,
   313,
   321,
   327,
   332,
   336,
   338,
   342,
   346,
   353,
   358,
   362,
   369,
   375,
   380,
   384,
   389,
   400,
   405,
   429,
   432,
   436,
   447,
   450,
   454,
   461,
   472,
   478,
   482,
   487,
   491,
   498,
   504,
   518,
   522,
   530,
   539,
   548,
   560,
   566,
   571,
   576,
   581,
   586,
   592,
   596,
   598,
   602,
   624,
   628,
   631,
   635,
   637,
   641,
   665,
   674,
   679,
   683,
   685,
   689,
   703,
   714,
   722,
   726,
   734,
   738,
   742,
   745,
   749,
   754,
   757,
   761,
   770,
   774,
   785,
   789,
   795,
   802,
   809,
   814,
   818,
   820,
   824,
   828,
   830,
   834,
   850,
   853,
   857,
   865,
   871,
   875,
   877,
   881,
   892,
   897,
   934,
   946,
   948,
   952,
   956,
   967,
   972,
   990,
   995,
   1006,
   1008,
   1014,
   1018,
   1025,
   1034,
   1036,
   1042,
   1044,
   1050,
   1054,
   1056,
   1060,
   1065,
   1069,
   1075,
   1079,
   1083,
   1103,
   1107,
   1112,
   1116,
   1118,
   1122,
   1128,
   1142,
   1146,
   1150,
   1154,
   1161,
   1165,
   1179,
   1183,
   1187,
   1191,
   1195,
   1199,
   1205,
   1209,
   1213,
   1232,
   1236,
   1240,
   1242,
   1246,
   1250,
   1254,
   1260,
   1275,
   1279,
   1281,
   1285,
   1302,
   1304,
   1308,
   1315,
   1319,
   1324,
   1329,
   1334,
   1337,
   1341,
   1345,
   1349,
   1352,
   1356,
   1360,
   1364,
   1370,
   1374,
   1380,
   1387,
   1392,
   1398,
   1403,
   1407,
   1412,
   1416,
   1421,
   1438,
   1441,
   1445,
   1450,
   1456,
   1461,
   1469,
   1472,
   1476,
   1491,
   1495,
   1497,
   1501,
   1522,
   1526,
   1528,
   1532,
   1534,
   1538,
   1545,
   1549,
   1554,
   1559,
   1564,
   1567,
   1571,
   1575,
   1579,
   1582,
   1586,
   1590,
   1594,
   1598,
   1602,
   1606,
   1610,
   1612,
   1616,
   1620,
   1624,
   1628,
   1632,
   1636,
   1640,
   1644,
   1646,
   1650,
   1665,
   1669,
   1675,
   1680,
   1683,
   1687,
   1694,
   1698,
   1702,
   1706,
   1710,
   1714,
   1723,
   1731,
   1737,
   1741,
   1745,
   1753,
   1757,
   1760,
   1764,
   1769,
   1771,
   1775,
   1784,
   1790,
   1806,
   1810,
   1815,
   1822,
   1829,
   1840,
   1857,
   1861,
   1867,
   1871,
   1875,
   1879,
   1896,
   1900,
   1908,
   1915,
   1919,
   1933,
   1940,
   1942,
   1946,
   1948,
   1952,
   1956,
   1960,
   1964,
   1968,
   1972,
   1976,
   1980,
   1984,
   1986,
   1990,
   1994,
   1996,
   2000,
   2004,
   2008,
   2010,
   2014,
   2016,
   2020,
   2022,
   2026,
   2028,
   2032,
   2038,
   2043,
   2047,
   2051,
   2055,
   2057,
   2061,
   2064,
   2068,
   2072,
   2075
  ]
 },
 "nbformat": 4,
 "nbformat_minor": 5
}