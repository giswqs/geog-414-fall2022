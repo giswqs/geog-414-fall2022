{
 "cells": [
  {
   "cell_type": "markdown",
   "id": "233d2173",
   "metadata": {},
   "source": [
    "# Lab 2\n",
    "\n",
    "**Firstname Lastname**"
   ]
  },
  {
   "cell_type": "code",
   "execution_count": null,
   "id": "e21a668d",
   "metadata": {},
   "outputs": [],
   "source": [
    "from datetime import datetime\n",
    "\n",
    "now = datetime.now()\n",
    "print(f\"Submitted time: {now}\")"
   ]
  },
  {
   "cell_type": "markdown",
   "id": "ef33a8dc",
   "metadata": {},
   "source": [
    "## Question 1\n",
    "\n",
    "**Pizzas:** Think of at least three kinds of your favorite pizza. Store these pizza names in a list, and then use a for loop to print the name of each pizza.\n",
    "\n",
    "Modify your for loop to print a sentence using the name of the pizza instead of printing just the name of the pizza. For each pizza you should have one line of output containing a simple statement like _I like pepperoni pizza._"
   ]
  },
  {
   "cell_type": "code",
   "execution_count": null,
   "id": "a8178f87",
   "metadata": {},
   "outputs": [],
   "source": []
  },
  {
   "cell_type": "markdown",
   "id": "77af7e7b",
   "metadata": {},
   "source": [
    "Add a line at the end of your program, outside the for loop, that states how much you like pizza. The output should consist of three or more lines about the kinds of pizza you like and then an additional sentence, such as _I really love pizza!_"
   ]
  },
  {
   "cell_type": "code",
   "execution_count": null,
   "id": "53e6bb94",
   "metadata": {},
   "outputs": [],
   "source": []
  },
  {
   "cell_type": "markdown",
   "id": "b31a1315",
   "metadata": {},
   "source": [
    "## Question 2\n",
    "\n",
    "**Animals:** Think of at least three different animals that have a common characteristic. Store the names of these animals in a list, and then use a for loop to print out the name of each animal.\n",
    "\n",
    "Modify your program to print a statement about each animal, such as _A dog would make a great pet._"
   ]
  },
  {
   "cell_type": "code",
   "execution_count": null,
   "id": "cc5d7543",
   "metadata": {},
   "outputs": [],
   "source": []
  },
  {
   "cell_type": "markdown",
   "id": "a91ba0e5",
   "metadata": {},
   "source": [
    "Add a line at the end of your program stating what these animals have in common. You could print a sentence such as _Any of these animals would make a great pet!_"
   ]
  },
  {
   "cell_type": "code",
   "execution_count": null,
   "id": "5d87bbc7",
   "metadata": {},
   "outputs": [],
   "source": []
  },
  {
   "cell_type": "markdown",
   "id": "154930c1",
   "metadata": {},
   "source": [
    "## Question 3\n",
    "\n",
    "**Counting to Twenty:** Use a for loop to print the numbers from 1 to 20, inclusive."
   ]
  },
  {
   "cell_type": "code",
   "execution_count": null,
   "id": "c619bd50",
   "metadata": {},
   "outputs": [],
   "source": []
  },
  {
   "cell_type": "markdown",
   "id": "1fe20f0f",
   "metadata": {},
   "source": [
    "## Question 4\n",
    "\n",
    "**One Hundred:** Make a list of the numbers from one to one hundred, and then use a for loop to print the numbers."
   ]
  },
  {
   "cell_type": "code",
   "execution_count": null,
   "id": "11c023f6",
   "metadata": {},
   "outputs": [],
   "source": []
  },
  {
   "cell_type": "markdown",
   "id": "3211960a",
   "metadata": {},
   "source": [
    "## Question 5\n",
    "\n",
    "**Summing a Hundred:** Make a list of the numbers from one to one hundred, and then use `min()` and `max()` to make sure your list actually starts at one and ends at one hundred. Also, use the sum() function to see how quickly Python can add a hundred numbers."
   ]
  },
  {
   "cell_type": "code",
   "execution_count": null,
   "id": "65b9ae02",
   "metadata": {},
   "outputs": [],
   "source": []
  },
  {
   "cell_type": "markdown",
   "id": "2f013a5a",
   "metadata": {},
   "source": [
    "## Question 6\n",
    "\n",
    "**Odd Numbers:** Use the third argument of the `range()` function to make a list of the odd numbers from 1 to 20. Use a `for` loop to print each number."
   ]
  },
  {
   "cell_type": "code",
   "execution_count": null,
   "id": "87e337ff",
   "metadata": {},
   "outputs": [],
   "source": []
  },
  {
   "cell_type": "markdown",
   "id": "c46d4527",
   "metadata": {},
   "source": [
    "## Question 7\n",
    "\n",
    "**Threes:** Make a list of the multiples of 3 from 3 to 30. Use a `for` loop to print the numbers in your list."
   ]
  },
  {
   "cell_type": "code",
   "execution_count": null,
   "id": "9bd814b0",
   "metadata": {},
   "outputs": [],
   "source": []
  },
  {
   "cell_type": "markdown",
   "id": "adcd0bbe",
   "metadata": {},
   "source": [
    "## Question 8\n",
    "\n",
    "**Cubes:** A number raised to the third power is called a cube. For example, the cube of 2 is written as 2 \\*\\* 3 in Python. Make a list of the first 10 cubes (that is, the cube of each integer from 1 through 10), and use a for loop to print out the value of each cube."
   ]
  },
  {
   "cell_type": "code",
   "execution_count": null,
   "id": "f0080457",
   "metadata": {},
   "outputs": [],
   "source": []
  },
  {
   "cell_type": "markdown",
   "id": "b11ce811",
   "metadata": {},
   "source": [
    "## Question 9\n",
    "\n",
    "**Cube Comprehension:** Use a list comprehension to generate a list of the first 10 cubes."
   ]
  },
  {
   "cell_type": "code",
   "execution_count": null,
   "id": "b3c6728b",
   "metadata": {},
   "outputs": [],
   "source": []
  },
  {
   "cell_type": "markdown",
   "id": "25df122c",
   "metadata": {},
   "source": [
    "## Question 10\n",
    "\n",
    "**Slices:** Using one of the programs you wrote in this lab, add several lines to the end of the program that do the following:\n",
    "\n",
    "Print the message _The first three items in the list are:_. Then use a slice to print the first three items from that program’s list."
   ]
  },
  {
   "cell_type": "code",
   "execution_count": null,
   "id": "8a5f39c8",
   "metadata": {},
   "outputs": [],
   "source": []
  },
  {
   "cell_type": "markdown",
   "id": "bf72efe6",
   "metadata": {},
   "source": [
    "Print the message _Three items from the middle of the list are:_. Use a slice to print three items from the middle of the list."
   ]
  },
  {
   "cell_type": "code",
   "execution_count": null,
   "id": "d8eb42c2",
   "metadata": {},
   "outputs": [],
   "source": []
  },
  {
   "cell_type": "markdown",
   "id": "19236e82",
   "metadata": {},
   "source": [
    "Print the message _The last three items in the list are:_. Use a slice to print the last three items in the list."
   ]
  },
  {
   "cell_type": "code",
   "execution_count": null,
   "id": "6ec35075",
   "metadata": {},
   "outputs": [],
   "source": []
  },
  {
   "cell_type": "markdown",
   "id": "373df67f",
   "metadata": {},
   "source": [
    "Prove that you have two separate lists. Print the message _My favorite pizzas are:_, and then use a for loop to print the first list. Print the message _My friend’s favorite pizzas are:_, and then use a for loop to print the second list. Make sure each new pizza is stored in the appropriate list."
   ]
  },
  {
   "cell_type": "code",
   "execution_count": null,
   "id": "75ef9221",
   "metadata": {},
   "outputs": [],
   "source": []
  },
  {
   "cell_type": "markdown",
   "id": "ff5ded11",
   "metadata": {},
   "source": [
    "## Question 11\n",
    "\n",
    "**Buffet:** A buffet-style restaurant offers only five basic foods. Think of five simple foods, and store them in a tuple.\n",
    "\n",
    "Use a for loop to print each food the restaurant offers."
   ]
  },
  {
   "cell_type": "code",
   "execution_count": null,
   "id": "00236520",
   "metadata": {},
   "outputs": [],
   "source": []
  },
  {
   "cell_type": "markdown",
   "id": "7bbe1b6b",
   "metadata": {},
   "source": [
    "Try to modify one of the items, and make sure that Python rejects the change."
   ]
  },
  {
   "cell_type": "code",
   "execution_count": null,
   "id": "03dd43f6",
   "metadata": {},
   "outputs": [],
   "source": []
  },
  {
   "cell_type": "markdown",
   "id": "fe68e048",
   "metadata": {},
   "source": [
    "The restaurant changes its menu, replacing two of the items with different foods. Add a line that rewrites the tuple, and then use a for loop to print each of the items on the revised menu."
   ]
  },
  {
   "cell_type": "code",
   "execution_count": null,
   "id": "651c8409",
   "metadata": {},
   "outputs": [],
   "source": []
  },
  {
   "cell_type": "code",
   "execution_count": null,
   "id": "f7080d86",
   "metadata": {},
   "outputs": [],
   "source": []
  },
  {
   "cell_type": "markdown",
   "id": "405be0e8",
   "metadata": {},
   "source": [
    "## Question 12\n",
    "\n",
    "**Alien Colors # 1:** Imagine an alien was just shot down in a game. Create a variable called `alien_color` and assign it a value of `green, yellow,` or `red`.\n",
    "\n",
    "- Write an if statement to test whether the alien’s color is green. If it is, print a message that the player just earned 5 points.\n",
    "- Write one version of this program that passes the if test and another that fails. (The version that fails will have no output.)"
   ]
  },
  {
   "cell_type": "code",
   "execution_count": null,
   "id": "5ddcfa3d",
   "metadata": {},
   "outputs": [],
   "source": []
  },
  {
   "cell_type": "markdown",
   "id": "c842c4a8",
   "metadata": {},
   "source": [
    "## Question 13\n",
    "\n",
    "**Alien Colors # 2:** Choose a color for an alien as you did in Question 1, and write an `if-else` chain.\n",
    "\n",
    "- If the alien’s color is green, print a statement that the player just earned 5 points for shooting the alien.\n",
    "- If the alien’s color isn’t green, print a statement that the player just earned 10 points.\n",
    "- Write one version of this program that runs the if block and another that runs the else block."
   ]
  },
  {
   "cell_type": "code",
   "execution_count": null,
   "id": "67a72d4f",
   "metadata": {},
   "outputs": [],
   "source": []
  },
  {
   "cell_type": "markdown",
   "id": "7e5c9e63",
   "metadata": {},
   "source": [
    "## Question 14\n",
    "\n",
    "**Alien Colors # 3:** Turn your `if-else` chain from Question 2 into an `if-elif-else` chain.\n",
    "\n",
    "- If the alien is green, print a message that the player earned 5 points.\n",
    "- If the alien is yellow, print a message that the player earned 10 points.\n",
    "- If the alien is red, print a message that the player earned 15 points.\n",
    "- Write three versions of this program, making sure each message is printed for the appropriate color alien."
   ]
  },
  {
   "cell_type": "code",
   "execution_count": null,
   "id": "3081d616",
   "metadata": {},
   "outputs": [],
   "source": []
  },
  {
   "cell_type": "markdown",
   "id": "d9e0164c",
   "metadata": {},
   "source": [
    "## Question 15\n",
    "\n",
    "**Stages of Life:** Write an `if-elif-else` chain that determines a person’s stage of life. Set a value for the variable `age`, and then:\n",
    "\n",
    "- If the person is less than 2 years old, print a message that the person is a baby.\n",
    "- If the person is at least 2 years old but less than 4, print a message that the person is a toddler.\n",
    "- If the person is at least 4 years old but less than 13, print a message that the person is a kid.\n",
    "- If the person is at least 13 years old but less than 20, print a message that the person is a teenager.\n",
    "- If the person is at least 20 years old but less than 65, print a message that the person is an adult."
   ]
  },
  {
   "cell_type": "code",
   "execution_count": null,
   "id": "d3200ca6",
   "metadata": {},
   "outputs": [],
   "source": []
  },
  {
   "cell_type": "markdown",
   "id": "a5cc208a",
   "metadata": {},
   "source": [
    "## Question 16\n",
    "\n",
    "**Favorite Fruit:** Make a list of your favorite fruits, and then write a series of independent `if` statements that check for certain fruits in your list.\n",
    "\n",
    "- Make a list of your three favorite fruits and call it favorite_fruits.\n",
    "- Write five if statements. Each should check whether a certain kind of fruit is in your list. If the fruit is in your list, the if block should print a statement, such as You really like bananas!"
   ]
  },
  {
   "cell_type": "code",
   "execution_count": null,
   "id": "519b69da",
   "metadata": {},
   "outputs": [],
   "source": []
  },
  {
   "cell_type": "markdown",
   "id": "71b6bfef",
   "metadata": {},
   "source": [
    "## Question 17\n",
    "\n",
    "**Hello Admin:** Make a list of five or more usernames, including the name `admin`. Imagine you are writing code that will print a greeting to each user after they log in to a website. Loop through the list, and print a greeting to each user:\n",
    "\n",
    "- If the username is 'admin', print a special greeting, such as _Hello admin, would you like to see a status report?_\n",
    "- Otherwise, print a generic greeting, such as _Hello Jaden, thank you for logging in again_."
   ]
  },
  {
   "cell_type": "code",
   "execution_count": null,
   "id": "1d0a6e4f",
   "metadata": {},
   "outputs": [],
   "source": []
  },
  {
   "cell_type": "markdown",
   "id": "bb484877",
   "metadata": {},
   "source": [
    "## Question 18\n",
    "\n",
    "**No Users:** Based on Question 6, add an `if` test to make sure the list of users is not empty.\n",
    "\n",
    "- If the list is empty, print the message _We need to find some users!_\n",
    "- Remove all of the usernames from your list, and make sure the correct message is printed."
   ]
  },
  {
   "cell_type": "code",
   "execution_count": null,
   "id": "c674dd81",
   "metadata": {},
   "outputs": [],
   "source": []
  },
  {
   "cell_type": "markdown",
   "id": "aa602881",
   "metadata": {},
   "source": [
    "## Question 19\n",
    "\n",
    "**Checking Usernames:** Do the following to create a program that simulates how websites ensure that everyone has a unique username.\n",
    "\n",
    "- Make a list of five or more usernames called `current_users`.\n",
    "- Make another list of five usernames called `new_users`. Make sure one or two of the new usernames are also in the `current_users` list.\n",
    "- Loop through the `new_users` list to see if each new username has already been used. If it has, print a message that the person will need to enter a new username. If a username has not been used, print a message saying that the username is available.\n",
    "- Make sure your comparison is case insensitive. If 'John' has been used, 'JOHN' should not be accepted. (To do this, you’ll need to make a copy of `current_users` containing the lowercase versions of all existing users.)"
   ]
  },
  {
   "cell_type": "code",
   "execution_count": null,
   "id": "385bb1cb",
   "metadata": {},
   "outputs": [],
   "source": []
  },
  {
   "cell_type": "markdown",
   "id": "c3ebec5a",
   "metadata": {},
   "source": [
    "## Question 20\n",
    "\n",
    "**Ordinal Numbers:** Ordinal numbers indicate their position in a list, such as _1st_ or _2nd_. Most ordinal numbers end in _th_, except 1, 2, and 3.\n",
    "\n",
    "- Store the numbers 1 through 9 in a list.\n",
    "- Loop through the list.\n",
    "- Use an `if-elif-else` chain inside the loop to print the proper ordinal ending for each number. Your output should read \"1st 2nd 3rd 4th 5th 6th 7th 8th 9th\", and each result should be on a separate line."
   ]
  },
  {
   "cell_type": "code",
   "execution_count": null,
   "id": "152a0584",
   "metadata": {},
   "outputs": [],
   "source": []
  }
 ],
 "metadata": {
  "jupytext": {
   "text_representation": {
    "extension": ".md",
    "format_name": "myst",
    "format_version": 0.13,
    "jupytext_version": "1.11.5"
   }
  },
  "kernelspec": {
   "display_name": "Python 3",
   "language": "python",
   "name": "python3"
  },
  "source_map": [
   12,
   18,
   23,
   31,
   33,
   37,
   39,
   47,
   49,
   53,
   55,
   61,
   63,
   69,
   71,
   77,
   79,
   85,
   87,
   93,
   95,
   101,
   103,
   109,
   111,
   119,
   121,
   125,
   127,
   131,
   133,
   137,
   139,
   147,
   149,
   153,
   155,
   159,
   163,
   165,
   174,
   176,
   186,
   188,
   199,
   201,
   213,
   215,
   224,
   226,
   235,
   237,
   246,
   248,
   259,
   261,
   271
  ]
 },
 "nbformat": 4,
 "nbformat_minor": 5
}