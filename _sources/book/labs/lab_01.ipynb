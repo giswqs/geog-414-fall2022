{
 "cells": [
  {
   "cell_type": "markdown",
   "id": "cb065bfe",
   "metadata": {},
   "source": [
    "# Lab 1\n",
    "\n",
    "**Firstname Lastname**"
   ]
  },
  {
   "cell_type": "code",
   "execution_count": null,
   "id": "dafdfde9",
   "metadata": {},
   "outputs": [],
   "source": [
    "from datetime import datetime\n",
    "\n",
    "now = datetime.now()\n",
    "print(f\"Submitted time: {now}\")"
   ]
  },
  {
   "cell_type": "markdown",
   "id": "d7be1c14",
   "metadata": {},
   "source": [
    "## Question 1\n",
    "\n",
    "**Simple Message:** Assign a message to a variable, and then print that message."
   ]
  },
  {
   "cell_type": "code",
   "execution_count": null,
   "id": "39b41899",
   "metadata": {},
   "outputs": [],
   "source": []
  },
  {
   "cell_type": "markdown",
   "id": "0bc98b20",
   "metadata": {},
   "source": [
    "## Question 2\n",
    "\n",
    "**Simple Messages:** Assign a message to a variable, and print that message. Then change the value of the variable to a new message, and print the new message."
   ]
  },
  {
   "cell_type": "code",
   "execution_count": null,
   "id": "1fb4a82f",
   "metadata": {},
   "outputs": [],
   "source": []
  },
  {
   "cell_type": "markdown",
   "id": "0b0bf3f6",
   "metadata": {},
   "source": [
    "## Question 3\n",
    "\n",
    "**Personal Message:** Use a variable to represent a person’s name, and print a message to that person. Your message should be simple, such as, “Hello Eric, would you like to learn some Python today?”"
   ]
  },
  {
   "cell_type": "code",
   "execution_count": null,
   "id": "5afc03d7",
   "metadata": {},
   "outputs": [],
   "source": []
  },
  {
   "cell_type": "markdown",
   "id": "1e2c936e",
   "metadata": {},
   "source": [
    "## Question 4\n",
    "\n",
    "**Name Cases:** Use a variable to represent a person’s name, and then print that person’s name in lowercase, uppercase, and title case."
   ]
  },
  {
   "cell_type": "code",
   "execution_count": null,
   "id": "aa0aba69",
   "metadata": {},
   "outputs": [],
   "source": []
  },
  {
   "cell_type": "markdown",
   "id": "9ac268de",
   "metadata": {},
   "source": [
    "## Question 5\n",
    "\n",
    "**Famous Quote:** Find a quote from a famous person you admire. Print the quote and the name of its author. Your output should look something like the following, including the quotation marks:\n",
    "\n",
    "```text\n",
    "Albert Einstein once said, “A person who never made a mistake never tried anything new.”\n",
    "```"
   ]
  },
  {
   "cell_type": "code",
   "execution_count": null,
   "id": "d7668b3d",
   "metadata": {},
   "outputs": [],
   "source": []
  },
  {
   "cell_type": "markdown",
   "id": "0910de01",
   "metadata": {},
   "source": [
    "## Question 6\n",
    "\n",
    "**Famous Quote 2:** Repeat Exercise 2-5, but this time, represent the famous person’s name using a variable called famous_person. Then compose your message and represent it with a new variable called message. Print your\n",
    "message."
   ]
  },
  {
   "cell_type": "code",
   "execution_count": null,
   "id": "7cee1fb1",
   "metadata": {},
   "outputs": [],
   "source": []
  },
  {
   "cell_type": "markdown",
   "id": "132e7407",
   "metadata": {},
   "source": [
    "## Question 7\n",
    "\n",
    "**Stripping Names:** Use a variable to represent a person’s name, and include some whitespace characters at the beginning and end of the name. Make sure you use each character combination, \"\\t\" and \"\\n\", at least once.\n",
    "Print the name once, so the whitespace around the name is displayed. Then print the name using each of the three stripping functions, lstrip(), rstrip(), and strip()."
   ]
  },
  {
   "cell_type": "code",
   "execution_count": null,
   "id": "2c97e58d",
   "metadata": {},
   "outputs": [],
   "source": []
  },
  {
   "cell_type": "markdown",
   "id": "8435ed97",
   "metadata": {},
   "source": [
    "## Question 8\n",
    "\n",
    "**Number Eight:** Write addition, subtraction, multiplication, and division operations that each result in the number 8. Be sure to enclose your operations in print() calls to see the results. You should create four lines that look like this:\n",
    "\n",
    "```text\n",
    "print(5 + 3)\n",
    "```\n",
    "\n",
    "Your output should simply be four lines with the number 8 appearing once on each line."
   ]
  },
  {
   "cell_type": "code",
   "execution_count": null,
   "id": "b165e84b",
   "metadata": {},
   "outputs": [],
   "source": []
  },
  {
   "cell_type": "markdown",
   "id": "2559e16c",
   "metadata": {},
   "source": [
    "## Question 9\n",
    "\n",
    "**Favorite Number:** Use a variable to represent your favorite number. Then, using that variable, create a message that reveals your favorite number. Print that message."
   ]
  },
  {
   "cell_type": "code",
   "execution_count": null,
   "id": "0a7a560f",
   "metadata": {},
   "outputs": [],
   "source": []
  },
  {
   "cell_type": "markdown",
   "id": "f5933da4",
   "metadata": {},
   "source": [
    "## Question 10\n",
    "\n",
    "**Adding Comments:** Choose two of the programs you’ve written, and add at least one comment to each. If you don’t have anything specific to write because your programs are too simple at this point, just add your name and\n",
    "the current date at the top of each program file. Then write one sentence describing what the program does."
   ]
  },
  {
   "cell_type": "code",
   "execution_count": null,
   "id": "2b0e27b4",
   "metadata": {},
   "outputs": [],
   "source": []
  },
  {
   "cell_type": "markdown",
   "id": "a7bad480",
   "metadata": {},
   "source": [
    "## Question 11\n",
    "\n",
    "**Names:** Store the names of a few of your friends in a list called names. Print\n",
    "each person’s name by accessing each element in the list, one at a time."
   ]
  },
  {
   "cell_type": "code",
   "execution_count": null,
   "id": "e4ef4b37",
   "metadata": {},
   "outputs": [],
   "source": []
  },
  {
   "cell_type": "markdown",
   "id": "59e00d14",
   "metadata": {},
   "source": [
    "## Question 12\n",
    "\n",
    "**Greetings:** Start with the list you used in Question 11, but instead of just printing each person’s name, print a message to them. The text of each message should be the same, but each message should be personalized with the person’s name."
   ]
  },
  {
   "cell_type": "code",
   "execution_count": null,
   "id": "0f9afefe",
   "metadata": {},
   "outputs": [],
   "source": []
  },
  {
   "cell_type": "markdown",
   "id": "9d4937dd",
   "metadata": {},
   "source": [
    "## Question 13\n",
    "\n",
    "**Your Own List:** Think of your favorite mode of transportation, such as a motorcycle or a car, and make a list that stores several examples. Use your list to print a series of statements about these items, such as “I would like to own a Honda motorcycle.”"
   ]
  },
  {
   "cell_type": "code",
   "execution_count": null,
   "id": "25563b06",
   "metadata": {},
   "outputs": [],
   "source": []
  },
  {
   "cell_type": "markdown",
   "id": "e03dbce9",
   "metadata": {},
   "source": [
    "## Question 14\n",
    "\n",
    "**Guest List:** If you could invite anyone, living or deceased, to dinner, who would you invite? Make a list that includes at least three people you’d like to invite to dinner. Then use your list to print a message to each person, inviting them to dinner."
   ]
  },
  {
   "cell_type": "code",
   "execution_count": null,
   "id": "c1244038",
   "metadata": {},
   "outputs": [],
   "source": []
  },
  {
   "cell_type": "markdown",
   "id": "68db1dae",
   "metadata": {},
   "source": [
    "## Question 15\n",
    "\n",
    "**Changing Guest List:** You just heard that one of your guests can’t make the dinner, so you need to send out a new set of invitations. You’ll have to think of someone else to invite."
   ]
  },
  {
   "cell_type": "markdown",
   "id": "f86eb91e",
   "metadata": {},
   "source": [
    "Start with your program from Question 14. Add a print() call at the end of your program stating the name of the guest who can’t make it."
   ]
  },
  {
   "cell_type": "code",
   "execution_count": null,
   "id": "a8ebbbb6",
   "metadata": {},
   "outputs": [],
   "source": []
  },
  {
   "cell_type": "markdown",
   "id": "7789b4dc",
   "metadata": {},
   "source": [
    "Modify your list, replacing the name of the guest who can’t make it with the name of the new person you are inviting."
   ]
  },
  {
   "cell_type": "code",
   "execution_count": null,
   "id": "49e8ccfc",
   "metadata": {},
   "outputs": [],
   "source": []
  },
  {
   "cell_type": "markdown",
   "id": "412411b5",
   "metadata": {},
   "source": [
    "Print a second set of invitation messages, one for each person who is still in your list."
   ]
  },
  {
   "cell_type": "code",
   "execution_count": null,
   "id": "95ef5926",
   "metadata": {},
   "outputs": [],
   "source": []
  },
  {
   "cell_type": "markdown",
   "id": "7023a6f8",
   "metadata": {},
   "source": [
    "## Question 16\n",
    "\n",
    "**More Guests:** You just found a bigger dinner table, so now more space is available. Think of three more guests to invite to dinner."
   ]
  },
  {
   "cell_type": "markdown",
   "id": "480b648c",
   "metadata": {},
   "source": [
    "Start with your program from Question 14 or Question 15. Add a print() call to the end of your program informing people that you found a bigger dinner table."
   ]
  },
  {
   "cell_type": "code",
   "execution_count": null,
   "id": "a3ed44d8",
   "metadata": {},
   "outputs": [],
   "source": []
  },
  {
   "cell_type": "markdown",
   "id": "23ae47b4",
   "metadata": {},
   "source": [
    "Use insert() to add one new guest to the beginning of your list."
   ]
  },
  {
   "cell_type": "code",
   "execution_count": null,
   "id": "929ae0f4",
   "metadata": {},
   "outputs": [],
   "source": []
  },
  {
   "cell_type": "markdown",
   "id": "754443fe",
   "metadata": {},
   "source": [
    "Use insert() to add one new guest to the middle of your list."
   ]
  },
  {
   "cell_type": "code",
   "execution_count": null,
   "id": "f1b1509a",
   "metadata": {},
   "outputs": [],
   "source": []
  },
  {
   "cell_type": "markdown",
   "id": "f50c7467",
   "metadata": {},
   "source": [
    "Use append() to add one new guest to the end of your list."
   ]
  },
  {
   "cell_type": "code",
   "execution_count": null,
   "id": "e5010a22",
   "metadata": {},
   "outputs": [],
   "source": []
  },
  {
   "cell_type": "markdown",
   "id": "c97db936",
   "metadata": {},
   "source": [
    "Print a new set of invitation messages, one for each person in your list."
   ]
  },
  {
   "cell_type": "code",
   "execution_count": null,
   "id": "ad7ab46e",
   "metadata": {},
   "outputs": [],
   "source": []
  },
  {
   "cell_type": "markdown",
   "id": "a1c530c9",
   "metadata": {},
   "source": [
    "## Question 17\n",
    "\n",
    "**Shrinking Guest List:** You just found out that your new dinner table won’t arrive in time for the dinner, and you have space for only two guests.\n",
    "\n",
    "Start with your program from Question 16. Add a new line that prints a message saying that you can invite only two people for dinner."
   ]
  },
  {
   "cell_type": "code",
   "execution_count": null,
   "id": "45137bde",
   "metadata": {},
   "outputs": [],
   "source": []
  },
  {
   "cell_type": "markdown",
   "id": "51b19b8e",
   "metadata": {},
   "source": [
    "Use pop() to remove guests from your list one at a time until only two names remain in your list. Each time you pop a name from your list, print a message to that person letting them know you’re sorry you can’t invite them to dinner."
   ]
  },
  {
   "cell_type": "code",
   "execution_count": null,
   "id": "a115a2fe",
   "metadata": {},
   "outputs": [],
   "source": []
  },
  {
   "cell_type": "markdown",
   "id": "115ec43f",
   "metadata": {},
   "source": [
    "Print a message to each of the two people still on your list, letting them know they’re still invited."
   ]
  },
  {
   "cell_type": "code",
   "execution_count": null,
   "id": "97e7ed0a",
   "metadata": {},
   "outputs": [],
   "source": []
  },
  {
   "cell_type": "markdown",
   "id": "70fa63ea",
   "metadata": {},
   "source": [
    "Use del to remove the last two names from your list, so you have an empty list. Print your list to make sure you actually have an empty list at the end of your program."
   ]
  },
  {
   "cell_type": "code",
   "execution_count": null,
   "id": "656e9deb",
   "metadata": {},
   "outputs": [],
   "source": []
  },
  {
   "cell_type": "markdown",
   "id": "5620ad4f",
   "metadata": {},
   "source": [
    "## Question 18\n",
    "\n",
    "**Seeing the World:** Think of at least five places in the world you’d like to visit.\n",
    "\n",
    "Store the locations in a list. Make sure the list is not in alphabetical order."
   ]
  },
  {
   "cell_type": "code",
   "execution_count": null,
   "id": "60905fb7",
   "metadata": {},
   "outputs": [],
   "source": []
  },
  {
   "cell_type": "markdown",
   "id": "610b39b4",
   "metadata": {},
   "source": [
    "Print your list in its original order. Don’t worry about printing the list neatly, just print it as a raw Python list."
   ]
  },
  {
   "cell_type": "code",
   "execution_count": null,
   "id": "1f418cf1",
   "metadata": {},
   "outputs": [],
   "source": []
  },
  {
   "cell_type": "markdown",
   "id": "7af21ff3",
   "metadata": {},
   "source": [
    "Use sorted() to print your list in alphabetical order without modifying the actual list."
   ]
  },
  {
   "cell_type": "code",
   "execution_count": null,
   "id": "662388b4",
   "metadata": {},
   "outputs": [],
   "source": []
  },
  {
   "cell_type": "markdown",
   "id": "d7c8f0a9",
   "metadata": {},
   "source": [
    "Show that your list is still in its original order by printing it."
   ]
  },
  {
   "cell_type": "code",
   "execution_count": null,
   "id": "1ccc157d",
   "metadata": {},
   "outputs": [],
   "source": []
  },
  {
   "cell_type": "markdown",
   "id": "ba51c0a3",
   "metadata": {},
   "source": [
    "Use sorted() to print your list in reverse alphabetical order without changing the order of the original list."
   ]
  },
  {
   "cell_type": "code",
   "execution_count": null,
   "id": "b1001878",
   "metadata": {},
   "outputs": [],
   "source": []
  },
  {
   "cell_type": "markdown",
   "id": "35df6c13",
   "metadata": {},
   "source": [
    "Show that your list is still in its original order by printing it again."
   ]
  },
  {
   "cell_type": "code",
   "execution_count": null,
   "id": "36c361ae",
   "metadata": {},
   "outputs": [],
   "source": []
  },
  {
   "cell_type": "markdown",
   "id": "53553c85",
   "metadata": {},
   "source": [
    "Use reverse() to change the order of your list. Print the list to show that its order has changed."
   ]
  },
  {
   "cell_type": "code",
   "execution_count": null,
   "id": "c57b276a",
   "metadata": {},
   "outputs": [],
   "source": []
  },
  {
   "cell_type": "markdown",
   "id": "ae0e6c79",
   "metadata": {},
   "source": [
    "Use reverse() to change the order of your list again. Print the list to show it’s back to its original order."
   ]
  },
  {
   "cell_type": "code",
   "execution_count": null,
   "id": "8a1a15b6",
   "metadata": {},
   "outputs": [],
   "source": []
  },
  {
   "cell_type": "markdown",
   "id": "49bec68c",
   "metadata": {},
   "source": [
    "Use sort() to change your list so it’s stored in alphabetical order. Print the list to show that its order has been changed."
   ]
  },
  {
   "cell_type": "code",
   "execution_count": null,
   "id": "960745ac",
   "metadata": {},
   "outputs": [],
   "source": []
  },
  {
   "cell_type": "markdown",
   "id": "9ec97e37",
   "metadata": {},
   "source": [
    "Use sort() to change your list so it’s stored in reverse alphabetical order. Print the list to show that its order has changed."
   ]
  },
  {
   "cell_type": "code",
   "execution_count": null,
   "id": "a6b72c95",
   "metadata": {},
   "outputs": [],
   "source": []
  },
  {
   "cell_type": "markdown",
   "id": "1b05d6d1",
   "metadata": {},
   "source": [
    "## Question 19\n",
    "\n",
    "**Dinner Guests:** Working with one of the programs from Question 14 through Question 17, use len() to print a message indicating the number of people you are inviting to dinner."
   ]
  },
  {
   "cell_type": "code",
   "execution_count": null,
   "id": "5440eb69",
   "metadata": {},
   "outputs": [],
   "source": []
  },
  {
   "cell_type": "markdown",
   "id": "e5f17812",
   "metadata": {},
   "source": [
    "## Question 20\n",
    "\n",
    "**Every Function:** Think of something you could store in a list. For example, you could make a list of mountains, rivers, countries, cities, languages, or anything else you’d like. Write a program that creates a list containing these items and then uses each function introduced in this chapter at least once."
   ]
  },
  {
   "cell_type": "code",
   "execution_count": null,
   "id": "491b0135",
   "metadata": {},
   "outputs": [],
   "source": []
  }
 ],
 "metadata": {
  "jupytext": {
   "text_representation": {
    "extension": ".md",
    "format_name": "myst",
    "format_version": 0.13,
    "jupytext_version": "1.11.5"
   }
  },
  "kernelspec": {
   "display_name": "Python 3",
   "language": "python",
   "name": "python3"
  },
  "source_map": [
   12,
   18,
   23,
   29,
   31,
   37,
   39,
   45,
   47,
   53,
   55,
   65,
   67,
   74,
   76,
   83,
   85,
   97,
   99,
   105,
   107,
   114,
   116,
   123,
   125,
   131,
   133,
   139,
   141,
   147,
   149,
   155,
   159,
   161,
   165,
   167,
   171,
   173,
   179,
   183,
   185,
   189,
   191,
   195,
   197,
   201,
   203,
   207,
   209,
   217,
   219,
   223,
   225,
   229,
   231,
   235,
   237,
   245,
   247,
   251,
   253,
   257,
   259,
   263,
   265,
   269,
   271,
   275,
   277,
   281,
   283,
   287,
   289,
   293,
   295,
   299,
   301,
   307,
   309,
   315
  ]
 },
 "nbformat": 4,
 "nbformat_minor": 5
}