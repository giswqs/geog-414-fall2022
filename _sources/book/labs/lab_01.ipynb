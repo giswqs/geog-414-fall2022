{
 "cells": [
  {
   "cell_type": "markdown",
   "id": "c6467af2",
   "metadata": {},
   "source": [
    "# Lab 1\n",
    "\n",
    "**Firstname Lastname**"
   ]
  },
  {
   "cell_type": "code",
   "execution_count": null,
   "id": "f62292e8",
   "metadata": {},
   "outputs": [],
   "source": [
    "from datetime import datetime\n",
    "\n",
    "now = datetime.now()\n",
    "print(f\"Submitted time: {now}\")"
   ]
  },
  {
   "cell_type": "markdown",
   "id": "b980d1bc",
   "metadata": {},
   "source": [
    "## Question 1\n",
    "\n",
    "**Simple Message:** Assign a message to a variable, and then print that message."
   ]
  },
  {
   "cell_type": "code",
   "execution_count": null,
   "id": "c3159f30",
   "metadata": {},
   "outputs": [],
   "source": []
  },
  {
   "cell_type": "markdown",
   "id": "5c80bc88",
   "metadata": {},
   "source": [
    "## Question 2\n",
    "\n",
    "**Simple Messages:** Assign a message to a variable, and print that message. Then change the value of the variable to a new message, and print the new message."
   ]
  },
  {
   "cell_type": "code",
   "execution_count": null,
   "id": "216cb5b4",
   "metadata": {},
   "outputs": [],
   "source": []
  },
  {
   "cell_type": "markdown",
   "id": "aee17fa1",
   "metadata": {},
   "source": [
    "## Question 3\n",
    "\n",
    "**Personal Message:** Use a variable to represent a person’s name, and print a message to that person. Your message should be simple, such as, “Hello Eric, would you like to learn some Python today?”"
   ]
  },
  {
   "cell_type": "code",
   "execution_count": null,
   "id": "341b26dd",
   "metadata": {},
   "outputs": [],
   "source": []
  },
  {
   "cell_type": "markdown",
   "id": "f8a8713d",
   "metadata": {},
   "source": [
    "## Question 4\n",
    "\n",
    "**Name Cases:** Use a variable to represent a person’s name, and then print that person’s name in lowercase, uppercase, and title case."
   ]
  },
  {
   "cell_type": "code",
   "execution_count": null,
   "id": "8d6ab889",
   "metadata": {},
   "outputs": [],
   "source": []
  },
  {
   "cell_type": "markdown",
   "id": "2d16d76c",
   "metadata": {},
   "source": [
    "## Question 5\n",
    "\n",
    "**Famous Quote:** Find a quote from a famous person you admire. Print the quote and the name of its author. Your output should look something like the following, including the quotation marks:\n",
    "\n",
    "```text\n",
    "Albert Einstein once said, “A person who never made a mistake never tried anything new.”\n",
    "```"
   ]
  },
  {
   "cell_type": "code",
   "execution_count": null,
   "id": "77c504a3",
   "metadata": {},
   "outputs": [],
   "source": []
  },
  {
   "cell_type": "markdown",
   "id": "117c95f6",
   "metadata": {},
   "source": [
    "## Question 6\n",
    "\n",
    "**Famous Quote 2:** Repeat Exercise 2-5, but this time, represent the famous person’s name using a variable called famous_person. Then compose your message and represent it with a new variable called message. Print your\n",
    "message."
   ]
  },
  {
   "cell_type": "code",
   "execution_count": null,
   "id": "785a95e5",
   "metadata": {},
   "outputs": [],
   "source": []
  },
  {
   "cell_type": "markdown",
   "id": "a2d40b29",
   "metadata": {},
   "source": [
    "## Question 7\n",
    "\n",
    "**Stripping Names:** Use a variable to represent a person’s name, and include some whitespace characters at the beginning and end of the name. Make sure you use each character combination, \"\\t\" and \"\\n\", at least once.\n",
    "Print the name once, so the whitespace around the name is displayed. Then print the name using each of the three stripping functions, lstrip(), rstrip(), and strip()."
   ]
  },
  {
   "cell_type": "code",
   "execution_count": null,
   "id": "81175cd2",
   "metadata": {},
   "outputs": [],
   "source": []
  },
  {
   "cell_type": "markdown",
   "id": "740a4688",
   "metadata": {},
   "source": [
    "## Question 8\n",
    "\n",
    "**Number Eight:** Write addition, subtraction, multiplication, and division operations that each result in the number 8. Be sure to enclose your operations in print() calls to see the results. You should create four lines that look like this:\n",
    "\n",
    "```text\n",
    "print(5 + 3)\n",
    "```\n",
    "\n",
    "Your output should simply be four lines with the number 8 appearing once on each line."
   ]
  },
  {
   "cell_type": "code",
   "execution_count": null,
   "id": "210c0104",
   "metadata": {},
   "outputs": [],
   "source": []
  },
  {
   "cell_type": "markdown",
   "id": "5f9bd8ee",
   "metadata": {},
   "source": [
    "## Question 9\n",
    "\n",
    "**Favorite Number:** Use a variable to represent your favorite number. Then, using that variable, create a message that reveals your favorite number. Print that message."
   ]
  },
  {
   "cell_type": "code",
   "execution_count": null,
   "id": "04d163ca",
   "metadata": {},
   "outputs": [],
   "source": []
  },
  {
   "cell_type": "markdown",
   "id": "b99fad19",
   "metadata": {},
   "source": [
    "## Question 10\n",
    "\n",
    "**Adding Comments:** Choose two of the programs you’ve written, and add at least one comment to each. If you don’t have anything specific to write because your programs are too simple at this point, just add your name and\n",
    "the current date at the top of each program file. Then write one sentence describing what the program does."
   ]
  },
  {
   "cell_type": "code",
   "execution_count": null,
   "id": "1fd8c404",
   "metadata": {},
   "outputs": [],
   "source": []
  },
  {
   "cell_type": "markdown",
   "id": "8fa47017",
   "metadata": {},
   "source": [
    "## Question 11\n",
    "\n",
    "**Names:** Store the names of a few of your friends in a list called names. Print\n",
    "each person’s name by accessing each element in the list, one at a time."
   ]
  },
  {
   "cell_type": "code",
   "execution_count": null,
   "id": "785ef46b",
   "metadata": {},
   "outputs": [],
   "source": []
  },
  {
   "cell_type": "markdown",
   "id": "37b38c12",
   "metadata": {},
   "source": [
    "## Question 12\n",
    "\n",
    "**Greetings:** Start with the list you used in Question 11, but instead of just printing each person’s name, print a message to them. The text of each message should be the same, but each message should be personalized with the person’s name."
   ]
  },
  {
   "cell_type": "code",
   "execution_count": null,
   "id": "24d81021",
   "metadata": {},
   "outputs": [],
   "source": []
  },
  {
   "cell_type": "markdown",
   "id": "7957ced8",
   "metadata": {},
   "source": [
    "## Question 13\n",
    "\n",
    "**Your Own List:** Think of your favorite mode of transportation, such as a motorcycle or a car, and make a list that stores several examples. Use your list to print a series of statements about these items, such as “I would like to own a Honda motorcycle.”"
   ]
  },
  {
   "cell_type": "code",
   "execution_count": null,
   "id": "526b44f9",
   "metadata": {},
   "outputs": [],
   "source": []
  },
  {
   "cell_type": "markdown",
   "id": "76752f0d",
   "metadata": {},
   "source": [
    "## Question 14\n",
    "\n",
    "**Guest List:** If you could invite anyone, living or deceased, to dinner, who would you invite? Make a list that includes at least three people you’d like to invite to dinner. Then use your list to print a message to each person, inviting them to dinner."
   ]
  },
  {
   "cell_type": "code",
   "execution_count": null,
   "id": "9240fa54",
   "metadata": {},
   "outputs": [],
   "source": []
  },
  {
   "cell_type": "markdown",
   "id": "56348741",
   "metadata": {},
   "source": [
    "## Question 15\n",
    "\n",
    "**Changing Guest List:** You just heard that one of your guests can’t make the dinner, so you need to send out a new set of invitations. You’ll have to think of someone else to invite."
   ]
  },
  {
   "cell_type": "markdown",
   "id": "d5ae2fae",
   "metadata": {},
   "source": [
    "Start with your program from Question 14. Add a print() call at the end of your program stating the name of the guest who can’t make it."
   ]
  },
  {
   "cell_type": "code",
   "execution_count": null,
   "id": "64f6b65e",
   "metadata": {},
   "outputs": [],
   "source": []
  },
  {
   "cell_type": "markdown",
   "id": "b85b97c0",
   "metadata": {},
   "source": [
    "Modify your list, replacing the name of the guest who can’t make it with the name of the new person you are inviting."
   ]
  },
  {
   "cell_type": "code",
   "execution_count": null,
   "id": "8ebd3b2a",
   "metadata": {},
   "outputs": [],
   "source": []
  },
  {
   "cell_type": "markdown",
   "id": "c17b7594",
   "metadata": {},
   "source": [
    "Print a second set of invitation messages, one for each person who is still in your list."
   ]
  },
  {
   "cell_type": "code",
   "execution_count": null,
   "id": "61ab7ed7",
   "metadata": {},
   "outputs": [],
   "source": []
  },
  {
   "cell_type": "markdown",
   "id": "c36fcfa9",
   "metadata": {},
   "source": [
    "## Question 16\n",
    "\n",
    "**More Guests:** You just found a bigger dinner table, so now more space is available. Think of three more guests to invite to dinner."
   ]
  },
  {
   "cell_type": "markdown",
   "id": "078b57d1",
   "metadata": {},
   "source": [
    "Start with your program from Question 14 or Question 15. Add a print() call to the end of your program informing people that you found a bigger dinner table."
   ]
  },
  {
   "cell_type": "code",
   "execution_count": null,
   "id": "3f723aa7",
   "metadata": {},
   "outputs": [],
   "source": []
  },
  {
   "cell_type": "markdown",
   "id": "2f9b0fcd",
   "metadata": {},
   "source": [
    "Use insert() to add one new guest to the beginning of your list."
   ]
  },
  {
   "cell_type": "code",
   "execution_count": null,
   "id": "04226ffb",
   "metadata": {},
   "outputs": [],
   "source": []
  },
  {
   "cell_type": "markdown",
   "id": "361209c8",
   "metadata": {},
   "source": [
    "Use insert() to add one new guest to the middle of your list."
   ]
  },
  {
   "cell_type": "code",
   "execution_count": null,
   "id": "3b734916",
   "metadata": {},
   "outputs": [],
   "source": []
  },
  {
   "cell_type": "markdown",
   "id": "f701dbaa",
   "metadata": {},
   "source": [
    "Use append() to add one new guest to the end of your list."
   ]
  },
  {
   "cell_type": "code",
   "execution_count": null,
   "id": "58dd2a33",
   "metadata": {},
   "outputs": [],
   "source": []
  },
  {
   "cell_type": "markdown",
   "id": "fe613619",
   "metadata": {},
   "source": [
    "Print a new set of invitation messages, one for each person in your list."
   ]
  },
  {
   "cell_type": "code",
   "execution_count": null,
   "id": "902b84bf",
   "metadata": {},
   "outputs": [],
   "source": []
  },
  {
   "cell_type": "markdown",
   "id": "79187db9",
   "metadata": {},
   "source": [
    "## Question 17\n",
    "\n",
    "**Shrinking Guest List:** You just found out that your new dinner table won’t arrive in time for the dinner, and you have space for only two guests.\n",
    "\n",
    "Start with your program from Question 16. Add a new line that prints a message saying that you can invite only two people for dinner."
   ]
  },
  {
   "cell_type": "code",
   "execution_count": null,
   "id": "58eda324",
   "metadata": {},
   "outputs": [],
   "source": []
  },
  {
   "cell_type": "markdown",
   "id": "88337e17",
   "metadata": {},
   "source": [
    "Use pop() to remove guests from your list one at a time until only two names remain in your list. Each time you pop a name from your list, print a message to that person letting them know you’re sorry you can’t invite them to dinner."
   ]
  },
  {
   "cell_type": "code",
   "execution_count": null,
   "id": "f3f69867",
   "metadata": {},
   "outputs": [],
   "source": []
  },
  {
   "cell_type": "markdown",
   "id": "92d3942c",
   "metadata": {},
   "source": [
    "Print a message to each of the two people still on your list, letting them know they’re still invited."
   ]
  },
  {
   "cell_type": "code",
   "execution_count": null,
   "id": "7dab5714",
   "metadata": {},
   "outputs": [],
   "source": []
  },
  {
   "cell_type": "markdown",
   "id": "03253719",
   "metadata": {},
   "source": [
    "Use del to remove the last two names from your list, so you have an empty list. Print your list to make sure you actually have an empty list at the end of your program."
   ]
  },
  {
   "cell_type": "code",
   "execution_count": null,
   "id": "b095cca1",
   "metadata": {},
   "outputs": [],
   "source": []
  },
  {
   "cell_type": "markdown",
   "id": "03adbc80",
   "metadata": {},
   "source": [
    "## Question 18\n",
    "\n",
    "**Seeing the World:** Think of at least five places in the world you’d like to visit.\n",
    "\n",
    "Store the locations in a list. Make sure the list is not in alphabetical order."
   ]
  },
  {
   "cell_type": "code",
   "execution_count": null,
   "id": "200887f7",
   "metadata": {},
   "outputs": [],
   "source": []
  },
  {
   "cell_type": "markdown",
   "id": "58b6259f",
   "metadata": {},
   "source": [
    "Print your list in its original order. Don’t worry about printing the list neatly, just print it as a raw Python list."
   ]
  },
  {
   "cell_type": "code",
   "execution_count": null,
   "id": "de25b293",
   "metadata": {},
   "outputs": [],
   "source": []
  },
  {
   "cell_type": "markdown",
   "id": "045b769b",
   "metadata": {},
   "source": [
    "Use sorted() to print your list in alphabetical order without modifying the actual list."
   ]
  },
  {
   "cell_type": "code",
   "execution_count": null,
   "id": "4e787db6",
   "metadata": {},
   "outputs": [],
   "source": []
  },
  {
   "cell_type": "markdown",
   "id": "895eb1e1",
   "metadata": {},
   "source": [
    "Show that your list is still in its original order by printing it."
   ]
  },
  {
   "cell_type": "code",
   "execution_count": null,
   "id": "ac0e00cd",
   "metadata": {},
   "outputs": [],
   "source": []
  },
  {
   "cell_type": "markdown",
   "id": "88cabf64",
   "metadata": {},
   "source": [
    "Use sorted() to print your list in reverse alphabetical order without changing the order of the original list."
   ]
  },
  {
   "cell_type": "code",
   "execution_count": null,
   "id": "3285ad73",
   "metadata": {},
   "outputs": [],
   "source": []
  },
  {
   "cell_type": "markdown",
   "id": "31880448",
   "metadata": {},
   "source": [
    "Show that your list is still in its original order by printing it again."
   ]
  },
  {
   "cell_type": "code",
   "execution_count": null,
   "id": "31d5b515",
   "metadata": {},
   "outputs": [],
   "source": []
  },
  {
   "cell_type": "markdown",
   "id": "313ba844",
   "metadata": {},
   "source": [
    "Use reverse() to change the order of your list. Print the list to show that its order has changed."
   ]
  },
  {
   "cell_type": "code",
   "execution_count": null,
   "id": "2c61446f",
   "metadata": {},
   "outputs": [],
   "source": []
  },
  {
   "cell_type": "markdown",
   "id": "581bcc72",
   "metadata": {},
   "source": [
    "Use reverse() to change the order of your list again. Print the list to show it’s back to its original order."
   ]
  },
  {
   "cell_type": "code",
   "execution_count": null,
   "id": "bade371d",
   "metadata": {},
   "outputs": [],
   "source": []
  },
  {
   "cell_type": "markdown",
   "id": "f2f15ca3",
   "metadata": {},
   "source": [
    "Use sort() to change your list so it’s stored in alphabetical order. Print the list to show that its order has been changed."
   ]
  },
  {
   "cell_type": "code",
   "execution_count": null,
   "id": "79016705",
   "metadata": {},
   "outputs": [],
   "source": []
  },
  {
   "cell_type": "markdown",
   "id": "5d6f7a21",
   "metadata": {},
   "source": [
    "Use sort() to change your list so it’s stored in reverse alphabetical order. Print the list to show that its order has changed."
   ]
  },
  {
   "cell_type": "code",
   "execution_count": null,
   "id": "676ac4de",
   "metadata": {},
   "outputs": [],
   "source": []
  },
  {
   "cell_type": "markdown",
   "id": "1f0f441f",
   "metadata": {},
   "source": [
    "## Question 19\n",
    "\n",
    "**Dinner Guests:** Working with one of the programs from Question 14 through Question 17, use len() to print a message indicating the number of people you are inviting to dinner."
   ]
  },
  {
   "cell_type": "code",
   "execution_count": null,
   "id": "059f8625",
   "metadata": {},
   "outputs": [],
   "source": []
  },
  {
   "cell_type": "markdown",
   "id": "07e10638",
   "metadata": {},
   "source": [
    "## Question 20\n",
    "\n",
    "**Every Function:** Think of something you could store in a list. For example, you could make a list of mountains, rivers, countries, cities, languages, or anything else you’d like. Write a program that creates a list containing these items and then uses each function introduced in this chapter at least once."
   ]
  },
  {
   "cell_type": "code",
   "execution_count": null,
   "id": "3d057020",
   "metadata": {},
   "outputs": [],
   "source": []
  }
 ],
 "metadata": {
  "jupytext": {
   "text_representation": {
    "extension": ".md",
    "format_name": "myst",
    "format_version": 0.13,
    "jupytext_version": "1.11.5"
   }
  },
  "kernelspec": {
   "display_name": "Python 3",
   "language": "python",
   "name": "python3"
  },
  "source_map": [
   12,
   18,
   23,
   29,
   31,
   37,
   39,
   45,
   47,
   53,
   55,
   65,
   67,
   74,
   76,
   83,
   85,
   97,
   99,
   105,
   107,
   114,
   116,
   123,
   125,
   131,
   133,
   139,
   141,
   147,
   149,
   155,
   159,
   161,
   165,
   167,
   171,
   173,
   179,
   183,
   185,
   189,
   191,
   195,
   197,
   201,
   203,
   207,
   209,
   217,
   219,
   223,
   225,
   229,
   231,
   235,
   237,
   245,
   247,
   251,
   253,
   257,
   259,
   263,
   265,
   269,
   271,
   275,
   277,
   281,
   283,
   287,
   289,
   293,
   295,
   299,
   301,
   307,
   309,
   315
  ]
 },
 "nbformat": 4,
 "nbformat_minor": 5
}