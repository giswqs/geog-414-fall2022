{
 "cells": [
  {
   "cell_type": "markdown",
   "id": "d9a0d771",
   "metadata": {},
   "source": [
    "# Lab 9\n",
    "\n",
    "**Firstname Lastname**"
   ]
  },
  {
   "cell_type": "code",
   "execution_count": null,
   "id": "347b59da",
   "metadata": {},
   "outputs": [],
   "source": [
    "from datetime import datetime\n",
    "\n",
    "now = datetime.now()\n",
    "print(f\"Submitted time: {now}\")"
   ]
  },
  {
   "cell_type": "code",
   "execution_count": null,
   "id": "f104bbc6",
   "metadata": {},
   "outputs": [],
   "source": [
    "# !pip install geemap"
   ]
  },
  {
   "cell_type": "code",
   "execution_count": null,
   "id": "b4afaf7c",
   "metadata": {},
   "outputs": [],
   "source": [
    "import ee\n",
    "import geemap"
   ]
  },
  {
   "cell_type": "code",
   "execution_count": null,
   "id": "6d31e059",
   "metadata": {},
   "outputs": [],
   "source": [
    "geemap.ee_initialize()"
   ]
  },
  {
   "cell_type": "markdown",
   "id": "7e72dd61",
   "metadata": {
    "tags": []
   },
   "source": [
    "## Question 1\n",
    "\n",
    "Use the following datasets to create an interactive map with two layers: the elevation layer for Tennessee and county boundary layer for Tennessee. Add a color bar for the elevation layer.\n",
    "\n",
    "\n",
    "- [US Census Counties](https://developers.google.com/earth-engine/datasets/catalog/TIGER_2018_Counties): `ee.FeatureCollection('TIGER/2018/Counties')`\n",
    "- [NASA SRTM Digital Elevation 30m](https://developers.google.com/earth-engine/datasets/catalog/USGS_SRTMGL1_003): `ee.Image(\"USGS/SRTMGL1_003\")`"
   ]
  },
  {
   "cell_type": "code",
   "execution_count": null,
   "id": "2fd605f1",
   "metadata": {},
   "outputs": [],
   "source": []
  },
  {
   "cell_type": "code",
   "execution_count": null,
   "id": "e621c126",
   "metadata": {},
   "outputs": [],
   "source": []
  },
  {
   "cell_type": "markdown",
   "id": "61f38c7d",
   "metadata": {},
   "source": [
    "![](https://i.imgur.com/wzUOUXj.png)"
   ]
  },
  {
   "cell_type": "markdown",
   "id": "c787775b",
   "metadata": {},
   "source": [
    "## Question 2\n",
    "\n",
    "Use zonal statistics to find out the mean elevation of each county in Tennessee. Create a bar chart to show the mean elevation of counties in Tennessee."
   ]
  },
  {
   "cell_type": "code",
   "execution_count": null,
   "id": "71172a48",
   "metadata": {},
   "outputs": [],
   "source": []
  },
  {
   "cell_type": "code",
   "execution_count": null,
   "id": "fa2635ae",
   "metadata": {},
   "outputs": [],
   "source": []
  },
  {
   "cell_type": "markdown",
   "id": "f786d438",
   "metadata": {},
   "source": [
    "![](https://i.imgur.com/RNFs8g9.png)"
   ]
  },
  {
   "cell_type": "markdown",
   "id": "c452fc60",
   "metadata": {},
   "source": [
    "## Question 3\n",
    "\n",
    "Select the top 3 counties with the highest mean elevation and highlight them on the map (e.g., adding as a new layer)."
   ]
  },
  {
   "cell_type": "code",
   "execution_count": null,
   "id": "3fe01872",
   "metadata": {},
   "outputs": [],
   "source": []
  },
  {
   "cell_type": "code",
   "execution_count": null,
   "id": "7e883dc0",
   "metadata": {},
   "outputs": [],
   "source": []
  },
  {
   "cell_type": "markdown",
   "id": "b969480d",
   "metadata": {},
   "source": [
    "![](https://i.imgur.com/aANMfGi.png)"
   ]
  },
  {
   "cell_type": "markdown",
   "id": "0d429c59",
   "metadata": {},
   "source": [
    "## Question 4\n",
    "\n",
    "Use the following datasets to create an interactive map with two layers: the landcover layer for Tennessee and the county boundary layer for tennessee. Add the corresponding legend for the land cover layer. \n",
    "\n",
    " - [ESA WorldCover 10m](https://developers.google.com/earth-engine/datasets/catalog/ESA_WorldCover_v100): `ee.ImageCollection(\"ESA/WorldCover/v100\")`\n",
    " - [US Census Counties](https://developers.google.com/earth-engine/datasets/catalog/TIGER_2018_Counties): `ee.FeatureCollection('TIGER/2018/Counties')`"
   ]
  },
  {
   "cell_type": "code",
   "execution_count": null,
   "id": "b1895155",
   "metadata": {},
   "outputs": [],
   "source": []
  },
  {
   "cell_type": "code",
   "execution_count": null,
   "id": "d8f56937",
   "metadata": {},
   "outputs": [],
   "source": []
  },
  {
   "cell_type": "markdown",
   "id": "0a210429",
   "metadata": {},
   "source": [
    "![](https://i.imgur.com/UTdjvX8.png)"
   ]
  },
  {
   "cell_type": "markdown",
   "id": "caf2d09a",
   "metadata": {},
   "source": [
    "## Question 5\n",
    "\n",
    "Use zonal statistics by group to find out the cropland area by county. Create a bar chart and pie chart to show the cropland area by county."
   ]
  },
  {
   "cell_type": "code",
   "execution_count": null,
   "id": "f83bb86a",
   "metadata": {},
   "outputs": [],
   "source": []
  },
  {
   "cell_type": "code",
   "execution_count": null,
   "id": "9c043001",
   "metadata": {},
   "outputs": [],
   "source": []
  },
  {
   "cell_type": "markdown",
   "id": "d55881f4",
   "metadata": {},
   "source": [
    "![](https://i.imgur.com/5JZEBGM.png)"
   ]
  },
  {
   "cell_type": "code",
   "execution_count": null,
   "id": "3d17f218",
   "metadata": {},
   "outputs": [],
   "source": []
  },
  {
   "cell_type": "markdown",
   "id": "5c73e762",
   "metadata": {},
   "source": [
    "![](https://i.imgur.com/5UFWnfF.png)"
   ]
  }
 ],
 "metadata": {
  "jupytext": {
   "text_representation": {
    "extension": ".md",
    "format_name": "myst",
    "format_version": 0.13,
    "jupytext_version": "1.14.1"
   }
  },
  "kernelspec": {
   "display_name": "Python 3",
   "language": "python",
   "name": "python3"
  },
  "source_map": [
   12,
   18,
   25,
   29,
   34,
   38,
   48,
   52,
   54,
   58,
   64,
   68,
   70,
   74,
   80,
   84,
   86,
   90,
   99,
   103,
   105,
   109,
   115,
   119,
   121,
   125,
   127
  ]
 },
 "nbformat": 4,
 "nbformat_minor": 5
}