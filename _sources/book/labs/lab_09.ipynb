{
 "cells": [
  {
   "cell_type": "markdown",
   "id": "35492cd9",
   "metadata": {},
   "source": [
    "# Lab 9\n",
    "\n",
    "**Firstname Lastname**"
   ]
  },
  {
   "cell_type": "code",
   "execution_count": null,
   "id": "524e053e",
   "metadata": {},
   "outputs": [],
   "source": [
    "from datetime import datetime\n",
    "\n",
    "now = datetime.now()\n",
    "print(f\"Submitted time: {now}\")"
   ]
  },
  {
   "cell_type": "code",
   "execution_count": null,
   "id": "186f0c3a",
   "metadata": {},
   "outputs": [],
   "source": [
    "# !pip install geemap"
   ]
  },
  {
   "cell_type": "code",
   "execution_count": null,
   "id": "1325bdbb",
   "metadata": {},
   "outputs": [],
   "source": [
    "import ee\n",
    "import geemap"
   ]
  },
  {
   "cell_type": "code",
   "execution_count": null,
   "id": "832a4aa3",
   "metadata": {},
   "outputs": [],
   "source": [
    "geemap.ee_initialize()"
   ]
  },
  {
   "cell_type": "markdown",
   "id": "b57aa177",
   "metadata": {
    "tags": []
   },
   "source": [
    "## Question 1\n",
    "\n",
    "Use the following datasets to create an interactive map with two layers: the elevation layer for Tennessee and county boundary layer for Tennessee. Add a color bar for the elevation layer.\n",
    "\n",
    "\n",
    "- [US Census Counties](https://developers.google.com/earth-engine/datasets/catalog/TIGER_2018_Counties): `ee.FeatureCollection('TIGER/2018/Counties')`\n",
    "- [NASA SRTM Digital Elevation 30m](https://developers.google.com/earth-engine/datasets/catalog/USGS_SRTMGL1_003): `ee.Image(\"USGS/SRTMGL1_003\")`"
   ]
  },
  {
   "cell_type": "code",
   "execution_count": null,
   "id": "4a34fcca",
   "metadata": {},
   "outputs": [],
   "source": []
  },
  {
   "cell_type": "code",
   "execution_count": null,
   "id": "902db82d",
   "metadata": {},
   "outputs": [],
   "source": []
  },
  {
   "cell_type": "markdown",
   "id": "c624e9c1",
   "metadata": {},
   "source": [
    "![](https://i.imgur.com/wzUOUXj.png)"
   ]
  },
  {
   "cell_type": "markdown",
   "id": "0a21034b",
   "metadata": {},
   "source": [
    "## Question 2\n",
    "\n",
    "Use zonal statistics to find out the mean elevation of each county in Tennessee. Create a bar chart to show the mean elevation of counties in Tennessee."
   ]
  },
  {
   "cell_type": "code",
   "execution_count": null,
   "id": "ce9b5dc3",
   "metadata": {},
   "outputs": [],
   "source": []
  },
  {
   "cell_type": "code",
   "execution_count": null,
   "id": "2fd8f518",
   "metadata": {},
   "outputs": [],
   "source": []
  },
  {
   "cell_type": "markdown",
   "id": "3d9a2a88",
   "metadata": {},
   "source": [
    "![](https://i.imgur.com/RNFs8g9.png)"
   ]
  },
  {
   "cell_type": "markdown",
   "id": "76404196",
   "metadata": {},
   "source": [
    "## Question 3\n",
    "\n",
    "Select the top 3 counties with the highest mean elevation and highlight them on the map (e.g., adding as a new layer)."
   ]
  },
  {
   "cell_type": "code",
   "execution_count": null,
   "id": "4164d95e",
   "metadata": {},
   "outputs": [],
   "source": []
  },
  {
   "cell_type": "code",
   "execution_count": null,
   "id": "58221933",
   "metadata": {},
   "outputs": [],
   "source": []
  },
  {
   "cell_type": "markdown",
   "id": "1d4141e0",
   "metadata": {},
   "source": [
    "![](https://i.imgur.com/aANMfGi.png)"
   ]
  },
  {
   "cell_type": "markdown",
   "id": "716bc212",
   "metadata": {},
   "source": [
    "## Question 4\n",
    "\n",
    "Use the following datasets to create an interactive map with two layers: the landcover layer for Tennessee and the county boundary layer for tennessee. Add the corresponding legend for the land cover layer. \n",
    "\n",
    " - [ESA WorldCover 10m](https://developers.google.com/earth-engine/datasets/catalog/ESA_WorldCover_v100): `ee.ImageCollection(\"ESA/WorldCover/v100\")`\n",
    " - [US Census Counties](https://developers.google.com/earth-engine/datasets/catalog/TIGER_2018_Counties): `ee.FeatureCollection('TIGER/2018/Counties')`"
   ]
  },
  {
   "cell_type": "code",
   "execution_count": null,
   "id": "83232d49",
   "metadata": {},
   "outputs": [],
   "source": []
  },
  {
   "cell_type": "code",
   "execution_count": null,
   "id": "4095c2d3",
   "metadata": {},
   "outputs": [],
   "source": []
  },
  {
   "cell_type": "markdown",
   "id": "7cccf481",
   "metadata": {},
   "source": [
    "![](https://i.imgur.com/UTdjvX8.png)"
   ]
  },
  {
   "cell_type": "markdown",
   "id": "d8be03cd",
   "metadata": {},
   "source": [
    "## Question 5\n",
    "\n",
    "Use zonal statistics by group to find out the cropland area by county. Create a bar chart and pie chart to show the cropland area by county."
   ]
  },
  {
   "cell_type": "code",
   "execution_count": null,
   "id": "bcf2504b",
   "metadata": {},
   "outputs": [],
   "source": []
  },
  {
   "cell_type": "code",
   "execution_count": null,
   "id": "d167f101",
   "metadata": {},
   "outputs": [],
   "source": []
  },
  {
   "cell_type": "markdown",
   "id": "566ab02e",
   "metadata": {},
   "source": [
    "![](https://i.imgur.com/5JZEBGM.png)"
   ]
  },
  {
   "cell_type": "code",
   "execution_count": null,
   "id": "9c23b2a1",
   "metadata": {},
   "outputs": [],
   "source": []
  },
  {
   "cell_type": "markdown",
   "id": "c168aa2e",
   "metadata": {},
   "source": [
    "![](https://i.imgur.com/5UFWnfF.png)"
   ]
  }
 ],
 "metadata": {
  "jupytext": {
   "text_representation": {
    "extension": ".md",
    "format_name": "myst",
    "format_version": 0.13,
    "jupytext_version": "1.14.1"
   }
  },
  "kernelspec": {
   "display_name": "Python 3",
   "language": "python",
   "name": "python3"
  },
  "source_map": [
   12,
   18,
   25,
   29,
   34,
   38,
   48,
   52,
   54,
   58,
   64,
   68,
   70,
   74,
   80,
   84,
   86,
   90,
   99,
   103,
   105,
   109,
   115,
   119,
   121,
   125,
   127
  ]
 },
 "nbformat": 4,
 "nbformat_minor": 5
}