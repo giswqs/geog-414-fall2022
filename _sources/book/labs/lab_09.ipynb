{
 "cells": [
  {
   "cell_type": "markdown",
   "id": "f935092b",
   "metadata": {},
   "source": [
    "# Lab 9\n",
    "\n",
    "**Firstname Lastname**"
   ]
  },
  {
   "cell_type": "code",
   "execution_count": null,
   "id": "50c3be29",
   "metadata": {},
   "outputs": [],
   "source": [
    "from datetime import datetime\n",
    "\n",
    "now = datetime.now()\n",
    "print(f\"Submitted time: {now}\")"
   ]
  },
  {
   "cell_type": "code",
   "execution_count": null,
   "id": "8cd96848",
   "metadata": {},
   "outputs": [],
   "source": [
    "# !pip install geemap"
   ]
  },
  {
   "cell_type": "code",
   "execution_count": null,
   "id": "4a16b597",
   "metadata": {},
   "outputs": [],
   "source": [
    "import ee\n",
    "import geemap"
   ]
  },
  {
   "cell_type": "code",
   "execution_count": null,
   "id": "7fb762dd",
   "metadata": {},
   "outputs": [],
   "source": [
    "geemap.ee_initialize()"
   ]
  },
  {
   "cell_type": "markdown",
   "id": "2f49d0e2",
   "metadata": {
    "tags": []
   },
   "source": [
    "## Question 1\n",
    "\n",
    "Use the following datasets to create an interactive map with two layers: the elevation layer for Tennessee and county boundary layer for Tennessee. Add a color bar for the elevation layer.\n",
    "\n",
    "\n",
    "- [US Census Counties](https://developers.google.com/earth-engine/datasets/catalog/TIGER_2018_Counties): `ee.FeatureCollection('TIGER/2018/Counties')`\n",
    "- [NASA SRTM Digital Elevation 30m](https://developers.google.com/earth-engine/datasets/catalog/USGS_SRTMGL1_003): `ee.Image(\"USGS/SRTMGL1_003\")`"
   ]
  },
  {
   "cell_type": "code",
   "execution_count": null,
   "id": "4695f1da",
   "metadata": {},
   "outputs": [],
   "source": []
  },
  {
   "cell_type": "code",
   "execution_count": null,
   "id": "5be87396",
   "metadata": {},
   "outputs": [],
   "source": []
  },
  {
   "cell_type": "markdown",
   "id": "d27dde75",
   "metadata": {},
   "source": [
    "![](https://i.imgur.com/wzUOUXj.png)"
   ]
  },
  {
   "cell_type": "markdown",
   "id": "bfbcb99c",
   "metadata": {},
   "source": [
    "## Question 2\n",
    "\n",
    "Use zonal statistics to find out the mean elevation of each county in Tennessee. Create a bar chart to show the mean elevation of counties in Tennessee."
   ]
  },
  {
   "cell_type": "code",
   "execution_count": null,
   "id": "daaa4364",
   "metadata": {},
   "outputs": [],
   "source": []
  },
  {
   "cell_type": "code",
   "execution_count": null,
   "id": "513528eb",
   "metadata": {},
   "outputs": [],
   "source": []
  },
  {
   "cell_type": "markdown",
   "id": "76ce3c45",
   "metadata": {},
   "source": [
    "![](https://i.imgur.com/RNFs8g9.png)"
   ]
  },
  {
   "cell_type": "markdown",
   "id": "84c25632",
   "metadata": {},
   "source": [
    "## Question 3\n",
    "\n",
    "Select the top 3 counties with the highest mean elevation and highlight them on the map (e.g., adding as a new layer)."
   ]
  },
  {
   "cell_type": "code",
   "execution_count": null,
   "id": "674a8f53",
   "metadata": {},
   "outputs": [],
   "source": []
  },
  {
   "cell_type": "code",
   "execution_count": null,
   "id": "0473c5e4",
   "metadata": {},
   "outputs": [],
   "source": []
  },
  {
   "cell_type": "markdown",
   "id": "a9898b44",
   "metadata": {},
   "source": [
    "![](https://i.imgur.com/aANMfGi.png)"
   ]
  },
  {
   "cell_type": "markdown",
   "id": "9ac94e4b",
   "metadata": {},
   "source": [
    "## Question 4\n",
    "\n",
    "Use the following datasets to create an interactive map with two layers: the landcover layer for Tennessee and the county boundary layer for tennessee. Add the corresponding legend for the land cover layer. \n",
    "\n",
    " - [ESA WorldCover 10m](https://developers.google.com/earth-engine/datasets/catalog/ESA_WorldCover_v100): `ee.ImageCollection(\"ESA/WorldCover/v100\")`\n",
    " - [US Census Counties](https://developers.google.com/earth-engine/datasets/catalog/TIGER_2018_Counties): `ee.FeatureCollection('TIGER/2018/Counties')`"
   ]
  },
  {
   "cell_type": "code",
   "execution_count": null,
   "id": "3bc32f40",
   "metadata": {},
   "outputs": [],
   "source": []
  },
  {
   "cell_type": "code",
   "execution_count": null,
   "id": "1d170f23",
   "metadata": {},
   "outputs": [],
   "source": []
  },
  {
   "cell_type": "markdown",
   "id": "d45539f4",
   "metadata": {},
   "source": [
    "![](https://i.imgur.com/UTdjvX8.png)"
   ]
  },
  {
   "cell_type": "markdown",
   "id": "6a058370",
   "metadata": {},
   "source": [
    "## Question 5\n",
    "\n",
    "Use zonal statistics by group to find out the cropland area by county. Create a bar chart and pie chart to show the cropland area by county."
   ]
  },
  {
   "cell_type": "code",
   "execution_count": null,
   "id": "cbb5c77e",
   "metadata": {},
   "outputs": [],
   "source": []
  },
  {
   "cell_type": "code",
   "execution_count": null,
   "id": "15ec39e6",
   "metadata": {},
   "outputs": [],
   "source": []
  },
  {
   "cell_type": "markdown",
   "id": "b79d7b9c",
   "metadata": {},
   "source": [
    "![](https://i.imgur.com/5JZEBGM.png)"
   ]
  },
  {
   "cell_type": "code",
   "execution_count": null,
   "id": "e1c0d7ee",
   "metadata": {},
   "outputs": [],
   "source": []
  },
  {
   "cell_type": "markdown",
   "id": "e84d5233",
   "metadata": {},
   "source": [
    "![](https://i.imgur.com/5UFWnfF.png)"
   ]
  }
 ],
 "metadata": {
  "jupytext": {
   "text_representation": {
    "extension": ".md",
    "format_name": "myst",
    "format_version": 0.13,
    "jupytext_version": "1.14.1"
   }
  },
  "kernelspec": {
   "display_name": "Python 3",
   "language": "python",
   "name": "python3"
  },
  "source_map": [
   12,
   18,
   25,
   29,
   34,
   38,
   48,
   52,
   54,
   58,
   64,
   68,
   70,
   74,
   80,
   84,
   86,
   90,
   99,
   103,
   105,
   109,
   115,
   119,
   121,
   125,
   127
  ]
 },
 "nbformat": 4,
 "nbformat_minor": 5
}