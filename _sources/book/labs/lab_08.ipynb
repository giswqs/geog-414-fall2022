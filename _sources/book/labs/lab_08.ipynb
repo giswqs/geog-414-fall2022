{
 "cells": [
  {
   "cell_type": "markdown",
   "id": "2eaa2bbf",
   "metadata": {},
   "source": [
    "# Lab 8\n",
    "\n",
    "**Firstname Lastname**"
   ]
  },
  {
   "cell_type": "code",
   "execution_count": null,
   "id": "0b39a62a",
   "metadata": {},
   "outputs": [],
   "source": [
    "from datetime import datetime\n",
    "\n",
    "now = datetime.now()\n",
    "print(f\"Submitted time: {now}\")"
   ]
  },
  {
   "cell_type": "code",
   "execution_count": null,
   "id": "ef76dc32",
   "metadata": {},
   "outputs": [],
   "source": [
    "# !pip install geemap"
   ]
  },
  {
   "cell_type": "code",
   "execution_count": null,
   "id": "9cbc4b85",
   "metadata": {},
   "outputs": [],
   "source": [
    "import ee\n",
    "import geemap"
   ]
  },
  {
   "cell_type": "code",
   "execution_count": null,
   "id": "c128cebf",
   "metadata": {},
   "outputs": [],
   "source": [
    "geemap.ee_initialize()"
   ]
  },
  {
   "cell_type": "markdown",
   "id": "8a18800f",
   "metadata": {
    "tags": []
   },
   "source": [
    "## Question 1\n",
    "\n",
    "**Image Overlay:**  Create a map to visualize [NOAA GFS Temperature Data](https://developers.google.com/earth-engine/datasets/catalog/NOAA_GFS0P25) and add a color bar and [NOAA logo](https://www.noaa.gov/sites/default/files/2022-03/noaa_emblem_logo-2022.png) to the map."
   ]
  },
  {
   "cell_type": "code",
   "execution_count": null,
   "id": "159f4d0c",
   "metadata": {},
   "outputs": [],
   "source": []
  },
  {
   "cell_type": "code",
   "execution_count": null,
   "id": "3d39edaa",
   "metadata": {},
   "outputs": [],
   "source": []
  },
  {
   "cell_type": "markdown",
   "id": "efd3ec4e",
   "metadata": {},
   "source": [
    "![](https://i.imgur.com/G3z6JBA.png)"
   ]
  },
  {
   "cell_type": "markdown",
   "id": "799fd02b",
   "metadata": {},
   "source": [
    "## Question 2\n",
    "\n",
    "**Linked Maps:** Create a 2*2 linked map to visualize the Landsat imagery (`ee.Image('LANDSAT/LE7_TOA_5YEAR/1999_2003')`) with different band combinations."
   ]
  },
  {
   "cell_type": "code",
   "execution_count": null,
   "id": "613cb952",
   "metadata": {},
   "outputs": [],
   "source": []
  },
  {
   "cell_type": "code",
   "execution_count": null,
   "id": "c22f9bef",
   "metadata": {},
   "outputs": [],
   "source": []
  },
  {
   "cell_type": "markdown",
   "id": "20929e6d",
   "metadata": {},
   "source": [
    "![](https://i.imgur.com/QDNuFaS.gif)"
   ]
  },
  {
   "cell_type": "markdown",
   "id": "fc2e6f4a",
   "metadata": {},
   "source": [
    "## Question 3\n",
    "\n",
    "**Timeseries Inspector:** Create a map with timeseries inspector to visualize [USDA NASS Cropland Data Layers](https://developers.google.com/earth-engine/datasets/catalog/USDA_NASS_CDL) from 2010 to 2021."
   ]
  },
  {
   "cell_type": "code",
   "execution_count": null,
   "id": "6c002c25",
   "metadata": {},
   "outputs": [],
   "source": []
  },
  {
   "cell_type": "code",
   "execution_count": null,
   "id": "58929e87",
   "metadata": {},
   "outputs": [],
   "source": []
  },
  {
   "cell_type": "markdown",
   "id": "868b76f7",
   "metadata": {},
   "source": [
    "![](https://i.imgur.com/ZzkXB5g.gif)"
   ]
  },
  {
   "cell_type": "markdown",
   "id": "0bb344b1",
   "metadata": {},
   "source": [
    "## Question 4\n",
    "\n",
    "**Time slider:** Create a map with the time slider to visualize [Sentinel-2](https://developers.google.com/earth-engine/datasets/catalog/COPERNICUS_S2_SR) for Knoxville, TN."
   ]
  },
  {
   "cell_type": "code",
   "execution_count": null,
   "id": "4194c6b1",
   "metadata": {},
   "outputs": [],
   "source": []
  },
  {
   "cell_type": "code",
   "execution_count": null,
   "id": "e2a4e7ed",
   "metadata": {},
   "outputs": [],
   "source": []
  },
  {
   "cell_type": "markdown",
   "id": "704e767f",
   "metadata": {},
   "source": [
    "![](https://i.imgur.com/SCWDCQO.gif)"
   ]
  },
  {
   "cell_type": "markdown",
   "id": "d790d04c",
   "metadata": {},
   "source": [
    "## Question 5\n",
    "\n",
    "**Split-panel Map:** Use the following datasets to create a split-panel map for visualizing the ESA land cover data in the US. Add the ESA land cover legend to the map (Hint: the built-in legend for ESA land cover is `ESA_WorldCover`).\n",
    "\n",
    "- [US Census States](https://developers.google.com/earth-engine/datasets/catalog/TIGER_2018_States): `ee.FeatureCollection(\"TIGER/2018/States\")`\n",
    "- [ESA WorldCover 10m](https://developers.google.com/earth-engine/datasets/catalog/ESA_WorldCover_v100): `ee.ImageCollection(\"ESA/WorldCover/v100\")`\n",
    "- Landsat: `LANDSAT/LE7_TOA_5YEAR/1999_2003`"
   ]
  },
  {
   "cell_type": "markdown",
   "id": "11be2ed3",
   "metadata": {},
   "source": [
    "Currently, the split-map control of ipyleaflet plotting backend has a bug ([source](https://github.com/jupyter-widgets/ipyleaflet/issues/1066)). Use the folium plotting backend instead."
   ]
  },
  {
   "cell_type": "code",
   "execution_count": null,
   "id": "a573a140",
   "metadata": {},
   "outputs": [],
   "source": [
    "import geemap.foliumap as geemap  "
   ]
  },
  {
   "cell_type": "code",
   "execution_count": null,
   "id": "12b41853",
   "metadata": {},
   "outputs": [],
   "source": []
  },
  {
   "cell_type": "code",
   "execution_count": null,
   "id": "6fe6be1f",
   "metadata": {},
   "outputs": [],
   "source": []
  },
  {
   "cell_type": "markdown",
   "id": "1041c926",
   "metadata": {},
   "source": [
    "![](https://i.imgur.com/VUAT8tZ.gif)"
   ]
  }
 ],
 "metadata": {
  "jupytext": {
   "text_representation": {
    "extension": ".md",
    "format_name": "myst",
    "format_version": 0.13,
    "jupytext_version": "1.14.1"
   }
  },
  "kernelspec": {
   "display_name": "Python 3",
   "language": "python",
   "name": "python3"
  },
  "source_map": [
   12,
   18,
   25,
   29,
   34,
   38,
   44,
   48,
   50,
   54,
   60,
   64,
   66,
   70,
   76,
   80,
   82,
   86,
   92,
   96,
   98,
   102,
   112,
   116,
   120,
   124,
   126
  ]
 },
 "nbformat": 4,
 "nbformat_minor": 5
}