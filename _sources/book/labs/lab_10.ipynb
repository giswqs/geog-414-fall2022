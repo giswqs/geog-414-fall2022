{
 "cells": [
  {
   "cell_type": "markdown",
   "id": "8e7ef59e",
   "metadata": {},
   "source": [
    "# Lab 10\n",
    "\n",
    "**Firstname Lastname**"
   ]
  },
  {
   "cell_type": "code",
   "execution_count": null,
   "id": "8b63b962",
   "metadata": {},
   "outputs": [],
   "source": [
    "from datetime import datetime\n",
    "\n",
    "now = datetime.now()\n",
    "print(f\"Submitted time: {now}\")"
   ]
  },
  {
   "cell_type": "code",
   "execution_count": null,
   "id": "d07e195b",
   "metadata": {},
   "outputs": [],
   "source": [
    "# !pip install geemap"
   ]
  },
  {
   "cell_type": "code",
   "execution_count": null,
   "id": "9b0a0b0b",
   "metadata": {},
   "outputs": [],
   "source": [
    "import ee\n",
    "import geemap"
   ]
  },
  {
   "cell_type": "code",
   "execution_count": null,
   "id": "26e4f196",
   "metadata": {},
   "outputs": [],
   "source": [
    "geemap.ee_initialize()"
   ]
  },
  {
   "cell_type": "markdown",
   "id": "3f090c19",
   "metadata": {
    "tags": []
   },
   "source": [
    "## Question 1\n",
    "\n",
    "Use the following datasets to create a cloud-free imagery for Knox County, TN for the year of 2021.\n",
    "\n",
    "- [Sentinel-2 MSI](https://developers.google.com/earth-engine/datasets/catalog/COPERNICUS_S2_SR_HARMONIZED): `ee.ImageCollection(\"COPERNICUS/S2_SR_HARMONIZED\")`\n",
    "- [US Census Counties](https://developers.google.com/earth-engine/datasets/catalog/TIGER_2018_Counties): `ee.FeatureCollection('TIGER/2018/Counties')`"
   ]
  },
  {
   "cell_type": "code",
   "execution_count": null,
   "id": "bba5fc45",
   "metadata": {},
   "outputs": [],
   "source": []
  },
  {
   "cell_type": "code",
   "execution_count": null,
   "id": "fd1cfeef",
   "metadata": {},
   "outputs": [],
   "source": []
  },
  {
   "cell_type": "markdown",
   "id": "5535280f",
   "metadata": {},
   "source": [
    "![](https://i.imgur.com/82PY5uM.png)"
   ]
  },
  {
   "cell_type": "markdown",
   "id": "645d84e1",
   "metadata": {},
   "source": [
    "## Question 2\n",
    "\n",
    "Download the cloud-free imagery created in Question 1 to your computer. You might need to specify `region`, `scale`, and `crs` when downloading the imagery. If you are not sure about the `crs`, check the first image in the resulting collection like this:\n",
    "\n",
    "`collection.first().select(0).projection().getInfo()`"
   ]
  },
  {
   "cell_type": "code",
   "execution_count": null,
   "id": "5b134236",
   "metadata": {},
   "outputs": [],
   "source": []
  },
  {
   "cell_type": "code",
   "execution_count": null,
   "id": "0c34b82b",
   "metadata": {},
   "outputs": [],
   "source": []
  },
  {
   "cell_type": "markdown",
   "id": "dca3a350",
   "metadata": {},
   "source": [
    "## Question 3\n",
    "\n",
    "Create a fishnet of 5 rows * 5 cols covering Knox County and download the cloud-free imagery created in Question 1 by fishnet."
   ]
  },
  {
   "cell_type": "code",
   "execution_count": null,
   "id": "f651e610",
   "metadata": {},
   "outputs": [],
   "source": []
  },
  {
   "cell_type": "code",
   "execution_count": null,
   "id": "a03aaa17",
   "metadata": {},
   "outputs": [],
   "source": []
  },
  {
   "cell_type": "markdown",
   "id": "99543c80",
   "metadata": {},
   "source": [
    "![](https://i.imgur.com/hqJeJoA.png)"
   ]
  },
  {
   "cell_type": "markdown",
   "id": "69250933",
   "metadata": {},
   "source": [
    "## Question 4\n",
    "\n",
    "Create a Landsat timelapse (1984-2022) for Knox County, TN."
   ]
  },
  {
   "cell_type": "code",
   "execution_count": null,
   "id": "cec05de4",
   "metadata": {},
   "outputs": [],
   "source": []
  },
  {
   "cell_type": "code",
   "execution_count": null,
   "id": "688f8191",
   "metadata": {},
   "outputs": [],
   "source": []
  },
  {
   "cell_type": "markdown",
   "id": "b11d7a74",
   "metadata": {},
   "source": [
    "![](https://i.imgur.com/ggw5d31.gif)"
   ]
  },
  {
   "cell_type": "markdown",
   "id": "e1469104",
   "metadata": {},
   "source": [
    "## Question 5\n",
    "\n",
    "Create a NAIP imagery timelapse for Knox County, TN."
   ]
  },
  {
   "cell_type": "code",
   "execution_count": null,
   "id": "835e5502",
   "metadata": {},
   "outputs": [],
   "source": []
  },
  {
   "cell_type": "code",
   "execution_count": null,
   "id": "32910118",
   "metadata": {},
   "outputs": [],
   "source": []
  },
  {
   "cell_type": "markdown",
   "id": "9b6b2972",
   "metadata": {
    "tags": []
   },
   "source": [
    "![](https://i.imgur.com/Aat7dIB.gif)"
   ]
  }
 ],
 "metadata": {
  "jupytext": {
   "text_representation": {
    "extension": ".md",
    "format_name": "myst",
    "format_version": 0.13,
    "jupytext_version": "1.14.0"
   }
  },
  "kernelspec": {
   "display_name": "Python 3 (ipykernel)",
   "language": "python",
   "name": "python3"
  },
  "source_map": [
   12,
   18,
   25,
   29,
   34,
   38,
   47,
   51,
   53,
   57,
   65,
   69,
   71,
   77,
   81,
   83,
   87,
   93,
   97,
   99,
   103,
   109,
   113,
   117
  ]
 },
 "nbformat": 4,
 "nbformat_minor": 5
}