{
 "cells": [
  {
   "cell_type": "markdown",
   "id": "4a44dbbc",
   "metadata": {},
   "source": [
    "# Lab 6\n",
    "\n",
    "**Firstname Lastname**"
   ]
  },
  {
   "cell_type": "code",
   "execution_count": null,
   "id": "480ed65d",
   "metadata": {},
   "outputs": [],
   "source": [
    "from datetime import datetime\n",
    "\n",
    "now = datetime.now()\n",
    "print(f\"Submitted time: {now}\")"
   ]
  },
  {
   "cell_type": "code",
   "execution_count": null,
   "id": "46835e26",
   "metadata": {},
   "outputs": [],
   "source": [
    "# !pip install geemap"
   ]
  },
  {
   "cell_type": "code",
   "execution_count": null,
   "id": "4fdde3ac",
   "metadata": {},
   "outputs": [],
   "source": [
    "import ee\n",
    "import geemap"
   ]
  },
  {
   "cell_type": "code",
   "execution_count": null,
   "id": "456097f8",
   "metadata": {},
   "outputs": [],
   "source": [
    "geemap.ee_initialize()"
   ]
  },
  {
   "cell_type": "markdown",
   "id": "ccec3f5d",
   "metadata": {
    "tags": []
   },
   "source": [
    "## Datasets\n",
    "\n",
    "The datasets being used in the lab are listed below:\n",
    "\n",
    "- [TIGER: US Census Counties](https://developers.google.com/earth-engine/datasets/catalog/TIGER_2018_Counties)\n",
    "- [Landsat-9](https://developers.google.com/earth-engine/datasets/catalog/LANDSAT_LC09_C02_T1_L2)\n",
    "- [Sentinel-2](https://developers.google.com/earth-engine/datasets/catalog/COPERNICUS_S2_SR)\n",
    "- [NAIP](https://developers.google.com/earth-engine/datasets/catalog/USDA_NAIP_DOQQ)"
   ]
  },
  {
   "cell_type": "markdown",
   "id": "4efad29b",
   "metadata": {
    "tags": []
   },
   "source": [
    "## Question 1\n",
    "\n",
    "Write a program to find out how many counties are named `Knox` in the US."
   ]
  },
  {
   "cell_type": "code",
   "execution_count": null,
   "id": "9c0a47e7",
   "metadata": {},
   "outputs": [],
   "source": []
  },
  {
   "cell_type": "code",
   "execution_count": null,
   "id": "1fc95790",
   "metadata": {},
   "outputs": [],
   "source": []
  },
  {
   "cell_type": "code",
   "execution_count": null,
   "id": "c55fd2e1",
   "metadata": {},
   "outputs": [],
   "source": []
  },
  {
   "cell_type": "code",
   "execution_count": null,
   "id": "840481ff",
   "metadata": {},
   "outputs": [],
   "source": []
  },
  {
   "cell_type": "markdown",
   "id": "f091b0ee",
   "metadata": {},
   "source": [
    "## Question 2\n",
    "\n",
    "Display Knox county of Tennesse with outline only (no fill color) on the map. (Hint: The `STATEFP` of Tennessee is `47`)"
   ]
  },
  {
   "cell_type": "code",
   "execution_count": null,
   "id": "2e1f6a10",
   "metadata": {},
   "outputs": [],
   "source": []
  },
  {
   "cell_type": "code",
   "execution_count": null,
   "id": "b8e642e9",
   "metadata": {},
   "outputs": [],
   "source": []
  },
  {
   "cell_type": "code",
   "execution_count": null,
   "id": "878fa5ff",
   "metadata": {},
   "outputs": [],
   "source": []
  },
  {
   "cell_type": "markdown",
   "id": "0d70846b",
   "metadata": {},
   "source": [
    "![](https://i.imgur.com/F8hJB13.png)"
   ]
  },
  {
   "cell_type": "markdown",
   "id": "ce65f688",
   "metadata": {},
   "source": [
    "## Question 3\n",
    "\n",
    "Use [Landsat-9](https://developers.google.com/earth-engine/datasets/catalog/LANDSAT_LC09_C02_T1_L2) data to create a cloud-free imagery for Knox County, TN. Display the imagery on the map with a proper band combination."
   ]
  },
  {
   "cell_type": "code",
   "execution_count": null,
   "id": "5e710b66",
   "metadata": {},
   "outputs": [],
   "source": []
  },
  {
   "cell_type": "code",
   "execution_count": null,
   "id": "82cb550a",
   "metadata": {},
   "outputs": [],
   "source": []
  },
  {
   "cell_type": "code",
   "execution_count": null,
   "id": "a841895e",
   "metadata": {},
   "outputs": [],
   "source": []
  },
  {
   "cell_type": "markdown",
   "id": "6a34bde1",
   "metadata": {},
   "source": [
    "![](https://i.imgur.com/jgYaOa4.png)"
   ]
  },
  {
   "cell_type": "markdown",
   "id": "ba2e1ca7",
   "metadata": {},
   "source": [
    "## Question 4\n",
    "\n",
    "Use [Sentinel-2](https://developers.google.com/earth-engine/datasets/catalog/COPERNICUS_S2_SR) data to create a cloud-free imagery for Knox County, TN. Display the imagery on the map with a proper band combination."
   ]
  },
  {
   "cell_type": "code",
   "execution_count": null,
   "id": "1c3540bc",
   "metadata": {},
   "outputs": [],
   "source": []
  },
  {
   "cell_type": "code",
   "execution_count": null,
   "id": "aa5d274a",
   "metadata": {},
   "outputs": [],
   "source": []
  },
  {
   "cell_type": "code",
   "execution_count": null,
   "id": "4919188f",
   "metadata": {},
   "outputs": [],
   "source": []
  },
  {
   "cell_type": "markdown",
   "id": "ece79294",
   "metadata": {},
   "source": [
    "![](https://i.imgur.com/r0BpIxW.png)"
   ]
  },
  {
   "cell_type": "markdown",
   "id": "6a713ed0",
   "metadata": {},
   "source": [
    "## Question 5\n",
    "\n",
    "Use [NAIP](https://developers.google.com/earth-engine/datasets/catalog/USDA_NAIP_DOQQ) imagery to create a cloud-free imagery for Knox County, TN. Display the imagery on the map with a proper band combination."
   ]
  },
  {
   "cell_type": "code",
   "execution_count": null,
   "id": "067ace16",
   "metadata": {},
   "outputs": [],
   "source": []
  },
  {
   "cell_type": "code",
   "execution_count": null,
   "id": "a18e6900",
   "metadata": {},
   "outputs": [],
   "source": []
  },
  {
   "cell_type": "code",
   "execution_count": null,
   "id": "9ec350ac",
   "metadata": {},
   "outputs": [],
   "source": []
  },
  {
   "cell_type": "markdown",
   "id": "e3980245",
   "metadata": {},
   "source": [
    "![](https://i.imgur.com/0YfuDE8.png)"
   ]
  }
 ],
 "metadata": {
  "jupytext": {
   "text_representation": {
    "extension": ".md",
    "format_name": "myst",
    "format_version": 0.13,
    "jupytext_version": "1.14.1"
   }
  },
  "kernelspec": {
   "display_name": "Python 3",
   "language": "python",
   "name": "python3"
  },
  "source_map": [
   12,
   18,
   25,
   29,
   34,
   38,
   49,
   55,
   59,
   63,
   67,
   69,
   75,
   79,
   83,
   85,
   89,
   95,
   99,
   103,
   105,
   109,
   115,
   119,
   123,
   125,
   129,
   135,
   139,
   143,
   145
  ]
 },
 "nbformat": 4,
 "nbformat_minor": 5
}