{
 "cells": [
  {
   "cell_type": "markdown",
   "id": "4b2a3ac2",
   "metadata": {},
   "source": [
    "# Submission Instructions\n",
    "\n",
    "<iframe src=\"https://docs.google.com/document/d/e/2PACX-1vS0ekcPxTVTu16zHVyvXonVuGfarnUq7ZRib1vnswoDkSRKQB-qxbk9vbkPgTIuG0wvtApmob3m3Dmh/pub?embedded=true\" width=\"100%\" height=800></iframe>"
   ]
  }
 ],
 "metadata": {
  "jupytext": {
   "text_representation": {
    "extension": ".md",
    "format_name": "myst",
    "format_version": 0.13,
    "jupytext_version": "1.11.5"
   }
  },
  "kernelspec": {
   "display_name": "Python 3",
   "language": "python",
   "name": "python3"
  },
  "source_map": [
   12
  ]
 },
 "nbformat": 4,
 "nbformat_minor": 5
}